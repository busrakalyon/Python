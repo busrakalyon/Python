{
 "cells": [
  {
   "cell_type": "markdown",
   "id": "e1c4d7fa",
   "metadata": {},
   "source": [
    "# Dosya Açma ve Yazma İşlemleri\n",
    "\n",
    "### Dosya Açmak\n",
    "Bir dosyayı açmak için *open()* fonksiyonunu kullanıyoruz. Yapısı şu şekildedir;\n",
    "\n",
    "                open(dosya_adı,dosya_erişme_kipi)\n",
    "                \n",
    "Dosya adını istediğimiz isimde verebiliriz. Dosya erişme kipi ise bizim dosya üzerindeki işlemlerimizi belirler. \n",
    "\n",
    "### \"w\" dosya kipi\n",
    "Dosyalarımızı açmak ve dosyalarımıza yazmak için \"write\" anlamına gelen \"w\" kipini kullanıyoruz. \"w\" kipi eğer oluşturmak istediğimiz dizinde öyle bir dosya yoksa dosyayı oluşturuyor , eğer öyle bir dosya varsa dosyayı silip tekrar oluşturuyor. Yani, eğer açmak istediğimiz dosyadan zaten varsa ve dosyanın içi doluysa \"w\" kipi dosyadaki bilgileri silip tekrar oluşturacaktır. (Biraz Tehlikeli)"
   ]
  },
  {
   "cell_type": "code",
   "execution_count": 1,
   "id": "36193072",
   "metadata": {},
   "outputs": [
    {
     "data": {
      "text/plain": [
       "<_io.TextIOWrapper name='bilgiler.txt' mode='w' encoding='cp1254'>"
      ]
     },
     "execution_count": 1,
     "metadata": {},
     "output_type": "execute_result"
    }
   ],
   "source": [
    "open(\"bilgiler.txt\",\"w\") # Dosyayı bulunduğumuz dizinde açıyor. "
   ]
  },
  {
   "cell_type": "code",
   "execution_count": 2,
   "id": "5a2021d8",
   "metadata": {},
   "outputs": [],
   "source": [
    "file = open(\"bilgiler.txt\",\"w\") # Dosya üzerinde işlem yapacak dosya imlecini file isimli değişkene atıyoruz."
   ]
  },
  {
   "cell_type": "markdown",
   "id": "d3e4f3ce",
   "metadata": {},
   "source": [
    "### Dosyaları Kapatmak\n",
    "Bir dosya üzerinde işlem yaptığımızda o dosyayı kapatmak sistem kaynaklarının gereksiz kullanılmaması açısından önemlidir. Çünkü programımız bitse bile dosyanın kapanacağı garanti değildir. Bu yüzden işlerimiz bittiği zaman dosyayı kapatmalıyız."
   ]
  },
  {
   "cell_type": "code",
   "execution_count": 3,
   "id": "a1b84647",
   "metadata": {},
   "outputs": [],
   "source": [
    "file.close()  # Dosyayı kapatmak"
   ]
  },
  {
   "cell_type": "markdown",
   "id": "dc78b256",
   "metadata": {},
   "source": [
    "Eğer bir dosyayı bulunduğumuz dizinde değil de başka bir dizinde açmak istersek, dizinin yolunu özellikle belirtmeliyiz."
   ]
  },
  {
   "cell_type": "code",
   "execution_count": 5,
   "id": "a7ec7cd4",
   "metadata": {},
   "outputs": [],
   "source": [
    "file = open(\"C:/Users/msi/Desktop/bilgiler.txt\",\"w\") # çalıştırdığımızda masaüstünde bilgiler.txt oluşacaktır."
   ]
  },
  {
   "cell_type": "code",
   "execution_count": 6,
   "id": "27d35e64",
   "metadata": {},
   "outputs": [],
   "source": [
    "file.close() # Unutmayalım."
   ]
  },
  {
   "cell_type": "markdown",
   "id": "99791c99",
   "metadata": {},
   "source": [
    "### \"w\" Kipiyle Dosyalara Yazmak\n",
    "İlk olarak dosyayı \"w\" kipiyle açıyoruz."
   ]
  },
  {
   "cell_type": "code",
   "execution_count": 7,
   "id": "8a8b79f5",
   "metadata": {},
   "outputs": [],
   "source": [
    "file = open(\"bilgiler.txt\",\"w\",encoding=\"utf-8\") # Türkçe karakter kullanacaksak encoding=\"utf-8\" parametresini veriyoruz."
   ]
  },
  {
   "cell_type": "code",
   "execution_count": 8,
   "id": "17a9b071",
   "metadata": {},
   "outputs": [
    {
     "data": {
      "text/plain": [
       "20"
      ]
     },
     "execution_count": 8,
     "metadata": {},
     "output_type": "execute_result"
    }
   ],
   "source": [
    "file.write(\"Mustafa Murat Coşkun\") # write fonksiyonu ile dosyamıza yazıyoruz. 20 bytelık yani 20 karakter yazıldı."
   ]
  },
  {
   "cell_type": "code",
   "execution_count": 9,
   "id": "8cdcbd8c",
   "metadata": {},
   "outputs": [],
   "source": [
    "file.close()"
   ]
  },
  {
   "cell_type": "markdown",
   "id": "53586e55",
   "metadata": {},
   "source": [
    "**write** fonksiyonuyla dosyamıza herhangi bir şey yazabiliyoruz. Ancak \"w\" kipi her seferinde dosyayı tekrar oluşturduğu için dosyayı tekrar açtığımızda bilgiler kaybolacaktır."
   ]
  },
  {
   "cell_type": "code",
   "execution_count": 21,
   "id": "ec902335",
   "metadata": {},
   "outputs": [],
   "source": [
    "file = open(\"bilgiler.txt\",\"w\",encoding=\"utf-8\")\n",
    "file.close()"
   ]
  },
  {
   "cell_type": "markdown",
   "id": "3b237cf9",
   "metadata": {},
   "source": [
    "### \"a\" Kipiyle Dosyalara Yazmak\n",
    "**\"append\"** (ekleme) kelimesinin kısaltması olan \"a\" kipiyle bir dosyayı açtığımızda , dosya eğer yoksa oluşturulur. Eğer öyle bir dosya mevcut ise, dosya tekrar oluşturulmaz ve dosya imleci dosyanın sonuna giderek dosyaya ekleme yapmamızı sağlar."
   ]
  },
  {
   "cell_type": "code",
   "execution_count": 11,
   "id": "6a3a8324",
   "metadata": {},
   "outputs": [],
   "source": [
    "file = open(\"bilgiler.txt\",\"a\",encoding=\"utf-8\")"
   ]
  },
  {
   "cell_type": "code",
   "execution_count": 12,
   "id": "b4b09f35",
   "metadata": {},
   "outputs": [
    {
     "data": {
      "text/plain": [
       "20"
      ]
     },
     "execution_count": 12,
     "metadata": {},
     "output_type": "execute_result"
    }
   ],
   "source": [
    "file.write(\"Mustafa Murat Coşkun\") "
   ]
  },
  {
   "cell_type": "code",
   "execution_count": 13,
   "id": "871e7226",
   "metadata": {},
   "outputs": [],
   "source": [
    "file.close()"
   ]
  },
  {
   "cell_type": "code",
   "execution_count": 14,
   "id": "528bb7d5",
   "metadata": {},
   "outputs": [],
   "source": [
    "file = open(\"bilgiler.txt\",\"a\",encoding=\"utf-8\")"
   ]
  },
  {
   "cell_type": "code",
   "execution_count": 15,
   "id": "eb105ae4",
   "metadata": {},
   "outputs": [
    {
     "data": {
      "text/plain": [
       "13"
      ]
     },
     "execution_count": 15,
     "metadata": {},
     "output_type": "execute_result"
    }
   ],
   "source": [
    "file.write(\"Mehmet Gençol\") # Dosyanın sonuna ekleme yaptık."
   ]
  },
  {
   "cell_type": "code",
   "execution_count": 16,
   "id": "8816c777",
   "metadata": {},
   "outputs": [],
   "source": [
    "file.close()"
   ]
  },
  {
   "cell_type": "markdown",
   "id": "162658f2",
   "metadata": {},
   "source": [
    "Ancak eğer buradaki isimleri dosyalara alt alta yazmak istersek \"\\n\" karakterini kullanmalıyız."
   ]
  },
  {
   "cell_type": "code",
   "execution_count": 22,
   "id": "0a14c7f5",
   "metadata": {},
   "outputs": [],
   "source": [
    "file = open(\"bilgiler.txt\",\"a\",encoding=\"utf-8\")"
   ]
  },
  {
   "cell_type": "code",
   "execution_count": 23,
   "id": "8f38b417",
   "metadata": {},
   "outputs": [
    {
     "data": {
      "text/plain": [
       "21"
      ]
     },
     "execution_count": 23,
     "metadata": {},
     "output_type": "execute_result"
    }
   ],
   "source": [
    "file.write(\"Mustafa Murat Coşkun\\n\")\n"
   ]
  },
  {
   "cell_type": "code",
   "execution_count": 24,
   "id": "4d2a664d",
   "metadata": {},
   "outputs": [
    {
     "data": {
      "text/plain": [
       "14"
      ]
     },
     "execution_count": 24,
     "metadata": {},
     "output_type": "execute_result"
    }
   ],
   "source": [
    "file.write(\"Mehmet Gençol\\n\")"
   ]
  },
  {
   "cell_type": "code",
   "execution_count": 25,
   "id": "bd2233d7",
   "metadata": {},
   "outputs": [],
   "source": [
    "file.close()"
   ]
  },
  {
   "cell_type": "code",
   "execution_count": null,
   "id": "ea3113a2",
   "metadata": {},
   "outputs": [],
   "source": []
  }
 ],
 "metadata": {
  "kernelspec": {
   "display_name": "Python 3 (ipykernel)",
   "language": "python",
   "name": "python3"
  },
  "language_info": {
   "codemirror_mode": {
    "name": "ipython",
    "version": 3
   },
   "file_extension": ".py",
   "mimetype": "text/x-python",
   "name": "python",
   "nbconvert_exporter": "python",
   "pygments_lexer": "ipython3",
   "version": "3.10.9"
  }
 },
 "nbformat": 4,
 "nbformat_minor": 5
}
