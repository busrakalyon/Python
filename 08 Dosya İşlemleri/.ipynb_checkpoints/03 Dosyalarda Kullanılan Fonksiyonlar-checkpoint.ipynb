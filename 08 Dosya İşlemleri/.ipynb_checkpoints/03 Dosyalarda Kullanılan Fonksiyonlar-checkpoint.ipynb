{
 "cells": [
  {
   "cell_type": "markdown",
   "id": "4d5e7ae3",
   "metadata": {},
   "source": [
    "# Dosyalarda Kullanılan Fonksiyonlar\n",
    "\n",
    "### Dosyaları Otomatik Kapatma\n",
    "Dosyalarda işlemlerimiz bittiği zaman dosyamızı kapatmamız gerektiğini biliyoruz. Ancak programlamacılık doğası gereği çoğu zaman dosyaları kapatmayı unutabiliriz. Bunun için Pythonda dosyalarda işimiz bitince otomatik kapatma özelliği bulunuyor. Bundan sonra Pythonda dosya işlemlerimizi şu blok içinde yapacağız.\n",
    "\n",
    "                with open(dosya_adı,dosya_kipi) as file:\n",
    "                    Dosya işlemleri"
   ]
  },
  {
   "cell_type": "code",
   "execution_count": 1,
   "id": "104106bb",
   "metadata": {},
   "outputs": [
    {
     "name": "stdout",
     "output_type": "stream",
     "text": [
      "Mustafa Murat Coşkun\n",
      "\n",
      "Mehmet Gençol \n",
      "\n",
      "Büşra Kalyon \n",
      "\n",
      "Murat Duysak\n"
     ]
    }
   ],
   "source": [
    "with open(\"bilgiler.txt\",\"r\",encoding = \"utf-8\") as file:\n",
    "    for i in file:\n",
    "        print(i)"
   ]
  },
  {
   "cell_type": "markdown",
   "id": "371b00dd",
   "metadata": {},
   "source": [
    "### Dosyaları İleri Geri Sarmak\n",
    "Dosyaları okurken sadece dosyanın en başından başlayabiliyorduk ve dosya imlecimiz okuma işleminin sonunda , dosyanın en sonuna gidiyordu. Ancak biz çoğu zaman dosya imlecini (file) dosyanın herhangi bir yerine götürmek isteyebiliriz. Bunun için Pythondaki **seek()** fonksiyonunu kullanacağız. Ancak ondan önce dosya imlecinin hangi byteda olduğunu söyleyen **tell()**\n",
    "fonksiyonuna bakalım."
   ]
  },
  {
   "cell_type": "code",
   "execution_count": 2,
   "id": "2a8688cf",
   "metadata": {},
   "outputs": [
    {
     "name": "stdout",
     "output_type": "stream",
     "text": [
      "0\n"
     ]
    }
   ],
   "source": [
    "with open(\"bilgiler.txt\",\"r\",encoding = \"utf-8\") as file:\n",
    "    print(file.tell())"
   ]
  },
  {
   "cell_type": "markdown",
   "id": "bb856853",
   "metadata": {},
   "source": [
    "Şu anda hiçbir işlem yapmadığımız için **tell()** fonksiyonu dosyanın en başında (0. byteda) olduğumuzu söyledi. Dosya imlecini dosyanın 20.byte'ına götürmek için de **seek()** fonksiyonunu kullanacağız."
   ]
  },
  {
   "cell_type": "code",
   "execution_count": 3,
   "id": "bbf99cd1",
   "metadata": {},
   "outputs": [
    {
     "name": "stdout",
     "output_type": "stream",
     "text": [
      "20\n"
     ]
    }
   ],
   "source": [
    "with open(\"bilgiler.txt\",\"r\",encoding = \"utf-8\") as file:\n",
    "    file.seek(20) # 20.byte götürdük.\n",
    "    print(file.tell()) "
   ]
  },
  {
   "cell_type": "markdown",
   "id": "e167da3a",
   "metadata": {},
   "source": [
    "Eğer biz **read()** fonksiyonuna bir sayı değeri verirsek sadece o sayı değeri kadar alanı okuyacaktır."
   ]
  },
  {
   "cell_type": "code",
   "execution_count": 4,
   "id": "c01dc06a",
   "metadata": {},
   "outputs": [
    {
     "name": "stdout",
     "output_type": "stream",
     "text": [
      "fa Murat C\n",
      "15\n"
     ]
    }
   ],
   "source": [
    "with open(\"bilgiler.txt\",\"r\",encoding = \"utf-8\") as file:\n",
    "    file.seek(5) # 5.byte gidiyoruz.\n",
    "    icerik = file.read(10)  # 10 karakteri okuyoruz.\n",
    "    print(icerik)\n",
    "    print(file.tell())"
   ]
  },
  {
   "cell_type": "code",
   "execution_count": 6,
   "id": "5968a401",
   "metadata": {},
   "outputs": [
    {
     "name": "stdout",
     "output_type": "stream",
     "text": [
      "fa Murat C\n",
      "Mustaf\n"
     ]
    }
   ],
   "source": [
    "with open(\"bilgiler.txt\",\"r\",encoding = \"utf-8\") as file:\n",
    "    file.seek(5) # 5.byte gidiyoruz.\n",
    "    icerik = file.read(10)  # 10 karakteri okuyoruz.\n",
    "    print(icerik)\n",
    "    file.seek(0)\n",
    "    icerik2 = file.read(6)\n",
    "    print(icerik2)"
   ]
  }
 ],
 "metadata": {
  "kernelspec": {
   "display_name": "Python 3 (ipykernel)",
   "language": "python",
   "name": "python3"
  },
  "language_info": {
   "codemirror_mode": {
    "name": "ipython",
    "version": 3
   },
   "file_extension": ".py",
   "mimetype": "text/x-python",
   "name": "python",
   "nbconvert_exporter": "python",
   "pygments_lexer": "ipython3",
   "version": "3.10.9"
  }
 },
 "nbformat": 4,
 "nbformat_minor": 5
}
