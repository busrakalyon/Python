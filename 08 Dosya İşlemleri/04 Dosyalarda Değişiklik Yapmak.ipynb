{
 "cells": [
  {
   "cell_type": "markdown",
   "id": "4e9a26a9",
   "metadata": {},
   "source": [
    "# Dosyalarda Değişiklik Yapmak\n",
    "### seek() ve write()\n",
    "Eğer biz bir dosyanın belli bir yerine seek() fonksiyonu ile gidip, write() fonksiyonunu kullanırsak, yazdığımız değerler öncesinde bulunan değerlerin üzerine yazılacaktır. Bunun için hem okuma hem de yazma işlemimizi yapmamızı sağlayan \"r+\" kipini kullanacağız."
   ]
  },
  {
   "cell_type": "code",
   "execution_count": 1,
   "id": "da4da09a",
   "metadata": {},
   "outputs": [
    {
     "name": "stdout",
     "output_type": "stream",
     "text": [
      "Mustafa Murat Coşkun\n",
      "Mehmet Gençol \n",
      "Büşra Kalyon \n",
      "Murat Duysak\n"
     ]
    }
   ],
   "source": [
    "with open(\"bilgiler.txt\",\"r+\",encoding = \"utf-8\") as file:\n",
    "    print(file.read())"
   ]
  },
  {
   "cell_type": "code",
   "execution_count": 2,
   "id": "408eb9fe",
   "metadata": {},
   "outputs": [],
   "source": [
    "with open(\"bilgiler.txt\",\"r+\",encoding = \"utf-8\") as file: \n",
    "    file.seek(20) # 10. byte\n",
    "    file.write(\"Fazıl Say\")"
   ]
  },
  {
   "cell_type": "code",
   "execution_count": 3,
   "id": "b5351284",
   "metadata": {},
   "outputs": [
    {
     "name": "stdout",
     "output_type": "stream",
     "text": [
      "Mustafa Murat CoşkuFazıl SayGençol \n",
      "Büşra Kalyon \n",
      "Murat Duysak\n"
     ]
    }
   ],
   "source": [
    "with open(\"bilgiler.txt\",\"r+\",encoding = \"utf-8\") as file:\n",
    "    print(file.read())"
   ]
  },
  {
   "cell_type": "markdown",
   "id": "c0dedea0",
   "metadata": {},
   "source": [
    "### Dosyanın Sonunda Değişiklik Yapmak\n",
    "Bu işlemlerin en kolayıyla başlayalım. Dosyaların sonunda değişiklik yapmak için, dosyamızı **\"a\"** kipiyle açalım ve sadece dosyanın sonuna **write()** ile ekleme yapalım."
   ]
  },
  {
   "cell_type": "code",
   "execution_count": 4,
   "id": "2f9b522e",
   "metadata": {},
   "outputs": [],
   "source": [
    "with open(\"bilgiler.txt\",\"a\",encoding = \"utf-8\") as file:\n",
    "#\"append\" metoduyla açılan bir dosyanın imleci direk dosyanın sonunda olduğu için sadece write\n",
    "    file.write(\"Mert Erarslan\\n\") "
   ]
  },
  {
   "cell_type": "code",
   "execution_count": 6,
   "id": "541be421",
   "metadata": {},
   "outputs": [
    {
     "name": "stdout",
     "output_type": "stream",
     "text": [
      "Mustafa Murat Coşkun\n",
      "Mehmet Gençol \n",
      "Büşra Kalyon \n",
      "Murat Duysak\n",
      "Mert Erarslan\n",
      "\n"
     ]
    }
   ],
   "source": [
    "with open(\"bilgiler.txt\",\"r\",encoding = \"utf-8\") as file:\n",
    "    print(file.read())"
   ]
  },
  {
   "cell_type": "markdown",
   "id": "02810044",
   "metadata": {},
   "source": [
    "### Dosyanın Başında Değişiklik Yapmak\n",
    "**\"bilgiler.txt\"** dosyamızın başına bir tane satır eklemek için dosyamızı bütünüyle string halinde alıp daha sonra satırımızı string'in başına eklememiz gerekiyor. Daha sonra dosyanın en başına **seek()** fonksiyonuyla giderek ,direk **write()** fonksiyonunu kullanabiliriz. "
   ]
  },
  {
   "cell_type": "code",
   "execution_count": 7,
   "id": "c01d6f19",
   "metadata": {},
   "outputs": [
    {
     "name": "stdout",
     "output_type": "stream",
     "text": [
      "Mustafa Murat Coşkun\n",
      "Mehmet Gençol \n",
      "Büşra Kalyon \n",
      "Murat Duysak\n",
      "Mert Erarslan\n",
      "\n"
     ]
    }
   ],
   "source": [
    "with open(\"bilgiler.txt\",\"r+\",encoding = \"utf-8\") as file:\n",
    "    icerik = file.read()\n",
    "    print(icerik)"
   ]
  },
  {
   "cell_type": "code",
   "execution_count": 8,
   "id": "11b143c8",
   "metadata": {},
   "outputs": [],
   "source": [
    "with open(\"bilgiler.txt\",\"r+\",encoding = \"utf-8\") as file:\n",
    "    icerik = file.read()\n",
    "    \n",
    "    icerik = \"Semih Aktaş\\n\" + icerik\n",
    "    file.seek(0)\n",
    "    file.write(icerik)"
   ]
  },
  {
   "cell_type": "code",
   "execution_count": 9,
   "id": "249b71cc",
   "metadata": {},
   "outputs": [
    {
     "name": "stdout",
     "output_type": "stream",
     "text": [
      "Semih Aktaş\n",
      "Mustafa Murat Coşkun\n",
      "Mehmet Gençol \n",
      "Büşra Kalyon \n",
      "Murat Duysak\n",
      "Mert Erarslan\n",
      "\n"
     ]
    }
   ],
   "source": [
    "with open(\"bilgiler.txt\",\"r+\",encoding = \"utf-8\") as file:\n",
    "    icerik = file.read()\n",
    "    print(icerik)"
   ]
  },
  {
   "cell_type": "markdown",
   "id": "a69da72a",
   "metadata": {},
   "source": [
    "### Dosyanın Ortasında Değişiklik Yapmak\n",
    "Dosyaların ortasına herhangi bir satır eklemek için ilk olarak her bir satırı liste halinde almamızı sağlayan readlines() fonksiyonunu kullanacağız. Daha sonra bu listenin herhangi bir yerine bir eleman ekleyerek bu listeyi for döngüsü ile dosyaya yazacağız."
   ]
  },
  {
   "cell_type": "code",
   "execution_count": 10,
   "id": "5be6ea3d",
   "metadata": {},
   "outputs": [
    {
     "name": "stdout",
     "output_type": "stream",
     "text": [
      "['Semih Aktaş\\n', 'Mustafa Murat Coşkun\\n', 'Mehmet Gençol \\n', 'Büşra Kalyon \\n', 'Murat Duysak\\n', 'Mert Erarslan\\n']\n"
     ]
    }
   ],
   "source": [
    "with open(\"bilgiler.txt\",\"r+\",encoding = \"utf-8\") as file:\n",
    "    print(file.readlines())"
   ]
  },
  {
   "cell_type": "markdown",
   "id": "21a1771a",
   "metadata": {},
   "source": [
    "Örneğin , \"Oğuz Artıran\" satırının altına bir tane daha satır eklemek istiyoruz. Bunun için bu listenin **3.indeksine insert()** metoduyla bir satır ekleyeceğiz. Daha sonra dosyanın en başına giderek bu listeyi tek tek for döngüsü ile yazacağız."
   ]
  },
  {
   "cell_type": "code",
   "execution_count": 11,
   "id": "ef33a86b",
   "metadata": {},
   "outputs": [],
   "source": [
    "with open(\"bilgiler.txt\",\"r+\",encoding = \"utf-8\") as file:\n",
    "    liste = file.readlines()\n",
    "    liste.insert(3,\"Mehmet Keper\\n\")\n",
    "    file.seek(0)\n",
    "    for satır in liste:\n",
    "        file.write(satır)"
   ]
  },
  {
   "cell_type": "code",
   "execution_count": 12,
   "id": "1c050564",
   "metadata": {},
   "outputs": [
    {
     "name": "stdout",
     "output_type": "stream",
     "text": [
      "Semih Aktaş\n",
      "Mustafa Murat Coşkun\n",
      "Mehmet Gençol \n",
      "Mehmet Keper\n",
      "Büşra Kalyon \n",
      "Murat Duysak\n",
      "Mert Erarslan\n",
      "\n"
     ]
    }
   ],
   "source": [
    "with open(\"bilgiler.txt\",\"r+\",encoding = \"utf-8\") as file:\n",
    "    icerik = file.read()\n",
    "    print(icerik)"
   ]
  },
  {
   "cell_type": "code",
   "execution_count": 13,
   "id": "dfd50102",
   "metadata": {},
   "outputs": [],
   "source": [
    "with open(\"bilgiler.txt\",\"r+\",encoding = \"utf-8\") as file:\n",
    "    liste = file.readlines()\n",
    "    liste.insert(3,\"Ahmet Baltacı\\n\")\n",
    "    file.seek(0)\n",
    "    file.writelines(liste)"
   ]
  },
  {
   "cell_type": "code",
   "execution_count": 14,
   "id": "edeedf07",
   "metadata": {},
   "outputs": [
    {
     "name": "stdout",
     "output_type": "stream",
     "text": [
      "Semih Aktaş\n",
      "Mustafa Murat Coşkun\n",
      "Mehmet Gençol \n",
      "Ahmet Baltacı\n",
      "Mehmet Keper\n",
      "Büşra Kalyon \n",
      "Murat Duysak\n",
      "Mert Erarslan\n",
      "\n"
     ]
    }
   ],
   "source": [
    "with open(\"bilgiler.txt\",\"r+\",encoding = \"utf-8\") as file:\n",
    "    icerik = file.read()\n",
    "    print(icerik)"
   ]
  }
 ],
 "metadata": {
  "kernelspec": {
   "display_name": "Python 3 (ipykernel)",
   "language": "python",
   "name": "python3"
  },
  "language_info": {
   "codemirror_mode": {
    "name": "ipython",
    "version": 3
   },
   "file_extension": ".py",
   "mimetype": "text/x-python",
   "name": "python",
   "nbconvert_exporter": "python",
   "pygments_lexer": "ipython3",
   "version": "3.10.9"
  }
 },
 "nbformat": 4,
 "nbformat_minor": 5
}
