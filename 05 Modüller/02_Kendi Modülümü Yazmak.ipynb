{
 "cells": [
  {
   "cell_type": "markdown",
   "id": "9451f4ad",
   "metadata": {},
   "source": [
    "# Kendi Modüllerimizi Yazmak\n",
    "Uygulayacağımız adımlar şu şekilde;\n",
    "\n",
    "                1. Herhangi bir tane klasör oluşturuyoruz.\n",
    "                2. Modülümüz ve deneme Python dosyamız aynı dizinde olması gerektiği için 2 tane Python dosyasını da\n",
    "                bu klasör altında oluşturuyoruz.\n",
    "                3. modul1.py ve deneme.py dosyası oluşturuyoruz.\n",
    "                4. modul1.py dosyasının içine istediğimiz kadar fonksiyonu yazıyoruz.\n",
    "                5. Son olarak da deneme.py dosyasının içinde bu modul1.py modülünü kullanıyoruz.\n",
    "Yazdığımız bir modülü her yerden kullanmak için yazdığımız modul1.py dosyasının Python35/Lib klasörünün altına atmamız gerekiyor. Böylelikle bu modülü de math modülü gibi her dosyada kullanabiliriz."
   ]
  },
  {
   "cell_type": "markdown",
   "id": "843b135e",
   "metadata": {},
   "source": [
    "Modul kullanırken modulismi.fonk_Adı şeklinde kullanmam gerektiğini unutuyorum!!!!"
   ]
  }
 ],
 "metadata": {
  "kernelspec": {
   "display_name": "Python 3 (ipykernel)",
   "language": "python",
   "name": "python3"
  },
  "language_info": {
   "codemirror_mode": {
    "name": "ipython",
    "version": 3
   },
   "file_extension": ".py",
   "mimetype": "text/x-python",
   "name": "python",
   "nbconvert_exporter": "python",
   "pygments_lexer": "ipython3",
   "version": "3.10.9"
  }
 },
 "nbformat": 4,
 "nbformat_minor": 5
}
