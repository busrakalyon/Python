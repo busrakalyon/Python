{
 "cells": [
  {
   "cell_type": "markdown",
   "id": "8da5ff94",
   "metadata": {},
   "source": [
    "# Temel İstatistik Hesaplamaları\n"
   ]
  },
  {
   "cell_type": "code",
   "execution_count": 1,
   "id": "6b54d5b1",
   "metadata": {},
   "outputs": [],
   "source": [
    "import pandas as pd\n",
    "\n",
    "# Örnek bir veri seti oluşturalım\n",
    "veri = {'A': [10, 20, 30, 40, 50],\n",
    "        'B': [5, 15, 25, 35, 45],\n",
    "        'C': [2, 4, 6, 8, 10]}\n",
    "\n",
    "df = pd.DataFrame(veri)"
   ]
  },
  {
   "cell_type": "code",
   "execution_count": 2,
   "id": "040f2bc5",
   "metadata": {},
   "outputs": [
    {
     "data": {
      "text/html": [
       "<div>\n",
       "<style scoped>\n",
       "    .dataframe tbody tr th:only-of-type {\n",
       "        vertical-align: middle;\n",
       "    }\n",
       "\n",
       "    .dataframe tbody tr th {\n",
       "        vertical-align: top;\n",
       "    }\n",
       "\n",
       "    .dataframe thead th {\n",
       "        text-align: right;\n",
       "    }\n",
       "</style>\n",
       "<table border=\"1\" class=\"dataframe\">\n",
       "  <thead>\n",
       "    <tr style=\"text-align: right;\">\n",
       "      <th></th>\n",
       "      <th>A</th>\n",
       "      <th>B</th>\n",
       "      <th>C</th>\n",
       "    </tr>\n",
       "  </thead>\n",
       "  <tbody>\n",
       "    <tr>\n",
       "      <th>0</th>\n",
       "      <td>10</td>\n",
       "      <td>5</td>\n",
       "      <td>2</td>\n",
       "    </tr>\n",
       "    <tr>\n",
       "      <th>1</th>\n",
       "      <td>20</td>\n",
       "      <td>15</td>\n",
       "      <td>4</td>\n",
       "    </tr>\n",
       "    <tr>\n",
       "      <th>2</th>\n",
       "      <td>30</td>\n",
       "      <td>25</td>\n",
       "      <td>6</td>\n",
       "    </tr>\n",
       "    <tr>\n",
       "      <th>3</th>\n",
       "      <td>40</td>\n",
       "      <td>35</td>\n",
       "      <td>8</td>\n",
       "    </tr>\n",
       "    <tr>\n",
       "      <th>4</th>\n",
       "      <td>50</td>\n",
       "      <td>45</td>\n",
       "      <td>10</td>\n",
       "    </tr>\n",
       "  </tbody>\n",
       "</table>\n",
       "</div>"
      ],
      "text/plain": [
       "    A   B   C\n",
       "0  10   5   2\n",
       "1  20  15   4\n",
       "2  30  25   6\n",
       "3  40  35   8\n",
       "4  50  45  10"
      ]
     },
     "execution_count": 2,
     "metadata": {},
     "output_type": "execute_result"
    }
   ],
   "source": [
    "df"
   ]
  },
  {
   "cell_type": "markdown",
   "id": "d0f37ae4",
   "metadata": {},
   "source": [
    "**1. Ortalama (Mean) Hesaplama:** \"_mean()_\" fonksiyonu , her sütun için ayrı ayrı ortalama değeri hesaplar."
   ]
  },
  {
   "cell_type": "code",
   "execution_count": 3,
   "id": "62176300",
   "metadata": {},
   "outputs": [
    {
     "data": {
      "text/plain": [
       "A    30.0\n",
       "B    25.0\n",
       "C     6.0\n",
       "dtype: float64"
      ]
     },
     "execution_count": 3,
     "metadata": {},
     "output_type": "execute_result"
    }
   ],
   "source": [
    "df.mean()"
   ]
  },
  {
   "cell_type": "markdown",
   "id": "3ad99ee6",
   "metadata": {},
   "source": [
    "**2. Medyan (Median) Hesaplama:**\n",
    "Medyan, veri kümesinin ortasındaki değerdir. Verilerin sıralanmış bir liste halinde düşünüldüğünde, ortada bulunan değer medyandır."
   ]
  },
  {
   "cell_type": "code",
   "execution_count": 4,
   "id": "877a3bdd",
   "metadata": {},
   "outputs": [
    {
     "data": {
      "text/plain": [
       "A    30.0\n",
       "B    25.0\n",
       "C     6.0\n",
       "dtype: float64"
      ]
     },
     "execution_count": 4,
     "metadata": {},
     "output_type": "execute_result"
    }
   ],
   "source": [
    "df.median()"
   ]
  },
  {
   "cell_type": "markdown",
   "id": "b6591dfc",
   "metadata": {},
   "source": [
    "**3. Standart Sapma (Standard Deviation) Hesaplama:**\n",
    "Standart sapma, veri noktalarının ortalama değerden ne kadar yayıldığını ölçer. Düşük standart sapma, verilerin ortalama etrafında daha yakın olduğunu gösterirken, yüksek standart sapma verilerin daha geniş bir dağılıma sahip olduğunu gösterir."
   ]
  },
  {
   "cell_type": "code",
   "execution_count": 5,
   "id": "e2e774fb",
   "metadata": {},
   "outputs": [
    {
     "data": {
      "text/plain": [
       "A    15.811388\n",
       "B    15.811388\n",
       "C     3.162278\n",
       "dtype: float64"
      ]
     },
     "execution_count": 5,
     "metadata": {},
     "output_type": "execute_result"
    }
   ],
   "source": [
    "df.std()"
   ]
  },
  {
   "cell_type": "markdown",
   "id": "57e2b84a",
   "metadata": {},
   "source": [
    "**4. Varyans (Variance) Hesaplama:**\n",
    "Varyans, veri noktalarının ortalama değerden ne kadar uzakta olduğunu ölçer. Standart sapmanın karesi olarak hesaplanabilir."
   ]
  },
  {
   "cell_type": "code",
   "execution_count": 6,
   "id": "de170474",
   "metadata": {},
   "outputs": [
    {
     "data": {
      "text/plain": [
       "A    250.0\n",
       "B    250.0\n",
       "C     10.0\n",
       "dtype: float64"
      ]
     },
     "execution_count": 6,
     "metadata": {},
     "output_type": "execute_result"
    }
   ],
   "source": [
    "df.var()"
   ]
  },
  {
   "cell_type": "markdown",
   "id": "6ae9096a",
   "metadata": {},
   "source": [
    "**5. Minimum ve Maksimum Değerler:**"
   ]
  },
  {
   "cell_type": "code",
   "execution_count": 7,
   "id": "e7a42b16",
   "metadata": {},
   "outputs": [
    {
     "data": {
      "text/plain": [
       "A    10\n",
       "B     5\n",
       "C     2\n",
       "dtype: int64"
      ]
     },
     "execution_count": 7,
     "metadata": {},
     "output_type": "execute_result"
    }
   ],
   "source": [
    "df.min()"
   ]
  },
  {
   "cell_type": "code",
   "execution_count": 8,
   "id": "c7c17460",
   "metadata": {},
   "outputs": [
    {
     "data": {
      "text/plain": [
       "A    50\n",
       "B    45\n",
       "C    10\n",
       "dtype: int64"
      ]
     },
     "execution_count": 8,
     "metadata": {},
     "output_type": "execute_result"
    }
   ],
   "source": [
    "df.max()"
   ]
  },
  {
   "cell_type": "markdown",
   "id": "034ff2ab",
   "metadata": {},
   "source": [
    "**6.Korelasyon Hesaplama:**\n",
    "Korelasyon, iki değişken arasındaki ilişkiyi ölçer. corr() fonksiyonu kullanılarak Pearson korelasyon katsayısı hesaplanabilir."
   ]
  },
  {
   "cell_type": "code",
   "execution_count": 9,
   "id": "0552378e",
   "metadata": {},
   "outputs": [
    {
     "data": {
      "text/html": [
       "<div>\n",
       "<style scoped>\n",
       "    .dataframe tbody tr th:only-of-type {\n",
       "        vertical-align: middle;\n",
       "    }\n",
       "\n",
       "    .dataframe tbody tr th {\n",
       "        vertical-align: top;\n",
       "    }\n",
       "\n",
       "    .dataframe thead th {\n",
       "        text-align: right;\n",
       "    }\n",
       "</style>\n",
       "<table border=\"1\" class=\"dataframe\">\n",
       "  <thead>\n",
       "    <tr style=\"text-align: right;\">\n",
       "      <th></th>\n",
       "      <th>A</th>\n",
       "      <th>B</th>\n",
       "      <th>C</th>\n",
       "    </tr>\n",
       "  </thead>\n",
       "  <tbody>\n",
       "    <tr>\n",
       "      <th>A</th>\n",
       "      <td>1.0</td>\n",
       "      <td>1.0</td>\n",
       "      <td>1.0</td>\n",
       "    </tr>\n",
       "    <tr>\n",
       "      <th>B</th>\n",
       "      <td>1.0</td>\n",
       "      <td>1.0</td>\n",
       "      <td>1.0</td>\n",
       "    </tr>\n",
       "    <tr>\n",
       "      <th>C</th>\n",
       "      <td>1.0</td>\n",
       "      <td>1.0</td>\n",
       "      <td>1.0</td>\n",
       "    </tr>\n",
       "  </tbody>\n",
       "</table>\n",
       "</div>"
      ],
      "text/plain": [
       "     A    B    C\n",
       "A  1.0  1.0  1.0\n",
       "B  1.0  1.0  1.0\n",
       "C  1.0  1.0  1.0"
      ]
     },
     "execution_count": 9,
     "metadata": {},
     "output_type": "execute_result"
    }
   ],
   "source": [
    "df.corr()"
   ]
  },
  {
   "cell_type": "markdown",
   "id": "35aba34d",
   "metadata": {},
   "source": [
    "**7.İstatistiksel Özet Bilgi (Describe):**\n",
    "describe() fonksiyonu, verilerin istatistiksel özetini sağlar. Bu fonksiyon ortalama, standart sapma, minimum, maksimum ve dört çeyreklik gibi bilgileri içerir."
   ]
  },
  {
   "cell_type": "code",
   "execution_count": 11,
   "id": "6a5db2e5",
   "metadata": {},
   "outputs": [
    {
     "data": {
      "text/html": [
       "<div>\n",
       "<style scoped>\n",
       "    .dataframe tbody tr th:only-of-type {\n",
       "        vertical-align: middle;\n",
       "    }\n",
       "\n",
       "    .dataframe tbody tr th {\n",
       "        vertical-align: top;\n",
       "    }\n",
       "\n",
       "    .dataframe thead th {\n",
       "        text-align: right;\n",
       "    }\n",
       "</style>\n",
       "<table border=\"1\" class=\"dataframe\">\n",
       "  <thead>\n",
       "    <tr style=\"text-align: right;\">\n",
       "      <th></th>\n",
       "      <th>A</th>\n",
       "      <th>B</th>\n",
       "      <th>C</th>\n",
       "    </tr>\n",
       "  </thead>\n",
       "  <tbody>\n",
       "    <tr>\n",
       "      <th>count</th>\n",
       "      <td>5.00</td>\n",
       "      <td>5.00</td>\n",
       "      <td>5.00</td>\n",
       "    </tr>\n",
       "    <tr>\n",
       "      <th>mean</th>\n",
       "      <td>30.00</td>\n",
       "      <td>25.00</td>\n",
       "      <td>6.00</td>\n",
       "    </tr>\n",
       "    <tr>\n",
       "      <th>std</th>\n",
       "      <td>15.81</td>\n",
       "      <td>15.81</td>\n",
       "      <td>3.16</td>\n",
       "    </tr>\n",
       "    <tr>\n",
       "      <th>min</th>\n",
       "      <td>10.00</td>\n",
       "      <td>5.00</td>\n",
       "      <td>2.00</td>\n",
       "    </tr>\n",
       "    <tr>\n",
       "      <th>25%</th>\n",
       "      <td>20.00</td>\n",
       "      <td>15.00</td>\n",
       "      <td>4.00</td>\n",
       "    </tr>\n",
       "    <tr>\n",
       "      <th>50%</th>\n",
       "      <td>30.00</td>\n",
       "      <td>25.00</td>\n",
       "      <td>6.00</td>\n",
       "    </tr>\n",
       "    <tr>\n",
       "      <th>75%</th>\n",
       "      <td>40.00</td>\n",
       "      <td>35.00</td>\n",
       "      <td>8.00</td>\n",
       "    </tr>\n",
       "    <tr>\n",
       "      <th>max</th>\n",
       "      <td>50.00</td>\n",
       "      <td>45.00</td>\n",
       "      <td>10.00</td>\n",
       "    </tr>\n",
       "  </tbody>\n",
       "</table>\n",
       "</div>"
      ],
      "text/plain": [
       "           A      B      C\n",
       "count   5.00   5.00   5.00\n",
       "mean   30.00  25.00   6.00\n",
       "std    15.81  15.81   3.16\n",
       "min    10.00   5.00   2.00\n",
       "25%    20.00  15.00   4.00\n",
       "50%    30.00  25.00   6.00\n",
       "75%    40.00  35.00   8.00\n",
       "max    50.00  45.00  10.00"
      ]
     },
     "execution_count": 11,
     "metadata": {},
     "output_type": "execute_result"
    }
   ],
   "source": [
    "df.describe().round(2)"
   ]
  }
 ],
 "metadata": {
  "kernelspec": {
   "display_name": "Python 3 (ipykernel)",
   "language": "python",
   "name": "python3"
  },
  "language_info": {
   "codemirror_mode": {
    "name": "ipython",
    "version": 3
   },
   "file_extension": ".py",
   "mimetype": "text/x-python",
   "name": "python",
   "nbconvert_exporter": "python",
   "pygments_lexer": "ipython3",
   "version": "3.10.9"
  }
 },
 "nbformat": 4,
 "nbformat_minor": 5
}
