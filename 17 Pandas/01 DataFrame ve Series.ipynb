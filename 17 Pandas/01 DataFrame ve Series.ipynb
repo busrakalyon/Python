{
 "cells": [
  {
   "cell_type": "markdown",
   "id": "783d68a2",
   "metadata": {},
   "source": [
    "# DataFrame ve Series \n",
    "\n",
    "### DataFrame:\n",
    "\n",
    "- DataFrame, Pandas'ın temel veri yapısıdır ve 2 boyutlu bir tabloya benzer.\n",
    "- Birçok farklı türde veriyi depolamak için kullanılır. Sütunlar farklı tiplere sahip olabilir.\n",
    "- İç içe geçmiş sözlüklere veya dizilere benzeyen bir yapıdır.\n",
    "- Satır ve sütunları etiketler (labels) ile indekslenir.\n",
    "\n",
    "### Series:\n",
    "\n",
    "- Series, tek boyutlu ve indekslenmiş veri yapısını temsil eder.\n",
    "- Bir sütunu veya veri setini temsil edebilir. DataFrame'deki her sütun aslında bir Series'tir.\n",
    "- Verilerin bir dizisini ve onlara karşılık gelen indeksleri içerir.\n",
    "- Bir diziye benzer şekilde indekslenir ve dilimlenebilir."
   ]
  },
  {
   "cell_type": "markdown",
   "id": "dece15c4",
   "metadata": {},
   "source": [
    "### DataFrame Oluşturma:"
   ]
  },
  {
   "cell_type": "code",
   "execution_count": 1,
   "id": "6cb30d57",
   "metadata": {},
   "outputs": [],
   "source": [
    "import pandas as pd\n",
    "\n",
    "data = {'A': [1, 2, 3],\n",
    "        'B': [4, 5, 6]}\n",
    "\n",
    "df = pd.DataFrame(data)"
   ]
  },
  {
   "cell_type": "code",
   "execution_count": 2,
   "id": "581b4689",
   "metadata": {},
   "outputs": [
    {
     "data": {
      "text/html": [
       "<div>\n",
       "<style scoped>\n",
       "    .dataframe tbody tr th:only-of-type {\n",
       "        vertical-align: middle;\n",
       "    }\n",
       "\n",
       "    .dataframe tbody tr th {\n",
       "        vertical-align: top;\n",
       "    }\n",
       "\n",
       "    .dataframe thead th {\n",
       "        text-align: right;\n",
       "    }\n",
       "</style>\n",
       "<table border=\"1\" class=\"dataframe\">\n",
       "  <thead>\n",
       "    <tr style=\"text-align: right;\">\n",
       "      <th></th>\n",
       "      <th>A</th>\n",
       "      <th>B</th>\n",
       "    </tr>\n",
       "  </thead>\n",
       "  <tbody>\n",
       "    <tr>\n",
       "      <th>0</th>\n",
       "      <td>1</td>\n",
       "      <td>4</td>\n",
       "    </tr>\n",
       "    <tr>\n",
       "      <th>1</th>\n",
       "      <td>2</td>\n",
       "      <td>5</td>\n",
       "    </tr>\n",
       "    <tr>\n",
       "      <th>2</th>\n",
       "      <td>3</td>\n",
       "      <td>6</td>\n",
       "    </tr>\n",
       "  </tbody>\n",
       "</table>\n",
       "</div>"
      ],
      "text/plain": [
       "   A  B\n",
       "0  1  4\n",
       "1  2  5\n",
       "2  3  6"
      ]
     },
     "execution_count": 2,
     "metadata": {},
     "output_type": "execute_result"
    }
   ],
   "source": [
    "df"
   ]
  },
  {
   "cell_type": "markdown",
   "id": "7fb9ea57",
   "metadata": {},
   "source": [
    "**CSV veya Excel dosyalarını okuyarak DataFrame oluşturulabilir. Aynı klasörde yer almaları önemli.**"
   ]
  },
  {
   "cell_type": "code",
   "execution_count": null,
   "id": "c3993b6c",
   "metadata": {},
   "outputs": [],
   "source": [
    "#örnek kullanım\n",
    "\n",
    "df = pd.read_csv('veri.csv')"
   ]
  },
  {
   "cell_type": "markdown",
   "id": "4c70485f",
   "metadata": {},
   "source": [
    "### DataFrame Özellikleri:\n",
    "**shape**: DataFrame'in boyutunu (satır, sütun) döndürür."
   ]
  },
  {
   "cell_type": "code",
   "execution_count": 4,
   "id": "99174bd1",
   "metadata": {},
   "outputs": [
    {
     "data": {
      "text/plain": [
       "(3, 2)"
      ]
     },
     "execution_count": 4,
     "metadata": {},
     "output_type": "execute_result"
    }
   ],
   "source": [
    "df.shape  # (satır sayısı, sütun sayısı)"
   ]
  },
  {
   "cell_type": "markdown",
   "id": "7be6bc8a",
   "metadata": {},
   "source": [
    "**columns**: DataFrame sütunlarını döndürür."
   ]
  },
  {
   "cell_type": "code",
   "execution_count": 5,
   "id": "bbbfca2f",
   "metadata": {},
   "outputs": [
    {
     "data": {
      "text/plain": [
       "Index(['A', 'B'], dtype='object')"
      ]
     },
     "execution_count": 5,
     "metadata": {},
     "output_type": "execute_result"
    }
   ],
   "source": [
    "df.columns"
   ]
  },
  {
   "cell_type": "markdown",
   "id": "2e9e39e2",
   "metadata": {},
   "source": [
    "**head() ve tail()**: head ilk, tail son birkaç satırı görüntüler. Parantez içine satır sayısı yazılabilir."
   ]
  },
  {
   "cell_type": "code",
   "execution_count": 6,
   "id": "7cde4554",
   "metadata": {},
   "outputs": [
    {
     "data": {
      "text/html": [
       "<div>\n",
       "<style scoped>\n",
       "    .dataframe tbody tr th:only-of-type {\n",
       "        vertical-align: middle;\n",
       "    }\n",
       "\n",
       "    .dataframe tbody tr th {\n",
       "        vertical-align: top;\n",
       "    }\n",
       "\n",
       "    .dataframe thead th {\n",
       "        text-align: right;\n",
       "    }\n",
       "</style>\n",
       "<table border=\"1\" class=\"dataframe\">\n",
       "  <thead>\n",
       "    <tr style=\"text-align: right;\">\n",
       "      <th></th>\n",
       "      <th>A</th>\n",
       "      <th>B</th>\n",
       "    </tr>\n",
       "  </thead>\n",
       "  <tbody>\n",
       "    <tr>\n",
       "      <th>0</th>\n",
       "      <td>1</td>\n",
       "      <td>4</td>\n",
       "    </tr>\n",
       "    <tr>\n",
       "      <th>1</th>\n",
       "      <td>2</td>\n",
       "      <td>5</td>\n",
       "    </tr>\n",
       "    <tr>\n",
       "      <th>2</th>\n",
       "      <td>3</td>\n",
       "      <td>6</td>\n",
       "    </tr>\n",
       "  </tbody>\n",
       "</table>\n",
       "</div>"
      ],
      "text/plain": [
       "   A  B\n",
       "0  1  4\n",
       "1  2  5\n",
       "2  3  6"
      ]
     },
     "execution_count": 6,
     "metadata": {},
     "output_type": "execute_result"
    }
   ],
   "source": [
    "df.head()  # İlk 5 satırı gösterir\n",
    "df.tail() # Son 3 satırı gösterir"
   ]
  },
  {
   "cell_type": "markdown",
   "id": "20203872",
   "metadata": {},
   "source": [
    "### Series Oluşturma:\n",
    "Bir liste veya dizi kullanarak oluşturmak:"
   ]
  },
  {
   "cell_type": "code",
   "execution_count": 7,
   "id": "ad0860a7",
   "metadata": {},
   "outputs": [],
   "source": [
    "s = pd.Series([10, 20, 30, 40])"
   ]
  },
  {
   "cell_type": "markdown",
   "id": "4083dca2",
   "metadata": {},
   "source": [
    "Sözlük ile oluşturmak:"
   ]
  },
  {
   "cell_type": "code",
   "execution_count": 8,
   "id": "24d20247",
   "metadata": {},
   "outputs": [],
   "source": [
    "data = {'a': 10, 'b': 20, 'c': 30}\n",
    "s = pd.Series(data)"
   ]
  },
  {
   "cell_type": "markdown",
   "id": "680a60b0",
   "metadata": {},
   "source": [
    "### Series Özellikleri:\n",
    "**index**: Serinin indekslerini döndürür."
   ]
  },
  {
   "cell_type": "code",
   "execution_count": 9,
   "id": "c47e8c15",
   "metadata": {},
   "outputs": [
    {
     "data": {
      "text/plain": [
       "Index(['a', 'b', 'c'], dtype='object')"
      ]
     },
     "execution_count": 9,
     "metadata": {},
     "output_type": "execute_result"
    }
   ],
   "source": [
    "s.index"
   ]
  },
  {
   "cell_type": "markdown",
   "id": "39a10b0b",
   "metadata": {},
   "source": [
    "**values**: Serinin değerlerini döndürür."
   ]
  },
  {
   "cell_type": "code",
   "execution_count": 10,
   "id": "3c8c1888",
   "metadata": {},
   "outputs": [
    {
     "data": {
      "text/plain": [
       "array([10, 20, 30], dtype=int64)"
      ]
     },
     "execution_count": 10,
     "metadata": {},
     "output_type": "execute_result"
    }
   ],
   "source": [
    "s.values"
   ]
  },
  {
   "cell_type": "markdown",
   "id": "d7f6ce18",
   "metadata": {},
   "source": [
    "**dtype**: Serinin veri tipini döndürür."
   ]
  },
  {
   "cell_type": "code",
   "execution_count": 11,
   "id": "5f7fbf0a",
   "metadata": {},
   "outputs": [
    {
     "data": {
      "text/plain": [
       "dtype('int64')"
      ]
     },
     "execution_count": 11,
     "metadata": {},
     "output_type": "execute_result"
    }
   ],
   "source": [
    "s.dtype"
   ]
  },
  {
   "cell_type": "markdown",
   "id": "0709f86d",
   "metadata": {},
   "source": [
    "### DataFrame ve Series Kullanımı:\n",
    "- DataFrame içindeki bir sütuna Series olarak erişebilirsiniz."
   ]
  },
  {
   "cell_type": "code",
   "execution_count": 13,
   "id": "f9350cc9",
   "metadata": {},
   "outputs": [
    {
     "data": {
      "text/plain": [
       "0    1\n",
       "1    2\n",
       "2    3\n",
       "Name: A, dtype: int64"
      ]
     },
     "execution_count": 13,
     "metadata": {},
     "output_type": "execute_result"
    }
   ],
   "source": [
    "df['A'] # Series olarak döner, parantez içine sütun adı yazılır"
   ]
  },
  {
   "cell_type": "markdown",
   "id": "4f349e85",
   "metadata": {},
   "source": [
    "- Bir diğer kullanım şekli"
   ]
  },
  {
   "cell_type": "code",
   "execution_count": 14,
   "id": "ff3655d0",
   "metadata": {},
   "outputs": [
    {
     "data": {
      "text/plain": [
       "0    1\n",
       "1    2\n",
       "2    3\n",
       "Name: A, dtype: int64"
      ]
     },
     "execution_count": 14,
     "metadata": {},
     "output_type": "execute_result"
    }
   ],
   "source": [
    "df.A"
   ]
  },
  {
   "cell_type": "markdown",
   "id": "e997b3db",
   "metadata": {},
   "source": [
    "- Series'in değerlerine ve indekslerine erişebilirsiniz."
   ]
  },
  {
   "cell_type": "code",
   "execution_count": 15,
   "id": "5767fb09",
   "metadata": {},
   "outputs": [
    {
     "data": {
      "text/plain": [
       "array([10, 20, 30], dtype=int64)"
      ]
     },
     "execution_count": 15,
     "metadata": {},
     "output_type": "execute_result"
    }
   ],
   "source": [
    "s.values"
   ]
  },
  {
   "cell_type": "code",
   "execution_count": 16,
   "id": "cd227670",
   "metadata": {},
   "outputs": [
    {
     "data": {
      "text/plain": [
       "Index(['a', 'b', 'c'], dtype='object')"
      ]
     },
     "execution_count": 16,
     "metadata": {},
     "output_type": "execute_result"
    }
   ],
   "source": [
    "s.index"
   ]
  }
 ],
 "metadata": {
  "kernelspec": {
   "display_name": "Python 3 (ipykernel)",
   "language": "python",
   "name": "python3"
  },
  "language_info": {
   "codemirror_mode": {
    "name": "ipython",
    "version": 3
   },
   "file_extension": ".py",
   "mimetype": "text/x-python",
   "name": "python",
   "nbconvert_exporter": "python",
   "pygments_lexer": "ipython3",
   "version": "3.10.9"
  }
 },
 "nbformat": 4,
 "nbformat_minor": 5
}
