{
 "cells": [
  {
   "cell_type": "markdown",
   "id": "3b93e4d9",
   "metadata": {},
   "source": [
    "# Veri Okuma ve Yazma\n",
    "\n",
    "CSV, Excel, JSON, SQL gibi yaygın veri formatları ile çalışılabilir."
   ]
  },
  {
   "cell_type": "markdown",
   "id": "056b5e9e",
   "metadata": {},
   "source": [
    "## CSV\n",
    "- CSV Veri Okuma:"
   ]
  },
  {
   "cell_type": "code",
   "execution_count": null,
   "id": "65060fcb",
   "metadata": {},
   "outputs": [],
   "source": [
    "import pandas as pd\n",
    "\n",
    "df = pd.read_csv('veri.csv')  # CSV dosyasını oku ve DataFrame oluştur"
   ]
  },
  {
   "cell_type": "markdown",
   "id": "2477350c",
   "metadata": {},
   "source": [
    "- CSV Veri Yazma:"
   ]
  },
  {
   "cell_type": "code",
   "execution_count": null,
   "id": "189262f8",
   "metadata": {},
   "outputs": [],
   "source": [
    "df.to_csv('yeni_veri.csv', index=False)  # DataFrame'i CSV dosyasına yaz"
   ]
  },
  {
   "cell_type": "markdown",
   "id": "d471d202",
   "metadata": {},
   "source": [
    "## Ecxel\n",
    "- Excel Veri Okuma:"
   ]
  },
  {
   "cell_type": "code",
   "execution_count": null,
   "id": "ddecfeb8",
   "metadata": {},
   "outputs": [],
   "source": [
    "df = pd.read_excel('veri.xlsx')  # Excel dosyasını oku ve DataFrame oluştur"
   ]
  },
  {
   "cell_type": "markdown",
   "id": "f8025eb2",
   "metadata": {},
   "source": [
    "- Excel Veri Yazma:"
   ]
  },
  {
   "cell_type": "code",
   "execution_count": null,
   "id": "18d5d379",
   "metadata": {},
   "outputs": [],
   "source": [
    "df.to_excel('yeni_veri.xlsx', index=False)  # DataFrame'i Excel dosyasına yaz"
   ]
  },
  {
   "cell_type": "markdown",
   "id": "19443a2a",
   "metadata": {},
   "source": [
    "## JSON\n",
    "- Json Veri Okuma:"
   ]
  },
  {
   "cell_type": "code",
   "execution_count": null,
   "id": "6d04bb5c",
   "metadata": {},
   "outputs": [],
   "source": [
    "df = pd.read_json('veri.json')  # JSON dosyasını oku ve DataFrame oluştur"
   ]
  },
  {
   "cell_type": "markdown",
   "id": "b836b9a2",
   "metadata": {},
   "source": [
    "- Json Veri Yazma:"
   ]
  },
  {
   "cell_type": "code",
   "execution_count": null,
   "id": "197b4c90",
   "metadata": {},
   "outputs": [],
   "source": [
    "df.to_json('yeni_veri.json', orient='records')  # DataFrame'i JSON dosyasına yaz"
   ]
  },
  {
   "cell_type": "markdown",
   "id": "00620f5f",
   "metadata": {},
   "source": [
    "## SQL\n",
    "- SQL Veri Okuma:"
   ]
  },
  {
   "cell_type": "code",
   "execution_count": null,
   "id": "436249b7",
   "metadata": {},
   "outputs": [],
   "source": [
    "import sqlite3\n",
    "\n",
    "conn = sqlite3.connect('veritabani.db')\n",
    "cursor = conn.cursor()\n",
    "df = cusor.execute('SELECT * FROM tablo')  # SQL sorgusu sonucunu DataFrame'e oku\n",
    "cursor.fetchall() #verilerin hepsini çeker"
   ]
  },
  {
   "cell_type": "markdown",
   "id": "11fec962",
   "metadata": {},
   "source": [
    "- SQL Veri Yazma:"
   ]
  },
  {
   "cell_type": "code",
   "execution_count": null,
   "id": "7a9aea3b",
   "metadata": {},
   "outputs": [],
   "source": [
    "import sqlite3\n",
    "import pandas as pd\n",
    "\n",
    "# SQLite veritabanı bağlantısını oluştur\n",
    "conn = sqlite3.connect('veritabani.db')\n",
    "\n",
    "# DataFrame'i oluştur\n",
    "data = {'sütun1': [1, 2, 3],\n",
    "        'sütun2': ['A', 'B', 'C']}\n",
    "df = pd.DataFrame(data)\n",
    "\n",
    "# DataFrame'i SQLite veritabanına yaz\n",
    "df.to_sql('yeni_tablo', conn, index=False, if_exists='replace')\n",
    "\n",
    "# Veritabanı bağlantısını kapat\n",
    "conn.close()"
   ]
  },
  {
   "cell_type": "markdown",
   "id": "6d57a72c",
   "metadata": {},
   "source": [
    "**index=False** ifadesi, veriyi bir dosyaya yazarken **DataFrame**'in indeks sütununu dahil etmemek için kullanılan bir parametredir. Bu parametre ile indeks sütunu veri dosyasına yazılmayacaktır.\n",
    "\n",
    "Örneğin, bir DataFrame'i CSV veya Excel dosyasına yazarken **index=False** kullanırsanız, indeks sütunu dosyaya eklenmeyecektir. Bu genellikle indeks sütununu dosyada bir sütun olarak saklamak istemediğiniz durumlarda kullanılır. İndeks sütunu veriyi daha sonra okurken veya işlerken genellikle gerekli olmayabilir."
   ]
  }
 ],
 "metadata": {
  "kernelspec": {
   "display_name": "Python 3 (ipykernel)",
   "language": "python",
   "name": "python3"
  },
  "language_info": {
   "codemirror_mode": {
    "name": "ipython",
    "version": 3
   },
   "file_extension": ".py",
   "mimetype": "text/x-python",
   "name": "python",
   "nbconvert_exporter": "python",
   "pygments_lexer": "ipython3",
   "version": "3.10.9"
  }
 },
 "nbformat": 4,
 "nbformat_minor": 5
}
