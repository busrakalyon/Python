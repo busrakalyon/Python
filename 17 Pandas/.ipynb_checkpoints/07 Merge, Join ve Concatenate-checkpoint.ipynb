{
 "cells": [
  {
   "cell_type": "markdown",
   "id": "9021d1f9",
   "metadata": {},
   "source": [
    "# Merge, Join ve Concatenate"
   ]
  },
  {
   "cell_type": "markdown",
   "id": "c22453c0",
   "metadata": {},
   "source": [
    "## Merge"
   ]
  },
  {
   "cell_type": "markdown",
   "id": "e1ad869d",
   "metadata": {},
   "source": [
    "Merge fonksiyonu, SQL tarzı birleştirmeleri gerçekleştirmek için kullanılır. İki veya daha fazla DataFrame'i belirli sütunları kullanarak birleştirmek için kullanılır. \n",
    "\n",
    "Farklı birleştirme türlerini belirtmek için how parametresi kullanılabilir. Örneğin:\n",
    "\n",
    "- 'inner': Ortak değerlere sahip sütunları birleştirir.\n",
    "- 'outer': Tüm değerleri içeren birleştirme yapar.\n",
    "- 'left' veya 'right': İlgili DataFrame'deki tüm değerleri ve ortak olmayanları içeren birleştirme yapar."
   ]
  },
  {
   "cell_type": "code",
   "execution_count": 3,
   "id": "9f01982b",
   "metadata": {},
   "outputs": [
    {
     "data": {
      "text/html": [
       "<div>\n",
       "<style scoped>\n",
       "    .dataframe tbody tr th:only-of-type {\n",
       "        vertical-align: middle;\n",
       "    }\n",
       "\n",
       "    .dataframe tbody tr th {\n",
       "        vertical-align: top;\n",
       "    }\n",
       "\n",
       "    .dataframe thead th {\n",
       "        text-align: right;\n",
       "    }\n",
       "</style>\n",
       "<table border=\"1\" class=\"dataframe\">\n",
       "  <thead>\n",
       "    <tr style=\"text-align: right;\">\n",
       "      <th></th>\n",
       "      <th>id</th>\n",
       "      <th>name</th>\n",
       "      <th>age</th>\n",
       "    </tr>\n",
       "  </thead>\n",
       "  <tbody>\n",
       "    <tr>\n",
       "      <th>0</th>\n",
       "      <td>2</td>\n",
       "      <td>Bob</td>\n",
       "      <td>25</td>\n",
       "    </tr>\n",
       "    <tr>\n",
       "      <th>1</th>\n",
       "      <td>3</td>\n",
       "      <td>Charlie</td>\n",
       "      <td>30</td>\n",
       "    </tr>\n",
       "  </tbody>\n",
       "</table>\n",
       "</div>"
      ],
      "text/plain": [
       "   id     name  age\n",
       "0   2      Bob   25\n",
       "1   3  Charlie   30"
      ]
     },
     "execution_count": 3,
     "metadata": {},
     "output_type": "execute_result"
    }
   ],
   "source": [
    "import pandas as pd\n",
    "\n",
    "# İlk DataFrame\n",
    "df1 = pd.DataFrame({'id': [1, 2, 3],\n",
    "                    'name': ['Alice', 'Bob', 'Charlie']})\n",
    "\n",
    "# İkinci DataFrame\n",
    "df2 = pd.DataFrame({'id': [2, 3, 4],\n",
    "                    'age': [25, 30, 22]})\n",
    "\n",
    "# 'id' sütunu üzerinden birleştirme\n",
    "pd.merge(df1, df2, on='id')"
   ]
  },
  {
   "cell_type": "markdown",
   "id": "2d715b82",
   "metadata": {},
   "source": [
    "Bu örnekte, id sütunu üzerinden iki DataFrame birleştiriliyor. Ortak id değerleri 2 ve 3 olduğu için, bu iki satır birleştiriliyor."
   ]
  },
  {
   "cell_type": "markdown",
   "id": "c0735cf0",
   "metadata": {},
   "source": [
    "#### Inner Merge (İç Birleştirme):\n",
    "Bu, yalnızca ortak değerlere sahip sütunları birleştirir."
   ]
  },
  {
   "cell_type": "code",
   "execution_count": 4,
   "id": "47a7547b",
   "metadata": {},
   "outputs": [
    {
     "data": {
      "text/html": [
       "<div>\n",
       "<style scoped>\n",
       "    .dataframe tbody tr th:only-of-type {\n",
       "        vertical-align: middle;\n",
       "    }\n",
       "\n",
       "    .dataframe tbody tr th {\n",
       "        vertical-align: top;\n",
       "    }\n",
       "\n",
       "    .dataframe thead th {\n",
       "        text-align: right;\n",
       "    }\n",
       "</style>\n",
       "<table border=\"1\" class=\"dataframe\">\n",
       "  <thead>\n",
       "    <tr style=\"text-align: right;\">\n",
       "      <th></th>\n",
       "      <th>id</th>\n",
       "      <th>name</th>\n",
       "      <th>age</th>\n",
       "    </tr>\n",
       "  </thead>\n",
       "  <tbody>\n",
       "    <tr>\n",
       "      <th>0</th>\n",
       "      <td>2</td>\n",
       "      <td>Bob</td>\n",
       "      <td>25</td>\n",
       "    </tr>\n",
       "    <tr>\n",
       "      <th>1</th>\n",
       "      <td>3</td>\n",
       "      <td>Charlie</td>\n",
       "      <td>30</td>\n",
       "    </tr>\n",
       "  </tbody>\n",
       "</table>\n",
       "</div>"
      ],
      "text/plain": [
       "   id     name  age\n",
       "0   2      Bob   25\n",
       "1   3  Charlie   30"
      ]
     },
     "execution_count": 4,
     "metadata": {},
     "output_type": "execute_result"
    }
   ],
   "source": [
    "pd.merge(df1, df2, on='id', how='inner')"
   ]
  },
  {
   "cell_type": "markdown",
   "id": "fd8e2d5f",
   "metadata": {},
   "source": [
    "#### Outer Merge (Dış Birleştirme):\n",
    "Bu, tüm değerleri içeren birleştirme yapar."
   ]
  },
  {
   "cell_type": "code",
   "execution_count": 5,
   "id": "5f877ffc",
   "metadata": {},
   "outputs": [
    {
     "data": {
      "text/html": [
       "<div>\n",
       "<style scoped>\n",
       "    .dataframe tbody tr th:only-of-type {\n",
       "        vertical-align: middle;\n",
       "    }\n",
       "\n",
       "    .dataframe tbody tr th {\n",
       "        vertical-align: top;\n",
       "    }\n",
       "\n",
       "    .dataframe thead th {\n",
       "        text-align: right;\n",
       "    }\n",
       "</style>\n",
       "<table border=\"1\" class=\"dataframe\">\n",
       "  <thead>\n",
       "    <tr style=\"text-align: right;\">\n",
       "      <th></th>\n",
       "      <th>id</th>\n",
       "      <th>name</th>\n",
       "      <th>age</th>\n",
       "    </tr>\n",
       "  </thead>\n",
       "  <tbody>\n",
       "    <tr>\n",
       "      <th>0</th>\n",
       "      <td>1</td>\n",
       "      <td>Alice</td>\n",
       "      <td>NaN</td>\n",
       "    </tr>\n",
       "    <tr>\n",
       "      <th>1</th>\n",
       "      <td>2</td>\n",
       "      <td>Bob</td>\n",
       "      <td>25.0</td>\n",
       "    </tr>\n",
       "    <tr>\n",
       "      <th>2</th>\n",
       "      <td>3</td>\n",
       "      <td>Charlie</td>\n",
       "      <td>30.0</td>\n",
       "    </tr>\n",
       "    <tr>\n",
       "      <th>3</th>\n",
       "      <td>4</td>\n",
       "      <td>NaN</td>\n",
       "      <td>22.0</td>\n",
       "    </tr>\n",
       "  </tbody>\n",
       "</table>\n",
       "</div>"
      ],
      "text/plain": [
       "   id     name   age\n",
       "0   1    Alice   NaN\n",
       "1   2      Bob  25.0\n",
       "2   3  Charlie  30.0\n",
       "3   4      NaN  22.0"
      ]
     },
     "execution_count": 5,
     "metadata": {},
     "output_type": "execute_result"
    }
   ],
   "source": [
    "pd.merge(df1, df2, on='id', how='outer')"
   ]
  },
  {
   "cell_type": "markdown",
   "id": "d3aef63e",
   "metadata": {},
   "source": [
    "#### Left Merge (Sol Birleştirme):\n",
    "Bu, sol DataFrame'deki tüm değerleri ve ortak olmayanları içeren birleştirme yapar."
   ]
  },
  {
   "cell_type": "code",
   "execution_count": 6,
   "id": "da5add49",
   "metadata": {},
   "outputs": [
    {
     "data": {
      "text/html": [
       "<div>\n",
       "<style scoped>\n",
       "    .dataframe tbody tr th:only-of-type {\n",
       "        vertical-align: middle;\n",
       "    }\n",
       "\n",
       "    .dataframe tbody tr th {\n",
       "        vertical-align: top;\n",
       "    }\n",
       "\n",
       "    .dataframe thead th {\n",
       "        text-align: right;\n",
       "    }\n",
       "</style>\n",
       "<table border=\"1\" class=\"dataframe\">\n",
       "  <thead>\n",
       "    <tr style=\"text-align: right;\">\n",
       "      <th></th>\n",
       "      <th>id</th>\n",
       "      <th>name</th>\n",
       "      <th>age</th>\n",
       "    </tr>\n",
       "  </thead>\n",
       "  <tbody>\n",
       "    <tr>\n",
       "      <th>0</th>\n",
       "      <td>1</td>\n",
       "      <td>Alice</td>\n",
       "      <td>NaN</td>\n",
       "    </tr>\n",
       "    <tr>\n",
       "      <th>1</th>\n",
       "      <td>2</td>\n",
       "      <td>Bob</td>\n",
       "      <td>25.0</td>\n",
       "    </tr>\n",
       "    <tr>\n",
       "      <th>2</th>\n",
       "      <td>3</td>\n",
       "      <td>Charlie</td>\n",
       "      <td>30.0</td>\n",
       "    </tr>\n",
       "  </tbody>\n",
       "</table>\n",
       "</div>"
      ],
      "text/plain": [
       "   id     name   age\n",
       "0   1    Alice   NaN\n",
       "1   2      Bob  25.0\n",
       "2   3  Charlie  30.0"
      ]
     },
     "execution_count": 6,
     "metadata": {},
     "output_type": "execute_result"
    }
   ],
   "source": [
    "pd.merge(df1, df2, on='id', how='left')"
   ]
  },
  {
   "cell_type": "markdown",
   "id": "a1f6421d",
   "metadata": {},
   "source": [
    "#### Right Merge (Sağ Birleştirme):\n",
    "Bu, sağ DataFrame'deki tüm değerleri ve ortak olmayanları içeren birleştirme yapar."
   ]
  },
  {
   "cell_type": "code",
   "execution_count": 7,
   "id": "e47a629b",
   "metadata": {},
   "outputs": [
    {
     "data": {
      "text/html": [
       "<div>\n",
       "<style scoped>\n",
       "    .dataframe tbody tr th:only-of-type {\n",
       "        vertical-align: middle;\n",
       "    }\n",
       "\n",
       "    .dataframe tbody tr th {\n",
       "        vertical-align: top;\n",
       "    }\n",
       "\n",
       "    .dataframe thead th {\n",
       "        text-align: right;\n",
       "    }\n",
       "</style>\n",
       "<table border=\"1\" class=\"dataframe\">\n",
       "  <thead>\n",
       "    <tr style=\"text-align: right;\">\n",
       "      <th></th>\n",
       "      <th>id</th>\n",
       "      <th>name</th>\n",
       "      <th>age</th>\n",
       "    </tr>\n",
       "  </thead>\n",
       "  <tbody>\n",
       "    <tr>\n",
       "      <th>0</th>\n",
       "      <td>2</td>\n",
       "      <td>Bob</td>\n",
       "      <td>25</td>\n",
       "    </tr>\n",
       "    <tr>\n",
       "      <th>1</th>\n",
       "      <td>3</td>\n",
       "      <td>Charlie</td>\n",
       "      <td>30</td>\n",
       "    </tr>\n",
       "    <tr>\n",
       "      <th>2</th>\n",
       "      <td>4</td>\n",
       "      <td>NaN</td>\n",
       "      <td>22</td>\n",
       "    </tr>\n",
       "  </tbody>\n",
       "</table>\n",
       "</div>"
      ],
      "text/plain": [
       "   id     name  age\n",
       "0   2      Bob   25\n",
       "1   3  Charlie   30\n",
       "2   4      NaN   22"
      ]
     },
     "execution_count": 7,
     "metadata": {},
     "output_type": "execute_result"
    }
   ],
   "source": [
    "pd.merge(df1, df2, on='id', how='right')"
   ]
  },
  {
   "cell_type": "markdown",
   "id": "a23282fc",
   "metadata": {},
   "source": [
    "## Join\n",
    "\n",
    "join işlemi, iki DataFrame'in endeks veya sütunlarına dayalı olarak birleştirme yapar. Bu, genellikle merge işlemi ile benzerdir, ancak sütun isimleri yerine endeks veya sütunlar arasında birleştirme gerçekleştirilir."
   ]
  },
  {
   "cell_type": "code",
   "execution_count": 9,
   "id": "7a7f9c73",
   "metadata": {},
   "outputs": [
    {
     "data": {
      "text/html": [
       "<div>\n",
       "<style scoped>\n",
       "    .dataframe tbody tr th:only-of-type {\n",
       "        vertical-align: middle;\n",
       "    }\n",
       "\n",
       "    .dataframe tbody tr th {\n",
       "        vertical-align: top;\n",
       "    }\n",
       "\n",
       "    .dataframe thead th {\n",
       "        text-align: right;\n",
       "    }\n",
       "</style>\n",
       "<table border=\"1\" class=\"dataframe\">\n",
       "  <thead>\n",
       "    <tr style=\"text-align: right;\">\n",
       "      <th></th>\n",
       "      <th>name</th>\n",
       "      <th>age</th>\n",
       "    </tr>\n",
       "  </thead>\n",
       "  <tbody>\n",
       "    <tr>\n",
       "      <th>2</th>\n",
       "      <td>Bob</td>\n",
       "      <td>25</td>\n",
       "    </tr>\n",
       "    <tr>\n",
       "      <th>3</th>\n",
       "      <td>Charlie</td>\n",
       "      <td>30</td>\n",
       "    </tr>\n",
       "  </tbody>\n",
       "</table>\n",
       "</div>"
      ],
      "text/plain": [
       "      name  age\n",
       "2      Bob   25\n",
       "3  Charlie   30"
      ]
     },
     "execution_count": 9,
     "metadata": {},
     "output_type": "execute_result"
    }
   ],
   "source": [
    "import pandas as pd\n",
    "\n",
    "# İlk DataFrame\n",
    "df1 = pd.DataFrame({'name': ['Alice', 'Bob', 'Charlie']},\n",
    "                   index=[1, 2, 3])\n",
    "\n",
    "# İkinci DataFrame\n",
    "df2 = pd.DataFrame({'age': [25, 30, 22]},\n",
    "                   index=[2, 3, 4])\n",
    "\n",
    "# Endeks üzerinden birleştirme\n",
    "df1.join(df2, how='inner')"
   ]
  },
  {
   "cell_type": "markdown",
   "id": "f5f125ce",
   "metadata": {},
   "source": [
    "Bu örnekte, df1 DataFrame'inin endeksi ve df2 DataFrame'inin endeksi arasında ortak olan sadece 2 ve 3 değerleri bulunduğu için inner join sonucu bu değerleri içerir."
   ]
  },
  {
   "cell_type": "markdown",
   "id": "dae9c1fb",
   "metadata": {},
   "source": [
    "## Concatenate\n",
    "\n",
    "concat fonksiyonu, DataFrame'leri birleştirmek için kullanılır, ancak bu işlem sütun veya endekslere dayalı değil, sadece eksen boyunca birleştirme yapar. Yani, DataFrame'leri alt alta veya yatayda birleştirmenizi sağlar.\n",
    "\n",
    "Burada axis parametresi, birleştirme eksenini belirtir (axis=0 alt alta, axis=1 yatayda birleştirme yapar)."
   ]
  },
  {
   "cell_type": "code",
   "execution_count": 14,
   "id": "4bbd5d4a",
   "metadata": {},
   "outputs": [
    {
     "name": "stdout",
     "output_type": "stream",
     "text": [
      "\n",
      "Orjinal Tablo 1:\n",
      "\n",
      "    A   B\n",
      "0  A0  B0\n",
      "1  A1  B1\n",
      "2  A2  B2\n",
      "3  A3  B3\n",
      "\n",
      "Orjinal Tablo 2:\n",
      "\n",
      "    A   B\n",
      "0  A4  B4\n",
      "1  A5  B5\n",
      "2  A6  B6\n",
      "3  A7  B7\n",
      "\n",
      "Alt Alta Birleştirme:\n",
      "\n",
      "    A   B\n",
      "0  A0  B0\n",
      "1  A1  B1\n",
      "2  A2  B2\n",
      "3  A3  B3\n",
      "0  A4  B4\n",
      "1  A5  B5\n",
      "2  A6  B6\n",
      "3  A7  B7\n",
      "\n",
      "Yatayda Birleştirme:\n",
      "\n",
      "    A   B   A   B\n",
      "0  A0  B0  A4  B4\n",
      "1  A1  B1  A5  B5\n",
      "2  A2  B2  A6  B6\n",
      "3  A3  B3  A7  B7\n"
     ]
    }
   ],
   "source": [
    "import pandas as pd\n",
    "\n",
    "# İki DataFrame oluşturma\n",
    "df1 = pd.DataFrame({'A': ['A0', 'A1', 'A2', 'A3'],\n",
    "                    'B': ['B0', 'B1', 'B2', 'B3']})\n",
    "\n",
    "df2 = pd.DataFrame({'A': ['A4', 'A5', 'A6', 'A7'],\n",
    "                    'B': ['B4', 'B5', 'B6', 'B7']})\n",
    "\n",
    "# Alt alta birleştirme\n",
    "result_vertical = pd.concat([df1, df2], axis=0)\n",
    "\n",
    "# Yatayda birleştirme\n",
    "result_horizontal = pd.concat([df1, df2], axis=1)\n",
    "\n",
    "print(\"\\nOrjinal Tablo 1:\\n\")\n",
    "print(df1)\n",
    "\n",
    "print(\"\\nOrjinal Tablo 2:\\n\")\n",
    "print(df2)\n",
    "\n",
    "print(\"\\nAlt Alta Birleştirme:\\n\")\n",
    "print(result_vertical)\n",
    "\n",
    "print(\"\\nYatayda Birleştirme:\\n\")\n",
    "print(result_horizontal)\n"
   ]
  },
  {
   "cell_type": "markdown",
   "id": "9a85007a",
   "metadata": {},
   "source": [
    "#### Anahtar Bazında Birleştirme"
   ]
  },
  {
   "cell_type": "code",
   "execution_count": 16,
   "id": "5ea2da9d",
   "metadata": {},
   "outputs": [
    {
     "name": "stdout",
     "output_type": "stream",
     "text": [
      "         A   B\n",
      "key1 0  A0  B0\n",
      "     1  A1  B1\n",
      "     2  A2  B2\n",
      "     3  A3  B3\n",
      "key2 0  A4  B4\n",
      "     1  A5  B5\n",
      "     2  A6  B6\n",
      "     3  A7  B7\n"
     ]
    }
   ],
   "source": [
    "keys = ['key1', 'key2', 'key3']\n",
    "result_with_keys = pd.concat([df1, df2], keys=keys)\n",
    "\n",
    "print(result_with_keys)\n"
   ]
  }
 ],
 "metadata": {
  "kernelspec": {
   "display_name": "Python 3 (ipykernel)",
   "language": "python",
   "name": "python3"
  },
  "language_info": {
   "codemirror_mode": {
    "name": "ipython",
    "version": 3
   },
   "file_extension": ".py",
   "mimetype": "text/x-python",
   "name": "python",
   "nbconvert_exporter": "python",
   "pygments_lexer": "ipython3",
   "version": "3.10.9"
  }
 },
 "nbformat": 4,
 "nbformat_minor": 5
}
