{
 "cells": [
  {
   "cell_type": "markdown",
   "id": "c267bab8",
   "metadata": {},
   "source": [
    "# Eksik Veri İşlemleri\n"
   ]
  },
  {
   "cell_type": "markdown",
   "id": "9916fb09",
   "metadata": {},
   "source": [
    "**Eksik Veri Türleri:**\n",
    "\n",
    "- NaN (Not a Number): Sayısal olmayan verilerdeki eksik değerleri ifade eder.\n",
    "- None: Python'da genel eksik değer ifadesidir. Özellikle liste veya sözlük gibi veri yapılarında kullanılır."
   ]
  },
  {
   "cell_type": "markdown",
   "id": "d38b97a1",
   "metadata": {},
   "source": [
    "## Eksik Veri Kontrolü"
   ]
  },
  {
   "cell_type": "markdown",
   "id": "9f7ee391",
   "metadata": {},
   "source": [
    "**\"isnull()\" ve \"notnull()\" Metotları:**\n",
    "\n",
    "Bu metotlar, DataFrame veya Series içindeki her bir hücre için eksik veri kontrolü yapmanızı sağlar. isnull() bir hücrede eksik veri varsa True, yoksa False döner. notnull() ise eksik veri varsa False, yoksa True döner."
   ]
  },
  {
   "cell_type": "code",
   "execution_count": 1,
   "id": "1da0e87b",
   "metadata": {},
   "outputs": [
    {
     "data": {
      "text/html": [
       "<div>\n",
       "<style scoped>\n",
       "    .dataframe tbody tr th:only-of-type {\n",
       "        vertical-align: middle;\n",
       "    }\n",
       "\n",
       "    .dataframe tbody tr th {\n",
       "        vertical-align: top;\n",
       "    }\n",
       "\n",
       "    .dataframe thead th {\n",
       "        text-align: right;\n",
       "    }\n",
       "</style>\n",
       "<table border=\"1\" class=\"dataframe\">\n",
       "  <thead>\n",
       "    <tr style=\"text-align: right;\">\n",
       "      <th></th>\n",
       "      <th>Column1</th>\n",
       "      <th>Column2</th>\n",
       "    </tr>\n",
       "  </thead>\n",
       "  <tbody>\n",
       "    <tr>\n",
       "      <th>0</th>\n",
       "      <td>1.0</td>\n",
       "      <td>None</td>\n",
       "    </tr>\n",
       "    <tr>\n",
       "      <th>1</th>\n",
       "      <td>2.0</td>\n",
       "      <td>A</td>\n",
       "    </tr>\n",
       "    <tr>\n",
       "      <th>2</th>\n",
       "      <td>NaN</td>\n",
       "      <td>B</td>\n",
       "    </tr>\n",
       "    <tr>\n",
       "      <th>3</th>\n",
       "      <td>4.0</td>\n",
       "      <td>C</td>\n",
       "    </tr>\n",
       "    <tr>\n",
       "      <th>4</th>\n",
       "      <td>5.0</td>\n",
       "      <td>D</td>\n",
       "    </tr>\n",
       "  </tbody>\n",
       "</table>\n",
       "</div>"
      ],
      "text/plain": [
       "   Column1 Column2\n",
       "0      1.0    None\n",
       "1      2.0       A\n",
       "2      NaN       B\n",
       "3      4.0       C\n",
       "4      5.0       D"
      ]
     },
     "execution_count": 1,
     "metadata": {},
     "output_type": "execute_result"
    }
   ],
   "source": [
    "import pandas as pd\n",
    "\n",
    "data = {'Column1': [1, 2, None, 4, 5],\n",
    "        'Column2': [None, 'A', 'B', 'C', 'D']}\n",
    "\n",
    "df = pd.DataFrame(data)\n",
    "df"
   ]
  },
  {
   "cell_type": "code",
   "execution_count": 2,
   "id": "0ed866eb",
   "metadata": {},
   "outputs": [
    {
     "data": {
      "text/html": [
       "<div>\n",
       "<style scoped>\n",
       "    .dataframe tbody tr th:only-of-type {\n",
       "        vertical-align: middle;\n",
       "    }\n",
       "\n",
       "    .dataframe tbody tr th {\n",
       "        vertical-align: top;\n",
       "    }\n",
       "\n",
       "    .dataframe thead th {\n",
       "        text-align: right;\n",
       "    }\n",
       "</style>\n",
       "<table border=\"1\" class=\"dataframe\">\n",
       "  <thead>\n",
       "    <tr style=\"text-align: right;\">\n",
       "      <th></th>\n",
       "      <th>Column1</th>\n",
       "      <th>Column2</th>\n",
       "    </tr>\n",
       "  </thead>\n",
       "  <tbody>\n",
       "    <tr>\n",
       "      <th>0</th>\n",
       "      <td>False</td>\n",
       "      <td>True</td>\n",
       "    </tr>\n",
       "    <tr>\n",
       "      <th>1</th>\n",
       "      <td>False</td>\n",
       "      <td>False</td>\n",
       "    </tr>\n",
       "    <tr>\n",
       "      <th>2</th>\n",
       "      <td>True</td>\n",
       "      <td>False</td>\n",
       "    </tr>\n",
       "    <tr>\n",
       "      <th>3</th>\n",
       "      <td>False</td>\n",
       "      <td>False</td>\n",
       "    </tr>\n",
       "    <tr>\n",
       "      <th>4</th>\n",
       "      <td>False</td>\n",
       "      <td>False</td>\n",
       "    </tr>\n",
       "  </tbody>\n",
       "</table>\n",
       "</div>"
      ],
      "text/plain": [
       "   Column1  Column2\n",
       "0    False     True\n",
       "1    False    False\n",
       "2     True    False\n",
       "3    False    False\n",
       "4    False    False"
      ]
     },
     "execution_count": 2,
     "metadata": {},
     "output_type": "execute_result"
    }
   ],
   "source": [
    "df.isnull()   # Eksik veri varsa True, yoksa False"
   ]
  },
  {
   "cell_type": "code",
   "execution_count": 3,
   "id": "996d818e",
   "metadata": {},
   "outputs": [
    {
     "data": {
      "text/html": [
       "<div>\n",
       "<style scoped>\n",
       "    .dataframe tbody tr th:only-of-type {\n",
       "        vertical-align: middle;\n",
       "    }\n",
       "\n",
       "    .dataframe tbody tr th {\n",
       "        vertical-align: top;\n",
       "    }\n",
       "\n",
       "    .dataframe thead th {\n",
       "        text-align: right;\n",
       "    }\n",
       "</style>\n",
       "<table border=\"1\" class=\"dataframe\">\n",
       "  <thead>\n",
       "    <tr style=\"text-align: right;\">\n",
       "      <th></th>\n",
       "      <th>Column1</th>\n",
       "      <th>Column2</th>\n",
       "    </tr>\n",
       "  </thead>\n",
       "  <tbody>\n",
       "    <tr>\n",
       "      <th>0</th>\n",
       "      <td>True</td>\n",
       "      <td>False</td>\n",
       "    </tr>\n",
       "    <tr>\n",
       "      <th>1</th>\n",
       "      <td>True</td>\n",
       "      <td>True</td>\n",
       "    </tr>\n",
       "    <tr>\n",
       "      <th>2</th>\n",
       "      <td>False</td>\n",
       "      <td>True</td>\n",
       "    </tr>\n",
       "    <tr>\n",
       "      <th>3</th>\n",
       "      <td>True</td>\n",
       "      <td>True</td>\n",
       "    </tr>\n",
       "    <tr>\n",
       "      <th>4</th>\n",
       "      <td>True</td>\n",
       "      <td>True</td>\n",
       "    </tr>\n",
       "  </tbody>\n",
       "</table>\n",
       "</div>"
      ],
      "text/plain": [
       "   Column1  Column2\n",
       "0     True    False\n",
       "1     True     True\n",
       "2    False     True\n",
       "3     True     True\n",
       "4     True     True"
      ]
     },
     "execution_count": 3,
     "metadata": {},
     "output_type": "execute_result"
    }
   ],
   "source": [
    "df.notnull()  # Eksik veri varsa False, yoksa True"
   ]
  },
  {
   "cell_type": "markdown",
   "id": "c8042122",
   "metadata": {},
   "source": [
    "**\"any()\" Metodu:**\n",
    "\n",
    "Bu metot, DataFrame'in herhangi bir sütununda eksik veri olup olmadığını kontrol eder. Herhangi bir sütunda en az bir eksik veri varsa sonuç True olur, aksi halde False olur."
   ]
  },
  {
   "cell_type": "code",
   "execution_count": 4,
   "id": "54cb0f2c",
   "metadata": {},
   "outputs": [
    {
     "data": {
      "text/plain": [
       "Column1    True\n",
       "Column2    True\n",
       "dtype: bool"
      ]
     },
     "execution_count": 4,
     "metadata": {},
     "output_type": "execute_result"
    }
   ],
   "source": [
    "df.any()  # Herhangi bir sütunda eksik veri varsa True"
   ]
  },
  {
   "cell_type": "markdown",
   "id": "0d91dc17",
   "metadata": {},
   "source": [
    "**\"sum()\" Metodu:**\n",
    "\n",
    "Bu metot, her bir sütundaki eksik veri sayısını hesaplar. Sütun bazında toplam eksik veri sayısını verir."
   ]
  },
  {
   "cell_type": "code",
   "execution_count": 5,
   "id": "9b28ffd5",
   "metadata": {},
   "outputs": [
    {
     "data": {
      "text/plain": [
       "Column1    1\n",
       "Column2    1\n",
       "dtype: int64"
      ]
     },
     "execution_count": 5,
     "metadata": {},
     "output_type": "execute_result"
    }
   ],
   "source": [
    "df.isnull().sum()  # Her sütundaki eksik veri sayısını gösterir"
   ]
  },
  {
   "cell_type": "markdown",
   "id": "2f40c283",
   "metadata": {},
   "source": [
    "Toplam eksik veri sayısını öğrenmek için, **sum()** metoduyla her sütundaki eksik veri sayısını toplayabilirsiniz."
   ]
  },
  {
   "cell_type": "code",
   "execution_count": 6,
   "id": "aeaed996",
   "metadata": {},
   "outputs": [
    {
     "data": {
      "text/plain": [
       "2"
      ]
     },
     "execution_count": 6,
     "metadata": {},
     "output_type": "execute_result"
    }
   ],
   "source": [
    "df.isnull().sum().sum()"
   ]
  },
  {
   "cell_type": "markdown",
   "id": "7800d6b9",
   "metadata": {},
   "source": [
    "## Eksik Veri İşlemleri"
   ]
  },
  {
   "cell_type": "markdown",
   "id": "62f720c6",
   "metadata": {},
   "source": [
    "**Eksik Veri Silme:**\n",
    "\n",
    "Eğer eksik veri sayısı çok azsa veya veri setinizdeki eksik verilerin analiz sonuçlarını ciddi şekilde etkilemeyeceğini düşünüyorsanız, eksik verilere sahip satırları veya sütunları silmeyi tercih edebilirsiniz. **dropna()** fonksiyonunu kullanarak bu işlemi gerçekleştirebilirsiniz."
   ]
  },
  {
   "cell_type": "code",
   "execution_count": 7,
   "id": "e6937d0a",
   "metadata": {},
   "outputs": [
    {
     "data": {
      "text/html": [
       "<div>\n",
       "<style scoped>\n",
       "    .dataframe tbody tr th:only-of-type {\n",
       "        vertical-align: middle;\n",
       "    }\n",
       "\n",
       "    .dataframe tbody tr th {\n",
       "        vertical-align: top;\n",
       "    }\n",
       "\n",
       "    .dataframe thead th {\n",
       "        text-align: right;\n",
       "    }\n",
       "</style>\n",
       "<table border=\"1\" class=\"dataframe\">\n",
       "  <thead>\n",
       "    <tr style=\"text-align: right;\">\n",
       "      <th></th>\n",
       "      <th>Column1</th>\n",
       "      <th>Column2</th>\n",
       "    </tr>\n",
       "  </thead>\n",
       "  <tbody>\n",
       "    <tr>\n",
       "      <th>1</th>\n",
       "      <td>2.0</td>\n",
       "      <td>A</td>\n",
       "    </tr>\n",
       "    <tr>\n",
       "      <th>3</th>\n",
       "      <td>4.0</td>\n",
       "      <td>C</td>\n",
       "    </tr>\n",
       "    <tr>\n",
       "      <th>4</th>\n",
       "      <td>5.0</td>\n",
       "      <td>D</td>\n",
       "    </tr>\n",
       "  </tbody>\n",
       "</table>\n",
       "</div>"
      ],
      "text/plain": [
       "   Column1 Column2\n",
       "1      2.0       A\n",
       "3      4.0       C\n",
       "4      5.0       D"
      ]
     },
     "execution_count": 7,
     "metadata": {},
     "output_type": "execute_result"
    }
   ],
   "source": [
    "df.dropna()  # Eksik verilere sahip satırları siler"
   ]
  },
  {
   "cell_type": "markdown",
   "id": "acc23d57",
   "metadata": {},
   "source": [
    "**Eksik Veri Doldurma:**\n",
    "\n",
    "Eksik verileri silmek yerine, bu verileri bazı değerlerle doldurarak analizinize dahil edebilirsiniz. **fillna()** fonksiyonu bu amaçla kullanılır. Örneğin, ortalama değer, medyan veya belirli bir sabit değerle doldurma yapabilirsiniz."
   ]
  },
  {
   "cell_type": "code",
   "execution_count": 8,
   "id": "dad47406",
   "metadata": {},
   "outputs": [
    {
     "data": {
      "text/html": [
       "<div>\n",
       "<style scoped>\n",
       "    .dataframe tbody tr th:only-of-type {\n",
       "        vertical-align: middle;\n",
       "    }\n",
       "\n",
       "    .dataframe tbody tr th {\n",
       "        vertical-align: top;\n",
       "    }\n",
       "\n",
       "    .dataframe thead th {\n",
       "        text-align: right;\n",
       "    }\n",
       "</style>\n",
       "<table border=\"1\" class=\"dataframe\">\n",
       "  <thead>\n",
       "    <tr style=\"text-align: right;\">\n",
       "      <th></th>\n",
       "      <th>Column1</th>\n",
       "      <th>Column2</th>\n",
       "    </tr>\n",
       "  </thead>\n",
       "  <tbody>\n",
       "    <tr>\n",
       "      <th>0</th>\n",
       "      <td>1.0</td>\n",
       "      <td>Unknown</td>\n",
       "    </tr>\n",
       "    <tr>\n",
       "      <th>1</th>\n",
       "      <td>2.0</td>\n",
       "      <td>A</td>\n",
       "    </tr>\n",
       "    <tr>\n",
       "      <th>2</th>\n",
       "      <td>Unknown</td>\n",
       "      <td>B</td>\n",
       "    </tr>\n",
       "    <tr>\n",
       "      <th>3</th>\n",
       "      <td>4.0</td>\n",
       "      <td>C</td>\n",
       "    </tr>\n",
       "    <tr>\n",
       "      <th>4</th>\n",
       "      <td>5.0</td>\n",
       "      <td>D</td>\n",
       "    </tr>\n",
       "  </tbody>\n",
       "</table>\n",
       "</div>"
      ],
      "text/plain": [
       "   Column1  Column2\n",
       "0      1.0  Unknown\n",
       "1      2.0        A\n",
       "2  Unknown        B\n",
       "3      4.0        C\n",
       "4      5.0        D"
      ]
     },
     "execution_count": 8,
     "metadata": {},
     "output_type": "execute_result"
    }
   ],
   "source": [
    "df.fillna('Unknown')  # Eksik verileri 'Unknown' ile doldurur"
   ]
  },
  {
   "cell_type": "markdown",
   "id": "56800711",
   "metadata": {},
   "source": [
    "**Eksik Veri İnterpolasyon:**\n",
    "\n",
    "Eksik verileri yakındaki değerleri kullanarak tahmin ederek doldurmak isterseniz, **interpolate()** fonksiyonunu kullanabilirsiniz. Bu özellikle zaman serisi verilerinde yaygın olarak kullanılır."
   ]
  },
  {
   "cell_type": "code",
   "execution_count": 11,
   "id": "940c0940",
   "metadata": {},
   "outputs": [
    {
     "data": {
      "text/html": [
       "<div>\n",
       "<style scoped>\n",
       "    .dataframe tbody tr th:only-of-type {\n",
       "        vertical-align: middle;\n",
       "    }\n",
       "\n",
       "    .dataframe tbody tr th {\n",
       "        vertical-align: top;\n",
       "    }\n",
       "\n",
       "    .dataframe thead th {\n",
       "        text-align: right;\n",
       "    }\n",
       "</style>\n",
       "<table border=\"1\" class=\"dataframe\">\n",
       "  <thead>\n",
       "    <tr style=\"text-align: right;\">\n",
       "      <th></th>\n",
       "      <th>Column1</th>\n",
       "      <th>Column2</th>\n",
       "    </tr>\n",
       "  </thead>\n",
       "  <tbody>\n",
       "    <tr>\n",
       "      <th>0</th>\n",
       "      <td>1.0</td>\n",
       "      <td>None</td>\n",
       "    </tr>\n",
       "    <tr>\n",
       "      <th>1</th>\n",
       "      <td>2.0</td>\n",
       "      <td>A</td>\n",
       "    </tr>\n",
       "    <tr>\n",
       "      <th>2</th>\n",
       "      <td>3.0</td>\n",
       "      <td>B</td>\n",
       "    </tr>\n",
       "    <tr>\n",
       "      <th>3</th>\n",
       "      <td>4.0</td>\n",
       "      <td>C</td>\n",
       "    </tr>\n",
       "    <tr>\n",
       "      <th>4</th>\n",
       "      <td>5.0</td>\n",
       "      <td>D</td>\n",
       "    </tr>\n",
       "  </tbody>\n",
       "</table>\n",
       "</div>"
      ],
      "text/plain": [
       "   Column1 Column2\n",
       "0      1.0    None\n",
       "1      2.0       A\n",
       "2      3.0       B\n",
       "3      4.0       C\n",
       "4      5.0       D"
      ]
     },
     "execution_count": 11,
     "metadata": {},
     "output_type": "execute_result"
    }
   ],
   "source": [
    "df.interpolate()  # Eksik verileri yakındaki değerlerle tahmin ederek doldurur"
   ]
  },
  {
   "cell_type": "markdown",
   "id": "9010958d",
   "metadata": {},
   "source": [
    "**Eksik Verileri Gruplama ve İstatistiksel İşlemlerle Ele Alma:**\n",
    "\n",
    "Eksik verileri gruplayarak veya istatistiksel hesaplamalar yaparken, bu hesaplamaları eksik verileri dikkate almadan yapabilirsiniz."
   ]
  },
  {
   "cell_type": "code",
   "execution_count": 15,
   "id": "ee8846f8",
   "metadata": {},
   "outputs": [
    {
     "name": "stdout",
     "output_type": "stream",
     "text": [
      "Original DataFrame:\n",
      "  Product     Category  Sales\n",
      "0       A  Electronics  100.0\n",
      "1       B     Clothing  200.0\n",
      "2       A  Electronics    NaN\n",
      "3       C         Home  150.0\n",
      "4       B     Clothing  180.0\n",
      "5       C         Home    NaN\n",
      "\n",
      "DataFrame with Missing Values Filled:\n",
      "  Product     Category  Sales\n",
      "0       A  Electronics  100.0\n",
      "1       B     Clothing  200.0\n",
      "2       A  Electronics  157.5\n",
      "3       C         Home  150.0\n",
      "4       B     Clothing  180.0\n",
      "5       C         Home  157.5\n",
      "\n",
      "Mean Sales by Category:\n",
      "Category\n",
      "Clothing       190.00\n",
      "Electronics    128.75\n",
      "Home           153.75\n",
      "Name: Sales, dtype: float64\n"
     ]
    }
   ],
   "source": [
    "import pandas as pd\n",
    "\n",
    "data = {'Product': ['A', 'B', 'A', 'C', 'B', 'C'],\n",
    "        'Category': ['Electronics', 'Clothing', 'Electronics', 'Home', 'Clothing', 'Home'],\n",
    "        'Sales': [100, 200, None, 150, 180, None]}\n",
    "\n",
    "df = pd.DataFrame(data)\n",
    "print(\"Original DataFrame:\")\n",
    "print(df)\n",
    "\n",
    "# Eksik verileri sütun ortalamasıyla dolduruyoruz\n",
    "mean_sales = df['Sales'].mean()\n",
    "df['Sales'].fillna(mean_sales, inplace=True)\n",
    "\n",
    "print(\"\\nDataFrame with Missing Values Filled:\")\n",
    "print(df)\n",
    "\n",
    "# Kategoriye göre ortalama satışları hesaplıyoruz\n",
    "mean_by_category = df.groupby('Category')['Sales'].mean()\n",
    "print(\"\\nMean Sales by Category:\")\n",
    "print(mean_by_category)\n"
   ]
  }
 ],
 "metadata": {
  "kernelspec": {
   "display_name": "Python 3 (ipykernel)",
   "language": "python",
   "name": "python3"
  },
  "language_info": {
   "codemirror_mode": {
    "name": "ipython",
    "version": 3
   },
   "file_extension": ".py",
   "mimetype": "text/x-python",
   "name": "python",
   "nbconvert_exporter": "python",
   "pygments_lexer": "ipython3",
   "version": "3.10.9"
  }
 },
 "nbformat": 4,
 "nbformat_minor": 5
}
