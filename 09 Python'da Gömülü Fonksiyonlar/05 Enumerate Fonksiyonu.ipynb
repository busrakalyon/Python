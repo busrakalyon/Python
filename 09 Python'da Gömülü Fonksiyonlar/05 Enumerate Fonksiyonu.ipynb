{
 "cells": [
  {
   "cell_type": "markdown",
   "id": "7a4b77cd",
   "metadata": {},
   "source": [
    "# Enumerate Fonksiyonu"
   ]
  },
  {
   "cell_type": "code",
   "execution_count": 1,
   "id": "d94d30c0",
   "metadata": {},
   "outputs": [
    {
     "name": "stdout",
     "output_type": "stream",
     "text": [
      "[(0, 'Elma'), (1, 'Armut'), (2, 'Muz'), (3, 'Kiraz')]\n"
     ]
    }
   ],
   "source": [
    "liste = [\"Elma\",\"Armut\",\"Muz\",\"Kiraz\"]\n",
    "\n",
    "# sonucu [(0,'Elma'),(1,'Armut'),(2,'Muz'),(3,'Kiraz')] yapmak istiyoruz.\n",
    "\n",
    "sonuç = list()\n",
    "\n",
    "i = 0\n",
    "\n",
    "for a in liste:\n",
    "    \n",
    "    sonuç.append((i,a))\n",
    "    i +=1\n",
    "print(sonuç)"
   ]
  },
  {
   "cell_type": "markdown",
   "id": "64c51cec",
   "metadata": {},
   "source": [
    "Yani aslında burada herbir elemanı **indekslerle** numaralandırıyor ve demet çiftleri oluşturuyoruz. **for döngüsü** yazarken bazen hem elemanları hem de indeksleri almak isteyebiliriz. Böyle bir durumda numaralandırma işlemi yapan **enumerate** fonksiyonunu kullanabiliriz."
   ]
  },
  {
   "cell_type": "code",
   "execution_count": 2,
   "id": "32e8049b",
   "metadata": {},
   "outputs": [
    {
     "data": {
      "text/plain": [
       "[(0, 'Elma'), (1, 'Armut'), (2, 'Muz'), (3, 'Kiraz')]"
      ]
     },
     "execution_count": 2,
     "metadata": {},
     "output_type": "execute_result"
    }
   ],
   "source": [
    "liste = [\"Elma\",\"Armut\",\"Muz\",\"Kiraz\"]\n",
    "list(enumerate(liste))"
   ]
  },
  {
   "cell_type": "code",
   "execution_count": 3,
   "id": "82768125",
   "metadata": {},
   "outputs": [
    {
     "name": "stdout",
     "output_type": "stream",
     "text": [
      "Eleman:  a\n",
      "Eleman:  c\n",
      "Eleman:  e\n",
      "Eleman:  g\n"
     ]
    }
   ],
   "source": [
    "# bir listenin çift indekslerini(0,2,4) enumerate kullanarak yazdırma\n",
    "\n",
    "liste = [\"a\",\"b\",\"c\",\"d\",\"e\",\"f\",\"g\"]\n",
    "\n",
    "for index,eleman in enumerate(liste):\n",
    "    if (index % 2 == 0):\n",
    "        print(\"Eleman: \",eleman)"
   ]
  }
 ],
 "metadata": {
  "kernelspec": {
   "display_name": "Python 3 (ipykernel)",
   "language": "python",
   "name": "python3"
  },
  "language_info": {
   "codemirror_mode": {
    "name": "ipython",
    "version": 3
   },
   "file_extension": ".py",
   "mimetype": "text/x-python",
   "name": "python",
   "nbconvert_exporter": "python",
   "pygments_lexer": "ipython3",
   "version": "3.10.9"
  }
 },
 "nbformat": 4,
 "nbformat_minor": 5
}
