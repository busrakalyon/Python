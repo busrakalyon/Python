{
 "cells": [
  {
   "cell_type": "markdown",
   "id": "65feeffb",
   "metadata": {},
   "source": [
    "# Map Fonksiyonu\n",
    "\n",
    "Pythonda gömülü bir fonksiyon olan **map()** fonksiyonunun yapısı şu şekildedir.\n",
    "\n",
    "                map(fonksiyon,iterasyon yapılabilecek veritipi(liste,demet vb),....)\n",
    "\n",
    "**map()** fonksiyonu ilk parametre olarak bir tane fonksiyon objesi alır. (Fonksiyonlar da birer obje olduğu için başka bir fonksiyona gönderilebilir.) 2. parametre olarak da bir tane iterasyon yapılacak veritipi alarak , gönderilen fonksiyonu her bir eleman üzerinde uygulayarak sonuçları bir **map** objesi olarak döner."
   ]
  },
  {
   "cell_type": "code",
   "execution_count": 1,
   "id": "b6ff1206",
   "metadata": {},
   "outputs": [],
   "source": [
    "def double(x):\n",
    "    return x * 2"
   ]
  },
  {
   "cell_type": "code",
   "execution_count": 2,
   "id": "4efd2be4",
   "metadata": {},
   "outputs": [
    {
     "data": {
      "text/plain": [
       "<map at 0x142bcc39fc0>"
      ]
     },
     "execution_count": 2,
     "metadata": {},
     "output_type": "execute_result"
    }
   ],
   "source": [
    "map(double,[1,2,3,4,5,6,7]) # fonksiyon bir tane argüman alıyor ve listenin her bir elemanı üzerinde uygulanıyor."
   ]
  },
  {
   "cell_type": "code",
   "execution_count": 3,
   "id": "b9813940",
   "metadata": {},
   "outputs": [
    {
     "data": {
      "text/plain": [
       "[2, 4, 6, 8, 10, 12, 14]"
      ]
     },
     "execution_count": 3,
     "metadata": {},
     "output_type": "execute_result"
    }
   ],
   "source": [
    "list(map(double,[1,2,3,4,5,6,7]))"
   ]
  },
  {
   "cell_type": "markdown",
   "id": "53b05115",
   "metadata": {},
   "source": [
    "Buradaki fonksiyonları **lambda** ifadeleriyle de yazabiliriz."
   ]
  },
  {
   "cell_type": "code",
   "execution_count": 5,
   "id": "384ddc63",
   "metadata": {},
   "outputs": [
    {
     "data": {
      "text/plain": [
       "<map at 0x142bcc3b9d0>"
      ]
     },
     "execution_count": 5,
     "metadata": {},
     "output_type": "execute_result"
    }
   ],
   "source": [
    "map(lambda x : x ** 2, [1,2,3,4,5,6,7,8,9])"
   ]
  },
  {
   "cell_type": "code",
   "execution_count": 6,
   "id": "253fba48",
   "metadata": {},
   "outputs": [
    {
     "data": {
      "text/plain": [
       "[1, 4, 9, 16, 25, 36, 49, 64, 81]"
      ]
     },
     "execution_count": 6,
     "metadata": {},
     "output_type": "execute_result"
    }
   ],
   "source": [
    "list(map(lambda x : x ** 2, [1,2,3,4,5,6,7,8,9]))"
   ]
  },
  {
   "cell_type": "markdown",
   "id": "c0d5ff8e",
   "metadata": {},
   "source": [
    "Map fonksiyonu birden fazla liste veya demet alabilir."
   ]
  },
  {
   "cell_type": "code",
   "execution_count": 7,
   "id": "de44d7a3",
   "metadata": {},
   "outputs": [
    {
     "data": {
      "text/plain": [
       "<map at 0x142bccd03d0>"
      ]
     },
     "execution_count": 7,
     "metadata": {},
     "output_type": "execute_result"
    }
   ],
   "source": [
    "liste1 = [1,2,3,4]\n",
    "liste2 = [5,6,7,8]\n",
    "liste3 = [9,10,11,12,13]\n",
    "\n",
    "map(lambda x,y : x * y , liste1,liste2)"
   ]
  },
  {
   "cell_type": "code",
   "execution_count": 8,
   "id": "b365d2c0",
   "metadata": {},
   "outputs": [
    {
     "data": {
      "text/plain": [
       "[5, 12, 21, 32]"
      ]
     },
     "execution_count": 8,
     "metadata": {},
     "output_type": "execute_result"
    }
   ],
   "source": [
    "list(map(lambda x,y : x * y , liste1,liste2))"
   ]
  },
  {
   "cell_type": "code",
   "execution_count": 9,
   "id": "e2668303",
   "metadata": {},
   "outputs": [
    {
     "data": {
      "text/plain": [
       "[45, 120, 231, 384]"
      ]
     },
     "execution_count": 9,
     "metadata": {},
     "output_type": "execute_result"
    }
   ],
   "source": [
    "list(map(lambda x,y,z : x * y * z , liste1,liste2,liste3))"
   ]
  }
 ],
 "metadata": {
  "kernelspec": {
   "display_name": "Python 3 (ipykernel)",
   "language": "python",
   "name": "python3"
  },
  "language_info": {
   "codemirror_mode": {
    "name": "ipython",
    "version": 3
   },
   "file_extension": ".py",
   "mimetype": "text/x-python",
   "name": "python",
   "nbconvert_exporter": "python",
   "pygments_lexer": "ipython3",
   "version": "3.10.9"
  }
 },
 "nbformat": 4,
 "nbformat_minor": 5
}
