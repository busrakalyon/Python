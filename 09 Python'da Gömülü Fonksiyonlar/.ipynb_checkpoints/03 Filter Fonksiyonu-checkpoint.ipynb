{
 "cells": [
  {
   "cell_type": "markdown",
   "id": "85805f55",
   "metadata": {},
   "source": [
    "# Filter Fonksiyonu\n",
    "\n",
    "\tfilter(fonksiyon,iterasyon yapılabilen bir veritipi(liste vb.))\n",
    "\n",
    "**filter() fonksiyonu** birinci parametre olarak mutlaka mantıksal değer dönen **(True , False)** bir fonksiyon alır ve liste gibi veri tiplerinin her bir elemanına bu fonksiyonunu uygular. **filter** sadece True sonuç çıkaran değerleri alarak bir tane **filter** objesi döner. "
   ]
  },
  {
   "cell_type": "code",
   "execution_count": 1,
   "id": "ee40b4a2",
   "metadata": {},
   "outputs": [
    {
     "data": {
      "text/plain": [
       "<filter at 0x2847230e980>"
      ]
     },
     "execution_count": 1,
     "metadata": {},
     "output_type": "execute_result"
    }
   ],
   "source": [
    "filter(lambda x : x % 2 == 0, [1,2,3,4,5,6,7,8,9,10])"
   ]
  },
  {
   "cell_type": "code",
   "execution_count": 2,
   "id": "2584d057",
   "metadata": {},
   "outputs": [
    {
     "data": {
      "text/plain": [
       "[2, 4, 6, 8, 10]"
      ]
     },
     "execution_count": 2,
     "metadata": {},
     "output_type": "execute_result"
    }
   ],
   "source": [
    "list(filter(lambda x : x % 2 == 0, [1,2,3,4,5,6,7,8,9,10])) # Çift olan sayılar"
   ]
  },
  {
   "cell_type": "code",
   "execution_count": 3,
   "id": "5648df4f",
   "metadata": {},
   "outputs": [],
   "source": [
    "def asal_mi(x):\n",
    "    i = 2\n",
    "    if (x == 1):\n",
    "        return False # Asal değil\n",
    "    elif(x == 2):\n",
    "        return True # Asal sayı\n",
    "    else:\n",
    "        while(i < x):\n",
    "            if (x % i == 0):\n",
    "                return False # Asal Değil\n",
    "            i += 1\n",
    "    return True"
   ]
  },
  {
   "cell_type": "code",
   "execution_count": 5,
   "id": "e8651403",
   "metadata": {},
   "outputs": [
    {
     "name": "stdout",
     "output_type": "stream",
     "text": [
      "False\n",
      "True\n",
      "False\n",
      "True\n",
      "False\n"
     ]
    }
   ],
   "source": [
    "print(asal_mi(34))\n",
    "\n",
    "print(asal_mi(2))\n",
    "\n",
    "print(asal_mi(1))\n",
    "\n",
    "print(asal_mi(3))\n",
    "\n",
    "print(asal_mi(4))"
   ]
  },
  {
   "cell_type": "code",
   "execution_count": 6,
   "id": "421338ef",
   "metadata": {},
   "outputs": [
    {
     "data": {
      "text/plain": [
       "<filter at 0x2847230cf70>"
      ]
     },
     "execution_count": 6,
     "metadata": {},
     "output_type": "execute_result"
    }
   ],
   "source": [
    "filter(asal_mi,range(1,100))"
   ]
  },
  {
   "cell_type": "code",
   "execution_count": 7,
   "id": "1475b36c",
   "metadata": {},
   "outputs": [
    {
     "data": {
      "text/plain": [
       "[2,\n",
       " 3,\n",
       " 5,\n",
       " 7,\n",
       " 11,\n",
       " 13,\n",
       " 17,\n",
       " 19,\n",
       " 23,\n",
       " 29,\n",
       " 31,\n",
       " 37,\n",
       " 41,\n",
       " 43,\n",
       " 47,\n",
       " 53,\n",
       " 59,\n",
       " 61,\n",
       " 67,\n",
       " 71,\n",
       " 73,\n",
       " 79,\n",
       " 83,\n",
       " 89,\n",
       " 97]"
      ]
     },
     "execution_count": 7,
     "metadata": {},
     "output_type": "execute_result"
    }
   ],
   "source": [
    "list(filter(asal_mi,range(1,100))) # 1 den 100' e kadar olan asal sayılar."
   ]
  }
 ],
 "metadata": {
  "kernelspec": {
   "display_name": "Python 3 (ipykernel)",
   "language": "python",
   "name": "python3"
  },
  "language_info": {
   "codemirror_mode": {
    "name": "ipython",
    "version": 3
   },
   "file_extension": ".py",
   "mimetype": "text/x-python",
   "name": "python",
   "nbconvert_exporter": "python",
   "pygments_lexer": "ipython3",
   "version": "3.10.9"
  }
 },
 "nbformat": 4,
 "nbformat_minor": 5
}
