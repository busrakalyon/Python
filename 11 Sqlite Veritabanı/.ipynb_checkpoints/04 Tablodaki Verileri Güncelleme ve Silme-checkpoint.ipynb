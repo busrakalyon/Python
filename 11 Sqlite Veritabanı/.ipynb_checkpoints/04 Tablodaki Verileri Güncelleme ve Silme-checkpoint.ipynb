{
 "cells": [
  {
   "cell_type": "markdown",
   "id": "c33e2227",
   "metadata": {},
   "source": [
    "# Tablodaki Verileri Güncelleme ve Silme\n",
    "\n",
    "### Verileri Güncelleme\n",
    "Tablodaki verileri güncelleme için kullanılan sorgu:\n",
    "\n",
    "**Update kitaplık set Yayınevi = 'Everest' where Yayınevi = 'Doğan Kitap' -- Yayınevi 'Doğan Kitap' olan kitapların Yayınevi bilgilerini 'Everest' e günceller.**"
   ]
  },
  {
   "cell_type": "code",
   "execution_count": null,
   "id": "a2efcafb",
   "metadata": {},
   "outputs": [],
   "source": [
    "import sqlite3\n",
    "\n",
    "con = sqlite3.connect(\"kütüphane.db\")\n",
    "\n",
    "cursor = con.cursor()\n",
    "def tablo_olustur():\n",
    "    cursor.execute(\"CREATE TABLE IF NOT EXISTS kitaplık (İsim TEXT,Yazar TEXT,Yayınevi TEXT,Sayfa_Sayısı INT)\")\n",
    "    con.commit()\n",
    "def deger_ekle(isim,yazar,yayınevi,sayfa_sayısı):\n",
    "    cursor.execute(\"Insert into kitaplık Values(?,?,?,?)\",(isim,yazar,yayınevi,sayfa_sayısı))\n",
    "    con.commit()\n",
    "def verileri_al():\n",
    "    cursor.execute(\"Select * From kitaplık\")\n",
    "    data = cursor.fetchall()\n",
    "    print(\"Kitaplık Tablosunun bilgileri.....\")\n",
    "    for i in data:\n",
    "        print(i)\n",
    "def verileri_al2():\n",
    "    cursor.execute(\"Select İsim,Yazar From kitaplık\")\n",
    "    data = cursor.fetchall()\n",
    "    print(\"Kitaplık Tablosunun bilgileri.....\")\n",
    "    for i in data:\n",
    "        print(i)\n",
    "def verileri_al3(yayınevi):\n",
    "    cursor.execute(\"Select * From kitaplık where Yayınevi = ?\",(yayınevi,))\n",
    "    data = cursor.fetchall()\n",
    "    print(\"Kitaplık Tablosunun bilgileri.....\")\n",
    "    for i in data:\n",
    "        print(i)\n",
    "def verigüncelle(yayınevi):\n",
    "    cursor.execute(\"Update kitaplık set Yayınevi = ? where Yayınevi =  ?\",(\"Everest\",yayınevi))\n",
    "    con.commit()\n",
    "\n",
    "verigüncelle(\"Doğan Kitap\")\n",
    "con.close()       "
   ]
  },
  {
   "cell_type": "markdown",
   "id": "9972baa7",
   "metadata": {},
   "source": [
    "### Verileri Silme\n",
    "Tablodaki verileri silme için kullanılan sorgu:\n",
    "\n",
    "**Delete From kitaplık where Yazar = 'Ahmet Ümit' -- Yazar özelliği 'Ahmet Ümit' olan kitapları tablodan siler.**"
   ]
  },
  {
   "cell_type": "code",
   "execution_count": null,
   "id": "f4323cfa",
   "metadata": {},
   "outputs": [],
   "source": [
    "import sqlite3\n",
    "\n",
    "con = sqlite3.connect(\"kütüphane.db\")\n",
    "\n",
    "cursor = con.cursor()\n",
    "def tablo_olustur():\n",
    "    cursor.execute(\"CREATE TABLE IF NOT EXISTS kitaplık (İsim TEXT,Yazar TEXT,Yayınevi TEXT,Sayfa_Sayısı INT)\")\n",
    "    con.commit()\n",
    "def deger_ekle(isim,yazar,yayınevi,sayfa_sayısı):\n",
    "    cursor.execute(\"Insert into kitaplık Values(?,?,?,?)\",(isim,yazar,yayınevi,sayfa_sayısı))\n",
    "    con.commit()\n",
    "def verileri_al():\n",
    "    cursor.execute(\"Select * From kitaplık\")\n",
    "    data = cursor.fetchall()\n",
    "    print(\"Kitaplık Tablosunun bilgileri.....\")\n",
    "    for i in data:\n",
    "        print(i)\n",
    "def verileri_al2():\n",
    "    cursor.execute(\"Select İsim,Yazar From kitaplık\")\n",
    "    data = cursor.fetchall()\n",
    "    print(\"Kitaplık Tablosunun bilgileri.....\")\n",
    "    for i in data:\n",
    "        print(i)\n",
    "def verileri_al3(yayınevi):\n",
    "    cursor.execute(\"Select * From kitaplık where Yayınevi = ?\",(yayınevi,))\n",
    "    data = cursor.fetchall()\n",
    "    print(\"Kitaplık Tablosunun bilgileri.....\")\n",
    "    for i in data:\n",
    "        print(i)\n",
    "def verigüncelle(yayınevi):\n",
    "    cursor.execute(\"Update kitaplık set Yayınevi = ? where Yayınevi =  ?\",(\"Everest\",yayınevi))\n",
    "    con.commit()\n",
    "def verilerisil(yazar):\n",
    "    cursor.execute(\"Delete  From kitaplık where Yazar = ?\",(yazar,))\n",
    "    con.commit()\n",
    "    \n",
    "verilerisil(\"Ahmet Ümit\")\n",
    "con.close()   "
   ]
  }
 ],
 "metadata": {
  "kernelspec": {
   "display_name": "Python 3 (ipykernel)",
   "language": "python",
   "name": "python3"
  },
  "language_info": {
   "codemirror_mode": {
    "name": "ipython",
    "version": 3
   },
   "file_extension": ".py",
   "mimetype": "text/x-python",
   "name": "python",
   "nbconvert_exporter": "python",
   "pygments_lexer": "ipython3",
   "version": "3.10.9"
  }
 },
 "nbformat": 4,
 "nbformat_minor": 5
}
