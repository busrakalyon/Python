{
 "cells": [
  {
   "cell_type": "markdown",
   "id": "3102faf2",
   "metadata": {},
   "source": [
    "# Tablolara Veri Ekleme"
   ]
  },
  {
   "cell_type": "code",
   "execution_count": null,
   "id": "4afa3cef",
   "metadata": {},
   "outputs": [],
   "source": [
    "import sqlite3 # Sqlite'yı dahil ediyoruz\n",
    "\n",
    "con = sqlite3.connect(\"kütüphane.db\") # Tabloya bağlanıyoruz.\n",
    "\n",
    "cursor = con.cursor() # cursor isimli değişken veritabanı üzerinde işlem yapmak için kullanacağımız imleç olacak.\n",
    "\n",
    "def tablo_oluştur():\n",
    "    cursor.execute(\"CREATE TABLE IF NOT EXISTS kitaplık (İsim TEXT, Yazar TEXT, Yayınevi TEXT, Sayfa_Sayısı INT)\") # Sorguyu çalıştırıyoruz.\n",
    "    con.commit() # Sorgunun veritabanı üzerinde geçerli olması için commit işlemi gerekli.\n",
    "tablo_oluştur()\n",
    "con.close() # Bağlantıyı koparıyoruz."
   ]
  },
  {
   "cell_type": "markdown",
   "id": "6fcdeb6d",
   "metadata": {},
   "source": [
    "Şimdi de **kitaplık** tablomuza veri eklemeye çalışalım. Çalıştıracağımız sorgu şu olacak;\n",
    "\n",
    "**INSERT INTO kitaplık VALUES('İstanbul Hatırası','Ahmet Ümit','Everest',561)**\n",
    "\n",
    "**Not** : SQL Sorguları büyük veya küçük harfle de yazılabilir. Örnek olarak\n",
    "\n",
    "**insert into kitaplık values ('İstanbul Hatırası','Ahmet Ümit','Everest',561)**\n",
    "\n",
    "**Insert Into kitaplık Values ('İstanbul Hatırası','Ahmet Ümit','Everest',561)**"
   ]
  },
  {
   "cell_type": "code",
   "execution_count": null,
   "id": "66215de1",
   "metadata": {},
   "outputs": [],
   "source": [
    "import sqlite3 \n",
    "\n",
    "con = sqlite3.connect(\"kütüphane.db\")\n",
    "\n",
    "cursor = con.cursor() \n",
    "\n",
    "def tablo_oluştur():\n",
    "    cursor.execute(\"CREATE TABLE IF NOT EXISTS kitaplık (İsim TEXT, Yazar TEXT, Yayınevi TEXT, Sayfa_Sayısı INT)\") \n",
    "    con.commit()\n",
    "def deger_ekle(isim,yazar,yayınevi,sayfa_sayısı):\n",
    "    cursor.execute(\"INSERT INTO kitaplık VALUES('İstanbul Hatırası','Ahmet Ümit','Everest',261)\")\n",
    "    con.commit()\n",
    "deger_ekle()\n",
    "con.close()"
   ]
  },
  {
   "cell_type": "markdown",
   "id": "156ec765",
   "metadata": {},
   "source": [
    "Kullanıcıdan aldığımız değerleri tabloya eklemek:"
   ]
  },
  {
   "cell_type": "code",
   "execution_count": null,
   "id": "b5857640",
   "metadata": {},
   "outputs": [],
   "source": [
    "import sqlite3 \n",
    "\n",
    "con = sqlite3.connect(\"kütüphane.db\")\n",
    "\n",
    "cursor = con.cursor() \n",
    "\n",
    "def tablo_oluştur():\n",
    "    cursor.execute(\"CREATE TABLE IF NOT EXISTS kitaplık (İsim TEXT, Yazar TEXT, Yayınevi TEXT, Sayfa_Sayısı INT)\") \n",
    "    con.commit()\n",
    "def deger_ekle(isim,yazar,yayınevi,sayfa_sayısı):\n",
    "    cursor.execute(\"INSERT INTO kitaplık VALUES(?,?,?,?)\",(isim,yazar,yayınevi,sayfa_sayısı))\n",
    "    con.commit()\n",
    "isim = input(\"İsim:\")\n",
    "yazar = input(\"Yazar:\")\n",
    "yayınevi = input(\"Yayınevi:\")\n",
    "sayfa_sayısı =  int(input(\"Sayfa Sayısı:\"))\n",
    "\n",
    "\n",
    "deger_ekle(isim,yazar,yayınevi,sayfa_sayısı)\n",
    "\n",
    "con.close()"
   ]
  }
 ],
 "metadata": {
  "kernelspec": {
   "display_name": "Python 3 (ipykernel)",
   "language": "python",
   "name": "python3"
  },
  "language_info": {
   "codemirror_mode": {
    "name": "ipython",
    "version": 3
   },
   "file_extension": ".py",
   "mimetype": "text/x-python",
   "name": "python",
   "nbconvert_exporter": "python",
   "pygments_lexer": "ipython3",
   "version": "3.10.9"
  }
 },
 "nbformat": 4,
 "nbformat_minor": 5
}
