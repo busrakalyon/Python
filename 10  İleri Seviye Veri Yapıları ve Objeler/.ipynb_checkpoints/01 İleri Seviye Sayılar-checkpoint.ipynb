{
 "cells": [
  {
   "cell_type": "markdown",
   "id": "576507a7",
   "metadata": {},
   "source": [
    "# İleri Seviye Sayılar\n",
    " 10'luk tabandaki bir sayıyı ikilik tabana çevirmek için **bin()** fonksiyonu kullanılır"
   ]
  },
  {
   "cell_type": "code",
   "execution_count": 1,
   "id": "64d8c2bb",
   "metadata": {},
   "outputs": [
    {
     "data": {
      "text/plain": [
       "'0b100'"
      ]
     },
     "execution_count": 1,
     "metadata": {},
     "output_type": "execute_result"
    }
   ],
   "source": [
    "bin(4) # bin fonksiyonu . Sayımız 2'lik tabanda yazıldı. (1 ve 0) Başındaki 0b 2lik taban olduğunu ifade ediyor"
   ]
  },
  {
   "cell_type": "code",
   "execution_count": 2,
   "id": "0180eeea",
   "metadata": {},
   "outputs": [
    {
     "data": {
      "text/plain": [
       "'0b1000001001'"
      ]
     },
     "execution_count": 2,
     "metadata": {},
     "output_type": "execute_result"
    }
   ],
   "source": [
    "bin(521) # bin fonksiyonu . Sayımız 2'lik tabanda yazıldı. (1 ve 0)"
   ]
  },
  {
   "cell_type": "markdown",
   "id": "276271c1",
   "metadata": {},
   "source": [
    "10'luk tabandaki bir sayıyı 16'lık tabana çevirmek için **hex()** fonksiyonu kullanılır."
   ]
  },
  {
   "cell_type": "code",
   "execution_count": 3,
   "id": "2b3365f9",
   "metadata": {},
   "outputs": [
    {
     "data": {
      "text/plain": [
       "'0x20'"
      ]
     },
     "execution_count": 3,
     "metadata": {},
     "output_type": "execute_result"
    }
   ],
   "source": [
    "hex(32) # Sayımız 16'lık tabanda yazıldı. Başındaki 0x 16 tabanı temsil ediyor."
   ]
  },
  {
   "cell_type": "code",
   "execution_count": 4,
   "id": "de6206bc",
   "metadata": {},
   "outputs": [
    {
     "data": {
      "text/plain": [
       "'0x4bc'"
      ]
     },
     "execution_count": 4,
     "metadata": {},
     "output_type": "execute_result"
    }
   ],
   "source": [
    "hex(1212) # Sayımız 16'lık tabanda yazıldı."
   ]
  },
  {
   "cell_type": "markdown",
   "id": "de695989",
   "metadata": {},
   "source": [
    "## Fonksiyonlar\n",
    "### abs fonksiyonu\n",
    "Sayının mutlak değerini almamızı sağlar."
   ]
  },
  {
   "cell_type": "code",
   "execution_count": 6,
   "id": "08217f5e",
   "metadata": {},
   "outputs": [
    {
     "name": "stdout",
     "output_type": "stream",
     "text": [
      "4\n",
      "4\n",
      "4.5\n",
      "0\n",
      "10\n"
     ]
    }
   ],
   "source": [
    "print(abs(-4))\n",
    "\n",
    "print(abs(-4))\n",
    "\n",
    "print(abs(4.5))\n",
    "\n",
    "print(abs(0))\n",
    "\n",
    "print(abs(-10))"
   ]
  },
  {
   "cell_type": "markdown",
   "id": "0cd467d0",
   "metadata": {},
   "source": [
    "### round fonksiyonu\n",
    "Sayıları alta veya üste yuvarlar."
   ]
  },
  {
   "cell_type": "code",
   "execution_count": 7,
   "id": "9bf45918",
   "metadata": {},
   "outputs": [
    {
     "name": "stdout",
     "output_type": "stream",
     "text": [
      "4\n",
      "3\n",
      "3\n",
      "3.2133\n",
      "3.2132\n"
     ]
    }
   ],
   "source": [
    "print(round(3.7))\n",
    "\n",
    "print(round(3.2))\n",
    "\n",
    "print(round(3))\n",
    "\n",
    "print(round(3.21329321321323,4)) # Ondalıklı sayının 4. hanesine göre yuvarlar\n",
    "\n",
    "print(round(3.21324321321323,4)) # Ondalıklı sayının 4. hanesine göre yuvarlar"
   ]
  },
  {
   "cell_type": "markdown",
   "id": "9941084d",
   "metadata": {},
   "source": [
    "### max ve min fonksiyonu\n",
    "**max()** fonksiyonu verdiğimiz değerlerin en büyüğünü döndürür.\n",
    "\n",
    "**min()** fonksiyonu verdiğimiz değerlerin en küçüğünü döndürür."
   ]
  },
  {
   "cell_type": "code",
   "execution_count": 8,
   "id": "b8cef289",
   "metadata": {},
   "outputs": [
    {
     "name": "stdout",
     "output_type": "stream",
     "text": [
      "4\n",
      "131\n",
      "15.6\n",
      "15.6\n",
      "3\n",
      "-2\n"
     ]
    }
   ],
   "source": [
    "print(max(3,4)) # İstediğimiz kadar değer verebiliriz.\n",
    "\n",
    "print(max(100,-2,3,4,1,131))  # İstediğimiz kadar değer verebiliriz.\n",
    "\n",
    "print(max([13.2,-4.32,1.2,15.6])) # Sayıları liste şeklinde de verebiliriz.\n",
    "\n",
    "print(max((13.2,-4.32,1.2,15.6))) # Sayıları demet şeklinde de verebiliriz.\n",
    "\n",
    "print(min(3,4))\n",
    "\n",
    "print(min(100,-2,3,4,1,131))"
   ]
  },
  {
   "cell_type": "markdown",
   "id": "916ed422",
   "metadata": {},
   "source": [
    "### sum fonksiyonu\n",
    "**sum() fonksiyonu** verilen değerleri toplayarak döndürür. Değerlerin liste,demet vb. şeklinde verilmesi gerekir."
   ]
  },
  {
   "cell_type": "code",
   "execution_count": null,
   "id": "cd162213",
   "metadata": {},
   "outputs": [],
   "source": [
    "sum(3,4) # buşekilde çalıştırma hata verir. liste, demet vb. şekilde verilmeli."
   ]
  },
  {
   "cell_type": "code",
   "execution_count": 9,
   "id": "29715595",
   "metadata": {},
   "outputs": [
    {
     "name": "stdout",
     "output_type": "stream",
     "text": [
      "25\n",
      "7\n"
     ]
    }
   ],
   "source": [
    "print(sum([3,4,5,6,7]))\n",
    "\n",
    "print(sum((3,4)))"
   ]
  },
  {
   "cell_type": "markdown",
   "id": "2dfa3bb0",
   "metadata": {},
   "source": [
    "### pow fonksiyonu\n",
    "**pow() fonksiyonu** üs alma işlemlerinde kullanılır."
   ]
  },
  {
   "cell_type": "code",
   "execution_count": 10,
   "id": "10924ee9",
   "metadata": {},
   "outputs": [
    {
     "data": {
      "text/plain": [
       "16"
      ]
     },
     "execution_count": 10,
     "metadata": {},
     "output_type": "execute_result"
    }
   ],
   "source": [
    "pow(2,4) # 2 üzeri 4"
   ]
  },
  {
   "cell_type": "code",
   "execution_count": 12,
   "id": "6d252d51",
   "metadata": {},
   "outputs": [
    {
     "data": {
      "text/plain": [
       "81"
      ]
     },
     "execution_count": 12,
     "metadata": {},
     "output_type": "execute_result"
    }
   ],
   "source": [
    "pow(3,4) # 3 üzeri 4"
   ]
  },
  {
   "cell_type": "code",
   "execution_count": 13,
   "id": "f104ce32",
   "metadata": {},
   "outputs": [
    {
     "data": {
      "text/plain": [
       "289"
      ]
     },
     "execution_count": 13,
     "metadata": {},
     "output_type": "execute_result"
    }
   ],
   "source": [
    "pow(17,2) # 17 üzeri 2"
   ]
  }
 ],
 "metadata": {
  "kernelspec": {
   "display_name": "Python 3 (ipykernel)",
   "language": "python",
   "name": "python3"
  },
  "language_info": {
   "codemirror_mode": {
    "name": "ipython",
    "version": 3
   },
   "file_extension": ".py",
   "mimetype": "text/x-python",
   "name": "python",
   "nbconvert_exporter": "python",
   "pygments_lexer": "ipython3",
   "version": "3.10.9"
  }
 },
 "nbformat": 4,
 "nbformat_minor": 5
}
