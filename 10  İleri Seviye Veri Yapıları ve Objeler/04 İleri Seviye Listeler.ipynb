{
 "cells": [
  {
   "cell_type": "markdown",
   "id": "9f2e618b",
   "metadata": {},
   "source": [
    "# İleri Seviye Listeler\n",
    "### append() metodu\n",
    "**append** metodu listenin en sonuna eleman eklememizi sağlar."
   ]
  },
  {
   "cell_type": "code",
   "execution_count": 1,
   "id": "a2b4b730",
   "metadata": {},
   "outputs": [
    {
     "data": {
      "text/plain": [
       "[1, 2, 3, 4, 5, 6, 7, 34]"
      ]
     },
     "execution_count": 1,
     "metadata": {},
     "output_type": "execute_result"
    }
   ],
   "source": [
    "liste = [1,2,3,4,5,6,7]\n",
    "\n",
    "liste.append(34)\n",
    "\n",
    "liste"
   ]
  },
  {
   "cell_type": "code",
   "execution_count": 2,
   "id": "3a2e839d",
   "metadata": {},
   "outputs": [
    {
     "data": {
      "text/plain": [
       "[1, 2, 3, 4, 5, 6, 7, 34, 'Python']"
      ]
     },
     "execution_count": 2,
     "metadata": {},
     "output_type": "execute_result"
    }
   ],
   "source": [
    "liste.append(\"Python\")\n",
    "\n",
    "liste"
   ]
  },
  {
   "cell_type": "markdown",
   "id": "421e6c8b",
   "metadata": {},
   "source": [
    "### extend() metodu\n",
    "**extend()** metodu bir listeye başka bir listenin elemanları eklememizi sağlar."
   ]
  },
  {
   "cell_type": "code",
   "execution_count": 3,
   "id": "309b2d79",
   "metadata": {},
   "outputs": [
    {
     "data": {
      "text/plain": [
       "[1, 2, 3, 4, 5, 6, 7, 10, 11, 12]"
      ]
     },
     "execution_count": 3,
     "metadata": {},
     "output_type": "execute_result"
    }
   ],
   "source": [
    "liste = [1,2,3,4,5,6,7]\n",
    "\n",
    "liste.extend([10,11,12])\n",
    "\n",
    "liste"
   ]
  },
  {
   "cell_type": "markdown",
   "id": "2702d1d3",
   "metadata": {},
   "source": [
    "### insert() metodu\n",
    "**insert()** metodu listenin belli bir indeksine bir eleman eklememizi sağlar."
   ]
  },
  {
   "cell_type": "code",
   "execution_count": 4,
   "id": "d5180ee3",
   "metadata": {},
   "outputs": [
    {
     "data": {
      "text/plain": [
       "[1, 2, 'Python', 3, 4, 5, 6, 7, 8, 9]"
      ]
     },
     "execution_count": 4,
     "metadata": {},
     "output_type": "execute_result"
    }
   ],
   "source": [
    "liste = [1,2,3,4,5,6,7,8,9]\n",
    "\n",
    "liste.insert(2,\"Python\") # 2.indekse \"Python\" değerini ekliyoruz.\n",
    "\n",
    "liste"
   ]
  },
  {
   "cell_type": "markdown",
   "id": "1bb1c9a6",
   "metadata": {},
   "source": [
    "### pop() metodu\n",
    "**pop() metodu** içine hiçbir değer vermezsek listenin son elemanını silerek ekrana basar. İçine belli bir indeks değeri verirsek o indeksi siler ve ekrana basar."
   ]
  },
  {
   "cell_type": "code",
   "execution_count": 5,
   "id": "784db5ed",
   "metadata": {},
   "outputs": [
    {
     "data": {
      "text/plain": [
       "7"
      ]
     },
     "execution_count": 5,
     "metadata": {},
     "output_type": "execute_result"
    }
   ],
   "source": [
    "liste = [1,2,3,4,5,6,7]\n",
    "liste.pop() # Son eleman siliniyor. Silinen eleman ekrana yazılıyor."
   ]
  },
  {
   "cell_type": "code",
   "execution_count": 6,
   "id": "3315f469",
   "metadata": {},
   "outputs": [
    {
     "data": {
      "text/plain": [
       "[1, 2, 3, 4, 5, 6]"
      ]
     },
     "execution_count": 6,
     "metadata": {},
     "output_type": "execute_result"
    }
   ],
   "source": [
    "liste"
   ]
  },
  {
   "cell_type": "code",
   "execution_count": 7,
   "id": "cf4d1929",
   "metadata": {},
   "outputs": [
    {
     "data": {
      "text/plain": [
       "3"
      ]
     },
     "execution_count": 7,
     "metadata": {},
     "output_type": "execute_result"
    }
   ],
   "source": [
    "liste.pop(2) # 2.indeksteki eleman siliniyor."
   ]
  },
  {
   "cell_type": "markdown",
   "id": "a40f738b",
   "metadata": {},
   "source": [
    "### remove() metodu\n",
    "**remove() metodu** verdiğimiz değeri listeden çıkarmamızı sağlar."
   ]
  },
  {
   "cell_type": "code",
   "execution_count": 8,
   "id": "de58f8fb",
   "metadata": {},
   "outputs": [
    {
     "data": {
      "text/plain": [
       "['Php', 'Java', 'C']"
      ]
     },
     "execution_count": 8,
     "metadata": {},
     "output_type": "execute_result"
    }
   ],
   "source": [
    "liste = [\"Python\",\"Php\",\"Java\",\"C\"]\n",
    "\n",
    "liste.remove(\"Python\") # Python'ı siliyoruz.\n",
    "\n",
    "liste"
   ]
  },
  {
   "cell_type": "code",
   "execution_count": 9,
   "id": "5c06df6c",
   "metadata": {},
   "outputs": [
    {
     "ename": "ValueError",
     "evalue": "list.remove(x): x not in list",
     "output_type": "error",
     "traceback": [
      "\u001b[1;31m---------------------------------------------------------------------------\u001b[0m",
      "\u001b[1;31mValueError\u001b[0m                                Traceback (most recent call last)",
      "Cell \u001b[1;32mIn[9], line 1\u001b[0m\n\u001b[1;32m----> 1\u001b[0m \u001b[43mliste\u001b[49m\u001b[38;5;241;43m.\u001b[39;49m\u001b[43mremove\u001b[49m\u001b[43m(\u001b[49m\u001b[38;5;124;43m\"\u001b[39;49m\u001b[38;5;124;43mJavascript\u001b[39;49m\u001b[38;5;124;43m\"\u001b[39;49m\u001b[43m)\u001b[49m\n",
      "\u001b[1;31mValueError\u001b[0m: list.remove(x): x not in list"
     ]
    }
   ],
   "source": [
    "liste.remove(\"Javascript\") # Listede yok hata verir."
   ]
  },
  {
   "cell_type": "markdown",
   "id": "1fb3b28d",
   "metadata": {},
   "source": [
    "### index() metodu\n",
    "**index() metodu** verilen bir değerin baştan başlayarak hangi indekste olduğunu söyler. Değer listede yoksa hata döner. Eğer ekstra index değeri belirtilirse, **index metodu()** değeri bu indeksten itibaren aramaya çalışır."
   ]
  },
  {
   "cell_type": "code",
   "execution_count": 10,
   "id": "190cc7f6",
   "metadata": {},
   "outputs": [
    {
     "data": {
      "text/plain": [
       "2"
      ]
     },
     "execution_count": 10,
     "metadata": {},
     "output_type": "execute_result"
    }
   ],
   "source": [
    "liste = [1,2,3,4,3,3,5,6,7,8,9]\n",
    "\n",
    "liste.index(3) # 3 elemanı baştan başlayarak 2.indekste"
   ]
  },
  {
   "cell_type": "code",
   "execution_count": 11,
   "id": "eb023e71",
   "metadata": {},
   "outputs": [
    {
     "data": {
      "text/plain": [
       "4"
      ]
     },
     "execution_count": 11,
     "metadata": {},
     "output_type": "execute_result"
    }
   ],
   "source": [
    "liste.index(3,3) # 3 elemanı 3.indekten itibaren arandığından 4.indekste "
   ]
  },
  {
   "cell_type": "code",
   "execution_count": 12,
   "id": "0ec78e96",
   "metadata": {},
   "outputs": [
    {
     "ename": "ValueError",
     "evalue": "'Python' is not in list",
     "output_type": "error",
     "traceback": [
      "\u001b[1;31m---------------------------------------------------------------------------\u001b[0m",
      "\u001b[1;31mValueError\u001b[0m                                Traceback (most recent call last)",
      "Cell \u001b[1;32mIn[12], line 1\u001b[0m\n\u001b[1;32m----> 1\u001b[0m \u001b[43mliste\u001b[49m\u001b[38;5;241;43m.\u001b[39;49m\u001b[43mindex\u001b[49m\u001b[43m(\u001b[49m\u001b[38;5;124;43m\"\u001b[39;49m\u001b[38;5;124;43mPython\u001b[39;49m\u001b[38;5;124;43m\"\u001b[39;49m\u001b[43m)\u001b[49m\n",
      "\u001b[1;31mValueError\u001b[0m: 'Python' is not in list"
     ]
    }
   ],
   "source": [
    "liste.index(\"Python\")"
   ]
  },
  {
   "cell_type": "markdown",
   "id": "5bbf2cd3",
   "metadata": {},
   "source": [
    "### count() metodu\n",
    "**count() metodu** verilen bir değerin listede kaç defa geçtiğini sayar."
   ]
  },
  {
   "cell_type": "code",
   "execution_count": 13,
   "id": "e9f83cb7",
   "metadata": {},
   "outputs": [
    {
     "data": {
      "text/plain": [
       "9"
      ]
     },
     "execution_count": 13,
     "metadata": {},
     "output_type": "execute_result"
    }
   ],
   "source": [
    "liste = [1,2,3,4,5,6,1,1,1,1,1,1,1,1,8]\n",
    "liste.count(1)"
   ]
  },
  {
   "cell_type": "code",
   "execution_count": 14,
   "id": "ace4faaa",
   "metadata": {},
   "outputs": [
    {
     "data": {
      "text/plain": [
       "0"
      ]
     },
     "execution_count": 14,
     "metadata": {},
     "output_type": "execute_result"
    }
   ],
   "source": [
    "liste.count(10)"
   ]
  },
  {
   "cell_type": "markdown",
   "id": "2e99e147",
   "metadata": {},
   "source": [
    "### sort() metodu\n",
    "**sort()** metodu bir listenin elemanlarını sayıysa küçükten büyüğe , string ise alfabetik olarak sıralar. Eğer özellikle içine **reverse = True** değeri verilirse elemanları büyükten küçüğe sıralar."
   ]
  },
  {
   "cell_type": "code",
   "execution_count": 15,
   "id": "5e4016bf",
   "metadata": {},
   "outputs": [],
   "source": [
    "liste = [12,-2,3,1,34,100]"
   ]
  },
  {
   "cell_type": "code",
   "execution_count": 16,
   "id": "40cb23ab",
   "metadata": {},
   "outputs": [],
   "source": [
    "liste.sort()"
   ]
  },
  {
   "cell_type": "code",
   "execution_count": 17,
   "id": "5dd8c376",
   "metadata": {},
   "outputs": [
    {
     "data": {
      "text/plain": [
       "[-2, 1, 3, 12, 34, 100]"
      ]
     },
     "execution_count": 17,
     "metadata": {},
     "output_type": "execute_result"
    }
   ],
   "source": [
    "liste"
   ]
  },
  {
   "cell_type": "code",
   "execution_count": 18,
   "id": "8e610d28",
   "metadata": {},
   "outputs": [],
   "source": [
    "liste2 = [\"Python\",\"Php\",\"C\",\"Java\"]"
   ]
  },
  {
   "cell_type": "code",
   "execution_count": 19,
   "id": "c041eb3e",
   "metadata": {},
   "outputs": [],
   "source": [
    "liste2.sort()"
   ]
  },
  {
   "cell_type": "code",
   "execution_count": 20,
   "id": "5abb6a49",
   "metadata": {},
   "outputs": [
    {
     "data": {
      "text/plain": [
       "['C', 'Java', 'Php', 'Python']"
      ]
     },
     "execution_count": 20,
     "metadata": {},
     "output_type": "execute_result"
    }
   ],
   "source": [
    "liste2"
   ]
  },
  {
   "cell_type": "code",
   "execution_count": 21,
   "id": "8df4786a",
   "metadata": {},
   "outputs": [],
   "source": [
    "liste = [12,-2,3,1,34,100]"
   ]
  },
  {
   "cell_type": "code",
   "execution_count": 22,
   "id": "97e761c7",
   "metadata": {},
   "outputs": [],
   "source": [
    "liste.sort(reverse = True)"
   ]
  },
  {
   "cell_type": "code",
   "execution_count": 23,
   "id": "fca9c552",
   "metadata": {},
   "outputs": [
    {
     "data": {
      "text/plain": [
       "[100, 34, 12, 3, 1, -2]"
      ]
     },
     "execution_count": 23,
     "metadata": {},
     "output_type": "execute_result"
    }
   ],
   "source": [
    "liste"
   ]
  },
  {
   "cell_type": "code",
   "execution_count": 24,
   "id": "1934095d",
   "metadata": {},
   "outputs": [],
   "source": [
    "liste2 = [\"Python\",\"Php\",\"C\",\"Java\"]"
   ]
  },
  {
   "cell_type": "code",
   "execution_count": 25,
   "id": "a4f45da2",
   "metadata": {},
   "outputs": [],
   "source": [
    "liste2.sort(reverse = True)"
   ]
  },
  {
   "cell_type": "code",
   "execution_count": 26,
   "id": "c71e56d4",
   "metadata": {},
   "outputs": [
    {
     "data": {
      "text/plain": [
       "['Python', 'Php', 'Java', 'C']"
      ]
     },
     "execution_count": 26,
     "metadata": {},
     "output_type": "execute_result"
    }
   ],
   "source": [
    "liste2"
   ]
  }
 ],
 "metadata": {
  "kernelspec": {
   "display_name": "Python 3 (ipykernel)",
   "language": "python",
   "name": "python3"
  },
  "language_info": {
   "codemirror_mode": {
    "name": "ipython",
    "version": 3
   },
   "file_extension": ".py",
   "mimetype": "text/x-python",
   "name": "python",
   "nbconvert_exporter": "python",
   "pygments_lexer": "ipython3",
   "version": "3.10.9"
  }
 },
 "nbformat": 4,
 "nbformat_minor": 5
}
