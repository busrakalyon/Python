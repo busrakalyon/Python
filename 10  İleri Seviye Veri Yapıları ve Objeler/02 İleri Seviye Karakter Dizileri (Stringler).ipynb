{
 "cells": [
  {
   "cell_type": "markdown",
   "id": "8064d411",
   "metadata": {},
   "source": [
    "# İleri Seviye Karakter Dizileri (Stringler)\n"
   ]
  },
  {
   "cell_type": "markdown",
   "id": "2daaabd9",
   "metadata": {},
   "source": [
    "### upper() ve lower()\n",
    "**upper()** metodu stringin tüm karakterlerini büyük harfe çevirir.\n",
    "\n",
    "**lower()** metodu stringin tüm karakterlerini küçük harfe çevirir."
   ]
  },
  {
   "cell_type": "code",
   "execution_count": 1,
   "id": "b52dbd36",
   "metadata": {},
   "outputs": [
    {
     "data": {
      "text/plain": [
       "'PYTHON'"
      ]
     },
     "execution_count": 1,
     "metadata": {},
     "output_type": "execute_result"
    }
   ],
   "source": [
    "\"python\".upper()"
   ]
  },
  {
   "cell_type": "code",
   "execution_count": 2,
   "id": "9e204f76",
   "metadata": {},
   "outputs": [
    {
     "data": {
      "text/plain": [
       "'python'"
      ]
     },
     "execution_count": 2,
     "metadata": {},
     "output_type": "execute_result"
    }
   ],
   "source": [
    "\"PYTHON\".lower()"
   ]
  },
  {
   "cell_type": "code",
   "execution_count": 3,
   "id": "59cf8ad3",
   "metadata": {},
   "outputs": [
    {
     "data": {
      "text/plain": [
       "'PYTHON'"
      ]
     },
     "execution_count": 3,
     "metadata": {},
     "output_type": "execute_result"
    }
   ],
   "source": [
    "\"PythOn\".upper()"
   ]
  },
  {
   "cell_type": "code",
   "execution_count": 4,
   "id": "35b3400d",
   "metadata": {},
   "outputs": [
    {
     "data": {
      "text/plain": [
       "'python'"
      ]
     },
     "execution_count": 4,
     "metadata": {},
     "output_type": "execute_result"
    }
   ],
   "source": [
    "\"PythOn\".lower()"
   ]
  },
  {
   "cell_type": "markdown",
   "id": "739b20a3",
   "metadata": {},
   "source": [
    "### replace()\n",
    "**replace(x,y)** : Stringteki x değerlerini y ile değiştirir."
   ]
  },
  {
   "cell_type": "code",
   "execution_count": 5,
   "id": "fe754218",
   "metadata": {},
   "outputs": [
    {
     "data": {
      "text/plain": [
       "'Herkes ono bobo bocı gordoş'"
      ]
     },
     "execution_count": 5,
     "metadata": {},
     "output_type": "execute_result"
    }
   ],
   "source": [
    "\"Herkes ana baba bacı gardaş\".replace(\"a\",\"o\")"
   ]
  },
  {
   "cell_type": "code",
   "execution_count": 6,
   "id": "abb47512",
   "metadata": {},
   "outputs": [
    {
     "data": {
      "text/plain": [
       "'Kunzun'"
      ]
     },
     "execution_count": 6,
     "metadata": {},
     "output_type": "execute_result"
    }
   ],
   "source": [
    "\"Kunduz\".replace(\"duz\",\"zun\")"
   ]
  },
  {
   "cell_type": "code",
   "execution_count": 7,
   "id": "c6da86f6",
   "metadata": {},
   "outputs": [
    {
     "data": {
      "text/plain": [
       "'Python-Programlama-Dili'"
      ]
     },
     "execution_count": 7,
     "metadata": {},
     "output_type": "execute_result"
    }
   ],
   "source": [
    "\"Python Programlama Dili\".replace(\" \",\"-\")"
   ]
  },
  {
   "cell_type": "markdown",
   "id": "2cfb6541",
   "metadata": {},
   "source": [
    "### startswith() ve endswith()\n",
    "**startswith(x)** : String x ile başlıyorsa True, başlamıyorsa False değeri döndürür.\n",
    "\n",
    "**endswith(x)** : String x ile bitiyorsa True, bitmiyorsa False değeri döndürür."
   ]
  },
  {
   "cell_type": "code",
   "execution_count": 8,
   "id": "77d8eb3b",
   "metadata": {},
   "outputs": [
    {
     "data": {
      "text/plain": [
       "False"
      ]
     },
     "execution_count": 8,
     "metadata": {},
     "output_type": "execute_result"
    }
   ],
   "source": [
    "\"Python\".startswith(\"py\")"
   ]
  },
  {
   "cell_type": "code",
   "execution_count": 9,
   "id": "94df203d",
   "metadata": {},
   "outputs": [
    {
     "data": {
      "text/plain": [
       "True"
      ]
     },
     "execution_count": 9,
     "metadata": {},
     "output_type": "execute_result"
    }
   ],
   "source": [
    "\"Python\".startswith(\"Py\")"
   ]
  },
  {
   "cell_type": "code",
   "execution_count": 10,
   "id": "059d9fe0",
   "metadata": {},
   "outputs": [
    {
     "data": {
      "text/plain": [
       "True"
      ]
     },
     "execution_count": 10,
     "metadata": {},
     "output_type": "execute_result"
    }
   ],
   "source": [
    "\"Python\".endswith(\"on\")"
   ]
  },
  {
   "cell_type": "code",
   "execution_count": 11,
   "id": "73511452",
   "metadata": {},
   "outputs": [
    {
     "data": {
      "text/plain": [
       "False"
      ]
     },
     "execution_count": 11,
     "metadata": {},
     "output_type": "execute_result"
    }
   ],
   "source": [
    "\"Python\".endswith(\"az\")"
   ]
  },
  {
   "cell_type": "markdown",
   "id": "5efbe268",
   "metadata": {},
   "source": [
    "### split()\n",
    "**split(a)** : Verilen bir a değerine göre string parçalara ayrılarak herbir parça listeye atılır."
   ]
  },
  {
   "cell_type": "code",
   "execution_count": 12,
   "id": "9f5b0e62",
   "metadata": {},
   "outputs": [],
   "source": [
    "liste = \"Python Programlama Dili\".split(\" \") # Boşluk karakterine göre ayrıldı."
   ]
  },
  {
   "cell_type": "code",
   "execution_count": 13,
   "id": "edc7cf1e",
   "metadata": {},
   "outputs": [
    {
     "name": "stdout",
     "output_type": "stream",
     "text": [
      "['Python', 'Programlama', 'Dili']\n"
     ]
    }
   ],
   "source": [
    "print(liste)"
   ]
  },
  {
   "cell_type": "code",
   "execution_count": 14,
   "id": "6ae356cb",
   "metadata": {},
   "outputs": [
    {
     "name": "stdout",
     "output_type": "stream",
     "text": [
      "['Python', 'Php', 'Java', 'C', 'Javascript']\n"
     ]
    }
   ],
   "source": [
    "liste2 = \"Python-Php-Java-C-Javascript\".split(\"-\")\n",
    "print(liste2)"
   ]
  },
  {
   "cell_type": "markdown",
   "id": "886688f3",
   "metadata": {},
   "source": [
    "### strip() , lstrip() ve rstrip()\n",
    "**strip(x)** : Stringin başında ve sonunda bulunan x değerlerini siler.\n",
    "\n",
    "**lstrip(x)** : Stringin sadece başında bulunan x değerlerini siler.\n",
    "\n",
    "**rstrip(x)** : Stringin sadece sonunda bulunan x değerlerini siler."
   ]
  },
  {
   "cell_type": "code",
   "execution_count": 15,
   "id": "2fd0db2a",
   "metadata": {},
   "outputs": [
    {
     "data": {
      "text/plain": [
       "'python'"
      ]
     },
     "execution_count": 15,
     "metadata": {},
     "output_type": "execute_result"
    }
   ],
   "source": [
    "\"                   python                          \".strip() # değer göndermezsek varsayılan olarak boşluk karakteri"
   ]
  },
  {
   "cell_type": "code",
   "execution_count": 16,
   "id": "605262ad",
   "metadata": {},
   "outputs": [
    {
     "data": {
      "text/plain": [
       "'Mustafa'"
      ]
     },
     "execution_count": 16,
     "metadata": {},
     "output_type": "execute_result"
    }
   ],
   "source": [
    "\">>>>>>>>>>>>>>Mustafa>>>>>>>>>>>>>>>>>>>>>>>>>>\".strip(\">\")"
   ]
  },
  {
   "cell_type": "code",
   "execution_count": 17,
   "id": "b08ac904",
   "metadata": {},
   "outputs": [
    {
     "data": {
      "text/plain": [
       "'python      '"
      ]
     },
     "execution_count": 17,
     "metadata": {},
     "output_type": "execute_result"
    }
   ],
   "source": [
    "\"                            python      \".lstrip()"
   ]
  },
  {
   "cell_type": "code",
   "execution_count": 18,
   "id": "8339efc4",
   "metadata": {},
   "outputs": [
    {
     "data": {
      "text/plain": [
       "'                            python'"
      ]
     },
     "execution_count": 18,
     "metadata": {},
     "output_type": "execute_result"
    }
   ],
   "source": [
    "\"                            python      \".rstrip()"
   ]
  },
  {
   "cell_type": "markdown",
   "id": "7bd011c7",
   "metadata": {},
   "source": [
    "### join()\n",
    "Listenin elemanlarını bir string değeriyle birleştirmemizi sağlar."
   ]
  },
  {
   "cell_type": "code",
   "execution_count": 19,
   "id": "e47378d9",
   "metadata": {},
   "outputs": [
    {
     "data": {
      "text/plain": [
       "'21/02/2014'"
      ]
     },
     "execution_count": 19,
     "metadata": {},
     "output_type": "execute_result"
    }
   ],
   "source": [
    "liste = [\"21\",\"02\",\"2014\"]\n",
    "\"/\".join(liste)"
   ]
  },
  {
   "cell_type": "code",
   "execution_count": 20,
   "id": "2cf2e0fd",
   "metadata": {},
   "outputs": [
    {
     "data": {
      "text/plain": [
       "'T.B.M.M'"
      ]
     },
     "execution_count": 20,
     "metadata": {},
     "output_type": "execute_result"
    }
   ],
   "source": [
    "liste = [\"T\",\"B\",\"M\",\"M\"]\n",
    "\".\".join(liste)"
   ]
  },
  {
   "cell_type": "markdown",
   "id": "58162b09",
   "metadata": {},
   "source": [
    "### count()\n",
    "**count(x)**: Stringin içindeki x değerlerini sayar.\n",
    "\n",
    "**count(x,index)**: Stringin içindeki x değerlerini verilen index değerinden başlayarak saymaya başlar."
   ]
  },
  {
   "cell_type": "code",
   "execution_count": 21,
   "id": "70c4c9ff",
   "metadata": {},
   "outputs": [
    {
     "data": {
      "text/plain": [
       "6"
      ]
     },
     "execution_count": 21,
     "metadata": {},
     "output_type": "execute_result"
    }
   ],
   "source": [
    "\"ada kapısı yandan çarklı\".count(\"a\")"
   ]
  },
  {
   "cell_type": "code",
   "execution_count": 22,
   "id": "9db9632c",
   "metadata": {},
   "outputs": [
    {
     "data": {
      "text/plain": [
       "3"
      ]
     },
     "execution_count": 22,
     "metadata": {},
     "output_type": "execute_result"
    }
   ],
   "source": [
    "\"ada kapısı yandan çarklı\".count(\" \")\n"
   ]
  },
  {
   "cell_type": "code",
   "execution_count": 23,
   "id": "1ebb4f0a",
   "metadata": {},
   "outputs": [
    {
     "data": {
      "text/plain": [
       "5"
      ]
     },
     "execution_count": 23,
     "metadata": {},
     "output_type": "execute_result"
    }
   ],
   "source": [
    "\"ada kapısı yandan çarklı\".count(\"a\",2)"
   ]
  },
  {
   "cell_type": "markdown",
   "id": "cc6451d3",
   "metadata": {},
   "source": [
    "### find() ve rfind()\n",
    "**find(x)** : x değerini baştan itibaren string içinde arar ve bulursa ilk bulduğu indeksi döndürür. Bulamazsa \"-1\" değerini verir.\n",
    "\n",
    "**rfind(x)** : x değerini sondan itibaren string içinde arar ve bulursa ilk bulduğu indeksi döndürür. Bulamazsa \"-1\" değerini verir."
   ]
  },
  {
   "cell_type": "code",
   "execution_count": 24,
   "id": "2692d661",
   "metadata": {},
   "outputs": [
    {
     "data": {
      "text/plain": [
       "0"
      ]
     },
     "execution_count": 24,
     "metadata": {},
     "output_type": "execute_result"
    }
   ],
   "source": [
    "\"araba\".find(\"a\")"
   ]
  },
  {
   "cell_type": "code",
   "execution_count": 25,
   "id": "5bda37f6",
   "metadata": {},
   "outputs": [
    {
     "data": {
      "text/plain": [
       "-1"
      ]
     },
     "execution_count": 25,
     "metadata": {},
     "output_type": "execute_result"
    }
   ],
   "source": [
    "\"araba\".find(\"s\")"
   ]
  },
  {
   "cell_type": "code",
   "execution_count": 26,
   "id": "d7e6588e",
   "metadata": {},
   "outputs": [
    {
     "data": {
      "text/plain": [
       "4"
      ]
     },
     "execution_count": 26,
     "metadata": {},
     "output_type": "execute_result"
    }
   ],
   "source": [
    "\"araba\".rfind(\"a\")"
   ]
  },
  {
   "cell_type": "code",
   "execution_count": 27,
   "id": "4ea1bc18",
   "metadata": {},
   "outputs": [
    {
     "data": {
      "text/plain": [
       "-1"
      ]
     },
     "execution_count": 27,
     "metadata": {},
     "output_type": "execute_result"
    }
   ],
   "source": [
    "\"araba\".rfind(\"s\")"
   ]
  },
  {
   "cell_type": "markdown",
   "id": "5bd36010",
   "metadata": {},
   "source": [
    "Stringlerin belli başlı metodları bunlardır. Diğer metodlar için:\n",
    "https://www.tutorialspoint.com/python3/python_strings.htm"
   ]
  }
 ],
 "metadata": {
  "kernelspec": {
   "display_name": "Python 3 (ipykernel)",
   "language": "python",
   "name": "python3"
  },
  "language_info": {
   "codemirror_mode": {
    "name": "ipython",
    "version": 3
   },
   "file_extension": ".py",
   "mimetype": "text/x-python",
   "name": "python",
   "nbconvert_exporter": "python",
   "pygments_lexer": "ipython3",
   "version": "3.10.9"
  }
 },
 "nbformat": 4,
 "nbformat_minor": 5
}
