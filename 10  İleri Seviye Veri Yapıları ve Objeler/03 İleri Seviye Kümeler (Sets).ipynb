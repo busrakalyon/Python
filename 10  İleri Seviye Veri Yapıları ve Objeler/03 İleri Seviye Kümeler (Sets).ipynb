{
 "cells": [
  {
   "cell_type": "markdown",
   "id": "a3f24ad1",
   "metadata": {},
   "source": [
    "# İleri Seviye Kümeler (Sets)\n",
    "\n",
    "Kümeler, matematikte olduğu gibi bir elemandan sadece bir adet tutan bir veritipidir.\n",
    "### Küme oluşturmak"
   ]
  },
  {
   "cell_type": "code",
   "execution_count": 1,
   "id": "2db16c21",
   "metadata": {},
   "outputs": [
    {
     "data": {
      "text/plain": [
       "set"
      ]
     },
     "execution_count": 1,
     "metadata": {},
     "output_type": "execute_result"
    }
   ],
   "source": [
    "x =  set() # Boş küme\n",
    "type(x)"
   ]
  },
  {
   "cell_type": "code",
   "execution_count": 2,
   "id": "34959388",
   "metadata": {},
   "outputs": [],
   "source": [
    "liste = [1,2,3,3,1,1,2,2,2] # Aynı elemanı birçok defa  barındıran bir liste"
   ]
  },
  {
   "cell_type": "code",
   "execution_count": 3,
   "id": "b0f49333",
   "metadata": {},
   "outputs": [],
   "source": [
    "x = set(liste) # Veri tipi dönüşümü"
   ]
  },
  {
   "cell_type": "code",
   "execution_count": 4,
   "id": "effdb21f",
   "metadata": {},
   "outputs": [
    {
     "data": {
      "text/plain": [
       "{1, 2, 3}"
      ]
     },
     "execution_count": 4,
     "metadata": {},
     "output_type": "execute_result"
    }
   ],
   "source": [
    "x # Aynı elemanlar tek bir elemana indirgendi."
   ]
  },
  {
   "cell_type": "code",
   "execution_count": 5,
   "id": "7994cae2",
   "metadata": {},
   "outputs": [
    {
     "name": "stdout",
     "output_type": "stream",
     "text": [
      "{'n', 'P', 'g', 'h', 'l', 't', 'a', 'm', ' ', 'D', 'y', 'i', 'r', 'o'}\n"
     ]
    }
   ],
   "source": [
    "x = set(\"Python Programlama Dili\")  # Aynı karakterler tek bir karaktere indirgendi.\n",
    "print(x)"
   ]
  },
  {
   "cell_type": "code",
   "execution_count": 6,
   "id": "2c82e9b5",
   "metadata": {},
   "outputs": [
    {
     "name": "stdout",
     "output_type": "stream",
     "text": [
      "{'Python', 'Php'}\n"
     ]
    }
   ],
   "source": [
    "x = {\"Python\",\"Php\",\"Python\"}\n",
    "print(x) # Aynı elemanlar teke indirgendi."
   ]
  },
  {
   "cell_type": "markdown",
   "id": "9934b9c4",
   "metadata": {},
   "source": [
    "### For döngüsüyle Gezinmek\n",
    "Kümeler de tıpkı sözlükler gibi sırasız bir veri tipidir. "
   ]
  },
  {
   "cell_type": "code",
   "execution_count": null,
   "id": "09527d60",
   "metadata": {},
   "outputs": [],
   "source": [
    "x = {\"Python\",\"Php\",\"Java\",\"C\",\"Javascript\"}\n",
    "\n",
    "for i in x:\n",
    "    print(i) "
   ]
  },
  {
   "cell_type": "markdown",
   "id": "0be64c73",
   "metadata": {},
   "source": [
    "Bir kümenin elemanlarına ne indexle ne de eleman ismiyle erişebiliyoruz. Erişmek için mutlaka veritipi dönüşümü yapmamız gerekiyor."
   ]
  },
  {
   "cell_type": "markdown",
   "id": "6bf36f6f",
   "metadata": {},
   "source": [
    "## Kümelerin Metodları\n",
    "### Eleman Eklemek : add() metodu\n",
    "Kümeye eleman eklemimizi sağlar. Aynı eleman eklenmeye çalışırsa hata vermez ve herhangi bir ekleme işlemi yapmaz."
   ]
  },
  {
   "cell_type": "code",
   "execution_count": 9,
   "id": "f4fbaddd",
   "metadata": {},
   "outputs": [
    {
     "data": {
      "text/plain": [
       "{1, 2, 3, 4}"
      ]
     },
     "execution_count": 9,
     "metadata": {},
     "output_type": "execute_result"
    }
   ],
   "source": [
    "x = {1,2,3}\n",
    "x.add(4)\n",
    "x"
   ]
  },
  {
   "cell_type": "code",
   "execution_count": 10,
   "id": "4dbbc36e",
   "metadata": {},
   "outputs": [
    {
     "data": {
      "text/plain": [
       "{1, 2, 3, 4}"
      ]
     },
     "execution_count": 10,
     "metadata": {},
     "output_type": "execute_result"
    }
   ],
   "source": [
    "x.add(4) # Tekrar eklenmiyor.\n",
    "x"
   ]
  },
  {
   "cell_type": "markdown",
   "id": "62534348",
   "metadata": {},
   "source": [
    "### İki kümenin farkı : difference() metodu\n",
    "Bu metod birinci kümenin ikinci kümeden farkını döner.\n",
    "\n",
    "    küme1.difference(küme2) # Küme1'in Küme2'den farkı"
   ]
  },
  {
   "cell_type": "code",
   "execution_count": 11,
   "id": "b086e498",
   "metadata": {},
   "outputs": [
    {
     "data": {
      "text/plain": [
       "{-2, 3, 10, 100}"
      ]
     },
     "execution_count": 11,
     "metadata": {},
     "output_type": "execute_result"
    }
   ],
   "source": [
    "küme1 = {1,2,3,10,34,100,-2}\n",
    "küme2 = {1,2,23,34,-1}\n",
    "\n",
    "küme1.difference(küme2)"
   ]
  },
  {
   "cell_type": "code",
   "execution_count": 12,
   "id": "d429abf7",
   "metadata": {},
   "outputs": [
    {
     "data": {
      "text/plain": [
       "{-1, 23}"
      ]
     },
     "execution_count": 12,
     "metadata": {},
     "output_type": "execute_result"
    }
   ],
   "source": [
    "küme2.difference(küme1)"
   ]
  },
  {
   "cell_type": "code",
   "execution_count": 13,
   "id": "76ba67a3",
   "metadata": {},
   "outputs": [
    {
     "data": {
      "text/plain": [
       "{-2, 1, 2, 3, 10, 34, 100}"
      ]
     },
     "execution_count": 13,
     "metadata": {},
     "output_type": "execute_result"
    }
   ],
   "source": [
    "küme1"
   ]
  },
  {
   "cell_type": "markdown",
   "id": "85a9fd2e",
   "metadata": {},
   "source": [
    "### İki kümenin farkı ve güncelleme : difference_update() metodu\n",
    "Bu metod birinci kümenin ikinci kümeden farkını dönerek birinci kümeyi bu farka göre günceller.\n",
    "\n",
    "\tküme1.difference_update(küme2) # Küme1'in Küme2'den farkı"
   ]
  },
  {
   "cell_type": "code",
   "execution_count": 14,
   "id": "bb4553af",
   "metadata": {},
   "outputs": [
    {
     "data": {
      "text/plain": [
       "{-2, 1, 2, 3, 10, 34, 100}"
      ]
     },
     "execution_count": 14,
     "metadata": {},
     "output_type": "execute_result"
    }
   ],
   "source": [
    "küme1"
   ]
  },
  {
   "cell_type": "code",
   "execution_count": 15,
   "id": "f9c81bec",
   "metadata": {},
   "outputs": [
    {
     "data": {
      "text/plain": [
       "{-1, 1, 2, 23, 34}"
      ]
     },
     "execution_count": 15,
     "metadata": {},
     "output_type": "execute_result"
    }
   ],
   "source": [
    "küme2"
   ]
  },
  {
   "cell_type": "code",
   "execution_count": 16,
   "id": "f736bc04",
   "metadata": {},
   "outputs": [
    {
     "data": {
      "text/plain": [
       "{-2, 3, 10, 100}"
      ]
     },
     "execution_count": 16,
     "metadata": {},
     "output_type": "execute_result"
    }
   ],
   "source": [
    "küme1.difference_update(küme2)\n",
    "\n",
    "küme1 # Farka göre güncellendi."
   ]
  },
  {
   "cell_type": "markdown",
   "id": "7f00d25c",
   "metadata": {},
   "source": [
    "### Kümeden Eleman Çıkartmak : discard() metodu\n",
    "İçine verilen değeri kümeden çıkartır. Eğer kümede öyle bir değer yoksa, bu metod hiçbir şey yapmaz(Hata vermez)."
   ]
  },
  {
   "cell_type": "code",
   "execution_count": 17,
   "id": "4008c13d",
   "metadata": {},
   "outputs": [],
   "source": [
    "küme1 = {1,2,3,4,5,6}"
   ]
  },
  {
   "cell_type": "code",
   "execution_count": 18,
   "id": "16e3ec20",
   "metadata": {},
   "outputs": [],
   "source": [
    "küme1.discard(2)"
   ]
  },
  {
   "cell_type": "code",
   "execution_count": 19,
   "id": "c5dc2fef",
   "metadata": {},
   "outputs": [
    {
     "data": {
      "text/plain": [
       "{1, 3, 4, 5, 6}"
      ]
     },
     "execution_count": 19,
     "metadata": {},
     "output_type": "execute_result"
    }
   ],
   "source": [
    "küme1"
   ]
  },
  {
   "cell_type": "code",
   "execution_count": 20,
   "id": "8a439a92",
   "metadata": {},
   "outputs": [],
   "source": [
    "küme1.discard(10)"
   ]
  },
  {
   "cell_type": "code",
   "execution_count": 21,
   "id": "67d4d7c7",
   "metadata": {},
   "outputs": [
    {
     "data": {
      "text/plain": [
       "{1, 3, 4, 5, 6}"
      ]
     },
     "execution_count": 21,
     "metadata": {},
     "output_type": "execute_result"
    }
   ],
   "source": [
    "küme1"
   ]
  },
  {
   "cell_type": "markdown",
   "id": "56340fe3",
   "metadata": {},
   "source": [
    "### Küme kesişimleri : intersection() metodu\n",
    "Bu metod iki kümenin kesişimleri bulmamızı sağlar."
   ]
  },
  {
   "cell_type": "code",
   "execution_count": 22,
   "id": "72c9d8f5",
   "metadata": {},
   "outputs": [
    {
     "data": {
      "text/plain": [
       "{1, 2, 34}"
      ]
     },
     "execution_count": 22,
     "metadata": {},
     "output_type": "execute_result"
    }
   ],
   "source": [
    "küme1 = {1,2,3,10,34,100,-2}\n",
    "küme2 = {1,2,23,34,-1}\n",
    "\n",
    "küme1.intersection(küme2)"
   ]
  },
  {
   "cell_type": "markdown",
   "id": "a80eb3b0",
   "metadata": {},
   "source": [
    "### Küme kesişimleri ve güncelleme : intersection_update() metodu\n",
    "Bu metod birinci kümeyle ikinci kümenin kesişimlerini bulur ve birinci kümeyi bu kesişime göre günceller."
   ]
  },
  {
   "cell_type": "code",
   "execution_count": 23,
   "id": "0357bab0",
   "metadata": {},
   "outputs": [
    {
     "data": {
      "text/plain": [
       "{1, 2, 34}"
      ]
     },
     "execution_count": 23,
     "metadata": {},
     "output_type": "execute_result"
    }
   ],
   "source": [
    "küme1 = {1,2,3,10,34,100,-2}\n",
    "küme2 = {1,2,23,34,-1}\n",
    "\n",
    "küme1.intersection_update(küme2)\n",
    "\n",
    "küme1"
   ]
  },
  {
   "cell_type": "markdown",
   "id": "33e17689",
   "metadata": {},
   "source": [
    "### Kümeler ayrık küme mi ? : isdisjoint() metodu\n",
    "Bu metod, eğer iki kümenin kesişim kümesi boş ise True, değilse False döner."
   ]
  },
  {
   "cell_type": "code",
   "execution_count": 24,
   "id": "221ed675",
   "metadata": {},
   "outputs": [],
   "source": [
    "küme1 = {1,2,3,10,34,100,-2}\n",
    "küme2 = {1,2,23,34,-1}\n",
    "küme3 = {30,40,50}"
   ]
  },
  {
   "cell_type": "code",
   "execution_count": 25,
   "id": "07791016",
   "metadata": {},
   "outputs": [
    {
     "data": {
      "text/plain": [
       "False"
      ]
     },
     "execution_count": 25,
     "metadata": {},
     "output_type": "execute_result"
    }
   ],
   "source": [
    "küme1.isdisjoint(küme2)"
   ]
  },
  {
   "cell_type": "code",
   "execution_count": 26,
   "id": "7f2a301c",
   "metadata": {},
   "outputs": [
    {
     "data": {
      "text/plain": [
       "True"
      ]
     },
     "execution_count": 26,
     "metadata": {},
     "output_type": "execute_result"
    }
   ],
   "source": [
    "küme1.isdisjoint(küme3)"
   ]
  },
  {
   "cell_type": "markdown",
   "id": "5cf8e124",
   "metadata": {},
   "source": [
    "### Alt kümesi mi ? : issubset() metodu\n",
    "Bu metod , birinci küme ikinci kümenin alt kümesiyse True, değilse False döner."
   ]
  },
  {
   "cell_type": "code",
   "execution_count": 27,
   "id": "ab552c5a",
   "metadata": {},
   "outputs": [],
   "source": [
    "küme1 = {1,2,3}\n",
    "küme2 = {1,2,3,4}\n",
    "küme3 = {5,6,7}"
   ]
  },
  {
   "cell_type": "code",
   "execution_count": 28,
   "id": "f84bb83b",
   "metadata": {},
   "outputs": [
    {
     "data": {
      "text/plain": [
       "True"
      ]
     },
     "execution_count": 28,
     "metadata": {},
     "output_type": "execute_result"
    }
   ],
   "source": [
    "küme1.issubset(küme2)"
   ]
  },
  {
   "cell_type": "code",
   "execution_count": 29,
   "id": "bab858a7",
   "metadata": {},
   "outputs": [
    {
     "data": {
      "text/plain": [
       "False"
      ]
     },
     "execution_count": 29,
     "metadata": {},
     "output_type": "execute_result"
    }
   ],
   "source": [
    "küme1.issubset(küme3)"
   ]
  },
  {
   "cell_type": "markdown",
   "id": "306cbcd8",
   "metadata": {},
   "source": [
    "### Birleşim Kümesi : union() metodu\n",
    "Bu metod, iki kümenin birleşim kümesini döner."
   ]
  },
  {
   "cell_type": "code",
   "execution_count": 30,
   "id": "b036ac68",
   "metadata": {},
   "outputs": [],
   "source": [
    "küme1 = {1,2,3,10,34,100,-2}\n",
    "küme2 = {1,2,23,34,-1}"
   ]
  },
  {
   "cell_type": "code",
   "execution_count": 31,
   "id": "8965e302",
   "metadata": {},
   "outputs": [
    {
     "data": {
      "text/plain": [
       "{-2, -1, 1, 2, 3, 10, 23, 34, 100}"
      ]
     },
     "execution_count": 31,
     "metadata": {},
     "output_type": "execute_result"
    }
   ],
   "source": [
    "küme1.union(küme2)"
   ]
  },
  {
   "cell_type": "markdown",
   "id": "23fe6620",
   "metadata": {},
   "source": [
    "### Birleşim Kümesi ve update : update() metodu\n",
    "Bu birinci kümeyle ikinci kümenin birleşim kümesini döner ve birinci kümeyi buna göre günceller."
   ]
  },
  {
   "cell_type": "code",
   "execution_count": 32,
   "id": "a14041a1",
   "metadata": {},
   "outputs": [],
   "source": [
    "küme1 = {1,2,3,10,34,100,-2}\n",
    "küme2 = {1,2,23,34,-1}\n",
    "\n",
    "küme1.update(küme2)"
   ]
  },
  {
   "cell_type": "code",
   "execution_count": 33,
   "id": "f48d09aa",
   "metadata": {},
   "outputs": [
    {
     "data": {
      "text/plain": [
       "{-2, -1, 1, 2, 3, 10, 23, 34, 100}"
      ]
     },
     "execution_count": 33,
     "metadata": {},
     "output_type": "execute_result"
    }
   ],
   "source": [
    "küme1"
   ]
  }
 ],
 "metadata": {
  "kernelspec": {
   "display_name": "Python 3 (ipykernel)",
   "language": "python",
   "name": "python3"
  },
  "language_info": {
   "codemirror_mode": {
    "name": "ipython",
    "version": 3
   },
   "file_extension": ".py",
   "mimetype": "text/x-python",
   "name": "python",
   "nbconvert_exporter": "python",
   "pygments_lexer": "ipython3",
   "version": "3.10.9"
  }
 },
 "nbformat": 4,
 "nbformat_minor": 5
}
