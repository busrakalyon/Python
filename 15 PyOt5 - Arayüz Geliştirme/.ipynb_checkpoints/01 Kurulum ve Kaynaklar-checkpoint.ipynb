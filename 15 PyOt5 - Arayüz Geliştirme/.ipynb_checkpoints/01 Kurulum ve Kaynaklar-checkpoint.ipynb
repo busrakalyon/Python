{
 "cells": [
  {
   "cell_type": "markdown",
   "id": "8eca3cfa",
   "metadata": {},
   "source": [
    "# PyQt5 Kurulumu\n",
    "\n",
    "#### Windows İşletim Sistemi İçin Kurulum\n",
    "*1.İlk olarak şu linke gidiyoruz. https://sourceforge.net/projects/pyqt/files/PyQt5/PyQt-5.6/*\n",
    "\n",
    "*2.Buradan 32 bit .exe dosyasını indiriyoruz.*\n",
    "\n",
    "*3.İndirdiğimiz dosyayı çalıştırdığımızda bilgisayarımız bunu PyQt5 olarak C:\\Python35\\Lib\\site-packages altına yükleyecek.*\n",
    "\n",
    "*4.Artık PyQt5 ile arayüz geliştirebiliriz.*"
   ]
  },
  {
   "cell_type": "markdown",
   "id": "d9093f2b",
   "metadata": {},
   "source": [
    "### PyQt5 ile ilgili yararlı kaynaklar;\n",
    "\n",
    "PyQt5 Dokümantasyon : http://pyqt.sourceforge.net/Docs/PyQt5/class_reference.html\n",
    "\n",
    "ZetCode Tutorial : http://zetcode.com/gui/pyqt5/\n",
    "\n",
    "Tutorials Point : https://www.tutorialspoint.com/pyqt/pyqt_tutorial.pdf"
   ]
  }
 ],
 "metadata": {
  "kernelspec": {
   "display_name": "Python 3 (ipykernel)",
   "language": "python",
   "name": "python3"
  },
  "language_info": {
   "codemirror_mode": {
    "name": "ipython",
    "version": 3
   },
   "file_extension": ".py",
   "mimetype": "text/x-python",
   "name": "python",
   "nbconvert_exporter": "python",
   "pygments_lexer": "ipython3",
   "version": "3.10.9"
  }
 },
 "nbformat": 4,
 "nbformat_minor": 5
}
