{
 "cells": [
  {
   "cell_type": "markdown",
   "id": "bfcf313a",
   "metadata": {},
   "source": [
    "# range() Fonksiyonu\n",
    "Bu hazır fonksiyon bizim verdiğimiz değerlere göre range isimli bir yapı oluşturur ve bu yapı listelere oldukça benzer. Bu yapı başlangıç, bitiş ve opsiyonel olarak artırma değeri alarak listelere benzeyen bir sayı dizisi oluşturur. "
   ]
  },
  {
   "cell_type": "code",
   "execution_count": 1,
   "id": "2dce7087",
   "metadata": {},
   "outputs": [
    {
     "name": "stdout",
     "output_type": "stream",
     "text": [
      "0 1 2 3 4 5 6 7 8 9 10 11 12 13 14 15 16 17 18 19\n"
     ]
    }
   ],
   "source": [
    "range(0,20) # 0'dan 20' a kadar (dahil değil) sayı dizisi oluşturur. \n",
    "\n",
    "print(*range(0,20)) # Yazdırmak için başına \"*\" koymamız gerekiyor."
   ]
  },
  {
   "cell_type": "code",
   "execution_count": 2,
   "id": "a4a4b313",
   "metadata": {},
   "outputs": [
    {
     "name": "stdout",
     "output_type": "stream",
     "text": [
      "[0, 1, 2, 3, 4, 5, 6, 7, 8, 9, 10, 11, 12, 13, 14, 15, 16, 17, 18, 19]\n"
     ]
    }
   ],
   "source": [
    "liste = list(range(0,20)) # list fonksiyonuyla listeye dönüştürebilir.\n",
    "print(liste)"
   ]
  },
  {
   "cell_type": "code",
   "execution_count": 5,
   "id": "25eb4ba1",
   "metadata": {},
   "outputs": [
    {
     "name": "stdout",
     "output_type": "stream",
     "text": [
      "5 6 7 8 9\n",
      "---------------------------------\n",
      "0 1 2 3 4 5 6 7 8 9 10 11 12 13 14\n",
      "---------------------------------\n",
      "5 7 9 11 13 15 17 19\n",
      "---------------------------------\n",
      "\n",
      "---------------------------------\n",
      "20 19 18 17 16 15 14 13 12 11 10 9 8 7 6 5 4 3 2 1\n"
     ]
    }
   ],
   "source": [
    "print(*range(5,10))\n",
    "\n",
    "print(\"---------------------------------\")\n",
    "\n",
    "print(*range(15)) # Başlangıç değeri vermediğimiz 0'dan başlar \n",
    "\n",
    "print(\"---------------------------------\")\n",
    "\n",
    "print(*range(5,20,2)) # 5'ten 20'ye kadar olan sayıları 2 atlayarak oluşturur.\n",
    "\n",
    "print(\"---------------------------------\")\n",
    "\n",
    "print(*range(20,0)) # 20'den geri gelen sayıları oluşturmaz.\n",
    "\n",
    "print(\"---------------------------------\")\n",
    "\n",
    "print(*range(20,0,-1)) # 20'den geri gelen sayıları oluşturur."
   ]
  },
  {
   "cell_type": "code",
   "execution_count": 4,
   "id": "f0f85919",
   "metadata": {},
   "outputs": [
    {
     "name": "stdout",
     "output_type": "stream",
     "text": [
      "0\n",
      "1\n",
      "2\n",
      "3\n",
      "4\n",
      "5\n",
      "6\n",
      "7\n",
      "8\n",
      "9\n"
     ]
    }
   ],
   "source": [
    "for sayı in range(0,10):\n",
    "    print(sayı)"
   ]
  },
  {
   "cell_type": "code",
   "execution_count": 6,
   "id": "c99495fe",
   "metadata": {},
   "outputs": [
    {
     "name": "stdout",
     "output_type": "stream",
     "text": [
      "* \n",
      "* * \n",
      "* * * \n",
      "* * * * \n",
      "* * * * * \n",
      "* * * * * * \n",
      "* * * * * * * \n",
      "* * * * * * * * \n",
      "* * * * * * * * * \n",
      "* * * * * * * * * * \n",
      "* * * * * * * * * * * \n",
      "* * * * * * * * * * * * \n",
      "* * * * * * * * * * * * * \n",
      "* * * * * * * * * * * * * * \n",
      "* * * * * * * * * * * * * * * \n",
      "* * * * * * * * * * * * * * * * \n",
      "* * * * * * * * * * * * * * * * * \n",
      "* * * * * * * * * * * * * * * * * * \n",
      "* * * * * * * * * * * * * * * * * * * \n"
     ]
    }
   ],
   "source": [
    "for sayı in range(1,20):\n",
    "    print(\"* \" * sayı)"
   ]
  }
 ],
 "metadata": {
  "kernelspec": {
   "display_name": "Python 3 (ipykernel)",
   "language": "python",
   "name": "python3"
  },
  "language_info": {
   "codemirror_mode": {
    "name": "ipython",
    "version": 3
   },
   "file_extension": ".py",
   "mimetype": "text/x-python",
   "name": "python",
   "nbconvert_exporter": "python",
   "pygments_lexer": "ipython3",
   "version": "3.10.9"
  }
 },
 "nbformat": 4,
 "nbformat_minor": 5
}
