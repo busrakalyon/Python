{
 "cells": [
  {
   "cell_type": "code",
   "execution_count": 33,
   "id": "f9c13981",
   "metadata": {},
   "outputs": [
    {
     "name": "stdout",
     "output_type": "stream",
     "text": [
      "<class 'dict'>\n"
     ]
    }
   ],
   "source": [
    "sözlük1 ={\"bir\":1, \"iki\":2, \"üç\":3, \"dört\":4}\n",
    "print(type(sözlük1))"
   ]
  },
  {
   "cell_type": "code",
   "execution_count": 2,
   "id": "211ba0f3",
   "metadata": {},
   "outputs": [
    {
     "data": {
      "text/plain": [
       "{}"
      ]
     },
     "execution_count": 2,
     "metadata": {},
     "output_type": "execute_result"
    }
   ],
   "source": [
    "#Boş sözlük oluşturma\n",
    "sözlük2 = {}\n",
    "sözlük3 = dict()"
   ]
  },
  {
   "cell_type": "code",
   "execution_count": 3,
   "id": "bda2ca5a",
   "metadata": {},
   "outputs": [
    {
     "data": {
      "text/plain": [
       "{'bir': 1, 'iki': 2, 'üç': 3, 'dört': 4}"
      ]
     },
     "execution_count": 3,
     "metadata": {},
     "output_type": "execute_result"
    }
   ],
   "source": [
    "sözlük1"
   ]
  },
  {
   "cell_type": "code",
   "execution_count": 4,
   "id": "9e636800",
   "metadata": {},
   "outputs": [
    {
     "data": {
      "text/plain": [
       "1"
      ]
     },
     "execution_count": 4,
     "metadata": {},
     "output_type": "execute_result"
    }
   ],
   "source": [
    "sözlük1[\"bir\"]"
   ]
  },
  {
   "cell_type": "code",
   "execution_count": 7,
   "id": "c62f805d",
   "metadata": {},
   "outputs": [
    {
     "data": {
      "text/plain": [
       "4"
      ]
     },
     "execution_count": 7,
     "metadata": {},
     "output_type": "execute_result"
    }
   ],
   "source": [
    "sözlük1[\"dört\"]"
   ]
  },
  {
   "cell_type": "code",
   "execution_count": 8,
   "id": "25d6e244",
   "metadata": {},
   "outputs": [
    {
     "data": {
      "text/plain": [
       "{'bir': 1, 'iki': 2, 'üç': 3, 'dört': 4, 'beş': 5}"
      ]
     },
     "execution_count": 8,
     "metadata": {},
     "output_type": "execute_result"
    }
   ],
   "source": [
    "#sözlüğe ekleme yapmak\n",
    "sözlük1[\"beş\"]=5\n",
    "sözlük1"
   ]
  },
  {
   "cell_type": "code",
   "execution_count": 21,
   "id": "8c49d2f8",
   "metadata": {},
   "outputs": [],
   "source": [
    "sozluk = {\"a\":[1,2,3], \"b\":[[12,23],3,5,[4]], \"c\":\"adf\"}"
   ]
  },
  {
   "cell_type": "code",
   "execution_count": 22,
   "id": "9205cfe1",
   "metadata": {},
   "outputs": [
    {
     "data": {
      "text/plain": [
       "'adf'"
      ]
     },
     "execution_count": 22,
     "metadata": {},
     "output_type": "execute_result"
    }
   ],
   "source": [
    "sozluk[\"c\"]"
   ]
  },
  {
   "cell_type": "code",
   "execution_count": 18,
   "id": "bed07f28",
   "metadata": {},
   "outputs": [
    {
     "data": {
      "text/plain": [
       "[[12, 23], 3, 5, [4]]"
      ]
     },
     "execution_count": 18,
     "metadata": {},
     "output_type": "execute_result"
    }
   ],
   "source": [
    "sozluk[\"b\"]"
   ]
  },
  {
   "cell_type": "code",
   "execution_count": 23,
   "id": "dde03cff",
   "metadata": {},
   "outputs": [],
   "source": [
    "sozluk[\"c\"]=\"PYTHON\""
   ]
  },
  {
   "cell_type": "code",
   "execution_count": 24,
   "id": "4714a22e",
   "metadata": {},
   "outputs": [
    {
     "data": {
      "text/plain": [
       "{'a': [1, 2, 3], 'b': [[12, 23], 3, 5, [4]], 'c': 'PYTHON'}"
      ]
     },
     "execution_count": 24,
     "metadata": {},
     "output_type": "execute_result"
    }
   ],
   "source": [
    "sozluk"
   ]
  },
  {
   "cell_type": "code",
   "execution_count": 34,
   "id": "67cd087b",
   "metadata": {},
   "outputs": [
    {
     "data": {
      "text/plain": [
       "{'bir': 1, 'iki': 5, 'üç': 3, 'dört': 4}"
      ]
     },
     "execution_count": 34,
     "metadata": {},
     "output_type": "execute_result"
    }
   ],
   "source": [
    "sözlük1[\"iki\"]+=3\n",
    "sözlük1"
   ]
  },
  {
   "cell_type": "code",
   "execution_count": 36,
   "id": "3dd0c136",
   "metadata": {},
   "outputs": [],
   "source": [
    "sözlük = {\"Ahmet Özkoparan\": [\"İstanbul\", \"Öğretmen\", 34],\n",
    "          \"Mehmet Yağız\"   : [\"Adana\", \"Mühendis\", 40],\n",
    "          \"Seda Bayrak\"    : [\"İskenderun\", \"Doktor\", 30]}"
   ]
  },
  {
   "cell_type": "code",
   "execution_count": 37,
   "id": "18c54295",
   "metadata": {},
   "outputs": [
    {
     "data": {
      "text/plain": [
       "{'Ahmet Özkoparan': ['İstanbul', 'Öğretmen', 34],\n",
       " 'Mehmet Yağız': ['Adana', 'Mühendis', 40],\n",
       " 'Seda Bayrak': ['İskenderun', 'Doktor', 30]}"
      ]
     },
     "execution_count": 37,
     "metadata": {},
     "output_type": "execute_result"
    }
   ],
   "source": [
    "sözlük"
   ]
  },
  {
   "cell_type": "code",
   "execution_count": 38,
   "id": "3a553a69",
   "metadata": {},
   "outputs": [
    {
     "data": {
      "text/plain": [
       "['İstanbul', 'Öğretmen', 34]"
      ]
     },
     "execution_count": 38,
     "metadata": {},
     "output_type": "execute_result"
    }
   ],
   "source": [
    "sözlük['Ahmet Özkoparan']"
   ]
  },
  {
   "cell_type": "markdown",
   "id": "66d4aed2",
   "metadata": {},
   "source": [
    "# SÖZLÜK METODLARI"
   ]
  },
  {
   "cell_type": "code",
   "execution_count": 40,
   "id": "48a5e202",
   "metadata": {},
   "outputs": [
    {
     "data": {
      "text/plain": [
       "dict_values([['İstanbul', 'Öğretmen', 34], ['Adana', 'Mühendis', 40], ['İskenderun', 'Doktor', 30]])"
      ]
     },
     "execution_count": 40,
     "metadata": {},
     "output_type": "execute_result"
    }
   ],
   "source": [
    "# values() metodu sözlüğün değerlerini bir liste olarak döndürür\n",
    "sözlük.values()"
   ]
  },
  {
   "cell_type": "code",
   "execution_count": 41,
   "id": "f90904c2",
   "metadata": {},
   "outputs": [
    {
     "data": {
      "text/plain": [
       "dict_keys(['Ahmet Özkoparan', 'Mehmet Yağız', 'Seda Bayrak'])"
      ]
     },
     "execution_count": 41,
     "metadata": {},
     "output_type": "execute_result"
    }
   ],
   "source": [
    "# keys() metodu sözlüğün anahtarlarını(key) bir liste olarak döndürür\n",
    "sözlük.keys()"
   ]
  },
  {
   "cell_type": "code",
   "execution_count": 43,
   "id": "b99692ca",
   "metadata": {},
   "outputs": [
    {
     "data": {
      "text/plain": [
       "dict_items([('bir', 1), ('iki', 5), ('üç', 3), ('dört', 4)])"
      ]
     },
     "execution_count": 43,
     "metadata": {},
     "output_type": "execute_result"
    }
   ],
   "source": [
    "# items() metodu sözlüğün anahtar ve değerlerini bir liste içinde tuple olarak döner\n",
    "sözlük1.items()"
   ]
  }
 ],
 "metadata": {
  "kernelspec": {
   "display_name": "Python 3 (ipykernel)",
   "language": "python",
   "name": "python3"
  },
  "language_info": {
   "codemirror_mode": {
    "name": "ipython",
    "version": 3
   },
   "file_extension": ".py",
   "mimetype": "text/x-python",
   "name": "python",
   "nbconvert_exporter": "python",
   "pygments_lexer": "ipython3",
   "version": "3.10.9"
  }
 },
 "nbformat": 4,
 "nbformat_minor": 5
}
