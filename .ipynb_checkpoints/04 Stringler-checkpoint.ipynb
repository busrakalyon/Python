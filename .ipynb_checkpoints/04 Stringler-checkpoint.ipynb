{
 "cells": [
  {
   "cell_type": "markdown",
   "id": "593a7a61",
   "metadata": {},
   "source": [
    "String oluşturma türleri"
   ]
  },
  {
   "cell_type": "code",
   "execution_count": 1,
   "id": "604b31d6",
   "metadata": {},
   "outputs": [
    {
     "data": {
      "text/plain": [
       "'Büşra Kalyon'"
      ]
     },
     "execution_count": 1,
     "metadata": {},
     "output_type": "execute_result"
    }
   ],
   "source": [
    "#tek tırnak ile\n",
    "'Büşra Kalyon'"
   ]
  },
  {
   "cell_type": "code",
   "execution_count": 2,
   "id": "47f46639",
   "metadata": {},
   "outputs": [
    {
     "data": {
      "text/plain": [
       "'Büşra Kalyon'"
      ]
     },
     "execution_count": 2,
     "metadata": {},
     "output_type": "execute_result"
    }
   ],
   "source": [
    "#çift tırnak ile\n",
    "\"Büşra Kalyon\""
   ]
  },
  {
   "cell_type": "code",
   "execution_count": 3,
   "id": "f257d3bf",
   "metadata": {},
   "outputs": [
    {
     "data": {
      "text/plain": [
       "'Büşra Kalyon'"
      ]
     },
     "execution_count": 3,
     "metadata": {},
     "output_type": "execute_result"
    }
   ],
   "source": [
    "#üç tırnak ile\n",
    "\"\"\"Büşra Kalyon\"\"\""
   ]
  },
  {
   "cell_type": "code",
   "execution_count": 4,
   "id": "6888f64f",
   "metadata": {},
   "outputs": [
    {
     "data": {
      "text/plain": [
       "'merhaba'"
      ]
     },
     "execution_count": 4,
     "metadata": {},
     "output_type": "execute_result"
    }
   ],
   "source": [
    "a = \"merhaba\"\n",
    "a"
   ]
  },
  {
   "cell_type": "code",
   "execution_count": 5,
   "id": "9ce4b290",
   "metadata": {},
   "outputs": [
    {
     "data": {
      "text/plain": [
       "'m'"
      ]
     },
     "execution_count": 5,
     "metadata": {},
     "output_type": "execute_result"
    }
   ],
   "source": [
    "a[0]"
   ]
  },
  {
   "cell_type": "code",
   "execution_count": 6,
   "id": "a0293491",
   "metadata": {},
   "outputs": [
    {
     "data": {
      "text/plain": [
       "'a'"
      ]
     },
     "execution_count": 6,
     "metadata": {},
     "output_type": "execute_result"
    }
   ],
   "source": [
    "a[6]"
   ]
  },
  {
   "cell_type": "code",
   "execution_count": 8,
   "id": "3d1a84b7",
   "metadata": {},
   "outputs": [],
   "source": [
    "b = \"Kalyon\""
   ]
  },
  {
   "cell_type": "code",
   "execution_count": 9,
   "id": "a331ee39",
   "metadata": {},
   "outputs": [
    {
     "data": {
      "text/plain": [
       "'y'"
      ]
     },
     "execution_count": 9,
     "metadata": {},
     "output_type": "execute_result"
    }
   ],
   "source": [
    "b[-3]"
   ]
  },
  {
   "cell_type": "code",
   "execution_count": 10,
   "id": "a619f517",
   "metadata": {},
   "outputs": [
    {
     "data": {
      "text/plain": [
       "'a'"
      ]
     },
     "execution_count": 10,
     "metadata": {},
     "output_type": "execute_result"
    }
   ],
   "source": [
    "b[-5]"
   ]
  },
  {
   "cell_type": "markdown",
   "id": "72247f3d",
   "metadata": {},
   "source": [
    "String parçalama için indeksleri : ve [] işaretlerini kullanacağız. Formülümüz:\n",
    "\n",
    "[başlama indeksi : bitiş indeksi : atlama değeri]\n"
   ]
  },
  {
   "cell_type": "code",
   "execution_count": 44,
   "id": "af469f03",
   "metadata": {},
   "outputs": [],
   "source": [
    "a = \"Büşra Kalyon\""
   ]
  },
  {
   "cell_type": "code",
   "execution_count": 13,
   "id": "50ad347f",
   "metadata": {},
   "outputs": [
    {
     "data": {
      "text/plain": [
       "'Kalyon'"
      ]
     },
     "execution_count": 13,
     "metadata": {},
     "output_type": "execute_result"
    }
   ],
   "source": [
    "#6. indeksten başla 12. indekse kadar al\n",
    "a[6:12]"
   ]
  },
  {
   "cell_type": "code",
   "execution_count": 15,
   "id": "80433732",
   "metadata": {},
   "outputs": [
    {
     "data": {
      "text/plain": [
       "'Büşra'"
      ]
     },
     "execution_count": 15,
     "metadata": {},
     "output_type": "execute_result"
    }
   ],
   "source": [
    "#başlangıç değeri belirtilmemişse baştan başlayarak alır.\n",
    "a[:5]"
   ]
  },
  {
   "cell_type": "code",
   "execution_count": 19,
   "id": "787ab7fd",
   "metadata": {},
   "outputs": [
    {
     "data": {
      "text/plain": [
       "' Kalyon'"
      ]
     },
     "execution_count": 19,
     "metadata": {},
     "output_type": "execute_result"
    }
   ],
   "source": [
    "#Bitiş değeri belirtilmemişse en sonuna kadar alır.\n",
    "a[5:]"
   ]
  },
  {
   "cell_type": "code",
   "execution_count": 20,
   "id": "c618fb7b",
   "metadata": {},
   "outputs": [
    {
     "data": {
      "text/plain": [
       "'Büşra Kalyon'"
      ]
     },
     "execution_count": 20,
     "metadata": {},
     "output_type": "execute_result"
    }
   ],
   "source": [
    "#iki değer de belirtilmemişse tüm stringi alır\n",
    "a[:]"
   ]
  },
  {
   "cell_type": "code",
   "execution_count": 21,
   "id": "4b7c9c96",
   "metadata": {},
   "outputs": [
    {
     "data": {
      "text/plain": [
       "'Büşra Kalyo'"
      ]
     },
     "execution_count": 21,
     "metadata": {},
     "output_type": "execute_result"
    }
   ],
   "source": [
    "#Son karaktere kadar al\n",
    "a[:-1]"
   ]
  },
  {
   "cell_type": "code",
   "execution_count": 22,
   "id": "adea2845",
   "metadata": {},
   "outputs": [
    {
     "data": {
      "text/plain": [
       "'BşaKlo'"
      ]
     },
     "execution_count": 22,
     "metadata": {},
     "output_type": "execute_result"
    }
   ],
   "source": [
    "#Baştan sona iki karakter atlayarak string al\n",
    "a[::2]"
   ]
  },
  {
   "cell_type": "code",
   "execution_count": 23,
   "id": "f1e7b7ab",
   "metadata": {},
   "outputs": [
    {
     "data": {
      "text/plain": [
       "'noylaK arşüB'"
      ]
     },
     "execution_count": 23,
     "metadata": {},
     "output_type": "execute_result"
    }
   ],
   "source": [
    "#stringi tersine çevirme\n",
    "a[::-1]"
   ]
  },
  {
   "cell_type": "code",
   "execution_count": 36,
   "id": "1e100aa2",
   "metadata": {},
   "outputs": [
    {
     "data": {
      "text/plain": [
       "12"
      ]
     },
     "execution_count": 36,
     "metadata": {},
     "output_type": "execute_result"
    }
   ],
   "source": [
    "#stringin içindeki karakter uzunluğunu bulma\n",
    "len(a)"
   ]
  },
  {
   "cell_type": "markdown",
   "id": "36aef2d0",
   "metadata": {},
   "source": [
    "String karakteri değiştirilimez. Örn a[4]=\"b\" ataması hata verir."
   ]
  },
  {
   "cell_type": "code",
   "execution_count": 37,
   "id": "88ae3716",
   "metadata": {},
   "outputs": [
    {
     "data": {
      "text/plain": [
       "'Büşra Kalyon Murat Duysak'"
      ]
     },
     "execution_count": 37,
     "metadata": {},
     "output_type": "execute_result"
    }
   ],
   "source": [
    "#string toplaması yapılabilir.\n",
    "b = \" Murat Duysak\"\n",
    "a + b"
   ]
  },
  {
   "cell_type": "code",
   "execution_count": 38,
   "id": "2fb18452",
   "metadata": {},
   "outputs": [
    {
     "data": {
      "text/plain": [
       "' Murat Duysak Murat Duysak Murat Duysak'"
      ]
     },
     "execution_count": 38,
     "metadata": {},
     "output_type": "execute_result"
    }
   ],
   "source": [
    "#string çarpımı\n",
    "3*b"
   ]
  },
  {
   "cell_type": "code",
   "execution_count": 45,
   "id": "a5c16f53",
   "metadata": {},
   "outputs": [
    {
     "data": {
      "text/plain": [
       "'Büşra Kalyon Duysak'"
      ]
     },
     "execution_count": 45,
     "metadata": {},
     "output_type": "execute_result"
    }
   ],
   "source": [
    "a = a + \" Duysak\"\n",
    "a"
   ]
  }
 ],
 "metadata": {
  "kernelspec": {
   "display_name": "Python 3 (ipykernel)",
   "language": "python",
   "name": "python3"
  },
  "language_info": {
   "codemirror_mode": {
    "name": "ipython",
    "version": 3
   },
   "file_extension": ".py",
   "mimetype": "text/x-python",
   "name": "python",
   "nbconvert_exporter": "python",
   "pygments_lexer": "ipython3",
   "version": "3.10.9"
  }
 },
 "nbformat": 4,
 "nbformat_minor": 5
}
