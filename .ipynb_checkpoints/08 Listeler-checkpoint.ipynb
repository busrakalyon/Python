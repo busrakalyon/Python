{
 "cells": [
  {
   "cell_type": "markdown",
   "id": "e1e961c3",
   "metadata": {},
   "source": [
    "Listeler ile farklı veri tiplerini bir arada saklayabiliriz."
   ]
  },
  {
   "cell_type": "code",
   "execution_count": 1,
   "id": "2820379a",
   "metadata": {},
   "outputs": [
    {
     "name": "stdout",
     "output_type": "stream",
     "text": [
      "<class 'list'>\n"
     ]
    }
   ],
   "source": [
    "liste = [\"Büşra\", \"Kalyon\", 1998, 24]\n",
    "print(list)"
   ]
  },
  {
   "cell_type": "code",
   "execution_count": 2,
   "id": "af30bb10",
   "metadata": {},
   "outputs": [
    {
     "name": "stdout",
     "output_type": "stream",
     "text": [
      "['Murat', 'Duysak', 1998, 25]\n"
     ]
    }
   ],
   "source": [
    "list2 = [\"Murat\", \"Duysak\", 1998, 25]\n",
    "print(list2)"
   ]
  },
  {
   "cell_type": "code",
   "execution_count": 3,
   "id": "b0073637",
   "metadata": {},
   "outputs": [
    {
     "name": "stdout",
     "output_type": "stream",
     "text": [
      "<class 'list'>\n"
     ]
    }
   ],
   "source": [
    "print(type(liste))"
   ]
  },
  {
   "cell_type": "code",
   "execution_count": 4,
   "id": "2db82c5c",
   "metadata": {},
   "outputs": [
    {
     "data": {
      "text/plain": [
       "[]"
      ]
     },
     "execution_count": 4,
     "metadata": {},
     "output_type": "execute_result"
    }
   ],
   "source": [
    "#boş liste\n",
    "liste = []\n",
    "liste"
   ]
  },
  {
   "cell_type": "code",
   "execution_count": 7,
   "id": "174262b4",
   "metadata": {},
   "outputs": [
    {
     "data": {
      "text/plain": [
       "[]"
      ]
     },
     "execution_count": 7,
     "metadata": {},
     "output_type": "execute_result"
    }
   ],
   "source": [
    "#boş liste oluştuma 2\n",
    "lste = list()\n",
    "lste"
   ]
  },
  {
   "cell_type": "code",
   "execution_count": 5,
   "id": "5bfac61c",
   "metadata": {},
   "outputs": [
    {
     "data": {
      "text/plain": [
       "15"
      ]
     },
     "execution_count": 5,
     "metadata": {},
     "output_type": "execute_result"
    }
   ],
   "source": [
    "#len fonk-u ile liste boyutu bulma\n",
    "list1 = [1,2,3,4,5,6,7,3,2,4,3,1,2,4,2]\n",
    "len(list1)"
   ]
  },
  {
   "cell_type": "markdown",
   "id": "92f8bff2",
   "metadata": {},
   "source": [
    "💥💥💥**Bir string list() fonk-u ile listeye dönüştürülebilir.**"
   ]
  },
  {
   "cell_type": "code",
   "execution_count": 6,
   "id": "c3f0bed1",
   "metadata": {},
   "outputs": [
    {
     "name": "stdout",
     "output_type": "stream",
     "text": [
      "['B', 'ü', 'ş', 'r', 'a']\n"
     ]
    }
   ],
   "source": [
    "a = \"Büşra\"\n",
    "list2 = list(a)\n",
    "print(list2)"
   ]
  },
  {
   "cell_type": "code",
   "execution_count": 10,
   "id": "f391f55e",
   "metadata": {},
   "outputs": [
    {
     "name": "stdout",
     "output_type": "stream",
     "text": [
      "5\n",
      "5\n"
     ]
    }
   ],
   "source": [
    "print(len(a))\n",
    "print(len(list2))"
   ]
  },
  {
   "cell_type": "code",
   "execution_count": 11,
   "id": "a2895944",
   "metadata": {},
   "outputs": [
    {
     "name": "stdout",
     "output_type": "stream",
     "text": [
      "r\n"
     ]
    }
   ],
   "source": [
    "print(list2[3])"
   ]
  },
  {
   "cell_type": "code",
   "execution_count": 12,
   "id": "d08fd668",
   "metadata": {},
   "outputs": [
    {
     "name": "stdout",
     "output_type": "stream",
     "text": [
      "a\n"
     ]
    }
   ],
   "source": [
    "print(list2[-1])"
   ]
  },
  {
   "cell_type": "code",
   "execution_count": 19,
   "id": "decac21f",
   "metadata": {},
   "outputs": [
    {
     "name": "stdout",
     "output_type": "stream",
     "text": [
      "['a', 'r', 'ş', 'ü', 'B']\n"
     ]
    }
   ],
   "source": [
    "print(list2[::-1])"
   ]
  },
  {
   "cell_type": "code",
   "execution_count": 25,
   "id": "a233e9e9",
   "metadata": {},
   "outputs": [
    {
     "name": "stdout",
     "output_type": "stream",
     "text": [
      "['B', 'ü', 'ş', 'r']\n"
     ]
    }
   ],
   "source": [
    "print(list2[:4:])"
   ]
  },
  {
   "cell_type": "code",
   "execution_count": 29,
   "id": "640617dd",
   "metadata": {},
   "outputs": [
    {
     "name": "stdout",
     "output_type": "stream",
     "text": [
      "['B', 'ü', 'ş', 'r', 'a', 'B', 'ü', 'ş', 'r', 'a', 'B', 'ü', 'ş', 'r', 'a']\n"
     ]
    }
   ],
   "source": [
    "print(list2*3)"
   ]
  },
  {
   "cell_type": "code",
   "execution_count": 30,
   "id": "05fcd8ee",
   "metadata": {},
   "outputs": [
    {
     "name": "stdout",
     "output_type": "stream",
     "text": [
      "['B', 'ü', 'ş', 'r', 'a', 'B', 'ü', 'ş', 'r', 'a', 'B', 'ü', 'ş', 'r', 'a']\n"
     ]
    }
   ],
   "source": [
    "liste2 = list2*3\n",
    "print(liste2)"
   ]
  },
  {
   "cell_type": "markdown",
   "id": "5ebf8f3c",
   "metadata": {},
   "source": [
    "💥💥💥**string içeren listelerin karakterleri değiştirilemez**"
   ]
  },
  {
   "cell_type": "code",
   "execution_count": 31,
   "id": "4e4ced88",
   "metadata": {},
   "outputs": [
    {
     "ename": "NameError",
     "evalue": "name 'j' is not defined",
     "output_type": "error",
     "traceback": [
      "\u001b[1;31m---------------------------------------------------------------------------\u001b[0m",
      "\u001b[1;31mNameError\u001b[0m                                 Traceback (most recent call last)",
      "Cell \u001b[1;32mIn[31], line 2\u001b[0m\n\u001b[0;32m      1\u001b[0m \u001b[38;5;66;03m#hatalı kod\u001b[39;00m\n\u001b[1;32m----> 2\u001b[0m list2[\u001b[38;5;241m2\u001b[39m]\u001b[38;5;241m=\u001b[39m\u001b[43mj\u001b[49m\n\u001b[0;32m      3\u001b[0m \u001b[38;5;28mprint\u001b[39m(list2)\n",
      "\u001b[1;31mNameError\u001b[0m: name 'j' is not defined"
     ]
    }
   ],
   "source": [
    "#hatalı kod\n",
    "list2[2]=j\n",
    "print(list2)"
   ]
  },
  {
   "cell_type": "markdown",
   "id": "3018fbc4",
   "metadata": {},
   "source": [
    "💥💥💥**sayı içeren liste elemanları değiştirilebilir.**"
   ]
  },
  {
   "cell_type": "code",
   "execution_count": 33,
   "id": "347b06a0",
   "metadata": {},
   "outputs": [
    {
     "name": "stdout",
     "output_type": "stream",
     "text": [
      "[1, 2, 3, 4, 5, 6]\n",
      "[1, 2, 10, 4, 5, 6]\n"
     ]
    }
   ],
   "source": [
    "list3 = [1,2,3,4,5,6]\n",
    "print(list3)\n",
    "list3[2]=10\n",
    "print(list3)"
   ]
  },
  {
   "cell_type": "code",
   "execution_count": 35,
   "id": "e5be11ee",
   "metadata": {},
   "outputs": [
    {
     "name": "stdout",
     "output_type": "stream",
     "text": [
      "[1, 2, 10, 4, 5, 6]\n",
      "[1, 2, 10, 4]\n",
      "[10, 11, 12, 13, 5, 6]\n"
     ]
    }
   ],
   "source": [
    "#listenin seçilen elemanlarını değiştirme\n",
    "print(list3)\n",
    "print(list3[:4])\n",
    "list3[:4]=[10,11,12,13]\n",
    "print(list3)"
   ]
  },
  {
   "cell_type": "markdown",
   "id": "95009579",
   "metadata": {},
   "source": [
    "# METODLAR"
   ]
  },
  {
   "cell_type": "markdown",
   "id": "08c422c7",
   "metadata": {},
   "source": [
    "**Her hangi bir listenin metodlarına erişmek için listenin adını yazıp nokta koyduktan sonra tab'a basıyoruz**"
   ]
  },
  {
   "cell_type": "markdown",
   "id": "03230b07",
   "metadata": {},
   "source": [
    "## Append metodu\n",
    "**Verdiğimiz değeri listeye eklememizi sağlar**"
   ]
  },
  {
   "cell_type": "code",
   "execution_count": 41,
   "id": "9071039e",
   "metadata": {},
   "outputs": [
    {
     "data": {
      "text/plain": [
       "[10, 11, 12, 13, 5, 6, 'aa', 'aa', 'aa', 'aa']"
      ]
     },
     "execution_count": 41,
     "metadata": {},
     "output_type": "execute_result"
    }
   ],
   "source": [
    "list3.append(\"aa\")\n",
    "list3"
   ]
  },
  {
   "cell_type": "markdown",
   "id": "e1b270f6",
   "metadata": {},
   "source": [
    "## Pop metodu\n",
    "**Listeden bir elemanı atmayı sağlar**"
   ]
  },
  {
   "cell_type": "code",
   "execution_count": 48,
   "id": "5ce8d2a2",
   "metadata": {},
   "outputs": [
    {
     "data": {
      "text/plain": [
       "'aa'"
      ]
     },
     "execution_count": 48,
     "metadata": {},
     "output_type": "execute_result"
    }
   ],
   "source": [
    "#içine hiçbir değer vermezsek son elemanı atar, attığı elemanı yazdırır\n",
    "list3.pop(8)"
   ]
  },
  {
   "cell_type": "code",
   "execution_count": 49,
   "id": "3b9f344b",
   "metadata": {},
   "outputs": [
    {
     "name": "stdout",
     "output_type": "stream",
     "text": [
      "[10, 11, 12, 13, 5, 6, 'aa', 'aa']\n"
     ]
    }
   ],
   "source": [
    "print(list3)"
   ]
  },
  {
   "cell_type": "markdown",
   "id": "1fef66e8",
   "metadata": {},
   "source": [
    "## Sort metodu\n",
    "**Listenin elemanlarını sıralamamızı sağlar, sayılar büyüklük durumuna göre, stringler alfabetik sıraya göre**"
   ]
  },
  {
   "cell_type": "code",
   "execution_count": 53,
   "id": "493fb9f2",
   "metadata": {},
   "outputs": [
    {
     "data": {
      "text/plain": [
       "[3, 4, 4, 5, 6, 7, 9, 23, 23, 23, 34, 35, 44, 54, 54, 56, 67, 76, 78, 5445]"
      ]
     },
     "execution_count": 53,
     "metadata": {},
     "output_type": "execute_result"
    }
   ],
   "source": [
    "#küçükten büyüğe göre\n",
    "list4 = [78,54,23,56,76,54,23,3,4,6,7,67,9,44,4,35,5,5445,34,23]\n",
    "list4.sort()\n",
    "list4"
   ]
  },
  {
   "cell_type": "code",
   "execution_count": 55,
   "id": "b113c598",
   "metadata": {},
   "outputs": [
    {
     "data": {
      "text/plain": [
       "[5445, 78, 76, 67, 56, 54, 54, 44, 35, 34, 23, 23, 23, 9, 7, 6, 5, 4, 4, 3]"
      ]
     },
     "execution_count": 55,
     "metadata": {},
     "output_type": "execute_result"
    }
   ],
   "source": [
    "#büyükten küçüğe sıralama\n",
    "list4.sort(reverse = True)\n",
    "list4"
   ]
  },
  {
   "cell_type": "markdown",
   "id": "0afb4236",
   "metadata": {},
   "source": [
    "# İç içe Listeler\n",
    "**Bir listenin içinde başka bir liste bulundurmak mümkündür.**"
   ]
  },
  {
   "cell_type": "code",
   "execution_count": 67,
   "id": "16c11a1b",
   "metadata": {},
   "outputs": [
    {
     "name": "stdout",
     "output_type": "stream",
     "text": [
      "[[0, 1, 2, 3], [10, 20, 30, 40], [100, 200, 300, 400]]\n"
     ]
    }
   ],
   "source": [
    "l1 = [0,1,2,3]\n",
    "l2 = [10,20,30,40]\n",
    "l3 = [100, 200, 300, 400]\n",
    "\n",
    "new_list = [l1, l2, l3]\n",
    "\n",
    "print(new_list)"
   ]
  },
  {
   "cell_type": "code",
   "execution_count": 71,
   "id": "c11de439",
   "metadata": {},
   "outputs": [
    {
     "name": "stdout",
     "output_type": "stream",
     "text": [
      "400\n",
      "[100, 200, 300, 400]\n"
     ]
    }
   ],
   "source": [
    "#iç içe listelerde listenin öğesine ulaşmak\n",
    "print(new_list[2][3])\n",
    "print(new_list[2])"
   ]
  }
 ],
 "metadata": {
  "kernelspec": {
   "display_name": "Python 3 (ipykernel)",
   "language": "python",
   "name": "python3"
  },
  "language_info": {
   "codemirror_mode": {
    "name": "ipython",
    "version": 3
   },
   "file_extension": ".py",
   "mimetype": "text/x-python",
   "name": "python",
   "nbconvert_exporter": "python",
   "pygments_lexer": "ipython3",
   "version": "3.10.9"
  }
 },
 "nbformat": 4,
 "nbformat_minor": 5
}
