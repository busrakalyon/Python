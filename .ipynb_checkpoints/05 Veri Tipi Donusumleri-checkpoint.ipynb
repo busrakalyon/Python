{
 "cells": [
  {
   "cell_type": "markdown",
   "id": "d751da99",
   "metadata": {},
   "source": [
    "Kullanıcıdan aldığımız girdiler Python'da her zaman string olarak kabul edilir. eğer girdi ile bir matematiksel bir işlem yapacaksak veri dönüşümü kullanmamız gereklidir."
   ]
  },
  {
   "cell_type": "markdown",
   "id": "372c8dfb",
   "metadata": {},
   "source": [
    "Tam sayıyı ondalıklı sayıya dönüştürmek için float() fonksiyonu kullanılır."
   ]
  },
  {
   "cell_type": "code",
   "execution_count": 1,
   "id": "3262b6fe",
   "metadata": {},
   "outputs": [
    {
     "data": {
      "text/plain": [
       "32.0"
      ]
     },
     "execution_count": 1,
     "metadata": {},
     "output_type": "execute_result"
    }
   ],
   "source": [
    "a = 32\n",
    "a = float(a)\n",
    "a"
   ]
  },
  {
   "cell_type": "markdown",
   "id": "99125c91",
   "metadata": {},
   "source": [
    "Ondalıklı sayıyı tam sayıyı dönüştürmek için int() fonksiyonu kullanılır."
   ]
  },
  {
   "cell_type": "code",
   "execution_count": 3,
   "id": "344757e3",
   "metadata": {},
   "outputs": [
    {
     "data": {
      "text/plain": [
       "32"
      ]
     },
     "execution_count": 3,
     "metadata": {},
     "output_type": "execute_result"
    }
   ],
   "source": [
    "b = 32.45\n",
    "int(b)"
   ]
  },
  {
   "cell_type": "code",
   "execution_count": 5,
   "id": "307e8218",
   "metadata": {},
   "outputs": [
    {
     "data": {
      "text/plain": [
       "'123.53'"
      ]
     },
     "execution_count": 5,
     "metadata": {},
     "output_type": "execute_result"
    }
   ],
   "source": [
    "#bir sayıyı string'e dönüştürme\n",
    "str(123.53)"
   ]
  },
  {
   "cell_type": "code",
   "execution_count": 6,
   "id": "bb97a879",
   "metadata": {},
   "outputs": [
    {
     "data": {
      "text/plain": [
       "7"
      ]
     },
     "execution_count": 6,
     "metadata": {},
     "output_type": "execute_result"
    }
   ],
   "source": [
    "#Sayının basamağını öğrenme\n",
    "c = str(8765434)\n",
    "len(c)"
   ]
  },
  {
   "cell_type": "markdown",
   "id": "bc73a32f",
   "metadata": {},
   "source": [
    "Ondalıklı sayılarda noktayı da karakter olarak kabul eder ve 3.14 sayısının uzunluğunu 4 olarak yazdırır."
   ]
  }
 ],
 "metadata": {
  "kernelspec": {
   "display_name": "Python 3 (ipykernel)",
   "language": "python",
   "name": "python3"
  },
  "language_info": {
   "codemirror_mode": {
    "name": "ipython",
    "version": 3
   },
   "file_extension": ".py",
   "mimetype": "text/x-python",
   "name": "python",
   "nbconvert_exporter": "python",
   "pygments_lexer": "ipython3",
   "version": "3.10.9"
  }
 },
 "nbformat": 4,
 "nbformat_minor": 5
}
