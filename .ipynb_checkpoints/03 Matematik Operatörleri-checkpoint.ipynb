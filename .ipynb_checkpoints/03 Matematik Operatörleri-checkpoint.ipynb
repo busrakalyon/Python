{
 "cells": [
  {
   "cell_type": "markdown",
   "id": "fe2932f4",
   "metadata": {},
   "source": [
    "+ Toplama\n",
    "- Çıkarma\n",
    "* Çarpma\n",
    "/ Bölme "
   ]
  },
  {
   "cell_type": "markdown",
   "id": "69c037dc",
   "metadata": {},
   "source": [
    "Tam sayı bölmesi (//)\n",
    "/ bölmesinden farklı olarak sonuçta eğer bir ondalık kısım varsa o atılır sonucun sadece tam sayı kısmı yazdırılır."
   ]
  },
  {
   "cell_type": "code",
   "execution_count": 1,
   "id": "5404690b",
   "metadata": {},
   "outputs": [
    {
     "data": {
      "text/plain": [
       "8.6"
      ]
     },
     "execution_count": 1,
     "metadata": {},
     "output_type": "execute_result"
    }
   ],
   "source": [
    "43/5"
   ]
  },
  {
   "cell_type": "code",
   "execution_count": 2,
   "id": "8ed2700c",
   "metadata": {},
   "outputs": [
    {
     "data": {
      "text/plain": [
       "8"
      ]
     },
     "execution_count": 2,
     "metadata": {},
     "output_type": "execute_result"
    }
   ],
   "source": [
    "43//5"
   ]
  },
  {
   "cell_type": "markdown",
   "id": "fcb3a337",
   "metadata": {},
   "source": [
    "Mod operatörü ( % )"
   ]
  },
  {
   "cell_type": "markdown",
   "id": "525f794e",
   "metadata": {},
   "source": [
    "Üs alma (**)"
   ]
  },
  {
   "cell_type": "code",
   "execution_count": 3,
   "id": "775e7d50",
   "metadata": {},
   "outputs": [
    {
     "data": {
      "text/plain": [
       "256"
      ]
     },
     "execution_count": 3,
     "metadata": {},
     "output_type": "execute_result"
    }
   ],
   "source": [
    "4**4"
   ]
  },
  {
   "cell_type": "code",
   "execution_count": 4,
   "id": "099e1d4f",
   "metadata": {},
   "outputs": [
    {
     "data": {
      "text/plain": [
       "5.0"
      ]
     },
     "execution_count": 4,
     "metadata": {},
     "output_type": "execute_result"
    }
   ],
   "source": [
    "#karekök alma olarak kullanımı\n",
    "25**0.5"
   ]
  },
  {
   "cell_type": "code",
   "execution_count": 6,
   "id": "f166cb02",
   "metadata": {},
   "outputs": [
    {
     "data": {
      "text/plain": [
       "5.0"
      ]
     },
     "execution_count": 6,
     "metadata": {},
     "output_type": "execute_result"
    }
   ],
   "source": [
    "#küp kök alma\n",
    "125**(1/3)"
   ]
  },
  {
   "cell_type": "markdown",
   "id": "da0bffc1",
   "metadata": {},
   "source": [
    "İŞLEM SIRASI\n",
    "\n",
    "1. parantez içi her zaman önce yapılır.\n",
    "2. Çarpma ve bölme her zaman toplama ve çıkarmadan önce yapılır.\n",
    "3. İşlemler soldan sağa değerlendirilir."
   ]
  }
 ],
 "metadata": {
  "kernelspec": {
   "display_name": "Python 3 (ipykernel)",
   "language": "python",
   "name": "python3"
  },
  "language_info": {
   "codemirror_mode": {
    "name": "ipython",
    "version": 3
   },
   "file_extension": ".py",
   "mimetype": "text/x-python",
   "name": "python",
   "nbconvert_exporter": "python",
   "pygments_lexer": "ipython3",
   "version": "3.10.9"
  }
 },
 "nbformat": 4,
 "nbformat_minor": 5
}
