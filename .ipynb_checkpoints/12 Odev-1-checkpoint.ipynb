{
 "cells": [
  {
   "cell_type": "markdown",
   "id": "e2959b48",
   "metadata": {},
   "source": [
    "### Problem 1\n",
    "Kullanıcıdan aldığınız 3 tane sayıyı çarparak ekrana yazdırın. Ekrana yazdırma işlemini *format* metoduyla yapmaya çalışın."
   ]
  },
  {
   "cell_type": "code",
   "execution_count": 2,
   "id": "69c359e6",
   "metadata": {},
   "outputs": [
    {
     "name": "stdout",
     "output_type": "stream",
     "text": [
      "1. sayi:5\n",
      "2. sayi:5\n",
      "3. sayi:5\n",
      "Sonuç:  125\n"
     ]
    }
   ],
   "source": [
    "a = int(input(\"1. sayi:\"))\n",
    "b = int(input(\"2. sayi:\"))\n",
    "c = int(input(\"3. sayi:\"))\n",
    "\n",
    "x = a*b*c\n",
    "\n",
    "print(\"Sonuç: \", x)"
   ]
  },
  {
   "cell_type": "markdown",
   "id": "7f4497db",
   "metadata": {},
   "source": [
    "### Problem 2\n",
    "Kullanıcıdan aldığınız boy ve kilo değerlerine göre kullanıcının beden kitle indeksini bulun.\n",
    "\n",
    "Beden Kitle İndeksi : Kilo / Boy(m) Boy(m)"
   ]
  },
  {
   "cell_type": "code",
   "execution_count": 4,
   "id": "70d6c0c5",
   "metadata": {},
   "outputs": [
    {
     "name": "stdout",
     "output_type": "stream",
     "text": [
      "Boyunuzu giriniz: 1.63\n",
      "Kilonuzu giriniz: 55\n",
      "Vücut kitle endeksiniz:  54.99999999999999\n"
     ]
    }
   ],
   "source": [
    "boy = float(input(\"Boyunuzu giriniz: \"))\n",
    "kilo = float(input(\"Kilonuzu giriniz: \"))\n",
    "\n",
    "bke = kilo/boy*boy\n",
    "\n",
    "print(\"Vücut kitle endeksiniz: \", bke)"
   ]
  },
  {
   "cell_type": "markdown",
   "id": "c9ef85ca",
   "metadata": {},
   "source": [
    "### Problem 3\n",
    "Bir aracın kilometrede ne kadar yaktığı ve kaç kilometre yol yaptığı bilgilerini alın ve sürücünü toplam ne kadar ödemesini gerektiğini hesaplayın."
   ]
  },
  {
   "cell_type": "code",
   "execution_count": 6,
   "id": "62d0d611",
   "metadata": {},
   "outputs": [
    {
     "name": "stdout",
     "output_type": "stream",
     "text": [
      "Aracınızın bir kilometrede tükettiği yakıt miktarını giriniz: 0.07\n",
      "Kaç kilometre yol aldınız: 100\n",
      "ödemeniz gereken miktar:  126.00000000000001\n"
     ]
    }
   ],
   "source": [
    "yakıt = float(input(\"Aracınızın bir kilometrede tükettiği yakıt miktarını giriniz: \"))\n",
    "km = float(input(\"Kaç kilometre yol aldınız: \"))\n",
    "\n",
    "ucret = yakıt*km*18\n",
    "\n",
    "print(\"ödemeniz gereken miktar: \", ucret)"
   ]
  },
  {
   "cell_type": "markdown",
   "id": "dcb70039",
   "metadata": {},
   "source": [
    "### Problem 4\n",
    "Kullanıcıdan ad,soyad ve numara bilgisini alarak bunları alt alta ekrana yazdırın."
   ]
  },
  {
   "cell_type": "code",
   "execution_count": 9,
   "id": "41f8e088",
   "metadata": {},
   "outputs": [
    {
     "name": "stdout",
     "output_type": "stream",
     "text": [
      "Adınız: Büşra\n",
      "SoyadınızKALYON\n",
      "Numaranız:551\n",
      "\n",
      "\n",
      "Ad = Büşra\n",
      "Soyad = KALYON\n",
      "No = 551\n"
     ]
    }
   ],
   "source": [
    "ad = input(\"Adınız: \")\n",
    "soyad = input(\"Soyadınız\")\n",
    "no = input(\"Numaranız:\")\n",
    "\n",
    "bilgiler = [ad, soyad, no]\n",
    "print(\"\\n\\nAd = {}\\nSoyad = {}\\nNo = {}\".format(bilgiler[0],bilgiler[1],bilgiler[2]))"
   ]
  },
  {
   "cell_type": "markdown",
   "id": "847c6578",
   "metadata": {},
   "source": [
    "### Problem 5\n",
    "Kullanıcıdan iki tane sayı isteyin ve bu sayıların değerlerini birbirleriyle değiştirin."
   ]
  },
  {
   "cell_type": "code",
   "execution_count": 11,
   "id": "506df04d",
   "metadata": {},
   "outputs": [
    {
     "name": "stdout",
     "output_type": "stream",
     "text": [
      "İki sayı giriniz45\n",
      "756\n",
      "Girilen sayılar : 45 756\n",
      "Yer değiştirme : 756 45\n"
     ]
    }
   ],
   "source": [
    "x1 = int(input(\"İki sayı giriniz\"))\n",
    "x2 = int(input())\n",
    "\n",
    "print(\"Girilen sayılar : {} {}\".format(x1,x2))\n",
    "\n",
    "(x1,x2)=(x2,x1)\n",
    "\n",
    "print(\"Yer değiştirme : {} {}\".format(x1,x2))"
   ]
  },
  {
   "cell_type": "markdown",
   "id": "51ed1172",
   "metadata": {},
   "source": [
    "### Problem 6\n",
    "Kullanıcıdan bir dik üçgenin dik olan iki kenarını(a,b) alın ve hipotenüs uzunluğunu bulmaya çalışın.\n",
    "\n",
    "Hipotenüs Formülü: a^2 + b^2 = c^2"
   ]
  },
  {
   "cell_type": "code",
   "execution_count": 12,
   "id": "db2b219d",
   "metadata": {},
   "outputs": [
    {
     "name": "stdout",
     "output_type": "stream",
     "text": [
      "Üçgenin iki kenarını giriniz:5\n",
      "12\n",
      "Hipotenüs: 13.0\n"
     ]
    }
   ],
   "source": [
    "k1 = float(input(\"Üçgenin iki kenarını giriniz:\"))\n",
    "k2 = float(input())\n",
    "\n",
    "hipo = (k1**2 + k2**2)**(1/2)\n",
    "print(\"Hipotenüs:\", hipo)"
   ]
  }
 ],
 "metadata": {
  "kernelspec": {
   "display_name": "Python 3 (ipykernel)",
   "language": "python",
   "name": "python3"
  },
  "language_info": {
   "codemirror_mode": {
    "name": "ipython",
    "version": 3
   },
   "file_extension": ".py",
   "mimetype": "text/x-python",
   "name": "python",
   "nbconvert_exporter": "python",
   "pygments_lexer": "ipython3",
   "version": "3.10.9"
  }
 },
 "nbformat": 4,
 "nbformat_minor": 5
}
