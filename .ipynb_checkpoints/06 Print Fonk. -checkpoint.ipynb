{
 "cells": [
  {
   "cell_type": "code",
   "execution_count": 1,
   "id": "5fb75c33",
   "metadata": {},
   "outputs": [
    {
     "name": "stdout",
     "output_type": "stream",
     "text": [
      "369\n"
     ]
    }
   ],
   "source": [
    "a = 45\n",
    "b = 324\n",
    "print(a+b)"
   ]
  },
  {
   "cell_type": "code",
   "execution_count": 2,
   "id": "9007ea74",
   "metadata": {},
   "outputs": [
    {
     "name": "stdout",
     "output_type": "stream",
     "text": [
      "2134\n"
     ]
    }
   ],
   "source": [
    "print(2134)"
   ]
  },
  {
   "cell_type": "code",
   "execution_count": 6,
   "id": "6b412f9f",
   "metadata": {},
   "outputs": [
    {
     "name": "stdout",
     "output_type": "stream",
     "text": [
      "324\n",
      "7.2\n"
     ]
    }
   ],
   "source": [
    "print(b)\n",
    "print(b/a)"
   ]
  },
  {
   "cell_type": "code",
   "execution_count": 4,
   "id": "44a8c39e",
   "metadata": {},
   "outputs": [
    {
     "name": "stdout",
     "output_type": "stream",
     "text": [
      "8\n"
     ]
    }
   ],
   "source": [
    "print(2+6)"
   ]
  },
  {
   "cell_type": "code",
   "execution_count": 5,
   "id": "ddf07587",
   "metadata": {},
   "outputs": [
    {
     "name": "stdout",
     "output_type": "stream",
     "text": [
      "Büşra\n"
     ]
    }
   ],
   "source": [
    "print(\"Büşra\")"
   ]
  },
  {
   "cell_type": "code",
   "execution_count": 7,
   "id": "ffdbd39a",
   "metadata": {},
   "outputs": [
    {
     "name": "stdout",
     "output_type": "stream",
     "text": [
      "14580 9 Büşra Python öğreniyor.\n"
     ]
    }
   ],
   "source": [
    "print(a*b, b%a, \"Büşra\", \"Python\", \"öğreniyor.\" )"
   ]
  },
  {
   "cell_type": "code",
   "execution_count": 10,
   "id": "368ddb15",
   "metadata": {},
   "outputs": [
    {
     "name": "stdout",
     "output_type": "stream",
     "text": [
      "Hello \n",
      "World \n",
      "Ben Python Öğreniyorum!\n"
     ]
    }
   ],
   "source": [
    "# newline karakteri \\n\n",
    "print(\"Hello \\nWorld \\nBen Python Öğreniyorum!\")"
   ]
  },
  {
   "cell_type": "code",
   "execution_count": 11,
   "id": "e11ab8ef",
   "metadata": {},
   "outputs": [
    {
     "name": "stdout",
     "output_type": "stream",
     "text": [
      "Ben\tPython\töğreniyorum!\n"
     ]
    }
   ],
   "source": [
    "# tab karakteri \\t\n",
    "print(\"Ben\\tPython\\töğreniyorum!\")"
   ]
  },
  {
   "cell_type": "code",
   "execution_count": 14,
   "id": "31a00734",
   "metadata": {},
   "outputs": [
    {
     "data": {
      "text/plain": [
       "int"
      ]
     },
     "execution_count": 14,
     "metadata": {},
     "output_type": "execute_result"
    }
   ],
   "source": [
    "# type fonk-u içine verilen değerin tipini gösterir\n",
    "type(323)"
   ]
  },
  {
   "cell_type": "code",
   "execution_count": 15,
   "id": "d4bd0438",
   "metadata": {},
   "outputs": [
    {
     "name": "stdout",
     "output_type": "stream",
     "text": [
      "<class 'int'>\n"
     ]
    }
   ],
   "source": [
    "print(type(324))"
   ]
  },
  {
   "cell_type": "code",
   "execution_count": 16,
   "id": "0ed9ae8e",
   "metadata": {},
   "outputs": [
    {
     "data": {
      "text/plain": [
       "str"
      ]
     },
     "execution_count": 16,
     "metadata": {},
     "output_type": "execute_result"
    }
   ],
   "source": [
    "a = \"Büşra\"\n",
    "type(a)"
   ]
  },
  {
   "cell_type": "code",
   "execution_count": 19,
   "id": "d3461823",
   "metadata": {},
   "outputs": [
    {
     "name": "stdout",
     "output_type": "stream",
     "text": [
      "23 123 6 43 76 43\n",
      "23***123***6***43***76***43\n"
     ]
    }
   ],
   "source": [
    "#sep parametresi yazdırdığımız değerlerin arasına istediğimiz karakteri yerleştirir\n",
    "print(23,123,6,43,76,43)\n",
    "print(23,123,6,43,76,43, sep = \"***\")"
   ]
  },
  {
   "cell_type": "code",
   "execution_count": 20,
   "id": "e5c11ce3",
   "metadata": {},
   "outputs": [
    {
     "name": "stdout",
     "output_type": "stream",
     "text": [
      "B ü ş r a   M u r a t ' ı   s e v i y o r !\n"
     ]
    }
   ],
   "source": [
    "#Her karakterin arasına boşluk yazdırmak için * işareti kullanılır\n",
    "\n",
    "print(*\"Büşra Murat'ı seviyor!\")"
   ]
  },
  {
   "cell_type": "code",
   "execution_count": 22,
   "id": "13a72ff2",
   "metadata": {},
   "outputs": [
    {
     "name": "stdout",
     "output_type": "stream",
     "text": [
      "P-Y-T-H-O-N\n"
     ]
    }
   ],
   "source": [
    "print(*\"PYTHON\", sep=\"-\")"
   ]
  }
 ],
 "metadata": {
  "kernelspec": {
   "display_name": "Python 3 (ipykernel)",
   "language": "python",
   "name": "python3"
  },
  "language_info": {
   "codemirror_mode": {
    "name": "ipython",
    "version": 3
   },
   "file_extension": ".py",
   "mimetype": "text/x-python",
   "name": "python",
   "nbconvert_exporter": "python",
   "pygments_lexer": "ipython3",
   "version": "3.10.9"
  }
 },
 "nbformat": 4,
 "nbformat_minor": 5
}
