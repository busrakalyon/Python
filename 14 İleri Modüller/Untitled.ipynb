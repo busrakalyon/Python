{
 "cells": [
  {
   "cell_type": "markdown",
   "id": "8224196b",
   "metadata": {},
   "source": [
    "## DateTime Modülü\n",
    "DateTime modülü Pythonda zaman ve tarih işlemleri için kullandığımız hazır bir modüldür. "
   ]
  },
  {
   "cell_type": "code",
   "execution_count": null,
   "id": "c48633e9",
   "metadata": {},
   "outputs": [],
   "source": [
    "from datetime import datetime"
   ]
  },
  {
   "cell_type": "code",
   "execution_count": null,
   "id": "fe69398d",
   "metadata": {},
   "outputs": [],
   "source": [
    "dir(datetime)"
   ]
  },
  {
   "cell_type": "markdown",
   "id": "1e199ffd",
   "metadata": {},
   "source": [
    "## sys Modülü\n",
    "#### sys.exit() fonksiyonu\n",
    "Bu fonksiyon çalışan Python programımızı sonlandırır."
   ]
  },
  {
   "cell_type": "code",
   "execution_count": 1,
   "id": "0ac6cf64",
   "metadata": {},
   "outputs": [
    {
     "name": "stdout",
     "output_type": "stream",
     "text": [
      "a:a\n",
      "b:b\n"
     ]
    },
    {
     "ename": "SystemExit",
     "evalue": "",
     "output_type": "error",
     "traceback": [
      "An exception has occurred, use %tb to see the full traceback.\n",
      "\u001b[1;31mSystemExit\u001b[0m\n"
     ]
    },
    {
     "name": "stderr",
     "output_type": "stream",
     "text": [
      "C:\\Anaconda3\\lib\\site-packages\\IPython\\core\\interactiveshell.py:3468: UserWarning: To exit: use 'exit', 'quit', or Ctrl-D.\n",
      "  warn(\"To exit: use 'exit', 'quit', or Ctrl-D.\", stacklevel=1)\n"
     ]
    }
   ],
   "source": [
    "import sys\n",
    "a = input(\"a:\")\n",
    "b = input(\"b:\")\n",
    "\n",
    "sys.exit()\n",
    "\n",
    "c = input(\"c:\")"
   ]
  },
  {
   "cell_type": "markdown",
   "id": "f8c200d7",
   "metadata": {},
   "source": [
    "#### stderr ve stdout\n",
    "Bilgisayarlar uygulamalarımız ve işlemlerimiz çalıştığı zaman çıktı vermek ve girdi almak için şu dosyaları kullanır.\n",
    "\n",
    "**stdin** : Bu standard dosya, işlemimizin (process ) kullanıcıdan input almasını sağlar.\n",
    "\n",
    "**stdout** : Bu standard dosya, işlemimizin (process ) çıktı vermesini sağlar.\n",
    "\n",
    "**stderr** : Bu standard dosya, işlemimizin hata mesajlarını çıktı olarak vermek için kullanılır.\n",
    "\n",
    "Biz print() fonksiyonumuzu kullandığımızda aslında standard olarak **stdout** kullanılmaktadır. Ancak biz istersek **stderr**'e de bir şeyler yazabiliriz."
   ]
  },
  {
   "cell_type": "code",
   "execution_count": 2,
   "id": "465aa322",
   "metadata": {},
   "outputs": [
    {
     "name": "stderr",
     "output_type": "stream",
     "text": [
      "Burası bir hata mesajı\n"
     ]
    },
    {
     "name": "stdout",
     "output_type": "stream",
     "text": [
      "Burası normal çıktımız\n"
     ]
    },
    {
     "data": {
      "text/plain": [
       "23"
      ]
     },
     "execution_count": 2,
     "metadata": {},
     "output_type": "execute_result"
    }
   ],
   "source": [
    "import sys\n",
    "\n",
    "sys.stderr.write(\"Burası bir hata mesajı\\n\")\n",
    "\n",
    "sys.stderr.flush() # Buffer'ı hemen yaz. \n",
    "\n",
    "sys.stdout.write(\"Burası normal çıktımız\\n\")"
   ]
  },
  {
   "cell_type": "markdown",
   "id": "218897a1",
   "metadata": {},
   "source": [
    "## Requests ve BeautifulSoup Modülü\n",
    "Bu videoda internetten veri çekmemizi ve bu verileri parçalamamızı sağlayan **requests** ve **BeautifulSoup** modüllerini öğreneceğiz. Ancak bu modüller Python ile hazır gelmediğinden ilk olarak bunları internetten indirmemiz gerekiyor.\n",
    "\n",
    "#### Windows üzerinde kurulum\n",
    "Windows üzerinde bu iki modulü indirmemiz için cmd'yi açıyoruz ve şu iki komutu sırayla çalıştırıyoruz.\n",
    "\n",
    "**pip3 install requests**\n",
    "\n",
    "**pip3 install beautifulsoup4**\n",
    "\n",
    "Bunları çalıştırdığımız zaman **requests ve beautifulsoup** kurulmuş olacak."
   ]
  },
  {
   "cell_type": "markdown",
   "id": "90293ba1",
   "metadata": {},
   "source": [
    "### Web Sayfası Kaynağını Alma"
   ]
  },
  {
   "cell_type": "code",
   "execution_count": null,
   "id": "404f1713",
   "metadata": {},
   "outputs": [],
   "source": [
    "import requests \n",
    "from bs4 import BeautifulSoup\n",
    "\n",
    "url =  \"https://yellowpages.com.tr/ara?q=Ankara\" # Site linkimiz \n",
    "\n",
    "response =  requests.get(url) # Web sayfamızı çekiyoruz.\n",
    "\n",
    "html_icerigi = response.content  # Web sayfamızın içeriğini alıyoruz.\n",
    "\n",
    "soup =  BeautifulSoup(html_icerigi,\"html.parser\") # Web sayfamızı parçalamak için BeautifulSoup objesine atıyoruz.\n",
    "\n",
    "\n",
    "print(soup.prettify()) # Daha güzel bir görüntü için prettify() fonksiyonunu kullanıyoruz."
   ]
  },
  {
   "cell_type": "markdown",
   "id": "223518ab",
   "metadata": {},
   "source": [
    "### Web Sayfasındaki < a > etiketlerini alma"
   ]
  },
  {
   "cell_type": "code",
   "execution_count": null,
   "id": "af27364e",
   "metadata": {},
   "outputs": [],
   "source": [
    "import requests \n",
    "from bs4 import BeautifulSoup\n",
    "\n",
    "url =  \"https://yellowpages.com.tr/ara?q=Ankara\" # Site linkimiz \n",
    "\n",
    "response =  requests.get(url) # Web sayfamızı çekiyoruz.\n",
    "\n",
    "html_icerigi = response.content  # Web sayfamızın içeriğini alıyoruz.\n",
    "\n",
    "soup =  BeautifulSoup(html_icerigi,\"html.parser\") # Web sayfamızı parçalamak için BeautifulSoup objesine atıyoruz.\n",
    "\n",
    "\n",
    "print(soup.find_all(\"a\")) # Bize tüm <a> etiketlerini liste şeklinde dönüyor."
   ]
  },
  {
   "cell_type": "markdown",
   "id": "d1c25fec",
   "metadata": {},
   "source": [
    "### < a > etiketlerinin içindeki \"href\" değerlerini alma"
   ]
  },
  {
   "cell_type": "code",
   "execution_count": null,
   "id": "48858c8f",
   "metadata": {},
   "outputs": [],
   "source": [
    "import requests \n",
    "from bs4 import BeautifulSoup\n",
    "\n",
    "url =  \"https://yellowpages.com.tr/ara?q=Ankara\" # Site linkimiz \n",
    "\n",
    "response =  requests.get(url) # Web sayfamızı çekiyoruz.\n",
    "\n",
    "html_icerigi = response.content  # Web sayfamızın içeriğini alıyoruz.\n",
    "\n",
    "soup =  BeautifulSoup(html_icerigi,\"html.parser\") # Web sayfamızı parçalamak için BeautifulSoup objesine atıyoruz.\n",
    "\n",
    "\n",
    "for i in soup.find_all(\"a\"):\n",
    "    print(i.get(\"href\"))"
   ]
  },
  {
   "cell_type": "markdown",
   "id": "ceca8948",
   "metadata": {},
   "source": [
    "### < a > etiketlerinin içindeki yazı değerlerini alma"
   ]
  },
  {
   "cell_type": "code",
   "execution_count": null,
   "id": "72ef96e2",
   "metadata": {},
   "outputs": [],
   "source": [
    "import requests \n",
    "from bs4 import BeautifulSoup\n",
    "\n",
    "url =  \"https://yellowpages.com.tr/ara?q=Ankara\" # Site linkimiz \n",
    "\n",
    "response =  requests.get(url) # Web sayfamızı çekiyoruz.\n",
    "\n",
    "html_icerigi = response.content  # Web sayfamızın içeriğini alıyoruz.\n",
    "\n",
    "soup =  BeautifulSoup(html_icerigi,\"html.parser\") # Web sayfamızı parçalamak için BeautifulSoup objesine atıyoruz.\n",
    "\n",
    "\n",
    "for i in soup.find_all(\"a\"):\n",
    "    print(i.text)"
   ]
  },
  {
   "cell_type": "markdown",
   "id": "4353ca54",
   "metadata": {},
   "source": [
    "### class değerleri \"yp-poi-box-2\" olan < div > etiketlerini alma"
   ]
  },
  {
   "cell_type": "code",
   "execution_count": null,
   "id": "f5fa1a38",
   "metadata": {},
   "outputs": [],
   "source": [
    "import requests \n",
    "from bs4 import BeautifulSoup\n",
    "\n",
    "url =  \"https://yellowpages.com.tr/ara?q=Ankara\" # Site linkimiz \n",
    "\n",
    "response =  requests.get(url) # Web sayfamızı çekiyoruz.\n",
    "\n",
    "html_icerigi = response.content  # Web sayfamızın içeriğini alıyoruz.\n",
    "\n",
    "soup =  BeautifulSoup(html_icerigi,\"html.parser\") # Web sayfamızı parçalamak için BeautifulSoup objesine atıyoruz.\n",
    "\n",
    " # Bu kullanımın anlamı div etiketlerinden class'ı yp-poi-box-2 yi al anlamına geliyor.\n",
    "for i in soup.find_all(\"div\",{\"class\":\"yp-poi-box-2\"}):\n",
    "    print(i)"
   ]
  },
  {
   "cell_type": "markdown",
   "id": "09d4754a",
   "metadata": {},
   "source": [
    "### Smtp Modülü ile Mail Gönderme\n",
    "Bu derste **smtplib** modülü ile beraber mail atmaya öğrenmeye çalışacağız. Mail atmak için bir tane SMTP serverına ihtiyacımız olacağı için biz bu derste **GMAİL SMTP Server'ına** bağlanarak mail atma işlemimizi gerçekleştireceğiz.\n",
    "\n",
    "Ancak öncelikle gmail üzerinden güvensiz uygulamalara izin vermemiz gerekiyor. İlk olarak şu linke gidiyoruz;\n",
    "\n",
    "https://myaccount.google.com/lesssecureapps"
   ]
  },
  {
   "cell_type": "code",
   "execution_count": null,
   "id": "b47fbef7",
   "metadata": {},
   "outputs": [],
   "source": [
    "import smtplib\n",
    "from email.mime.multipart import MIMEMultipart\n",
    "from email.mime.text import MIMEText\n",
    "import sys\n",
    "\"\"\"\n",
    "SMTP Modülü ile mail gönderme\n",
    "\n",
    "İlk olarak daha az güvenli uygulamalar için öncelikle aşağıdaki linke gidiyoruz ve güvenliği\n",
    "kaldırıyoruz.\n",
    "\n",
    "https://myaccount.google.com/lesssecureapps\n",
    "\n",
    "\"\"\"\n",
    "\n",
    "mesaj = MIMEMultipart()  # Mail yapımızı oluşturuyoruz.\n",
    "\n",
    "mesaj[\"From\"] =  \"coskun.m.murat@gmail.com\" # Kimden Göndereceğimiz\n",
    "\n",
    "mesaj[\"To\"] = \"coskun.m.murat@gmail.com\" # Kime Göndereceğimiz\n",
    "\n",
    "mesaj[\"Subject\"] = \"Smtp Mail Gönderme\"  # Mailimizin Konusu\n",
    "\n",
    "\n",
    "# Mailimizin İçeriği\n",
    "yazi = \"\"\"\n",
    "\n",
    "Merhaba, Python ile mail gönderiyorum.    \n",
    "\n",
    "Mustafa Murat Coşkun\n",
    "\n",
    "\n",
    "\"\"\"  \n",
    "\n",
    "\n",
    "mesaj_govdesi =  MIMEText(yazi,\"plain\")  # Mailimizin gövdesini bu sınıftan oluşturuyoruz.\n",
    "\n",
    "mesaj.attach(mesaj_govdesi) # Mailimizin gövdesini mail yapımıza ekliyoruz.\n",
    "\n",
    "\n",
    "\n",
    "try:\n",
    "    mail =  smtplib.SMTP(\"smtp.gmail.com\",587)  # SMTP objemizi oluşturuyoruz ve gmail smtp server'ına bağlanıyoruz.\n",
    "\n",
    "    mail.ehlo() # SMTP serverına kendimizi tanıtıyoruz.\n",
    " \n",
    "    mail.starttls() # Adresimizin ve Parolamızın şifrelenmesi için gerekli\n",
    "\n",
    "    mail.login(\"gmail_adresi\",\"gmail_parola\") # SMTP server'ına giriş yapıyoruz. Kendi mail adresimizi ve parolamızı yapıyoruz.\n",
    "\n",
    "    mail.sendmail(mesaj[\"From\"],mesaj[\"To\"],mesaj.as_string())  # Mailimizi gönderiyoruz.\n",
    "    print(\"Mail başarıyla gönderildi....\")\n",
    "    mail.close()  # Smtp serverımızın bağlantısını koparıyoz.\n",
    "\n",
    "except:\n",
    "    sys.stderr.write(\"Mail göndermesi başarısız oldu...\") # Herhangi bir bağlanma sorunu veya mail gönderme sorunu olursa\n",
    "    sys.stderr.flush()"
   ]
  },
  {
   "cell_type": "markdown",
   "id": "8883b8c1",
   "metadata": {},
   "source": [
    "### Pillow Modülü ile Fotoğraf İşlemleri\n",
    "Windows Üzerinde Kurulum\n",
    "Bu komutu cmd üzerinde çalıştırırsak **Pillow modülü** sistemimize kurulacaktır.\n",
    "\n",
    "**pip3 install Pillow**\n",
    "\n",
    "Pillow'un resmi dokümantasyonu:\n",
    "\n",
    "https://pillow.readthedocs.io/en/4.2.x/handbook/tutorial.html"
   ]
  }
 ],
 "metadata": {
  "kernelspec": {
   "display_name": "Python 3 (ipykernel)",
   "language": "python",
   "name": "python3"
  },
  "language_info": {
   "codemirror_mode": {
    "name": "ipython",
    "version": 3
   },
   "file_extension": ".py",
   "mimetype": "text/x-python",
   "name": "python",
   "nbconvert_exporter": "python",
   "pygments_lexer": "ipython3",
   "version": "3.10.9"
  }
 },
 "nbformat": 4,
 "nbformat_minor": 5
}
