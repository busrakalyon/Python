{
 "cells": [
  {
   "cell_type": "markdown",
   "id": "8bad67a2",
   "metadata": {},
   "source": [
    "# Fonksiyonlar\n",
    "Fonksiyonların Tanımlanması\n",
    "Fonksiyon tanımlamanın yapısı şu şekildedir;\n",
    "\n",
    "        def fonksiyon_adı(parametre1,parametre2..... (opsiyonel)):\n",
    "            # Fonksiyon bloğu\n",
    "            Yapılacak işlemler\n",
    "            # dönüş değeri - Opsiyonel\n"
   ]
  },
  {
   "cell_type": "code",
   "execution_count": 2,
   "id": "33479fd5",
   "metadata": {},
   "outputs": [],
   "source": [
    "def selamla(): \n",
    "    print(\"Selam arkadaşlar...\")\n",
    "    print(\"Nasılsınız?\")"
   ]
  },
  {
   "cell_type": "code",
   "execution_count": 3,
   "id": "c70435ff",
   "metadata": {},
   "outputs": [
    {
     "data": {
      "text/plain": [
       "function"
      ]
     },
     "execution_count": 3,
     "metadata": {},
     "output_type": "execute_result"
    }
   ],
   "source": [
    "type(selamla) # Fonksiyonumuz tanımlandı."
   ]
  },
  {
   "cell_type": "markdown",
   "id": "01248fe7",
   "metadata": {},
   "source": [
    "# Fonksiyonların Kullanılması veya Çağrılması (Function Call)\n",
    "Tanımlanan bir fonksiyonun kullanılmasına programlama dillerinde Fonksiyon Çağrısı denmektedir. Fonksiyon çağrısı şu şekilde yapılabilmektedir;\n",
    "\n",
    "        fonksiyon_adı(Argüman1,Argüman2....)"
   ]
  },
  {
   "cell_type": "code",
   "execution_count": 4,
   "id": "28c04ba0",
   "metadata": {},
   "outputs": [
    {
     "name": "stdout",
     "output_type": "stream",
     "text": [
      "Selam arkadaşlar...\n",
      "Nasılsınız?\n"
     ]
    }
   ],
   "source": [
    "selamla() # Fonksiyon parametre almadığında içine argümanlarımızı göndermiyoruz."
   ]
  },
  {
   "cell_type": "markdown",
   "id": "5da6eef3",
   "metadata": {},
   "source": [
    "## Parametreler ve Argümanlar\n",
    "Şimdi selamlama fonksiyonumuzu bir tane parametre alacak şekilde tanımlayalım."
   ]
  },
  {
   "cell_type": "code",
   "execution_count": 5,
   "id": "6634c0bb",
   "metadata": {},
   "outputs": [],
   "source": [
    "def selamla(isim): # isim değişkenimiz burada parametre olmaktadır\n",
    "    print(\"Merhaba:\",isim)"
   ]
  },
  {
   "cell_type": "code",
   "execution_count": 6,
   "id": "695a6a2f",
   "metadata": {},
   "outputs": [
    {
     "name": "stdout",
     "output_type": "stream",
     "text": [
      "Merhaba: Kemal\n"
     ]
    }
   ],
   "source": [
    "selamla(\"Kemal\") # \"Kemal\" değeri burada  argüman olmaktadır. "
   ]
  },
  {
   "cell_type": "markdown",
   "id": "c32a872b",
   "metadata": {},
   "source": [
    "Bizim fonksiyon tanımlarken tanımladığımız herbir değişken birer **Parametre** , fonksiyon çağrısı yaptığımız zaman içine gönderdiğimiz değerler ise **Argüman** olmaktadır. Burada fonksiyonu çağırırken gönderdiğimiz \"Kemal\" değeri \"isim\" isimli parametreye eşit oluyor ve fonksiyonumuz bu değere göre işlem yapıyor. "
   ]
  },
  {
   "cell_type": "code",
   "execution_count": 7,
   "id": "4522c2e3",
   "metadata": {},
   "outputs": [],
   "source": [
    "# Toplama fonksiyonu\n",
    "def toplama(a,b,c):\n",
    "    print(\"Toplamları:\",a+b+c)"
   ]
  },
  {
   "cell_type": "code",
   "execution_count": 8,
   "id": "35e9d0c4",
   "metadata": {},
   "outputs": [
    {
     "name": "stdout",
     "output_type": "stream",
     "text": [
      "Toplamları: 36\n"
     ]
    }
   ],
   "source": [
    "toplama(10,11,15)"
   ]
  },
  {
   "cell_type": "code",
   "execution_count": 9,
   "id": "8d39dc14",
   "metadata": {},
   "outputs": [],
   "source": [
    "# Faktöriyel fonksiyonu\n",
    "\n",
    "def faktoriyel(sayı):\n",
    "    faktoriyel = 1\n",
    "    if (sayı == 0 or sayı == 1):\n",
    "        print(\"Faktoriyel\",faktoriyel)\n",
    "    else:\n",
    "        while (sayı >= 1):\n",
    "            faktoriyel *= sayı\n",
    "            sayı -=1\n",
    "        print(\"Faktoriyel\", faktoriyel)\n",
    "            "
   ]
  },
  {
   "cell_type": "code",
   "execution_count": 10,
   "id": "5401bbb7",
   "metadata": {},
   "outputs": [
    {
     "name": "stdout",
     "output_type": "stream",
     "text": [
      "Faktoriyel 120\n"
     ]
    }
   ],
   "source": [
    "faktoriyel(5)"
   ]
  }
 ],
 "metadata": {
  "kernelspec": {
   "display_name": "Python 3 (ipykernel)",
   "language": "python",
   "name": "python3"
  },
  "language_info": {
   "codemirror_mode": {
    "name": "ipython",
    "version": 3
   },
   "file_extension": ".py",
   "mimetype": "text/x-python",
   "name": "python",
   "nbconvert_exporter": "python",
   "pygments_lexer": "ipython3",
   "version": "3.10.9"
  }
 },
 "nbformat": 4,
 "nbformat_minor": 5
}
