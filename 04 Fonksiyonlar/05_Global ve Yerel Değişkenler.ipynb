{
 "cells": [
  {
   "cell_type": "markdown",
   "id": "d9e060ff",
   "metadata": {},
   "source": [
    "# Global ve Yerel Değişkenler\n",
    "Python herbir değişkeni bir **isim alanında (namespace)** tanımlar. Değişkenlerin **İsim alanı** ise, bu değişkenlerin nerelerde var olduğunu ve nerelerde kullanılabileceğini gösterir.\n",
    "\n",
    "Pythonda fonksiyonlarda tanımlanan değişkenler Python tarafından **Yerel (Local) değişkenler** olarak tanımlanırlar. Yani bir **fonksiyon bloğunda** oluşturulan değişkenler fonksiyona özgüdür ve **fonksiyon çalışmasını bitirdikten sonra** bu değişkenler bellekten silinir ve yok olur. Böylelikle , fonksiyon içinde tanımlanmış bir değişkene başka bir yerden **erişilemez**."
   ]
  },
  {
   "cell_type": "code",
   "execution_count": 1,
   "id": "f657bd07",
   "metadata": {},
   "outputs": [
    {
     "name": "stdout",
     "output_type": "stream",
     "text": [
      "10\n"
     ]
    },
    {
     "ename": "NameError",
     "evalue": "name 'a' is not defined",
     "output_type": "error",
     "traceback": [
      "\u001b[1;31m---------------------------------------------------------------------------\u001b[0m",
      "\u001b[1;31mNameError\u001b[0m                                 Traceback (most recent call last)",
      "Cell \u001b[1;32mIn[1], line 7\u001b[0m\n\u001b[0;32m      3\u001b[0m     \u001b[38;5;28mprint\u001b[39m(a)\n\u001b[0;32m      6\u001b[0m fonksiyon() \n\u001b[1;32m----> 7\u001b[0m \u001b[38;5;28mprint\u001b[39m(\u001b[43ma\u001b[49m)\n",
      "\u001b[1;31mNameError\u001b[0m: name 'a' is not defined"
     ]
    }
   ],
   "source": [
    "def fonksiyon():\n",
    "    a = 10 # Yerel isim alanında bir değişken\n",
    "    print(a)\n",
    "\n",
    "    \n",
    "fonksiyon() \n",
    "print(a)  # a değişkeni yok oldu."
   ]
  },
  {
   "cell_type": "markdown",
   "id": "cc096a37",
   "metadata": {},
   "source": [
    "Burada fonksiyon içinde tanımlanan a değişkeni fonksiyon çağrıldığında bellekte oluşur ve fonksiyon bloğunu çalıştırdıktan sonra yok olur. Yani, a değişkeni burada bir *yerel değişkendir*."
   ]
  },
  {
   "cell_type": "code",
   "execution_count": 2,
   "id": "ff128825",
   "metadata": {},
   "outputs": [
    {
     "name": "stdout",
     "output_type": "stream",
     "text": [
      "5\n"
     ]
    }
   ],
   "source": [
    "a = 5 # Global isim alanında bir değişken .\n",
    "\n",
    "def fonksiyon():\n",
    "    print(a) # a değişkeni globalde tanımlandığı için burada tanımlı.\n",
    "    \n",
    "fonksiyon()"
   ]
  },
  {
   "cell_type": "code",
   "execution_count": 3,
   "id": "77977bec",
   "metadata": {},
   "outputs": [
    {
     "name": "stdout",
     "output_type": "stream",
     "text": [
      "2\n",
      "10\n"
     ]
    }
   ],
   "source": [
    "c = 10 # Globalde tanımlanmış bir değişken \n",
    "def fonksiyon():\n",
    "    c = 2 # Yerelde tanımlanmış bir değişken\n",
    "    print(c)  # Yerel değişken kullanılıyor.\n",
    "\n",
    "fonksiyon()\n",
    "print(c)"
   ]
  },
  {
   "cell_type": "markdown",
   "id": "eec6364e",
   "metadata": {},
   "source": [
    "Kodumuz çalıştığında ilk olarak c isimli **global değişken** oluşuyor. fonksiyon çağrıldığında ise c isimli başka bir **yerel değişken** oluşuyor gibi düşünebilirsiniz. Böyle bir durumda elimizden iki tane c değişkeni var. Python bu durumda **global c değişkeni** yerine kendi **yerel c değişkenini** kullanıyor.\n",
    "\n",
    "Bir fonksiyonda globalde tanımlanmış bir değişkeni kullanmak için Pythonda **global** ifadesi bulunmaktadır. "
   ]
  },
  {
   "cell_type": "code",
   "execution_count": 4,
   "id": "59b46af9",
   "metadata": {},
   "outputs": [
    {
     "name": "stdout",
     "output_type": "stream",
     "text": [
      "4\n",
      "4\n"
     ]
    }
   ],
   "source": [
    "d = 10\n",
    "\n",
    "def fonksiyon():\n",
    "    global d\n",
    "    \n",
    "    d = 4\n",
    "    print(d)\n",
    "fonksiyon()\n",
    "print(d)"
   ]
  },
  {
   "cell_type": "markdown",
   "id": "9d0381f7",
   "metadata": {},
   "source": [
    " İlk olarak program başladığı zaman, bir tane **global d** değişkeni oluşuyor ve fonksiyonumuz çağrıldığında **global d** ifadesiyle globaldeki d değişkenini kullanmak istediğimizi söylüyoruz. Böyle **d = 4** ifadesiyle bir tane daha d değişkeni oluşturmuyoruz. Böylelikle d =4 ifadesiyle **globaldeki değişkeninin değerini değiştirmiş oluyoruz**.\n",
    " \n",
    "**if ve while** bloklarında tanımlanan değişkenler yerel bir değişken yerine **global bir değişken** olmaktadır."
   ]
  }
 ],
 "metadata": {
  "kernelspec": {
   "display_name": "Python 3 (ipykernel)",
   "language": "python",
   "name": "python3"
  },
  "language_info": {
   "codemirror_mode": {
    "name": "ipython",
    "version": 3
   },
   "file_extension": ".py",
   "mimetype": "text/x-python",
   "name": "python",
   "nbconvert_exporter": "python",
   "pygments_lexer": "ipython3",
   "version": "3.10.9"
  }
 },
 "nbformat": 4,
 "nbformat_minor": 5
}
