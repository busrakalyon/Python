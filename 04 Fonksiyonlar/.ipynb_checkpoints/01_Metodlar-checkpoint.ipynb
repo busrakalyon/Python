{
 "cells": [
  {
   "cell_type": "markdown",
   "id": "79e9c922",
   "metadata": {},
   "source": [
    "# Metodlar\n",
    "Metodlar bir obje üzerinde belli işlemleri gerçekleştiren objelere özgü fonksiyonlardır ve objelerin üzerinde metodlar şu şekilde kullanılır.\n",
    "\n",
    " obje.herhangi_bir_metod(değerler(opsiyonel)) \n",
    "\n",
    "Örneğin bir liste objesi oluşturduğumuz zaman bu objenin üzerinde belli metodları uygulayabiliriz."
   ]
  },
  {
   "cell_type": "code",
   "execution_count": 1,
   "id": "8e57af41",
   "metadata": {},
   "outputs": [
    {
     "name": "stdout",
     "output_type": "stream",
     "text": [
      "[1, 'Murat', 2, 3, 4, 5, 6]\n",
      "[1, 'Murat', 2, 3, 4, 5]\n"
     ]
    }
   ],
   "source": [
    "liste =  [1,2,3,4,5,6]\n",
    "\n",
    "liste.insert(1,\"Murat\")\n",
    "\n",
    "print(liste)\n",
    "\n",
    "liste.pop()\n",
    "\n",
    "print(liste)"
   ]
  },
  {
   "cell_type": "markdown",
   "id": "cb94456b",
   "metadata": {},
   "source": [
    "Örneğin liste metodlarına erişmek için Jupyterde **Tab** tuşuna basabiliriz. Ayrıca bir metodun ne iş yaptığını anlamak için **help** fonksiyonunu kullanabiliriz."
   ]
  },
  {
   "cell_type": "code",
   "execution_count": 2,
   "id": "4a5bf01d",
   "metadata": {},
   "outputs": [
    {
     "name": "stdout",
     "output_type": "stream",
     "text": [
      "Help on built-in function insert:\n",
      "\n",
      "insert(index, object, /) method of builtins.list instance\n",
      "    Insert object before index.\n",
      "\n"
     ]
    }
   ],
   "source": [
    "help(liste.insert)"
   ]
  }
 ],
 "metadata": {
  "kernelspec": {
   "display_name": "Python 3 (ipykernel)",
   "language": "python",
   "name": "python3"
  },
  "language_info": {
   "codemirror_mode": {
    "name": "ipython",
    "version": 3
   },
   "file_extension": ".py",
   "mimetype": "text/x-python",
   "name": "python",
   "nbconvert_exporter": "python",
   "pygments_lexer": "ipython3",
   "version": "3.10.9"
  }
 },
 "nbformat": 4,
 "nbformat_minor": 5
}
