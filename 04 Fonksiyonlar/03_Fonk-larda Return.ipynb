{
 "cells": [
  {
   "cell_type": "markdown",
   "id": "1a2334dd",
   "metadata": {},
   "source": [
    "# Fonksiyonlarda Return\n",
    "**return** ifadesi fonksiyonun işlemi bittikten sonra çağrıldığı yere **değer döndürmesi** anlamı taşır. Böylelikle, fonksiyonda aldığımız değeri bir değişkende depolayabilir ve değeri programın başka yerlerinde kullanabiliriz. "
   ]
  },
  {
   "cell_type": "code",
   "execution_count": 2,
   "id": "77ccdf20",
   "metadata": {},
   "outputs": [],
   "source": [
    "def toplama(a,b,c): # Birinci fonksiyon\n",
    "    print(\"Toplamları\",a+b+c)\n",
    "\n",
    "def ikiyleçarp(a): # İkinci fonksiyon\n",
    "    print(\"2 ile çarpılmış hali\", a * 2)"
   ]
  },
  {
   "cell_type": "code",
   "execution_count": 3,
   "id": "0e88dd28",
   "metadata": {},
   "outputs": [
    {
     "name": "stdout",
     "output_type": "stream",
     "text": [
      "Toplamları 6\n"
     ]
    },
    {
     "ename": "TypeError",
     "evalue": "unsupported operand type(s) for *: 'NoneType' and 'int'",
     "output_type": "error",
     "traceback": [
      "\u001b[1;31m---------------------------------------------------------------------------\u001b[0m",
      "\u001b[1;31mTypeError\u001b[0m                                 Traceback (most recent call last)",
      "Cell \u001b[1;32mIn[3], line 2\u001b[0m\n\u001b[0;32m      1\u001b[0m toplam \u001b[38;5;241m=\u001b[39m toplama(\u001b[38;5;241m1\u001b[39m,\u001b[38;5;241m2\u001b[39m,\u001b[38;5;241m3\u001b[39m)\n\u001b[1;32m----> 2\u001b[0m \u001b[43mikiyleçarp\u001b[49m\u001b[43m(\u001b[49m\u001b[43mtoplam\u001b[49m\u001b[43m)\u001b[49m\n",
      "Cell \u001b[1;32mIn[2], line 5\u001b[0m, in \u001b[0;36mikiyleçarp\u001b[1;34m(a)\u001b[0m\n\u001b[0;32m      4\u001b[0m \u001b[38;5;28;01mdef\u001b[39;00m \u001b[38;5;21mikiyleçarp\u001b[39m(a): \u001b[38;5;66;03m# İkinci fonksiyon\u001b[39;00m\n\u001b[1;32m----> 5\u001b[0m     \u001b[38;5;28mprint\u001b[39m(\u001b[38;5;124m\"\u001b[39m\u001b[38;5;124m2 ile çarpılmış hali\u001b[39m\u001b[38;5;124m\"\u001b[39m, \u001b[43ma\u001b[49m\u001b[43m \u001b[49m\u001b[38;5;241;43m*\u001b[39;49m\u001b[43m \u001b[49m\u001b[38;5;241;43m2\u001b[39;49m)\n",
      "\u001b[1;31mTypeError\u001b[0m: unsupported operand type(s) for *: 'NoneType' and 'int'"
     ]
    }
   ],
   "source": [
    "toplam = toplama(1,2,3)\n",
    "ikiyleçarp(toplam)"
   ]
  },
  {
   "cell_type": "code",
   "execution_count": 4,
   "id": "7f4e12ac",
   "metadata": {},
   "outputs": [
    {
     "data": {
      "text/plain": [
       "NoneType"
      ]
     },
     "execution_count": 4,
     "metadata": {},
     "output_type": "execute_result"
    }
   ],
   "source": [
    "type(toplam) "
   ]
  },
  {
   "cell_type": "markdown",
   "id": "4a5d5b4d",
   "metadata": {},
   "source": [
    "Burada **toplama** fonksiyonundan herhangi bir değer döndürülmediği için **toplam** değişkenimiz hiçbir değere sahip olmadı ve tipi **NoneType**(atanmamış) olmuş oldu."
   ]
  },
  {
   "cell_type": "code",
   "execution_count": 7,
   "id": "bbaa073a",
   "metadata": {},
   "outputs": [],
   "source": [
    "def toplama(a,b,c):\n",
    "    return a+b+c # return'un kullanımı \n",
    "def ikiyle_çarp(a):\n",
    "    return a*2"
   ]
  },
  {
   "cell_type": "code",
   "execution_count": 9,
   "id": "bfebe7b1",
   "metadata": {},
   "outputs": [
    {
     "data": {
      "text/plain": [
       "12"
      ]
     },
     "execution_count": 9,
     "metadata": {},
     "output_type": "execute_result"
    }
   ],
   "source": [
    "toplam = toplama(1,2,3)\n",
    "ikiyle_çarp(toplam)"
   ]
  },
  {
   "cell_type": "code",
   "execution_count": 10,
   "id": "7393d141",
   "metadata": {},
   "outputs": [],
   "source": [
    "def üçleçarp(a):\n",
    "    print(\"1.fonksiyon çalıştı\")\n",
    "    return a*3"
   ]
  },
  {
   "cell_type": "code",
   "execution_count": 11,
   "id": "1de8a737",
   "metadata": {},
   "outputs": [],
   "source": [
    "def ikiyletopla(a):\n",
    "    print(\"2.fonksiyon çalıştı\")\n",
    "    return a + 2"
   ]
  },
  {
   "cell_type": "code",
   "execution_count": 12,
   "id": "00bd50b4",
   "metadata": {},
   "outputs": [],
   "source": [
    "def dördeböl(a):\n",
    "    print(\"3.fonksiyon çalıştı\")\n",
    "    return a / 4"
   ]
  },
  {
   "cell_type": "code",
   "execution_count": 13,
   "id": "6425a28e",
   "metadata": {},
   "outputs": [
    {
     "name": "stdout",
     "output_type": "stream",
     "text": [
      "1.fonksiyon çalıştı\n",
      "2.fonksiyon çalıştı\n",
      "3.fonksiyon çalıştı\n",
      "4.25\n"
     ]
    }
   ],
   "source": [
    "# 3 ünü beraber kullanalım.\n",
    "\n",
    "print(dördeböl(ikiyletopla(üçleçarp(5))))"
   ]
  },
  {
   "cell_type": "markdown",
   "id": "ec3bb88a",
   "metadata": {},
   "source": [
    "**return** ifadesinden sonra fonksiyonumuz tamamıyla sona erer. Yani, **return** ifadesinden sonra yapılan herhangi bir işlem çalıştırılmaz."
   ]
  },
  {
   "cell_type": "code",
   "execution_count": 16,
   "id": "ff2cb1c9",
   "metadata": {},
   "outputs": [
    {
     "name": "stdout",
     "output_type": "stream",
     "text": [
      "6\n"
     ]
    }
   ],
   "source": [
    "def toplama(a,b,c):\n",
    "    return a + b + c\n",
    "    print(\"Toplama fonksiyonu\") # Çalıştırılmadı.\n",
    "    \n",
    "print(toplama(1,2,3))"
   ]
  },
  {
   "cell_type": "markdown",
   "id": "09776490",
   "metadata": {},
   "source": [
    "Fonksiyonlarda çağrıldığı yere herhangi bir değer döndürmeyen(return kullanılmayan) fonksiyonlara **void fonksiyonlar** denmektedir."
   ]
  }
 ],
 "metadata": {
  "kernelspec": {
   "display_name": "Python 3 (ipykernel)",
   "language": "python",
   "name": "python3"
  },
  "language_info": {
   "codemirror_mode": {
    "name": "ipython",
    "version": 3
   },
   "file_extension": ".py",
   "mimetype": "text/x-python",
   "name": "python",
   "nbconvert_exporter": "python",
   "pygments_lexer": "ipython3",
   "version": "3.10.9"
  }
 },
 "nbformat": 4,
 "nbformat_minor": 5
}
