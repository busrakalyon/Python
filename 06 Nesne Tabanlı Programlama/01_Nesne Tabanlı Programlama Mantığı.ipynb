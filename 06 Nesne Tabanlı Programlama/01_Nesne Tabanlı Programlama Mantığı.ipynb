{
 "cells": [
  {
   "cell_type": "markdown",
   "id": "7d5ecf74",
   "metadata": {},
   "source": [
    "# Nesne Tabanlı Programlama Mantığı\n",
    "**Object Oriented Programming**\n",
    "\n",
    "Örneğin bir tane öğrenci otomasyon sistemi yazmak istiyoruz. Bunun için öğretmenleri , öğrencileri ve kursları aslında birer **nesne** olarak oluşturmamız gerekiyor. Böyle bir sistemi programlamayla gerçekleştirmek için aslında her bir nesnenin yapısını tanımlayıp, daha sonra bu yapılardan nesneler üretmemiz gerekiyor. İşte **Nesne Tabanlı Programlama** en basit anlamıyla bu şekildedir. \n",
    "\n",
    "### Obje nedir ?\n",
    "Etrafımıza baktığımızda aslında her bir eşyanın bir **obje** olduğunu görüyoruz. Örneğin bir tane televizyon kumandasını düşünelim. Bu kumandanın kendi içinde değişik özellikleri (**attribute**) ve fonksiyonları(**metod**) bulunuyor. Örneğin, kumandanın markası, tuşları aslında bu kumandanın özellikleridir(**attribute**). Kumandanın kırmızı tuşuna bastığımızda televizyonun kapanması ve sesi kapatma tuşuna bastığımızda televizyonun sesinin kapanması bu kumandanın metodlarıdır. Bunun gibi Pythondaki aslında her şey bir objedir. Örneğin, listelere bakacak olursak bu liste objelerinin aslında birçok metodu ve özelliği bulunur."
   ]
  },
  {
   "cell_type": "code",
   "execution_count": 1,
   "id": "a5fee96a",
   "metadata": {},
   "outputs": [
    {
     "name": "stdout",
     "output_type": "stream",
     "text": [
      "[1, 2, 3, 4, 5, 6]\n"
     ]
    }
   ],
   "source": [
    "liste = [1,2,3,4,5]  # Liste objesi oluşturmak\n",
    "liste.append(6) # Append metodu\n",
    "\n",
    "print(liste)"
   ]
  },
  {
   "cell_type": "code",
   "execution_count": 2,
   "id": "eac5893c",
   "metadata": {},
   "outputs": [
    {
     "data": {
      "text/plain": [
       "list"
      ]
     },
     "execution_count": 2,
     "metadata": {},
     "output_type": "execute_result"
    }
   ],
   "source": [
    "type(liste) # liste objesi"
   ]
  },
  {
   "cell_type": "code",
   "execution_count": 3,
   "id": "435e8db1",
   "metadata": {},
   "outputs": [
    {
     "data": {
      "text/plain": [
       "dict"
      ]
     },
     "execution_count": 3,
     "metadata": {},
     "output_type": "execute_result"
    }
   ],
   "source": [
    "sözlük = dict()\n",
    "type(sözlük) # dictionary objesi"
   ]
  },
  {
   "cell_type": "code",
   "execution_count": 4,
   "id": "8f9af43e",
   "metadata": {},
   "outputs": [
    {
     "data": {
      "text/plain": [
       "tuple"
      ]
     },
     "execution_count": 4,
     "metadata": {},
     "output_type": "execute_result"
    }
   ],
   "source": [
    "type((1,2,3,4)) # tuple objesi"
   ]
  },
  {
   "cell_type": "code",
   "execution_count": 5,
   "id": "88f730e2",
   "metadata": {},
   "outputs": [
    {
     "data": {
      "text/plain": [
       "function"
      ]
     },
     "execution_count": 5,
     "metadata": {},
     "output_type": "execute_result"
    }
   ],
   "source": [
    "def toplama(a,b):\n",
    "    return a + b\n",
    "\n",
    "type(toplama) # Fonksiyon objesi"
   ]
  }
 ],
 "metadata": {
  "kernelspec": {
   "display_name": "Python 3 (ipykernel)",
   "language": "python",
   "name": "python3"
  },
  "language_info": {
   "codemirror_mode": {
    "name": "ipython",
    "version": 3
   },
   "file_extension": ".py",
   "mimetype": "text/x-python",
   "name": "python",
   "nbconvert_exporter": "python",
   "pygments_lexer": "ipython3",
   "version": "3.10.9"
  }
 },
 "nbformat": 4,
 "nbformat_minor": 5
}
