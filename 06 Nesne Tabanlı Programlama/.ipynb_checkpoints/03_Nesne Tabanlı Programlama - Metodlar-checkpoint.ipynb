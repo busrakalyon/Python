{
 "cells": [
  {
   "cell_type": "markdown",
   "id": "0a34fbf9",
   "metadata": {},
   "source": [
    "# Nesne Tabanlı Programlama - Metodlar\n"
   ]
  },
  {
   "cell_type": "code",
   "execution_count": 1,
   "id": "47d961be",
   "metadata": {},
   "outputs": [],
   "source": [
    "class Yazılımcı():\n",
    "    \n",
    "    def __init__(self,isim,soyisim,numara,maaş,diller):\n",
    "        self.isim = isim\n",
    "        self.soyisim = soyisim\n",
    "        self.numara = numara    # Yazılımcı objelerinin özellikleri \n",
    "        self.maaş = maaş\n",
    "        self.diller = diller"
   ]
  },
  {
   "cell_type": "code",
   "execution_count": 2,
   "id": "2a30b461",
   "metadata": {},
   "outputs": [
    {
     "data": {
      "text/plain": [
       "['Python', 'C', 'Java']"
      ]
     },
     "execution_count": 2,
     "metadata": {},
     "output_type": "execute_result"
    }
   ],
   "source": [
    "# yazılımcı1 objesi\n",
    "yazılımcı1 =  Yazılımcı(\"Mustafa Murat\",\"Coşkun\",12345,3000,[\"Python\",\"C\",\"Java\"])\n",
    "yazılımcı2 = Yazılımcı(\"Serhat\",\"Say\",23456,3500,[\"Matlab\",\"R\",\"SmallTalk\"])\n",
    "yazılımcı1.diller"
   ]
  },
  {
   "cell_type": "code",
   "execution_count": 3,
   "id": "ed0e2678",
   "metadata": {},
   "outputs": [
    {
     "data": {
      "text/plain": [
       "'Say'"
      ]
     },
     "execution_count": 3,
     "metadata": {},
     "output_type": "execute_result"
    }
   ],
   "source": [
    "yazılımcı2.soyisim"
   ]
  },
  {
   "cell_type": "markdown",
   "id": "484dc425",
   "metadata": {},
   "source": [
    "**init** metodunu tanımladığımız gibi bir **class**'a da istediğimiz kadar **metod** tanımlayabiliriz. Örneğin ,Yazılımcı classına **bilgilerigöster** isimli bir metod tanımlayalım."
   ]
  },
  {
   "cell_type": "code",
   "execution_count": 4,
   "id": "d61ce9d5",
   "metadata": {},
   "outputs": [],
   "source": [
    "class Yazılımcı():\n",
    "    \n",
    "    def __init__(self,isim,soyisim,numara,maaş,diller):\n",
    "        self.isim = isim\n",
    "        self.soyisim = soyisim\n",
    "        self.numara = numara    # Yazılımcı objelerinin özellikleri \n",
    "        self.maaş = maaş\n",
    "        self.diller = diller\n",
    "    def bilgilerigöster(self):\n",
    "        print(\"\"\"\n",
    "        Çalışan Bilgisi:\n",
    "        \n",
    "        İsim :  {}\n",
    "        \n",
    "        Soyisim : {}\n",
    "        \n",
    "        Şirket Numarası: {}\n",
    "        \n",
    "        Maaş :  {}\n",
    "        \n",
    "        Diller: {}\n",
    "        \"\"\".format(self.isim,self.soyisim,self.numara,self.maaş,self.diller))\n",
    "    def dil_ekle(self,yeni_dil):\n",
    "        print(\"Dil ekleniyor.\")\n",
    "        self.diller.append(yeni_dil)\n",
    "    def maas_yukselt(self,zam_miktarı):\n",
    "        print(\"Maaş yükseliyor...\")\n",
    "        \n",
    "        self.maaş += 250"
   ]
  },
  {
   "cell_type": "code",
   "execution_count": 5,
   "id": "5c943854",
   "metadata": {},
   "outputs": [],
   "source": [
    "yazılımcı1 =  Yazılımcı(\"Mustafa Murat\",\"Coşkun\",12345,3000,[\"Python\",\"C\",\"Java\"])"
   ]
  },
  {
   "cell_type": "code",
   "execution_count": 6,
   "id": "9a25d400",
   "metadata": {},
   "outputs": [
    {
     "name": "stdout",
     "output_type": "stream",
     "text": [
      "\n",
      "        Çalışan Bilgisi:\n",
      "        \n",
      "        İsim :  Mustafa Murat\n",
      "        \n",
      "        Soyisim : Coşkun\n",
      "        \n",
      "        Şirket Numarası: 12345\n",
      "        \n",
      "        Maaş :  3000\n",
      "        \n",
      "        Diller: ['Python', 'C', 'Java']\n",
      "        \n"
     ]
    }
   ],
   "source": [
    "yazılımcı1.bilgilerigöster()"
   ]
  },
  {
   "cell_type": "code",
   "execution_count": 7,
   "id": "edfb0454",
   "metadata": {},
   "outputs": [
    {
     "name": "stdout",
     "output_type": "stream",
     "text": [
      "Maaş yükseliyor...\n"
     ]
    }
   ],
   "source": [
    "yazılımcı1.maas_yukselt(500)"
   ]
  },
  {
   "cell_type": "code",
   "execution_count": 8,
   "id": "81a43b32",
   "metadata": {},
   "outputs": [],
   "source": [
    "yazılımcı1 =  Yazılımcı(\"Mustafa Murat\",\"Coşkun\",12345,3000,[\"Python\",\"C\",\"Java\"])"
   ]
  },
  {
   "cell_type": "code",
   "execution_count": 9,
   "id": "0e487b00",
   "metadata": {},
   "outputs": [
    {
     "name": "stdout",
     "output_type": "stream",
     "text": [
      "\n",
      "        Çalışan Bilgisi:\n",
      "        \n",
      "        İsim :  Mustafa Murat\n",
      "        \n",
      "        Soyisim : Coşkun\n",
      "        \n",
      "        Şirket Numarası: 12345\n",
      "        \n",
      "        Maaş :  3000\n",
      "        \n",
      "        Diller: ['Python', 'C', 'Java']\n",
      "        \n"
     ]
    }
   ],
   "source": [
    "yazılımcı1.bilgilerigöster()"
   ]
  },
  {
   "cell_type": "code",
   "execution_count": 10,
   "id": "4a6f5805",
   "metadata": {},
   "outputs": [
    {
     "name": "stdout",
     "output_type": "stream",
     "text": [
      "Maaş yükseliyor...\n"
     ]
    }
   ],
   "source": [
    "yazılımcı1.maas_yukselt(500)"
   ]
  },
  {
   "cell_type": "code",
   "execution_count": 11,
   "id": "0c86a011",
   "metadata": {},
   "outputs": [
    {
     "name": "stdout",
     "output_type": "stream",
     "text": [
      "\n",
      "        Çalışan Bilgisi:\n",
      "        \n",
      "        İsim :  Mustafa Murat\n",
      "        \n",
      "        Soyisim : Coşkun\n",
      "        \n",
      "        Şirket Numarası: 12345\n",
      "        \n",
      "        Maaş :  3250\n",
      "        \n",
      "        Diller: ['Python', 'C', 'Java']\n",
      "        \n"
     ]
    }
   ],
   "source": [
    "yazılımcı1.bilgilerigöster()"
   ]
  },
  {
   "cell_type": "code",
   "execution_count": 12,
   "id": "a784907e",
   "metadata": {},
   "outputs": [
    {
     "name": "stdout",
     "output_type": "stream",
     "text": [
      "Dil ekleniyor.\n"
     ]
    }
   ],
   "source": [
    "yazılımcı1.dil_ekle(\"Javascript\")"
   ]
  },
  {
   "cell_type": "code",
   "execution_count": 13,
   "id": "32c6dfe8",
   "metadata": {},
   "outputs": [
    {
     "name": "stdout",
     "output_type": "stream",
     "text": [
      "\n",
      "        Çalışan Bilgisi:\n",
      "        \n",
      "        İsim :  Mustafa Murat\n",
      "        \n",
      "        Soyisim : Coşkun\n",
      "        \n",
      "        Şirket Numarası: 12345\n",
      "        \n",
      "        Maaş :  3250\n",
      "        \n",
      "        Diller: ['Python', 'C', 'Java', 'Javascript']\n",
      "        \n"
     ]
    }
   ],
   "source": [
    "yazılımcı1.bilgilerigöster()"
   ]
  }
 ],
 "metadata": {
  "kernelspec": {
   "display_name": "Python 3 (ipykernel)",
   "language": "python",
   "name": "python3"
  },
  "language_info": {
   "codemirror_mode": {
    "name": "ipython",
    "version": 3
   },
   "file_extension": ".py",
   "mimetype": "text/x-python",
   "name": "python",
   "nbconvert_exporter": "python",
   "pygments_lexer": "ipython3",
   "version": "3.10.9"
  }
 },
 "nbformat": 4,
 "nbformat_minor": 5
}
