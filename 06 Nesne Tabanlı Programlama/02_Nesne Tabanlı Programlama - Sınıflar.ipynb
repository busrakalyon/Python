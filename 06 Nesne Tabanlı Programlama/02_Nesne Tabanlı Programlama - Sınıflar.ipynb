{
 "cells": [
  {
   "cell_type": "markdown",
   "id": "652a2564",
   "metadata": {},
   "source": [
    "# Nesne Tabanlı Programlama - Sınıflar\n",
    "**Sınıflar veya Classlar** objelerimizi oluştururken objelerin özelliklerini ve metodlarını tanımladığımız bir yapıdır ve biz herbir objeyi bu yapıya göre üretiriz. "
   ]
  },
  {
   "cell_type": "code",
   "execution_count": 1,
   "id": "dac7a37d",
   "metadata": {},
   "outputs": [],
   "source": [
    "#  Yeni bir Araba veri tipi oluşturuyoruz.\n",
    "class Araba():\n",
    "    model =  \"Renault Megane\"\n",
    "    renk = \"Gümüş\"            # Sınıfımızın özellikleri (attributes)\n",
    "    beygir_gücü = 110\n",
    "    silindir = 4"
   ]
  },
  {
   "cell_type": "markdown",
   "id": "79cd790b",
   "metadata": {},
   "source": [
    "Bu sınıftan obje oluşturmayı şu şekilde yapabiliyoruz.\n",
    "\n",
    "     obje_ismi = Sınıf_İsmi(parametreler(opsiyonel))"
   ]
  },
  {
   "cell_type": "code",
   "execution_count": 5,
   "id": "312bf075",
   "metadata": {},
   "outputs": [
    {
     "data": {
      "text/plain": [
       "<__main__.Araba at 0x222c322a4a0>"
      ]
     },
     "execution_count": 5,
     "metadata": {},
     "output_type": "execute_result"
    }
   ],
   "source": [
    "araba1 =  Araba() # Araba veri tipinden bir \"araba1\" isminde bir obje oluşturduk.\n",
    "\n",
    "araba1 # Objemizin veri tipi Araba\n"
   ]
  },
  {
   "cell_type": "code",
   "execution_count": 4,
   "id": "28e11fdb",
   "metadata": {},
   "outputs": [
    {
     "data": {
      "text/plain": [
       "__main__.Araba"
      ]
     },
     "execution_count": 4,
     "metadata": {},
     "output_type": "execute_result"
    }
   ],
   "source": [
    "type(araba1)"
   ]
  },
  {
   "cell_type": "markdown",
   "id": "c6a5873a",
   "metadata": {},
   "source": [
    "**araba1** objesi artık sınıfta tanımladığımız bütün özelliklere (**attributes**) sahip olmuş oldu. İşte sınıf ve obje üretmek bu şekilde olmaktadır. Peki bu araba objesinin özelliklerinin nasıl görebiliriz ?\n",
    "\n",
    "--------------------------------------------------------------------------------------------------------------------------\n",
    "\n",
    "        obje_ismi.özellik_ismi\n",
    "--------------------------------------------------------------------------------------------------------------------------"
   ]
  },
  {
   "cell_type": "code",
   "execution_count": 6,
   "id": "249b1c05",
   "metadata": {},
   "outputs": [
    {
     "name": "stdout",
     "output_type": "stream",
     "text": [
      "Renault Megane\n",
      "Gümüş\n",
      "110\n",
      "4\n"
     ]
    }
   ],
   "source": [
    "print(araba1.model)\n",
    "\n",
    "print(araba1.renk)\n",
    "\n",
    "print(araba1.beygir_gücü)\n",
    "\n",
    "print(araba1.silindir)"
   ]
  },
  {
   "cell_type": "code",
   "execution_count": 8,
   "id": "4110fe18",
   "metadata": {},
   "outputs": [
    {
     "name": "stdout",
     "output_type": "stream",
     "text": [
      "Renault Megane\n",
      "Gümüş\n",
      "110\n",
      "4\n"
     ]
    }
   ],
   "source": [
    "araba2= Araba()\n",
    "\n",
    "print(araba2.model)\n",
    "\n",
    "print(araba2.renk)\n",
    "\n",
    "print(araba2.beygir_gücü)\n",
    "\n",
    "print(araba2.silindir)"
   ]
  },
  {
   "cell_type": "markdown",
   "id": "8e28bced",
   "metadata": {},
   "source": [
    "Burda gördüğümüz gibi oluşturduğumuz **objelerin** buradaki model,renk vs. gibi özelliklerinin değeri **aynıdır**. Çünkü aslında burada tanımladığımız özellikler birer **sınıf özelliğidir**. Yani biz bir **obje** oluşturduğumuzda bu özelliklerin değerleri **varsayılan** olarak gelir. Bu özelliklerin değerlerine , herhangi bir obje oluşturmadan da erişebiliriz. Bunu da şu şekilde yapabiliriz."
   ]
  },
  {
   "cell_type": "code",
   "execution_count": 9,
   "id": "5ece3791",
   "metadata": {},
   "outputs": [
    {
     "data": {
      "text/plain": [
       "'Gümüş'"
      ]
     },
     "execution_count": 9,
     "metadata": {},
     "output_type": "execute_result"
    }
   ],
   "source": [
    "Araba.renk # Class_İsmi.özellik_ismi"
   ]
  },
  {
   "cell_type": "markdown",
   "id": "d25d65c3",
   "metadata": {},
   "source": [
    "Bizim her bir objeyi başlangıçta farklı değerlerle oluşturmamız için her bir objeyi oluştururken objelerin değerlerini göndermemiz gerekiyor. Bunun için de özel bir **metodu** kullanmamız gerekmektedir. \n",
    "\t\t\t\n",
    "            init() \n",
    "\n",
    "*dir()* fonksiyonu yardımıyla araba1 objemizde neler var bakalım."
   ]
  },
  {
   "cell_type": "code",
   "execution_count": 10,
   "id": "bb1180bf",
   "metadata": {},
   "outputs": [
    {
     "data": {
      "text/plain": [
       "['__class__',\n",
       " '__delattr__',\n",
       " '__dict__',\n",
       " '__dir__',\n",
       " '__doc__',\n",
       " '__eq__',\n",
       " '__format__',\n",
       " '__ge__',\n",
       " '__getattribute__',\n",
       " '__gt__',\n",
       " '__hash__',\n",
       " '__init__',\n",
       " '__init_subclass__',\n",
       " '__le__',\n",
       " '__lt__',\n",
       " '__module__',\n",
       " '__ne__',\n",
       " '__new__',\n",
       " '__reduce__',\n",
       " '__reduce_ex__',\n",
       " '__repr__',\n",
       " '__setattr__',\n",
       " '__sizeof__',\n",
       " '__str__',\n",
       " '__subclasshook__',\n",
       " '__weakref__',\n",
       " 'beygir_gücü',\n",
       " 'model',\n",
       " 'renk',\n",
       " 'silindir']"
      ]
     },
     "execution_count": 10,
     "metadata": {},
     "output_type": "execute_result"
    }
   ],
   "source": [
    "dir(araba1)"
   ]
  },
  {
   "cell_type": "markdown",
   "id": "e0c0257e",
   "metadata": {},
   "source": [
    "Burada objemizin tüm özelliklerini ve metodlarını görüyoruz. Ancak biz herhangi bir metod tanımlamamıştır. Buradaki **metodlar** Python tarafından bir obje oluşturulduğunda özel olarak tanımlanan metodlardır ve biz eğer özel olarak bunları tanımlamazsak Python kendisi bunları varsayılan tanımlıyor. Burada aynı zamanda **init** metodunu da görüyoruz. Eğer biz bu metodu kendimiz tanımlarsak objelerimizi farklı değerlerle başlatabiliriz.\n",
    "\n",
    "Aslında **init metodu** Pythonda **yapıcı(constructor )** fonksiyon olarak tanımlanmaktadır. Bu metod objelerimiz oluşturulurken otomatik olarak ilk çağrılan fonksiyondur. Bu **metodu** özel olarak tanımlayarak **objelerimizi farklı değerlerle oluşturabiliriz.**"
   ]
  },
  {
   "cell_type": "code",
   "execution_count": 11,
   "id": "29edd446",
   "metadata": {},
   "outputs": [],
   "source": [
    "# Araba Veri tipi \n",
    "\n",
    "class Araba():\n",
    "    # Şimdilik Class özelliklerine ihtiyacımız yok.\n",
    "    \n",
    "    def __init__(self):\n",
    "        print(\"init fonksiyonu çağrıldı.\")"
   ]
  },
  {
   "cell_type": "code",
   "execution_count": 12,
   "id": "a8dfdebc",
   "metadata": {},
   "outputs": [
    {
     "name": "stdout",
     "output_type": "stream",
     "text": [
      "init fonksiyonu çağrıldı.\n"
     ]
    }
   ],
   "source": [
    "araba1 = Araba() # araba1 objesi oluşurken otomatik olarak __init__ metodumuz çağrılıyor."
   ]
  },
  {
   "cell_type": "markdown",
   "id": "1b6604cc",
   "metadata": {},
   "source": [
    "**self** anahtar kelimesi objeyi oluşturduğumuz zaman o objeyi gösteren bir **referanstır** ve metodlarımızda en başta bulunması gereken bir **parametredir**. Yani biz bir objenin bütün özelliklerini ve metodlarını bu referans üzerinden kullanabiliriz.\n",
    "\n",
    "**Objeler** oluşturulurken, Python bu referansı metodlara otomatik olarak kendisi gönderir. Özel olarak self referansını göndermemize gerek yoktur.\n",
    "\n",
    "init metodunu ve self'i iyi anlamak için objelerimize özellikler ekleyelim."
   ]
  },
  {
   "cell_type": "code",
   "execution_count": 13,
   "id": "c57e4d4f",
   "metadata": {},
   "outputs": [],
   "source": [
    "class Araba():\n",
    "    \n",
    "    def __init__(self,model,renk,beygir_gücü,silindir): # Parametrelerimizin değerlerini objelerimizi oluştururken göndereceğiz.\n",
    "        self.model =  model # self.özellik_ismi = parametre değeri şeklinde objemizin model özelliğine değeri atıyoruz.\n",
    "        self.renk = renk # self.özellik_ismi = parametre değeri şeklinde objemizin renk özelliğine değeri atıyoruz.\n",
    "        self.beygir_gücü = beygir_gücü # self.özellik_ismi = parametre değeri şeklinde objemizin beygir_gücü özelliğine değeri atıyoruz.\n",
    "        self.silindir = silindir # self.özellik_ismi = parametre değeri şeklinde objemizin silndir özelliğine değeri atıyoruz."
   ]
  },
  {
   "cell_type": "code",
   "execution_count": 14,
   "id": "16952665",
   "metadata": {},
   "outputs": [],
   "source": [
    "# araba1 objesini oluşturalım.\n",
    "# Artık değerlerimizi göndererek objelerimizin özelliklerini istediğimiz değerle başlatabiliriz.\n",
    "araba1 = Araba(\"Peugeot 301\",\"Beyaz\",90,4) \n"
   ]
  },
  {
   "cell_type": "code",
   "execution_count": 15,
   "id": "778a1ab7",
   "metadata": {},
   "outputs": [],
   "source": [
    "# araba2 objesini oluşturalım.\n",
    "araba2 = Araba(\"Renault Megane\",\"Gümüş\",110,4)"
   ]
  },
  {
   "cell_type": "code",
   "execution_count": 16,
   "id": "b9455add",
   "metadata": {},
   "outputs": [
    {
     "name": "stdout",
     "output_type": "stream",
     "text": [
      "Peugeot 301\n",
      "Beyaz\n",
      "Renault Megane\n",
      "Gümüş\n"
     ]
    }
   ],
   "source": [
    "print(araba1.model)\n",
    "\n",
    "print(araba1.renk)\n",
    "\n",
    "print(araba2.model)\n",
    "\n",
    "print(araba2.renk)"
   ]
  },
  {
   "cell_type": "markdown",
   "id": "5045bc76",
   "metadata": {},
   "source": [
    "**İstersek init metodunu varsayılan değerlerle de yazabiliriz.**"
   ]
  },
  {
   "cell_type": "code",
   "execution_count": 17,
   "id": "bbbf2805",
   "metadata": {},
   "outputs": [],
   "source": [
    "class Araba():\n",
    "    \n",
    "    def __init__(self , model = \"Bilgi Yok\",renk = \"Bilgi Yok\",beygir_gücü = 75 ,silindir = 4): \n",
    "        self.model =  model \n",
    "        self.renk = renk \n",
    "        self.beygir_gücü = beygir_gücü \n",
    "        self.silindir = silindir"
   ]
  },
  {
   "cell_type": "code",
   "execution_count": 18,
   "id": "e21e31ac",
   "metadata": {},
   "outputs": [],
   "source": [
    "araba1 = Araba(beygir_gücü = 85, renk = \"Siyah\")"
   ]
  },
  {
   "cell_type": "code",
   "execution_count": 19,
   "id": "3dea10cd",
   "metadata": {},
   "outputs": [
    {
     "data": {
      "text/plain": [
       "'Siyah'"
      ]
     },
     "execution_count": 19,
     "metadata": {},
     "output_type": "execute_result"
    }
   ],
   "source": [
    "araba1.renk"
   ]
  },
  {
   "cell_type": "code",
   "execution_count": 20,
   "id": "903ea8be",
   "metadata": {},
   "outputs": [
    {
     "data": {
      "text/plain": [
       "'Bilgi Yok'"
      ]
     },
     "execution_count": 20,
     "metadata": {},
     "output_type": "execute_result"
    }
   ],
   "source": [
    "araba1.model"
   ]
  }
 ],
 "metadata": {
  "kernelspec": {
   "display_name": "Python 3 (ipykernel)",
   "language": "python",
   "name": "python3"
  },
  "language_info": {
   "codemirror_mode": {
    "name": "ipython",
    "version": 3
   },
   "file_extension": ".py",
   "mimetype": "text/x-python",
   "name": "python",
   "nbconvert_exporter": "python",
   "pygments_lexer": "ipython3",
   "version": "3.10.9"
  }
 },
 "nbformat": 4,
 "nbformat_minor": 5
}
