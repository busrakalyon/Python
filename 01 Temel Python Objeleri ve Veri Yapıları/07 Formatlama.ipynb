{
 "cells": [
  {
   "cell_type": "code",
   "execution_count": 2,
   "id": "336f195c",
   "metadata": {},
   "outputs": [
    {
     "name": "stdout",
     "output_type": "stream",
     "text": [
      "Merhaba, benim adım Büşra, yaşım 24.\n"
     ]
    }
   ],
   "source": [
    "#format() fonksiyonu kullanımı\n",
    "isim = \"Büşra\"\n",
    "yas = 24\n",
    "print(\"Merhaba, benim adım {}, yaşım {}.\".format(isim, yas))"
   ]
  },
  {
   "cell_type": "code",
   "execution_count": 3,
   "id": "090887cc",
   "metadata": {},
   "outputs": [
    {
     "name": "stdout",
     "output_type": "stream",
     "text": [
      "Merhaba, benim adım Büşra, soyadım Kalyon, yaşım 24.\n"
     ]
    }
   ],
   "source": [
    "print(\"Merhaba, benim adım {}, soyadım {}, yaşım {}.\".format(\"Büşra\", \"Kalyon\", 24))"
   ]
  },
  {
   "cell_type": "code",
   "execution_count": 5,
   "id": "d2dc9b5c",
   "metadata": {},
   "outputs": [
    {
     "name": "stdout",
     "output_type": "stream",
     "text": [
      "Merhaba, benim adım Büşra, soyadım Kalyon, yaşım 24.\n"
     ]
    }
   ],
   "source": [
    "print(\"Merhaba, benim adım {1}, soyadım {0}, yaşım {2}.\".format( \"Kalyon\",\"Büşra\", 24))"
   ]
  },
  {
   "cell_type": "code",
   "execution_count": 9,
   "id": "8bcc2aa7",
   "metadata": {},
   "outputs": [
    {
     "name": "stdout",
     "output_type": "stream",
     "text": [
      "3.15, 9.81, 2.72 sayıları, özel sayıdır.\n"
     ]
    }
   ],
   "source": [
    "print(\"{:.2f}, {:.2f}, {:.2f} sayıları, özel sayıdır.\".format(3.1463, 9.80665, 2.71828))"
   ]
  },
  {
   "cell_type": "markdown",
   "id": "dd1a6d38",
   "metadata": {},
   "source": [
    "https://pyformat.info/ sitesinde format fonksiyonun tüm özellikleri var."
   ]
  }
 ],
 "metadata": {
  "kernelspec": {
   "display_name": "Python 3 (ipykernel)",
   "language": "python",
   "name": "python3"
  },
  "language_info": {
   "codemirror_mode": {
    "name": "ipython",
    "version": 3
   },
   "file_extension": ".py",
   "mimetype": "text/x-python",
   "name": "python",
   "nbconvert_exporter": "python",
   "pygments_lexer": "ipython3",
   "version": "3.10.9"
  }
 },
 "nbformat": 4,
 "nbformat_minor": 5
}
