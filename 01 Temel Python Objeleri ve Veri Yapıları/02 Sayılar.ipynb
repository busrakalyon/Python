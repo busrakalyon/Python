{
 "cells": [
  {
   "cell_type": "code",
   "execution_count": 1,
   "id": "d9c9306f",
   "metadata": {},
   "outputs": [
    {
     "data": {
      "text/plain": [
       "42"
      ]
     },
     "execution_count": 1,
     "metadata": {},
     "output_type": "execute_result"
    }
   ],
   "source": [
    "10 + 32"
   ]
  },
  {
   "cell_type": "code",
   "execution_count": 2,
   "id": "ce8a1525",
   "metadata": {},
   "outputs": [
    {
     "data": {
      "text/plain": [
       "40"
      ]
     },
     "execution_count": 2,
     "metadata": {},
     "output_type": "execute_result"
    }
   ],
   "source": [
    "43 - 3"
   ]
  },
  {
   "cell_type": "code",
   "execution_count": 6,
   "id": "d7a7111d",
   "metadata": {},
   "outputs": [
    {
     "data": {
      "text/plain": [
       "70"
      ]
     },
     "execution_count": 6,
     "metadata": {},
     "output_type": "execute_result"
    }
   ],
   "source": [
    "5*2*7"
   ]
  },
  {
   "cell_type": "code",
   "execution_count": 5,
   "id": "920a1957",
   "metadata": {},
   "outputs": [
    {
     "data": {
      "text/plain": [
       "216.0"
      ]
     },
     "execution_count": 5,
     "metadata": {},
     "output_type": "execute_result"
    }
   ],
   "source": [
    "432/4"
   ]
  },
  {
   "cell_type": "code",
   "execution_count": 7,
   "id": "a181fe64",
   "metadata": {},
   "outputs": [
    {
     "data": {
      "text/plain": [
       "10.600000000000001"
      ]
     },
     "execution_count": 7,
     "metadata": {},
     "output_type": "execute_result"
    }
   ],
   "source": [
    "4.2 + 6.4"
   ]
  },
  {
   "cell_type": "code",
   "execution_count": 8,
   "id": "f65860de",
   "metadata": {},
   "outputs": [
    {
     "data": {
      "text/plain": [
       "38.69"
      ]
     },
     "execution_count": 8,
     "metadata": {},
     "output_type": "execute_result"
    }
   ],
   "source": [
    "5.3 * 7.3"
   ]
  },
  {
   "cell_type": "code",
   "execution_count": 9,
   "id": "2e464849",
   "metadata": {},
   "outputs": [],
   "source": [
    "busra = 1998"
   ]
  },
  {
   "cell_type": "code",
   "execution_count": 10,
   "id": "c880631f",
   "metadata": {},
   "outputs": [
    {
     "data": {
      "text/plain": [
       "1998"
      ]
     },
     "execution_count": 10,
     "metadata": {},
     "output_type": "execute_result"
    }
   ],
   "source": [
    "busra"
   ]
  },
  {
   "cell_type": "code",
   "execution_count": 11,
   "id": "0f1fd804",
   "metadata": {},
   "outputs": [],
   "source": [
    "busra = 19.98"
   ]
  },
  {
   "cell_type": "code",
   "execution_count": 12,
   "id": "fe6dcda9",
   "metadata": {},
   "outputs": [
    {
     "data": {
      "text/plain": [
       "19.98"
      ]
     },
     "execution_count": 12,
     "metadata": {},
     "output_type": "execute_result"
    }
   ],
   "source": [
    "busra"
   ]
  },
  {
   "cell_type": "markdown",
   "id": "3a05d4ab",
   "metadata": {},
   "source": [
    "python'da veri tipi dinamiktir. atadığımız değişkenin değerini değiştirince değişkenin tipi de otomatik güncellenir."
   ]
  },
  {
   "cell_type": "code",
   "execution_count": 13,
   "id": "89108563",
   "metadata": {},
   "outputs": [
    {
     "data": {
      "text/plain": [
       "10"
      ]
     },
     "execution_count": 13,
     "metadata": {},
     "output_type": "execute_result"
    }
   ],
   "source": [
    "a=2\n",
    "b=4\n",
    "c=a+2*b\n",
    "c"
   ]
  },
  {
   "cell_type": "code",
   "execution_count": 15,
   "id": "35307e61",
   "metadata": {},
   "outputs": [
    {
     "data": {
      "text/plain": [
       "12.56"
      ]
     },
     "execution_count": 15,
     "metadata": {},
     "output_type": "execute_result"
    }
   ],
   "source": [
    "pi = 3.14\n",
    "cap = 4\n",
    "cevre = pi*cap\n",
    "cevre"
   ]
  },
  {
   "cell_type": "code",
   "execution_count": 17,
   "id": "63439df0",
   "metadata": {},
   "outputs": [],
   "source": [
    "a=4\n",
    "b=7"
   ]
  },
  {
   "cell_type": "markdown",
   "id": "a4effd78",
   "metadata": {},
   "source": [
    "a ve b'nin içindekini yer değiştirmek için \\/"
   ]
  },
  {
   "cell_type": "code",
   "execution_count": 18,
   "id": "2b10bf3d",
   "metadata": {},
   "outputs": [],
   "source": [
    "a,b = b,a"
   ]
  },
  {
   "cell_type": "code",
   "execution_count": 19,
   "id": "1e763aa9",
   "metadata": {},
   "outputs": [
    {
     "data": {
      "text/plain": [
       "7"
      ]
     },
     "execution_count": 19,
     "metadata": {},
     "output_type": "execute_result"
    }
   ],
   "source": [
    "a"
   ]
  },
  {
   "cell_type": "code",
   "execution_count": 20,
   "id": "a718ea2c",
   "metadata": {},
   "outputs": [
    {
     "data": {
      "text/plain": [
       "4"
      ]
     },
     "execution_count": 20,
     "metadata": {},
     "output_type": "execute_result"
    }
   ],
   "source": [
    "b"
   ]
  },
  {
   "cell_type": "markdown",
   "id": "782746ab",
   "metadata": {},
   "source": [
    "değişkenin değerlerini arttırma yöntemleri"
   ]
  },
  {
   "cell_type": "code",
   "execution_count": 21,
   "id": "af4a6f6c",
   "metadata": {},
   "outputs": [
    {
     "data": {
      "text/plain": [
       "6"
      ]
     },
     "execution_count": 21,
     "metadata": {},
     "output_type": "execute_result"
    }
   ],
   "source": [
    "i = 5\n",
    "i = i+1\n",
    "i"
   ]
  },
  {
   "cell_type": "code",
   "execution_count": 22,
   "id": "410f73b2",
   "metadata": {},
   "outputs": [
    {
     "data": {
      "text/plain": [
       "10"
      ]
     },
     "execution_count": 22,
     "metadata": {},
     "output_type": "execute_result"
    }
   ],
   "source": [
    "i=5\n",
    "i+=5\n",
    "i"
   ]
  },
  {
   "cell_type": "code",
   "execution_count": 23,
   "id": "664038f6",
   "metadata": {},
   "outputs": [],
   "source": [
    "#tekli yorum satırı"
   ]
  },
  {
   "cell_type": "code",
   "execution_count": null,
   "id": "4e53d578",
   "metadata": {},
   "outputs": [],
   "source": [
    "\"\"\"\"\n",
    "çoklu yorum \n",
    "\"\"\"\""
   ]
  }
 ],
 "metadata": {
  "kernelspec": {
   "display_name": "Python 3 (ipykernel)",
   "language": "python",
   "name": "python3"
  },
  "language_info": {
   "codemirror_mode": {
    "name": "ipython",
    "version": 3
   },
   "file_extension": ".py",
   "mimetype": "text/x-python",
   "name": "python",
   "nbconvert_exporter": "python",
   "pygments_lexer": "ipython3",
   "version": "3.10.9"
  }
 },
 "nbformat": 4,
 "nbformat_minor": 5
}
