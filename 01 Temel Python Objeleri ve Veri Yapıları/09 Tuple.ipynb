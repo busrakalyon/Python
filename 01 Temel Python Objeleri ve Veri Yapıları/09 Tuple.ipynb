{
 "cells": [
  {
   "cell_type": "markdown",
   "id": "3e255ec8",
   "metadata": {},
   "source": [
    "# TUPLE'LAR (Demetler)\n",
    "**Listelere benzer, farkı değiştirilemez olmalarıdır.**"
   ]
  },
  {
   "cell_type": "code",
   "execution_count": 1,
   "id": "48a4d39e",
   "metadata": {},
   "outputs": [
    {
     "data": {
      "text/plain": [
       "tuple"
      ]
     },
     "execution_count": 1,
     "metadata": {},
     "output_type": "execute_result"
    }
   ],
   "source": [
    "a = (1,2,3,4,5)\n",
    "type(a)"
   ]
  },
  {
   "cell_type": "code",
   "execution_count": 10,
   "id": "2d584393",
   "metadata": {},
   "outputs": [
    {
     "name": "stdout",
     "output_type": "stream",
     "text": [
      "4\n",
      "(1, 2, 3)\n",
      "(5, 4, 3, 2, 1)\n"
     ]
    }
   ],
   "source": [
    "print(a[3])\n",
    "print(a[:3:])\n",
    "print(a[::-1])"
   ]
  },
  {
   "cell_type": "markdown",
   "id": "0ded1e36",
   "metadata": {},
   "source": [
    "## Tuple'ların Metodları\n",
    "**Üzerlerinde değişim yapamadığımız için sadece iki metodları bulunuyor.**"
   ]
  },
  {
   "cell_type": "code",
   "execution_count": 16,
   "id": "70517da7",
   "metadata": {},
   "outputs": [
    {
     "name": "stdout",
     "output_type": "stream",
     "text": [
      "0\n"
     ]
    }
   ],
   "source": [
    "#bir elemanın tuple'ın içinde kaç kere geçtiğini count() metodu ile buluruz\n",
    "b = (3,2,3,4,4,3,3,2,2,2,3,3,4,4,3,2,5,1,1,2,2,3,3,4,4,4)\n",
    "print(b.count(9))"
   ]
  },
  {
   "cell_type": "code",
   "execution_count": 18,
   "id": "52effb07",
   "metadata": {},
   "outputs": [
    {
     "data": {
      "text/plain": [
       "1"
      ]
     },
     "execution_count": 18,
     "metadata": {},
     "output_type": "execute_result"
    }
   ],
   "source": [
    "# verilen elemanın hangi indexte bulunduğunu index() metodu ile buluruz.\n",
    "b.index(2)"
   ]
  }
 ],
 "metadata": {
  "kernelspec": {
   "display_name": "Python 3 (ipykernel)",
   "language": "python",
   "name": "python3"
  },
  "language_info": {
   "codemirror_mode": {
    "name": "ipython",
    "version": 3
   },
   "file_extension": ".py",
   "mimetype": "text/x-python",
   "name": "python",
   "nbconvert_exporter": "python",
   "pygments_lexer": "ipython3",
   "version": "3.10.9"
  }
 },
 "nbformat": 4,
 "nbformat_minor": 5
}
