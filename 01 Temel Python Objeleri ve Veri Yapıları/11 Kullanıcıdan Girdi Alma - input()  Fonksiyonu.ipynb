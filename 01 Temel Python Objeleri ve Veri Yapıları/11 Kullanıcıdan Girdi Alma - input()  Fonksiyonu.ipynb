{
 "cells": [
  {
   "cell_type": "code",
   "execution_count": 2,
   "id": "24033051",
   "metadata": {},
   "outputs": [
    {
     "name": "stdout",
     "output_type": "stream",
     "text": [
      "Lütfen bir sayı giriniz:43\n"
     ]
    },
    {
     "data": {
      "text/plain": [
       "'43'"
      ]
     },
     "execution_count": 2,
     "metadata": {},
     "output_type": "execute_result"
    }
   ],
   "source": [
    "input(\"Lütfen bir sayı giriniz:\")"
   ]
  },
  {
   "cell_type": "code",
   "execution_count": 3,
   "id": "0b9467d8",
   "metadata": {},
   "outputs": [
    {
     "name": "stdout",
     "output_type": "stream",
     "text": [
      "Bir sayı giriniz:32\n",
      "Kullanıcının girdiği değer: 32\n"
     ]
    }
   ],
   "source": [
    "a = input(\"Bir sayı giriniz:\")\n",
    "print(\"Kullanıcının girdiği değer:\", a)"
   ]
  },
  {
   "cell_type": "markdown",
   "id": "418c72a0",
   "metadata": {},
   "source": [
    "**input'tan girilen değer string veri tipinde kabul edilir.**"
   ]
  },
  {
   "cell_type": "code",
   "execution_count": 6,
   "id": "52b0fd30",
   "metadata": {},
   "outputs": [
    {
     "name": "stdout",
     "output_type": "stream",
     "text": [
      "Bir sayı giriniz:45\n",
      "<class 'int'>\n"
     ]
    }
   ],
   "source": [
    "#alınan değerin tipini dönüştürme\n",
    "b = int(input(\"Bir sayı giriniz:\"))\n",
    "print(type(b))"
   ]
  }
 ],
 "metadata": {
  "kernelspec": {
   "display_name": "Python 3 (ipykernel)",
   "language": "python",
   "name": "python3"
  },
  "language_info": {
   "codemirror_mode": {
    "name": "ipython",
    "version": 3
   },
   "file_extension": ".py",
   "mimetype": "text/x-python",
   "name": "python",
   "nbconvert_exporter": "python",
   "pygments_lexer": "ipython3",
   "version": "3.10.9"
  }
 },
 "nbformat": 4,
 "nbformat_minor": 5
}
