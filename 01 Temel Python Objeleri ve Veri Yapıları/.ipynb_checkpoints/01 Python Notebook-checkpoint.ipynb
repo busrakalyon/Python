{
 "cells": [
  {
   "cell_type": "code",
   "execution_count": 1,
   "id": "850f97e2",
   "metadata": {
    "scrolled": true
   },
   "outputs": [
    {
     "name": "stdout",
     "output_type": "stream",
     "text": [
      "Python\n"
     ]
    }
   ],
   "source": [
    "print(\"Python\")"
   ]
  },
  {
   "cell_type": "code",
   "execution_count": 2,
   "id": "02a500e6",
   "metadata": {
    "scrolled": true
   },
   "outputs": [
    {
     "name": "stdout",
     "output_type": "stream",
     "text": [
      "Python'a Hoşgeldiniz...\n"
     ]
    }
   ],
   "source": [
    "print(\"Python'a Hoşgeldiniz...\")"
   ]
  },
  {
   "cell_type": "code",
   "execution_count": 3,
   "id": "6c4c3789",
   "metadata": {},
   "outputs": [
    {
     "ename": "KeyboardInterrupt",
     "evalue": "",
     "output_type": "error",
     "traceback": [
      "\u001b[1;31m---------------------------------------------------------------------------\u001b[0m",
      "\u001b[1;31mKeyboardInterrupt\u001b[0m                         Traceback (most recent call last)",
      "Cell \u001b[1;32mIn[3], line 1\u001b[0m\n\u001b[1;32m----> 1\u001b[0m \u001b[38;5;28;01mwhile\u001b[39;00m \u001b[38;5;28;01mTrue\u001b[39;00m:\n\u001b[0;32m      2\u001b[0m     \u001b[38;5;28;01mpass\u001b[39;00m\n",
      "\u001b[1;31mKeyboardInterrupt\u001b[0m: "
     ]
    }
   ],
   "source": [
    "while True:\n",
    "    pass"
   ]
  },
  {
   "cell_type": "markdown",
   "id": "00b99b12",
   "metadata": {},
   "source": [
    "In [3] deki döngü sonsuza kadar gider. Bunu \"kernel\" interrupt ile durdurabiliriz."
   ]
  },
  {
   "cell_type": "markdown",
   "id": "ab7cf31b",
   "metadata": {},
   "source": [
    "Kodların yazılı olduğu kutuların adı \"cell\". Ok işaretleriyle bu cell'leri aşağı yukarı taşıyabiliriz. Makas işaretine bakarak cell'leri silebiliriz."
   ]
  },
  {
   "cell_type": "code",
   "execution_count": 4,
   "id": "0a7cbf92",
   "metadata": {},
   "outputs": [],
   "source": [
    "s = \"Python\""
   ]
  },
  {
   "cell_type": "code",
   "execution_count": 5,
   "id": "e4896402",
   "metadata": {},
   "outputs": [
    {
     "data": {
      "text/plain": [
       "<function str.count>"
      ]
     },
     "execution_count": 5,
     "metadata": {},
     "output_type": "execute_result"
    }
   ],
   "source": [
    "s.count"
   ]
  },
  {
   "cell_type": "markdown",
   "id": "fac22e23",
   "metadata": {},
   "source": [
    "fonksiyonları görüntülemek için Tab'a bas."
   ]
  },
  {
   "cell_type": "markdown",
   "id": "79989e76",
   "metadata": {},
   "source": [
    "fonksiyonun işlevini öğrenmek için shift + Tab bas"
   ]
  },
  {
   "cell_type": "code",
   "execution_count": 6,
   "id": "ca217c98",
   "metadata": {},
   "outputs": [
    {
     "name": "stdout",
     "output_type": "stream",
     "text": [
      "Help on built-in function count:\n",
      "\n",
      "count(...) method of builtins.str instance\n",
      "    S.count(sub[, start[, end]]) -> int\n",
      "    \n",
      "    Return the number of non-overlapping occurrences of substring sub in\n",
      "    string S[start:end].  Optional arguments start and end are\n",
      "    interpreted as in slice notation.\n",
      "\n"
     ]
    }
   ],
   "source": [
    "help(s.count)"
   ]
  },
  {
   "cell_type": "markdown",
   "id": "3c2bfb5d",
   "metadata": {},
   "source": [
    "üstteki fonksiyon ile s içindeki tüm metodları ve özellikleri ekranda görmüş oluruz"
   ]
  },
  {
   "cell_type": "markdown",
   "id": "bf2628fd",
   "metadata": {},
   "source": [
    "kernel'dan restart'ı seçersek kodları baştan çalıştırmamız gerekir."
   ]
  },
  {
   "cell_type": "markdown",
   "id": "e0011007",
   "metadata": {},
   "source": [
    "https://jupyter.brynmawr.edu/services/public/dblank/Jupyter%20Notebook%20Users%20Manual.ipynb\n",
    "\n",
    "bu linkten jupyter notebook'un kullanımına bakılabilir."
   ]
  }
 ],
 "metadata": {
  "kernelspec": {
   "display_name": "Python 3 (ipykernel)",
   "language": "python",
   "name": "python3"
  },
  "language_info": {
   "codemirror_mode": {
    "name": "ipython",
    "version": 3
   },
   "file_extension": ".py",
   "mimetype": "text/x-python",
   "name": "python",
   "nbconvert_exporter": "python",
   "pygments_lexer": "ipython3",
   "version": "3.10.9"
  }
 },
 "nbformat": 4,
 "nbformat_minor": 5
}
