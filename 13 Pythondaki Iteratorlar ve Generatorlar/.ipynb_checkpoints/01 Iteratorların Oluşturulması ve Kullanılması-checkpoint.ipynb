{
 "cells": [
  {
   "cell_type": "markdown",
   "id": "b1e2036c",
   "metadata": {},
   "source": [
    "# Iteratorların Oluşturulması ve Kullanılması\n",
    "\n",
    "### Iteratorlar nedir?\n",
    "**Iteratorlar** aslında Pythonda çoğu yerde biz görmesek de kullanılır. **Iteratorlar** özellikle for döngülerinde , list comprehensionlarında, ve bir sonraki derste göreceğimiz generatorlarda karşımıza çıkar.\n",
    "\n",
    "**Iteratorlar** en genel anlamıyla üzerinde gezinilebilecek bir objedir ve bu obje her seferinde bir tane eleman döner.\n",
    "\n",
    "Pythonda kendisinden **iterator** oluşturabileceğimiz her obje **iterable** bir objedir.. Örneğin, demetlerden,listelerden ve stringlerden oluşturduğumuz bütün objeler iterable bir objedir.\n",
    "\n",
    "Bir objenin iterable olması için hazır metodlar olan `__iter()__ ve __next()__`metodlarını mutlaka tanımlaması gerekir.\n",
    "\n",
    "### Iterator oluşturma*\n",
    "Bir **iterator** objesini , **iterable** bir objeden (liste,demet,string vs) oluşturmak için Pythonda **iter()** fonksiyonunu kullanıyoruz ve bu objenin bir sonraki elemanını almak için **next()** fonksiyonu kullanıyoruz."
   ]
  },
  {
   "cell_type": "code",
   "execution_count": 1,
   "id": "e092fb1b",
   "metadata": {},
   "outputs": [
    {
     "data": {
      "text/plain": [
       "['__add__',\n",
       " '__class__',\n",
       " '__class_getitem__',\n",
       " '__contains__',\n",
       " '__delattr__',\n",
       " '__delitem__',\n",
       " '__dir__',\n",
       " '__doc__',\n",
       " '__eq__',\n",
       " '__format__',\n",
       " '__ge__',\n",
       " '__getattribute__',\n",
       " '__getitem__',\n",
       " '__gt__',\n",
       " '__hash__',\n",
       " '__iadd__',\n",
       " '__imul__',\n",
       " '__init__',\n",
       " '__init_subclass__',\n",
       " '__iter__',\n",
       " '__le__',\n",
       " '__len__',\n",
       " '__lt__',\n",
       " '__mul__',\n",
       " '__ne__',\n",
       " '__new__',\n",
       " '__reduce__',\n",
       " '__reduce_ex__',\n",
       " '__repr__',\n",
       " '__reversed__',\n",
       " '__rmul__',\n",
       " '__setattr__',\n",
       " '__setitem__',\n",
       " '__sizeof__',\n",
       " '__str__',\n",
       " '__subclasshook__',\n",
       " 'append',\n",
       " 'clear',\n",
       " 'copy',\n",
       " 'count',\n",
       " 'extend',\n",
       " 'index',\n",
       " 'insert',\n",
       " 'pop',\n",
       " 'remove',\n",
       " 'reverse',\n",
       " 'sort']"
      ]
     },
     "execution_count": 1,
     "metadata": {},
     "output_type": "execute_result"
    }
   ],
   "source": [
    "liste = [1,2,3,4,5]\n",
    "\n",
    "dir(liste) # __iter__ metodu tanımlı olduğu için listeler üzerinde iterator oluşturabiliriz."
   ]
  },
  {
   "cell_type": "code",
   "execution_count": 2,
   "id": "8d45cfea",
   "metadata": {},
   "outputs": [],
   "source": [
    "iterator = iter(liste) # Iterator oluşturma"
   ]
  },
  {
   "cell_type": "code",
   "execution_count": 3,
   "id": "cc98d7fd",
   "metadata": {},
   "outputs": [
    {
     "data": {
      "text/plain": [
       "1"
      ]
     },
     "execution_count": 3,
     "metadata": {},
     "output_type": "execute_result"
    }
   ],
   "source": [
    "next(iterator) # next metoduyla sıradaki eleman"
   ]
  },
  {
   "cell_type": "code",
   "execution_count": 4,
   "id": "d43e94cb",
   "metadata": {},
   "outputs": [
    {
     "data": {
      "text/plain": [
       "2"
      ]
     },
     "execution_count": 4,
     "metadata": {},
     "output_type": "execute_result"
    }
   ],
   "source": [
    "next(iterator) # next metoduyla sıradaki eleman"
   ]
  },
  {
   "cell_type": "code",
   "execution_count": 5,
   "id": "b6604731",
   "metadata": {},
   "outputs": [
    {
     "data": {
      "text/plain": [
       "3"
      ]
     },
     "execution_count": 5,
     "metadata": {},
     "output_type": "execute_result"
    }
   ],
   "source": [
    "next(iterator) # next metoduyla sıradaki eleman"
   ]
  },
  {
   "cell_type": "code",
   "execution_count": 6,
   "id": "2561d4a8",
   "metadata": {},
   "outputs": [
    {
     "data": {
      "text/plain": [
       "4"
      ]
     },
     "execution_count": 6,
     "metadata": {},
     "output_type": "execute_result"
    }
   ],
   "source": [
    "next(iterator) # next metoduyla sıradaki eleman"
   ]
  },
  {
   "cell_type": "code",
   "execution_count": 7,
   "id": "f952efe1",
   "metadata": {},
   "outputs": [
    {
     "data": {
      "text/plain": [
       "5"
      ]
     },
     "execution_count": 7,
     "metadata": {},
     "output_type": "execute_result"
    }
   ],
   "source": [
    "next(iterator) # next metoduyla sıradaki eleman"
   ]
  },
  {
   "cell_type": "code",
   "execution_count": 9,
   "id": "689c3345",
   "metadata": {},
   "outputs": [
    {
     "ename": "StopIteration",
     "evalue": "",
     "output_type": "error",
     "traceback": [
      "\u001b[1;31m---------------------------------------------------------------------------\u001b[0m",
      "\u001b[1;31mStopIteration\u001b[0m                             Traceback (most recent call last)",
      "Cell \u001b[1;32mIn[9], line 1\u001b[0m\n\u001b[1;32m----> 1\u001b[0m \u001b[38;5;28;43mnext\u001b[39;49m\u001b[43m(\u001b[49m\u001b[43miterator\u001b[49m\u001b[43m)\u001b[49m\n",
      "\u001b[1;31mStopIteration\u001b[0m: "
     ]
    }
   ],
   "source": [
    "next(iterator) # Eleman kalmadığı için \"StopIteration\" hatası"
   ]
  },
  {
   "cell_type": "markdown",
   "id": "380b3475",
   "metadata": {},
   "source": [
    "**iterable** bir objeden bir **iterator'ı** bu şekilde oluşturup, **next()** fonksiyonuyla objenin sıradaki elemanını alabiliyoruz. Ancak eleman kalmayınca **StopIteration** hatasını alıyoruz. "
   ]
  },
  {
   "cell_type": "code",
   "execution_count": 10,
   "id": "581d574e",
   "metadata": {},
   "outputs": [
    {
     "name": "stdout",
     "output_type": "stream",
     "text": [
      "1\n",
      "2\n",
      "3\n",
      "4\n",
      "5\n"
     ]
    }
   ],
   "source": [
    "liste = [1,2,3,4,5]\n",
    "\n",
    "for i in liste:\n",
    "    print(i)"
   ]
  },
  {
   "cell_type": "markdown",
   "id": "a6ded18a",
   "metadata": {},
   "source": [
    "Aslında for döngülerinin iç yapısı şu şekildedir;"
   ]
  },
  {
   "cell_type": "code",
   "execution_count": 11,
   "id": "c55b095b",
   "metadata": {},
   "outputs": [
    {
     "name": "stdout",
     "output_type": "stream",
     "text": [
      "1\n",
      "2\n",
      "3\n",
      "4\n",
      "5\n"
     ]
    }
   ],
   "source": [
    "liste = [1,2,3,4,5]\n",
    "\n",
    "iterator = iter(liste)\n",
    "\n",
    "while True:\n",
    "    try:\n",
    "        print(next(iterator))\n",
    "        \n",
    "    except StopIteration:\n",
    "        break\n",
    "    "
   ]
  },
  {
   "cell_type": "markdown",
   "id": "8c0b6726",
   "metadata": {},
   "source": [
    "### Kendi Iterable Objelerimizi Oluşturmak\n",
    "Kendi oluşturduğumuz veri tiplerini iterable yapmak için oluşturacağımız sınıfların mutlaka  \n",
    "\n",
    "\t__iter()__  ve __next()__\n",
    "metodlarını tanımlaması gereklidir. Şimdi bir tane kumanda sınıfı oluşturalım ve bu sınıfı iterable yapalım."
   ]
  },
  {
   "cell_type": "code",
   "execution_count": 12,
   "id": "a2f1a35c",
   "metadata": {},
   "outputs": [],
   "source": [
    "class Kumanda():\n",
    "    def __init__(self,kanal_listesi):\n",
    "        self.kanal_listesi = kanal_listesi # Kanal Listemiz\n",
    "        self.index = -1 # İndeksimiz\n",
    "        \n",
    "    def __iter__(self):\n",
    "        return self # iterator oluşturduğumuzda (iter fonksiyonu çağrıldığında )objemizi döneceğiz.\n",
    "    def __next__(self): # next fonksiyonu çağrıldığında burası çalışacak.\n",
    "        self.index += 1\n",
    "        if (self.index < len(self.kanal_listesi)):\n",
    "            return self.kanal_listesi[self.index]\n",
    "        else:\n",
    "            self.index = -1\n",
    "            raise StopIteration"
   ]
  },
  {
   "cell_type": "code",
   "execution_count": 13,
   "id": "2856c6ef",
   "metadata": {},
   "outputs": [],
   "source": [
    "kumanda = Kumanda([\"Kanal d\",\"Trt\",\"Atv\",\"Fox\",\"Bloomberg\"]) # Objemizi oluşturuyoruz."
   ]
  },
  {
   "cell_type": "code",
   "execution_count": 14,
   "id": "ce73599c",
   "metadata": {},
   "outputs": [],
   "source": [
    "iterator =  iter(kumanda) # Objemiz iterable olduğu için iterator oluşturulabilir."
   ]
  },
  {
   "cell_type": "code",
   "execution_count": 15,
   "id": "2f44e15a",
   "metadata": {},
   "outputs": [
    {
     "data": {
      "text/plain": [
       "'Kanal d'"
      ]
     },
     "execution_count": 15,
     "metadata": {},
     "output_type": "execute_result"
    }
   ],
   "source": [
    "next(iterator)"
   ]
  },
  {
   "cell_type": "code",
   "execution_count": 16,
   "id": "7933f166",
   "metadata": {},
   "outputs": [
    {
     "data": {
      "text/plain": [
       "'Trt'"
      ]
     },
     "execution_count": 16,
     "metadata": {},
     "output_type": "execute_result"
    }
   ],
   "source": [
    "next(iterator)"
   ]
  },
  {
   "cell_type": "code",
   "execution_count": 17,
   "id": "95fcb2a2",
   "metadata": {},
   "outputs": [
    {
     "data": {
      "text/plain": [
       "'Atv'"
      ]
     },
     "execution_count": 17,
     "metadata": {},
     "output_type": "execute_result"
    }
   ],
   "source": [
    "next(iterator)"
   ]
  },
  {
   "cell_type": "code",
   "execution_count": 18,
   "id": "7535e212",
   "metadata": {},
   "outputs": [
    {
     "data": {
      "text/plain": [
       "'Fox'"
      ]
     },
     "execution_count": 18,
     "metadata": {},
     "output_type": "execute_result"
    }
   ],
   "source": [
    "next(iterator)"
   ]
  },
  {
   "cell_type": "code",
   "execution_count": 19,
   "id": "7df46a37",
   "metadata": {},
   "outputs": [
    {
     "data": {
      "text/plain": [
       "'Bloomberg'"
      ]
     },
     "execution_count": 19,
     "metadata": {},
     "output_type": "execute_result"
    }
   ],
   "source": [
    "next(iterator)"
   ]
  },
  {
   "cell_type": "code",
   "execution_count": 20,
   "id": "00555a29",
   "metadata": {},
   "outputs": [
    {
     "ename": "StopIteration",
     "evalue": "",
     "output_type": "error",
     "traceback": [
      "\u001b[1;31m---------------------------------------------------------------------------\u001b[0m",
      "\u001b[1;31mStopIteration\u001b[0m                             Traceback (most recent call last)",
      "Cell \u001b[1;32mIn[20], line 1\u001b[0m\n\u001b[1;32m----> 1\u001b[0m \u001b[38;5;28;43mnext\u001b[39;49m\u001b[43m(\u001b[49m\u001b[43miterator\u001b[49m\u001b[43m)\u001b[49m\n",
      "Cell \u001b[1;32mIn[12], line 14\u001b[0m, in \u001b[0;36mKumanda.__next__\u001b[1;34m(self)\u001b[0m\n\u001b[0;32m     12\u001b[0m \u001b[38;5;28;01melse\u001b[39;00m:\n\u001b[0;32m     13\u001b[0m     \u001b[38;5;28mself\u001b[39m\u001b[38;5;241m.\u001b[39mindex \u001b[38;5;241m=\u001b[39m \u001b[38;5;241m-\u001b[39m\u001b[38;5;241m1\u001b[39m\n\u001b[1;32m---> 14\u001b[0m     \u001b[38;5;28;01mraise\u001b[39;00m \u001b[38;5;167;01mStopIteration\u001b[39;00m\n",
      "\u001b[1;31mStopIteration\u001b[0m: "
     ]
    }
   ],
   "source": [
    "next(iterator)"
   ]
  },
  {
   "cell_type": "markdown",
   "id": "23475537",
   "metadata": {},
   "source": [
    "Objemiz **iterable** olduğuna göre artık for döngüsüyle üzerinde gezinebiliriz."
   ]
  },
  {
   "cell_type": "code",
   "execution_count": 21,
   "id": "7539c024",
   "metadata": {},
   "outputs": [
    {
     "name": "stdout",
     "output_type": "stream",
     "text": [
      "Kanal d\n",
      "Trt\n",
      "Atv\n",
      "Fox\n",
      "Bloomberg\n"
     ]
    }
   ],
   "source": [
    "for i in kumanda:\n",
    "    print(i)"
   ]
  }
 ],
 "metadata": {
  "kernelspec": {
   "display_name": "Python 3 (ipykernel)",
   "language": "python",
   "name": "python3"
  },
  "language_info": {
   "codemirror_mode": {
    "name": "ipython",
    "version": 3
   },
   "file_extension": ".py",
   "mimetype": "text/x-python",
   "name": "python",
   "nbconvert_exporter": "python",
   "pygments_lexer": "ipython3",
   "version": "3.10.9"
  }
 },
 "nbformat": 4,
 "nbformat_minor": 5
}
