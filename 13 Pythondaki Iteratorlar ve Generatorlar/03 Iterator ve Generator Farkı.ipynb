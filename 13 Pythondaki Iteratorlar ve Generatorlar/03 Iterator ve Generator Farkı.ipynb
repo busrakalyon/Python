{
 "cells": [
  {
   "cell_type": "markdown",
   "id": "8e2783f5",
   "metadata": {},
   "source": [
    "Python'daki **iterator ve generator** kavramları, veri koleksiyonları üzerinde döngü işlemleri yaparken kullanılan önemli araçlardır. Her ikisi de **tekrarlanabilir (iterable)** nesneler üretir, ancak çalışma yöntemleri ve kullanım amaçları açısından farklılık gösterirler.\n",
    "\n",
    "### Iterator:\n",
    "- Bir **iterator**, `__iter__()` ve `__next__()` metodlarına sahip bir nesnedir.\n",
    "- `__iter__()` metodu, nesneyi kendisinin bir iterator olduğunu belirten bir iterator nesnesi döndürmelidir.\n",
    "- `__next__()` metodu, bir sonraki elemanı veri koleksiyonundan alır ve döndürür. Eğer koleksiyonda başka eleman kalmamışsa StopIteration hatası fırlatılır.\n",
    "- Listeler, demetler ve dize gibi birçok Python veri türü, zaten bir iterator olarak kullanılabilir ve for döngüsü ile doğrudan döngülenebilirler.\n",
    "Örnek bir iterator:"
   ]
  },
  {
   "cell_type": "code",
   "execution_count": 1,
   "id": "44b45b6a",
   "metadata": {},
   "outputs": [
    {
     "name": "stdout",
     "output_type": "stream",
     "text": [
      "1\n",
      "2\n",
      "3\n"
     ]
    }
   ],
   "source": [
    "class MyIterator:\n",
    "    def __init__(self, data):\n",
    "        self.data = data\n",
    "        self.index = 0\n",
    "\n",
    "    def __iter__(self):\n",
    "        return self\n",
    "\n",
    "    def __next__(self):\n",
    "        if self.index < len(self.data):\n",
    "            value = self.data[self.index]\n",
    "            self.index += 1\n",
    "            return value\n",
    "        else:\n",
    "            raise StopIteration\n",
    "\n",
    "my_list = [1, 2, 3]\n",
    "my_iterator = MyIterator(my_list)\n",
    "for item in my_iterator:\n",
    "    print(item)\n"
   ]
  },
  {
   "cell_type": "markdown",
   "id": "3b46472c",
   "metadata": {},
   "source": [
    "### Generator:\n",
    "- Bir **generator**, fonksiyon içinde **yield** ifadesi kullanılarak oluşturulan bir nesnedir.\n",
    "- **yield** ifadesi, fonksiyonu geçici olarak durdurur ve bir sonraki değeri döndürür. Daha sonra, fonksiyon kaldığı yerden devam eder.\n",
    "- Generatorler, bir dizi değeri bellekte saklamak yerine ihtiyaç duyulduğunda elemanları üretir, bu nedenle genellikle büyük veri kümesiyle çalışırken daha verimlidirler.\n",
    "- Generatorler, fonksiyonlardaki işlemi birkaç adımda gerçekleştirmek ve bu adımların sonuçlarını döndürmek için kullanılabilir.\n",
    "Örnek bir generator:"
   ]
  },
  {
   "cell_type": "code",
   "execution_count": 2,
   "id": "ac30b7f8",
   "metadata": {},
   "outputs": [
    {
     "name": "stdout",
     "output_type": "stream",
     "text": [
      "1\n",
      "2\n",
      "3\n"
     ]
    }
   ],
   "source": [
    "def my_generator(data):\n",
    "    for item in data:\n",
    "        yield item\n",
    "\n",
    "my_list = [1, 2, 3]\n",
    "gen = my_generator(my_list)\n",
    "for item in gen:\n",
    "    print(item)\n"
   ]
  },
  {
   "cell_type": "markdown",
   "id": "441c5ab8",
   "metadata": {},
   "source": [
    "Özetle, **iteratorlar ve generatorler**, tekrarlanabilir nesneleri eleman eleman dolaşmak için kullanılan mekanizmalardır. **Iteratorlar, sınıflarla** oluşturulurken ***generatorler fonksiyonlara** oluşturulur. Generatorler, bellek verimliliği açısından büyük veri kümesi üzerinde çalışırken avantajlıdır, çünkü değerleri bellekte saklamak yerine sadece ihtiyaç duyulduğunda üretirler."
   ]
  }
 ],
 "metadata": {
  "kernelspec": {
   "display_name": "Python 3 (ipykernel)",
   "language": "python",
   "name": "python3"
  },
  "language_info": {
   "codemirror_mode": {
    "name": "ipython",
    "version": 3
   },
   "file_extension": ".py",
   "mimetype": "text/x-python",
   "name": "python",
   "nbconvert_exporter": "python",
   "pygments_lexer": "ipython3",
   "version": "3.10.9"
  }
 },
 "nbformat": 4,
 "nbformat_minor": 5
}
