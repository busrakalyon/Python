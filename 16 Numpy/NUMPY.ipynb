{
 "cells": [
  {
   "cell_type": "markdown",
   "id": "b3b24465",
   "metadata": {},
   "source": [
    "**Numpy'ı dahil etmek**"
   ]
  },
  {
   "cell_type": "code",
   "execution_count": 1,
   "id": "8ee51725",
   "metadata": {},
   "outputs": [],
   "source": [
    "import numpy as np"
   ]
  },
  {
   "cell_type": "markdown",
   "id": "c25cdf0b",
   "metadata": {},
   "source": [
    "**5 tane 1 barındıran bir array oluşturmak**"
   ]
  },
  {
   "cell_type": "code",
   "execution_count": 3,
   "id": "40fcebd8",
   "metadata": {},
   "outputs": [
    {
     "data": {
      "text/plain": [
       "array([1., 1., 1., 1., 1.])"
      ]
     },
     "execution_count": 3,
     "metadata": {},
     "output_type": "execute_result"
    }
   ],
   "source": [
    "arr = np.ones(5)\n",
    "arr"
   ]
  },
  {
   "cell_type": "markdown",
   "id": "ff7f8e0a",
   "metadata": {},
   "source": [
    "**6 tane 0 barındıran bir array oluşturun**"
   ]
  },
  {
   "cell_type": "code",
   "execution_count": 4,
   "id": "8999cb42",
   "metadata": {},
   "outputs": [
    {
     "data": {
      "text/plain": [
       "array([0., 0., 0., 0., 0., 0.])"
      ]
     },
     "execution_count": 4,
     "metadata": {},
     "output_type": "execute_result"
    }
   ],
   "source": [
    "arr2 = np.zeros(6)\n",
    "arr2"
   ]
  },
  {
   "cell_type": "code",
   "execution_count": 6,
   "id": "cbf5bd5c",
   "metadata": {},
   "outputs": [
    {
     "data": {
      "text/plain": [
       "array([[0., 0., 0.],\n",
       "       [0., 0., 0.],\n",
       "       [0., 0., 0.]])"
      ]
     },
     "execution_count": 6,
     "metadata": {},
     "output_type": "execute_result"
    }
   ],
   "source": [
    "np.zeros((3,3))"
   ]
  },
  {
   "cell_type": "markdown",
   "id": "74d4ad3e",
   "metadata": {},
   "source": [
    "**2'den 100'e kadar olan değerlerden 2'ye tam bölünebilenlerle bir array oluşturmak**"
   ]
  },
  {
   "cell_type": "code",
   "execution_count": 5,
   "id": "bb6c1c94",
   "metadata": {},
   "outputs": [
    {
     "data": {
      "text/plain": [
       "array([  2,   4,   6,   8,  10,  12,  14,  16,  18,  20,  22,  24,  26,\n",
       "        28,  30,  32,  34,  36,  38,  40,  42,  44,  46,  48,  50,  52,\n",
       "        54,  56,  58,  60,  62,  64,  66,  68,  70,  72,  74,  76,  78,\n",
       "        80,  82,  84,  86,  88,  90,  92,  94,  96,  98, 100])"
      ]
     },
     "execution_count": 5,
     "metadata": {},
     "output_type": "execute_result"
    }
   ],
   "source": [
    "np.arange(2,101,2)"
   ]
  },
  {
   "cell_type": "markdown",
   "id": "731e55d1",
   "metadata": {},
   "source": [
    "**5 tane 10 bulunan bir array oluşturmak**"
   ]
  },
  {
   "cell_type": "code",
   "execution_count": 21,
   "id": "fc47d17d",
   "metadata": {},
   "outputs": [
    {
     "name": "stdout",
     "output_type": "stream",
     "text": [
      "[10 10 10 10 10]\n"
     ]
    }
   ],
   "source": [
    "arr = np.full(5, 10)\n",
    "print(arr)"
   ]
  },
  {
   "cell_type": "markdown",
   "id": "d1f5ddec",
   "metadata": {},
   "source": [
    "**1'den 16'ya kadar değer bulunduran 4x4'lük bir matris oluşturmak**"
   ]
  },
  {
   "cell_type": "code",
   "execution_count": 82,
   "id": "1caf952b",
   "metadata": {},
   "outputs": [
    {
     "data": {
      "text/plain": [
       "array([[ 1,  2,  3,  4],\n",
       "       [ 5,  6,  7,  8],\n",
       "       [ 9, 10, 11, 12],\n",
       "       [13, 14, 15, 16]])"
      ]
     },
     "execution_count": 82,
     "metadata": {},
     "output_type": "execute_result"
    }
   ],
   "source": [
    "arr4 = np.arange(1,17).reshape(4,4)\n",
    "arr4"
   ]
  },
  {
   "cell_type": "markdown",
   "id": "8ebdeea9",
   "metadata": {},
   "source": [
    "**4x4'lük bir birim matris oluşturun**"
   ]
  },
  {
   "cell_type": "code",
   "execution_count": 23,
   "id": "f4192d9e",
   "metadata": {},
   "outputs": [
    {
     "data": {
      "text/plain": [
       "array([[1., 0., 0., 0.],\n",
       "       [0., 1., 0., 0.],\n",
       "       [0., 0., 1., 0.],\n",
       "       [0., 0., 0., 1.]])"
      ]
     },
     "execution_count": 23,
     "metadata": {},
     "output_type": "execute_result"
    }
   ],
   "source": [
    "np.eye(4)"
   ]
  },
  {
   "cell_type": "markdown",
   "id": "93daeefe",
   "metadata": {},
   "source": [
    "**0 ile 5 arasında rastgele değerler üretmek**"
   ]
  },
  {
   "cell_type": "code",
   "execution_count": 83,
   "id": "294e6900",
   "metadata": {},
   "outputs": [
    {
     "data": {
      "text/plain": [
       "3"
      ]
     },
     "execution_count": 83,
     "metadata": {},
     "output_type": "execute_result"
    }
   ],
   "source": [
    "np.random.randint(0,5)"
   ]
  },
  {
   "cell_type": "code",
   "execution_count": 103,
   "id": "5555e4f2",
   "metadata": {},
   "outputs": [
    {
     "data": {
      "text/plain": [
       "array([7, 7, 8, 4, 1])"
      ]
     },
     "execution_count": 103,
     "metadata": {},
     "output_type": "execute_result"
    }
   ],
   "source": [
    "np.random.randint(1,10,5) # 1(dahil) ile 10(hariç) arasında 5 değer oluşturarak 5 değer saklayan array oluşturur."
   ]
  },
  {
   "cell_type": "code",
   "execution_count": 104,
   "id": "e0cec085",
   "metadata": {},
   "outputs": [
    {
     "data": {
      "text/plain": [
       "array([0.23155902, 0.22563237, 0.94318198, 0.19459008, 0.22744047])"
      ]
     },
     "execution_count": 104,
     "metadata": {},
     "output_type": "execute_result"
    }
   ],
   "source": [
    "np.random.rand(5) # 0 ile 1 arasında 5 float değerler oluşturur."
   ]
  },
  {
   "cell_type": "markdown",
   "id": "322fcacf",
   "metadata": {},
   "source": [
    "**5 x 5'lik bir matrisi Gaussian Distribution'a Göre (randn() fonksiyonu) değerler üreterek oluşturmak**"
   ]
  },
  {
   "cell_type": "code",
   "execution_count": 85,
   "id": "c25ccf08",
   "metadata": {},
   "outputs": [
    {
     "data": {
      "text/plain": [
       "array([[0.20822785, 0.48196239, 0.85562062, 0.28137912, 0.80061194],\n",
       "       [0.28104651, 0.87084043, 0.62894966, 0.40038211, 0.04707223],\n",
       "       [0.34894541, 0.82219889, 0.77287922, 0.87189174, 0.68631534],\n",
       "       [0.94686058, 0.22770988, 0.13524911, 0.07808879, 0.31812437],\n",
       "       [0.92409388, 0.70875274, 0.58275944, 0.42007649, 0.24637342]])"
      ]
     },
     "execution_count": 85,
     "metadata": {},
     "output_type": "execute_result"
    }
   ],
   "source": [
    "np.random.rand(25).reshape(5,5)"
   ]
  },
  {
   "cell_type": "markdown",
   "id": "8ab94522",
   "metadata": {},
   "source": [
    "**1 ile 5 arasındaki mesafeyi eşit parçalara bölerek 20'lik bir array oluşturmak**"
   ]
  },
  {
   "cell_type": "code",
   "execution_count": 27,
   "id": "03b5eb87",
   "metadata": {},
   "outputs": [
    {
     "data": {
      "text/plain": [
       "array([1.        , 1.21052632, 1.42105263, 1.63157895, 1.84210526,\n",
       "       2.05263158, 2.26315789, 2.47368421, 2.68421053, 2.89473684,\n",
       "       3.10526316, 3.31578947, 3.52631579, 3.73684211, 3.94736842,\n",
       "       4.15789474, 4.36842105, 4.57894737, 4.78947368, 5.        ])"
      ]
     },
     "execution_count": 27,
     "metadata": {},
     "output_type": "execute_result"
    }
   ],
   "source": [
    "np.linspace(1,5,20)"
   ]
  },
  {
   "cell_type": "markdown",
   "id": "1f03e80f",
   "metadata": {},
   "source": [
    "### Array Indekslenmesi"
   ]
  },
  {
   "cell_type": "code",
   "execution_count": 28,
   "id": "aa11fb1f",
   "metadata": {},
   "outputs": [
    {
     "data": {
      "text/plain": [
       "array([[  1,   2,   3,   4,   5,   6,   7,   8,   9,  10],\n",
       "       [ 11,  12,  13,  14,  15,  16,  17,  18,  19,  20],\n",
       "       [ 21,  22,  23,  24,  25,  26,  27,  28,  29,  30],\n",
       "       [ 31,  32,  33,  34,  35,  36,  37,  38,  39,  40],\n",
       "       [ 41,  42,  43,  44,  45,  46,  47,  48,  49,  50],\n",
       "       [ 51,  52,  53,  54,  55,  56,  57,  58,  59,  60],\n",
       "       [ 61,  62,  63,  64,  65,  66,  67,  68,  69,  70],\n",
       "       [ 71,  72,  73,  74,  75,  76,  77,  78,  79,  80],\n",
       "       [ 81,  82,  83,  84,  85,  86,  87,  88,  89,  90],\n",
       "       [ 91,  92,  93,  94,  95,  96,  97,  98,  99, 100]])"
      ]
     },
     "execution_count": 28,
     "metadata": {},
     "output_type": "execute_result"
    }
   ],
   "source": [
    "arr  = np.arange(1,101).reshape(10,10)\n",
    "arr"
   ]
  },
  {
   "cell_type": "code",
   "execution_count": 32,
   "id": "be5da414",
   "metadata": {},
   "outputs": [
    {
     "data": {
      "text/plain": [
       "array([[ 41,  42,  43,  44,  45,  46,  47,  48,  49,  50],\n",
       "       [ 51,  52,  53,  54,  55,  56,  57,  58,  59,  60],\n",
       "       [ 61,  62,  63,  64,  65,  66,  67,  68,  69,  70],\n",
       "       [ 71,  72,  73,  74,  75,  76,  77,  78,  79,  80],\n",
       "       [ 81,  82,  83,  84,  85,  86,  87,  88,  89,  90],\n",
       "       [ 91,  92,  93,  94,  95,  96,  97,  98,  99, 100]])"
      ]
     },
     "execution_count": 32,
     "metadata": {},
     "output_type": "execute_result"
    }
   ],
   "source": [
    "arr[-6:]"
   ]
  },
  {
   "cell_type": "code",
   "execution_count": 61,
   "id": "e34f13a9",
   "metadata": {},
   "outputs": [
    {
     "data": {
      "text/plain": [
       "array([[ 65,  66,  67,  68,  69,  70],\n",
       "       [ 75,  76,  77,  78,  79,  80],\n",
       "       [ 85,  86,  87,  88,  89,  90],\n",
       "       [ 95,  96,  97,  98,  99, 100]])"
      ]
     },
     "execution_count": 61,
     "metadata": {},
     "output_type": "execute_result"
    }
   ],
   "source": [
    "arr[-4:,-6:]"
   ]
  },
  {
   "cell_type": "code",
   "execution_count": 71,
   "id": "11bba0d3",
   "metadata": {},
   "outputs": [
    {
     "data": {
      "text/plain": [
       "array([[ 3,  4],\n",
       "       [13, 14],\n",
       "       [23, 24]])"
      ]
     },
     "execution_count": 71,
     "metadata": {},
     "output_type": "execute_result"
    }
   ],
   "source": [
    "arr[:3,2:-6]"
   ]
  },
  {
   "cell_type": "code",
   "execution_count": 86,
   "id": "37cf4a1f",
   "metadata": {},
   "outputs": [
    {
     "data": {
      "text/plain": [
       "array([ 2, 12, 22])"
      ]
     },
     "execution_count": 86,
     "metadata": {},
     "output_type": "execute_result"
    }
   ],
   "source": [
    "arr[:3,1]"
   ]
  },
  {
   "cell_type": "code",
   "execution_count": 87,
   "id": "06752ac9",
   "metadata": {},
   "outputs": [
    {
     "data": {
      "text/plain": [
       "array([ 10,  20,  30,  40,  50,  60,  70,  80,  90, 100])"
      ]
     },
     "execution_count": 87,
     "metadata": {},
     "output_type": "execute_result"
    }
   ],
   "source": [
    "arr[:,9]"
   ]
  },
  {
   "cell_type": "markdown",
   "id": "871c74de",
   "metadata": {},
   "source": [
    "### Array Operasyonları"
   ]
  },
  {
   "cell_type": "code",
   "execution_count": 88,
   "id": "07855516",
   "metadata": {},
   "outputs": [],
   "source": [
    "arr1 = ((np.random.rand(9) * 5).astype(int)).reshape(3,3)\n",
    "arr2 = ((np.random.rand(9) * 5).astype(int)).reshape(3,3)"
   ]
  },
  {
   "cell_type": "code",
   "execution_count": 89,
   "id": "20424cc6",
   "metadata": {},
   "outputs": [
    {
     "data": {
      "text/plain": [
       "array([[2, 4, 4],\n",
       "       [1, 2, 3],\n",
       "       [0, 1, 1]])"
      ]
     },
     "execution_count": 89,
     "metadata": {},
     "output_type": "execute_result"
    }
   ],
   "source": [
    "arr1"
   ]
  },
  {
   "cell_type": "code",
   "execution_count": 90,
   "id": "def1e96e",
   "metadata": {},
   "outputs": [
    {
     "data": {
      "text/plain": [
       "array([[0, 3, 1],\n",
       "       [4, 2, 4],\n",
       "       [3, 2, 1]])"
      ]
     },
     "execution_count": 90,
     "metadata": {},
     "output_type": "execute_result"
    }
   ],
   "source": [
    "arr2"
   ]
  },
  {
   "cell_type": "markdown",
   "id": "d2e92bec",
   "metadata": {},
   "source": [
    "**İki matrisin toplamı**"
   ]
  },
  {
   "cell_type": "code",
   "execution_count": 91,
   "id": "53cd7d20",
   "metadata": {},
   "outputs": [
    {
     "data": {
      "text/plain": [
       "array([[2, 7, 5],\n",
       "       [5, 4, 7],\n",
       "       [3, 3, 2]])"
      ]
     },
     "execution_count": 91,
     "metadata": {},
     "output_type": "execute_result"
    }
   ],
   "source": [
    "arr1+arr2"
   ]
  },
  {
   "cell_type": "markdown",
   "id": "12e39dd6",
   "metadata": {},
   "source": [
    "**İki matrisin çarpımı**"
   ]
  },
  {
   "cell_type": "code",
   "execution_count": 92,
   "id": "b10683a2",
   "metadata": {},
   "outputs": [
    {
     "data": {
      "text/plain": [
       "array([[ 0, 12,  4],\n",
       "       [ 4,  4, 12],\n",
       "       [ 0,  2,  1]])"
      ]
     },
     "execution_count": 92,
     "metadata": {},
     "output_type": "execute_result"
    }
   ],
   "source": [
    "arr1 * arr2"
   ]
  },
  {
   "cell_type": "markdown",
   "id": "596023f8",
   "metadata": {},
   "source": [
    "**arr1 matrisinin tüm elemanlarının ortalaması**"
   ]
  },
  {
   "cell_type": "code",
   "execution_count": 93,
   "id": "f3920f9f",
   "metadata": {},
   "outputs": [
    {
     "data": {
      "text/plain": [
       "2.0"
      ]
     },
     "execution_count": 93,
     "metadata": {},
     "output_type": "execute_result"
    }
   ],
   "source": [
    "arr1.mean()"
   ]
  },
  {
   "cell_type": "markdown",
   "id": "49df2f94",
   "metadata": {},
   "source": [
    "**arr1 matrisinin tüm elemanlarının toplamı**"
   ]
  },
  {
   "cell_type": "code",
   "execution_count": 94,
   "id": "8758aa47",
   "metadata": {},
   "outputs": [
    {
     "data": {
      "text/plain": [
       "18"
      ]
     },
     "execution_count": 94,
     "metadata": {},
     "output_type": "execute_result"
    }
   ],
   "source": [
    "arr1.sum()"
   ]
  },
  {
   "cell_type": "markdown",
   "id": "fd664317",
   "metadata": {},
   "source": [
    "**Array'in en büyük elemanı**"
   ]
  },
  {
   "cell_type": "code",
   "execution_count": 95,
   "id": "19b329de",
   "metadata": {},
   "outputs": [
    {
     "data": {
      "text/plain": [
       "4"
      ]
     },
     "execution_count": 95,
     "metadata": {},
     "output_type": "execute_result"
    }
   ],
   "source": [
    "arr1.max()"
   ]
  },
  {
   "cell_type": "markdown",
   "id": "15bcbeff",
   "metadata": {},
   "source": [
    "**Array'in en küçük elemanı**"
   ]
  },
  {
   "cell_type": "code",
   "execution_count": 96,
   "id": "aa15d878",
   "metadata": {},
   "outputs": [
    {
     "data": {
      "text/plain": [
       "0"
      ]
     },
     "execution_count": 96,
     "metadata": {},
     "output_type": "execute_result"
    }
   ],
   "source": [
    "arr1.min()"
   ]
  },
  {
   "cell_type": "markdown",
   "id": "68b05c34",
   "metadata": {},
   "source": [
    "**Array'in en büyük elemanının indexi**"
   ]
  },
  {
   "cell_type": "code",
   "execution_count": 97,
   "id": "233bf3d0",
   "metadata": {},
   "outputs": [
    {
     "data": {
      "text/plain": [
       "3"
      ]
     },
     "execution_count": 97,
     "metadata": {},
     "output_type": "execute_result"
    }
   ],
   "source": [
    "arr2.argmax()"
   ]
  },
  {
   "cell_type": "markdown",
   "id": "13ff0505",
   "metadata": {},
   "source": [
    "**Array'in en küçük elemanının indexi**"
   ]
  },
  {
   "cell_type": "code",
   "execution_count": 98,
   "id": "959551da",
   "metadata": {},
   "outputs": [
    {
     "data": {
      "text/plain": [
       "0"
      ]
     },
     "execution_count": 98,
     "metadata": {},
     "output_type": "execute_result"
    }
   ],
   "source": [
    "arr2.argmin()"
   ]
  },
  {
   "cell_type": "markdown",
   "id": "d489ee62",
   "metadata": {},
   "source": [
    "**Tek boyutlu matrisi 2 boyuta çevirmak**"
   ]
  },
  {
   "cell_type": "code",
   "execution_count": 101,
   "id": "95898b1f",
   "metadata": {},
   "outputs": [
    {
     "data": {
      "text/plain": [
       "array([ 0,  1,  2,  3,  4,  5,  6,  7,  8,  9, 10, 11, 12, 13, 14, 15, 16,\n",
       "       17, 18, 19, 20, 21, 22, 23, 24])"
      ]
     },
     "execution_count": 101,
     "metadata": {},
     "output_type": "execute_result"
    }
   ],
   "source": [
    "arr = np.arange(25)\n",
    "arr"
   ]
  },
  {
   "cell_type": "code",
   "execution_count": 102,
   "id": "4826e3a0",
   "metadata": {},
   "outputs": [
    {
     "data": {
      "text/plain": [
       "array([[ 0,  1,  2,  3,  4],\n",
       "       [ 5,  6,  7,  8,  9],\n",
       "       [10, 11, 12, 13, 14],\n",
       "       [15, 16, 17, 18, 19],\n",
       "       [20, 21, 22, 23, 24]])"
      ]
     },
     "execution_count": 102,
     "metadata": {},
     "output_type": "execute_result"
    }
   ],
   "source": [
    "arr.reshape(5,5) # 5 x 5 =  25 tek boyutlu matrisi 2 boyuta çevirir."
   ]
  },
  {
   "cell_type": "markdown",
   "id": "c564fa09",
   "metadata": {},
   "source": [
    "## Tekrar ve Determinant Hesaplama"
   ]
  },
  {
   "cell_type": "code",
   "execution_count": 105,
   "id": "436d1707",
   "metadata": {},
   "outputs": [
    {
     "data": {
      "text/plain": [
       "array([16, 74, 78, 50, 75, 97, 74, 70, 23, 68, 79,  7,  7, 10, 34, 77, 95,\n",
       "       80, 65, 93,  2, 73, 38, 20, 50])"
      ]
     },
     "execution_count": 105,
     "metadata": {},
     "output_type": "execute_result"
    }
   ],
   "source": [
    "detArray =  np.random.randint(1,100,25)\n",
    "detArray "
   ]
  },
  {
   "cell_type": "code",
   "execution_count": 107,
   "id": "0614a695",
   "metadata": {},
   "outputs": [
    {
     "data": {
      "text/plain": [
       "array([[16, 74, 78, 50, 75],\n",
       "       [97, 74, 70, 23, 68],\n",
       "       [79,  7,  7, 10, 34],\n",
       "       [77, 95, 80, 65, 93],\n",
       "       [ 2, 73, 38, 20, 50]])"
      ]
     },
     "execution_count": 107,
     "metadata": {},
     "output_type": "execute_result"
    }
   ],
   "source": [
    "detArray = detArray.reshape(5,5)\n",
    "detArray"
   ]
  },
  {
   "cell_type": "code",
   "execution_count": 108,
   "id": "f76a3a34",
   "metadata": {},
   "outputs": [
    {
     "data": {
      "text/plain": [
       "-159317860.00000006"
      ]
     },
     "execution_count": 108,
     "metadata": {},
     "output_type": "execute_result"
    }
   ],
   "source": [
    "np.linalg.det(detArray) #detarminant hesaplama"
   ]
  },
  {
   "cell_type": "markdown",
   "id": "a22585b3",
   "metadata": {},
   "source": [
    "(np.linalg) içinde bulunan det() fonksiyonunu çağırarak bir kare matrisin determinantını hesaplar."
   ]
  },
  {
   "cell_type": "code",
   "execution_count": 110,
   "id": "2ff5a598",
   "metadata": {},
   "outputs": [
    {
     "data": {
      "text/plain": [
       "-159317860"
      ]
     },
     "execution_count": 110,
     "metadata": {},
     "output_type": "execute_result"
    }
   ],
   "source": [
    "round(np.linalg.det(detArray)) # sonucu yuvarlar"
   ]
  },
  {
   "cell_type": "markdown",
   "id": "69e606f6",
   "metadata": {},
   "source": [
    "## Numpy Arraylerinin Filtrelenmesi"
   ]
  },
  {
   "cell_type": "code",
   "execution_count": 111,
   "id": "d0110270",
   "metadata": {},
   "outputs": [
    {
     "data": {
      "text/plain": [
       "array([1, 2, 3, 4, 5, 6, 7, 8, 9])"
      ]
     },
     "execution_count": 111,
     "metadata": {},
     "output_type": "execute_result"
    }
   ],
   "source": [
    "arr = np.arange(1,10)\n",
    "arr"
   ]
  },
  {
   "cell_type": "code",
   "execution_count": 112,
   "id": "5fb94bd5",
   "metadata": {},
   "outputs": [
    {
     "data": {
      "text/plain": [
       "array([False, False,  True,  True,  True,  True,  True,  True,  True])"
      ]
     },
     "execution_count": 112,
     "metadata": {},
     "output_type": "execute_result"
    }
   ],
   "source": [
    "arr > 2"
   ]
  },
  {
   "cell_type": "code",
   "execution_count": 113,
   "id": "9cab31ec",
   "metadata": {},
   "outputs": [
    {
     "data": {
      "text/plain": [
       "array([False, False, False,  True,  True,  True,  True,  True,  True])"
      ]
     },
     "execution_count": 113,
     "metadata": {},
     "output_type": "execute_result"
    }
   ],
   "source": [
    "boolValuesArray = arr > 3\n",
    "boolValuesArray"
   ]
  },
  {
   "cell_type": "code",
   "execution_count": 114,
   "id": "aec7a239",
   "metadata": {},
   "outputs": [
    {
     "data": {
      "text/plain": [
       "array([4, 5, 6, 7, 8, 9])"
      ]
     },
     "execution_count": 114,
     "metadata": {},
     "output_type": "execute_result"
    }
   ],
   "source": [
    "arr[boolValuesArray] # True olanlar filtrelenir."
   ]
  },
  {
   "cell_type": "code",
   "execution_count": 115,
   "id": "5a04cf29",
   "metadata": {},
   "outputs": [
    {
     "data": {
      "text/plain": [
       "array([6, 7, 8, 9])"
      ]
     },
     "execution_count": 115,
     "metadata": {},
     "output_type": "execute_result"
    }
   ],
   "source": [
    "arr[arr > 5] # Daha kısa hali."
   ]
  },
  {
   "cell_type": "markdown",
   "id": "3c0a4dd2",
   "metadata": {},
   "source": [
    "## Numpy Arraylerinin Temel Operasyonları"
   ]
  },
  {
   "cell_type": "code",
   "execution_count": 116,
   "id": "ae76b4fe",
   "metadata": {},
   "outputs": [],
   "source": [
    "arr1 = np.array([10,20,30,40,50])\n",
    "arr2 = np.array([2,3,4,5,6])"
   ]
  },
  {
   "cell_type": "code",
   "execution_count": 118,
   "id": "bc3fef8b",
   "metadata": {},
   "outputs": [
    {
     "data": {
      "text/plain": [
       "array([12, 13, 14, 15, 16])"
      ]
     },
     "execution_count": 118,
     "metadata": {},
     "output_type": "execute_result"
    }
   ],
   "source": [
    "arr2 + 10 #her elemanı 10 ile toplar"
   ]
  },
  {
   "cell_type": "code",
   "execution_count": 119,
   "id": "8c8608ad",
   "metadata": {},
   "outputs": [
    {
     "data": {
      "text/plain": [
       "array([ 0, 10, 20, 30, 40])"
      ]
     },
     "execution_count": 119,
     "metadata": {},
     "output_type": "execute_result"
    }
   ],
   "source": [
    "arr1 - 10 #her elemandan 10 çıkarır"
   ]
  },
  {
   "cell_type": "code",
   "execution_count": 120,
   "id": "b2c8b503",
   "metadata": {},
   "outputs": [
    {
     "data": {
      "text/plain": [
       "array([0, 1, 2, 3, 4])"
      ]
     },
     "execution_count": 120,
     "metadata": {},
     "output_type": "execute_result"
    }
   ],
   "source": [
    "arr2 - 2 "
   ]
  },
  {
   "cell_type": "code",
   "execution_count": 121,
   "id": "9534e415",
   "metadata": {},
   "outputs": [
    {
     "data": {
      "text/plain": [
       "array([ 3.33333333,  6.66666667, 10.        , 13.33333333, 16.66666667])"
      ]
     },
     "execution_count": 121,
     "metadata": {},
     "output_type": "execute_result"
    }
   ],
   "source": [
    "arr1 / 3"
   ]
  },
  {
   "cell_type": "code",
   "execution_count": 122,
   "id": "b57b69fc",
   "metadata": {},
   "outputs": [
    {
     "data": {
      "text/plain": [
       "array([ 4,  9, 16, 25, 36])"
      ]
     },
     "execution_count": 122,
     "metadata": {},
     "output_type": "execute_result"
    }
   ],
   "source": [
    "arr2 ** 2"
   ]
  },
  {
   "cell_type": "code",
   "execution_count": 124,
   "id": "a0189013",
   "metadata": {},
   "outputs": [
    {
     "data": {
      "text/plain": [
       "array([3.16227766, 4.47213595, 5.47722558, 6.32455532, 7.07106781])"
      ]
     },
     "execution_count": 124,
     "metadata": {},
     "output_type": "execute_result"
    }
   ],
   "source": [
    "np.sqrt(arr1)"
   ]
  }
 ],
 "metadata": {
  "kernelspec": {
   "display_name": "Python 3 (ipykernel)",
   "language": "python",
   "name": "python3"
  },
  "language_info": {
   "codemirror_mode": {
    "name": "ipython",
    "version": 3
   },
   "file_extension": ".py",
   "mimetype": "text/x-python",
   "name": "python",
   "nbconvert_exporter": "python",
   "pygments_lexer": "ipython3",
   "version": "3.10.9"
  }
 },
 "nbformat": 4,
 "nbformat_minor": 5
}
