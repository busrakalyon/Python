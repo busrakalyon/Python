{
 "cells": [
  {
   "cell_type": "markdown",
   "id": "1c3a95a7",
   "metadata": {},
   "source": [
    "# Mantıksal Değerler ve Karşılaştırma Operatörleri"
   ]
  },
  {
   "cell_type": "markdown",
   "id": "5fea453d",
   "metadata": {},
   "source": [
    "### Mantıksal Değerler (Boolean)\n",
    "\n",
    "Boolean, Python'da bir veri tipidir ve iki değere sahiptir: **True ve False**"
   ]
  },
  {
   "cell_type": "code",
   "execution_count": 5,
   "id": "93670827",
   "metadata": {},
   "outputs": [
    {
     "name": "stdout",
     "output_type": "stream",
     "text": [
      "<class 'bool'>\n",
      "<class 'bool'>\n"
     ]
    }
   ],
   "source": [
    "a = True\n",
    "print(type(a))\n",
    "\n",
    "b = False\n",
    "print(type(b))"
   ]
  },
  {
   "cell_type": "markdown",
   "id": "f941d47e",
   "metadata": {},
   "source": [
    "Python'da bir sayı değeri 0 ise **False**, 0'dan farklı bir sayıysa **True** olarak anlam kazanır. **bool()** fonksiyonuyla değiştirme yaparak bunu görebiliriz."
   ]
  },
  {
   "cell_type": "code",
   "execution_count": 8,
   "id": "7627760b",
   "metadata": {},
   "outputs": [
    {
     "name": "stdout",
     "output_type": "stream",
     "text": [
      "True\n",
      "False\n",
      "False\n",
      "True\n",
      "True\n"
     ]
    }
   ],
   "source": [
    "print(bool(12.4))\n",
    "print(bool(0.0))\n",
    "print(bool(0))\n",
    "print(bool(-1))\n",
    "print(bool(21312))"
   ]
  },
  {
   "cell_type": "markdown",
   "id": "d52b038c",
   "metadata": {},
   "source": [
    " Bool değerleri karşılaştırma operatöründen sonra ortaya çıkan sonuç değeridir."
   ]
  },
  {
   "cell_type": "code",
   "execution_count": 10,
   "id": "e12e6284",
   "metadata": {},
   "outputs": [
    {
     "name": "stdout",
     "output_type": "stream",
     "text": [
      "False\n",
      "True\n",
      "False\n"
     ]
    }
   ],
   "source": [
    "print(1>2)\n",
    "print(1==1)\n",
    "print(1==0)"
   ]
  },
  {
   "cell_type": "markdown",
   "id": "f3aadf87",
   "metadata": {},
   "source": [
    "Python'da bir değişkenin değerini sonradan belirlemek istersek geçici olarak bu değişkene **None**(atanmamış anlamında) değerini eşitleyebiliriz."
   ]
  },
  {
   "cell_type": "code",
   "execution_count": 1,
   "id": "bf6fa5bd",
   "metadata": {},
   "outputs": [
    {
     "name": "stdout",
     "output_type": "stream",
     "text": [
      "None\n",
      "4\n"
     ]
    }
   ],
   "source": [
    "a = None\n",
    "print(a)\n",
    "a = 4\n",
    "print(a)"
   ]
  },
  {
   "cell_type": "markdown",
   "id": "f12bda98",
   "metadata": {},
   "source": [
    "# Karşılaştırma Operatörleri\n",
    "\n",
    "## ==\t\n",
    "İki değer birbirine eşitse True, değilse False değer döner.\t\n",
    "2 == 2 (True) , 2 == 3 (False)\n",
    "\n",
    "## !=\t\n",
    "İki değer birbirine eşit değilse True, diğer durumda False döner.\t\n",
    "2 != 2 (False), 2 != 3 (True)\n",
    "\n",
    "## >\n",
    "Soldaki değer sağdaki değerden büyükse True, değilse False döner.\t\n",
    "3 > 2 (True), 2 > 3 (False)\n",
    "\n",
    "## <\t\n",
    "Soldaki değer sağdaki değerden küçükse True, değilse False döner.\t\n",
    "2 < 3 (True) , 3 < 2 (False)\n",
    "\n",
    "## >=\t\n",
    "Soldaki değer sağdaki değerden büyükse veya sağdaki değere eşitse True, değilse False döner.\t\n",
    "3 >= 2 (True),3 >= 3 (True) , 2 >= 3 (False)\n",
    "\n",
    "## <=\t\n",
    "Soldaki değer sağdaki değerden küçükse veya sağdaki değere eşitse True, değilse False döner.\t\n",
    "3 <= 2 (False),3 <= 3 (True) , 2 <= 3 (True)"
   ]
  },
  {
   "cell_type": "code",
   "execution_count": 2,
   "id": "ef57d92d",
   "metadata": {},
   "outputs": [
    {
     "name": "stdout",
     "output_type": "stream",
     "text": [
      "True\n",
      "False\n"
     ]
    }
   ],
   "source": [
    "print(\"Mehmet\" == \"Mehmet\")\n",
    "print(\"Mehmet\" == \"Murat\")"
   ]
  },
  {
   "cell_type": "code",
   "execution_count": 3,
   "id": "0acbe085",
   "metadata": {},
   "outputs": [
    {
     "name": "stdout",
     "output_type": "stream",
     "text": [
      "True\n",
      "False\n"
     ]
    }
   ],
   "source": [
    "print(\"Mehmet\" != \"Murat\")\n",
    "print(\"Oğuz\" < \"Murat\")"
   ]
  }
 ],
 "metadata": {
  "kernelspec": {
   "display_name": "Python 3 (ipykernel)",
   "language": "python",
   "name": "python3"
  },
  "language_info": {
   "codemirror_mode": {
    "name": "ipython",
    "version": 3
   },
   "file_extension": ".py",
   "mimetype": "text/x-python",
   "name": "python",
   "nbconvert_exporter": "python",
   "pygments_lexer": "ipython3",
   "version": "3.10.9"
  }
 },
 "nbformat": 4,
 "nbformat_minor": 5
}
