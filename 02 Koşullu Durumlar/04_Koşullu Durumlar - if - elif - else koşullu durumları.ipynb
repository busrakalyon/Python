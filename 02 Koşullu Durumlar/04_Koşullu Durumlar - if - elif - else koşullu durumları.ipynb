{
 "cells": [
  {
   "cell_type": "markdown",
   "id": "ab60fefa",
   "metadata": {},
   "source": [
    "# Koşullu Durumlar - if - elif - else koşullu durumları\n",
    "\n",
    "## if-elif-else Blokları\n",
    "\n",
    " if koşul: \n",
    " \n",
    " \tYapılacak İşlemler\n",
    "    \n",
    " elif başka bir koşul:\n",
    " \n",
    " \tYapılacak İşlemler\n",
    "    \n",
    " elif başka bir koşul:\n",
    " \n",
    " \tYapılacak İşlemler\n",
    "    \n",
    "\t\t//\n",
    "\t\t//\n",
    " else:\n",
    " \n",
    " \tYapılacak İşlemler "
   ]
  },
  {
   "cell_type": "code",
   "execution_count": 4,
   "id": "46aaab82",
   "metadata": {},
   "outputs": [
    {
     "name": "stdout",
     "output_type": "stream",
     "text": [
      "İşlem seçiniz:1\n",
      "1.işlemi seçtiniz.\n"
     ]
    }
   ],
   "source": [
    "a = int(input(\"İşlem seçiniz:\"))\n",
    "\n",
    "if a==1:\n",
    "    print(\"1.işlemi seçtiniz.\")\n",
    "    \n",
    "elif a==2:\n",
    "    print(\"2.işlemi seçtiniz.\")\n",
    "\n",
    "elif a==3:\n",
    "    print(\"3.işlemi seçtiniz.\")\n",
    "\n",
    "else:\n",
    "    print(\"Geçersiz işlem seçtiniz!\")"
   ]
  },
  {
   "cell_type": "markdown",
   "id": "b638c54d",
   "metadata": {},
   "source": [
    "**if koşulu olmadan elif bloklarını yazmak Pythonda hataya yol açacaktır.**"
   ]
  },
  {
   "cell_type": "code",
   "execution_count": 5,
   "id": "6f8296a9",
   "metadata": {},
   "outputs": [
    {
     "name": "stdout",
     "output_type": "stream",
     "text": [
      "Notunuzu giriniz:94\n",
      "AA\n"
     ]
    }
   ],
   "source": [
    "note = float(input(\"Notunuzu giriniz:\"))\n",
    "\n",
    "if note >= 90:\n",
    "    print(\"AA\")\n",
    "elif note >= 85:\n",
    "    print(\"BA\")\n",
    "elif note >= 90:\n",
    "    print(\"BA\")\n",
    "elif note >= 80:\n",
    "    print(\"BB\")\n",
    "elif note >= 75:\n",
    "    print(\"CB\")\n",
    "elif note >= 70:\n",
    "    print(\"CC\")\n",
    "elif note >= 65:\n",
    "    print(\"DC\")\n",
    "elif note >= 60:\n",
    "    print(\"DD\")\n",
    "else:\n",
    "    print(\"Dersten Kaldınız\")"
   ]
  },
  {
   "cell_type": "markdown",
   "id": "9d9bb4cd",
   "metadata": {},
   "source": [
    "**Burada eğer herhangi bir bloğumuz koşulu sağlarsa *print* işlemi gerçekleşecek ve programımız sonlanacaktır. Ancak acaba *elif* bloklarını *if* bloklarına çevirirsek programımız şöyle çalışacaktır:**"
   ]
  },
  {
   "cell_type": "code",
   "execution_count": 8,
   "id": "7a27f294",
   "metadata": {},
   "outputs": [
    {
     "name": "stdout",
     "output_type": "stream",
     "text": [
      "Notunuzu giriniz:75\n",
      "CB\n",
      "CC\n",
      "DC\n",
      "DD\n"
     ]
    }
   ],
   "source": [
    "note = float(input(\"Notunuzu giriniz:\"))\n",
    "\n",
    "if note >= 90:\n",
    "    print(\"AA\")\n",
    "if note >= 85:\n",
    "    print(\"BA\")\n",
    "if note >= 90:\n",
    "    print(\"BA\")\n",
    "if note >= 80:\n",
    "    print(\"BB\")\n",
    "if note >= 75:\n",
    "    print(\"CB\")\n",
    "if note >= 70:\n",
    "    print(\"CC\")\n",
    "if note >= 65:\n",
    "    print(\"DC\")\n",
    "if note >= 60:\n",
    "    print(\"DD\")\n",
    "else:\n",
    "    print(\"Dersten Kaldınız\")"
   ]
  },
  {
   "cell_type": "markdown",
   "id": "0566e68e",
   "metadata": {},
   "source": [
    "Pythonda programlar her zaman bütün if bloklarını kontrol eder ve koşullar doğruysa bu blokları çalıştırır."
   ]
  }
 ],
 "metadata": {
  "kernelspec": {
   "display_name": "Python 3 (ipykernel)",
   "language": "python",
   "name": "python3"
  },
  "language_info": {
   "codemirror_mode": {
    "name": "ipython",
    "version": 3
   },
   "file_extension": ".py",
   "mimetype": "text/x-python",
   "name": "python",
   "nbconvert_exporter": "python",
   "pygments_lexer": "ipython3",
   "version": "3.10.9"
  }
 },
 "nbformat": 4,
 "nbformat_minor": 5
}
