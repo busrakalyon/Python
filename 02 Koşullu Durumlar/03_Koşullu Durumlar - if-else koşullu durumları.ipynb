{
 "cells": [
  {
   "cell_type": "markdown",
   "id": "17fdf217",
   "metadata": {},
   "source": [
    "# Koşullu Durumlar - if-else koşullu durumları\n",
    "\n",
    "Pythonda bir blok tanımlama işlemi Girintiler sayesinde olmaktadır."
   ]
  },
  {
   "cell_type": "code",
   "execution_count": 1,
   "id": "98588d86",
   "metadata": {},
   "outputs": [
    {
     "name": "stdout",
     "output_type": "stream",
     "text": [
      "2\n",
      "Merhaba\n"
     ]
    }
   ],
   "source": [
    "a = 2 # Blok 1 'e ait kod\n",
    "\n",
    "if (a == 2):\n",
    "    print(a) # Blok 2'ye ait kod\n",
    "print(\"Merhaba\") # Blok 1 ' ait kod"
   ]
  },
  {
   "cell_type": "markdown",
   "id": "757cc25c",
   "metadata": {},
   "source": [
    "**if** in bulunduğu satırdan sonraki **print** işlemini bir tab kadar girintili yazdık. Burada gördüğümüz gibi, **girintiler(tab)** Pythonda bir blok oluşturmak için kullanılıyor ve her bloğunun çalıştırılması gerekmiyor. Mesela yukarıda gördüğümüz kodda 2 **print** işlemi de çalıştı. Ancak kodumuzu şu şekilde yazsaydık, ilk **print** işlemi çalışmayacaktı."
   ]
  },
  {
   "cell_type": "code",
   "execution_count": 2,
   "id": "c69c8627",
   "metadata": {},
   "outputs": [
    {
     "name": "stdout",
     "output_type": "stream",
     "text": [
      "Merhaba\n"
     ]
    }
   ],
   "source": [
    "a = 2 # Blok 1 'e ait kod\n",
    "\n",
    "if (a == 3):\n",
    "    print(a) # Blok 2'ye ait kod\n",
    "print(\"Merhaba\") # Blok 1 ' ait kod"
   ]
  },
  {
   "cell_type": "markdown",
   "id": "a3eb4a40",
   "metadata": {},
   "source": [
    "##  Koşullu Durumlar\n",
    "\n",
    "**if bloğu** programımızın içinde herhangi bir yerde belli bir koşulu kontrol edeceksek kullanılan bloklardır.Yazımı şu şekildedir;\n",
    "\n",
    "       if (koşul): \n",
    "           # if bloğu - Koşul sağlanınca (True) çalışır. Bu hizadaki her işlem bu if bloğuna ait.\n",
    "           # if bloğu - Girintiyle oluşturulur.\n",
    "           Yapılacak İşlemler"
   ]
  },
  {
   "cell_type": "code",
   "execution_count": 3,
   "id": "43c594f7",
   "metadata": {},
   "outputs": [
    {
     "name": "stdout",
     "output_type": "stream",
     "text": [
      "Yaşınızı girin:17\n",
      "İçeriye giremezsiniz!\n"
     ]
    }
   ],
   "source": [
    "# 18 yaş kontrolü\n",
    "yas = int(input(\"Yaşınızı girin:\"))\n",
    "\n",
    "if(yas < 18):\n",
    "    print(\"İçeriye giremezsiniz!\")"
   ]
  },
  {
   "cell_type": "code",
   "execution_count": 5,
   "id": "67b1e2a2",
   "metadata": {},
   "outputs": [
    {
     "name": "stdout",
     "output_type": "stream",
     "text": [
      "Bir sayı giriniz:-4\n",
      "Negatif sayı.\n"
     ]
    }
   ],
   "source": [
    "# Negatiflik kontrolü\n",
    "\n",
    "sayi = int(input(\"Bir sayı giriniz:\"))\n",
    "\n",
    "if(sayi<0):\n",
    "    print(\"Negatif sayı.\")\n"
   ]
  },
  {
   "cell_type": "markdown",
   "id": "67594378",
   "metadata": {},
   "source": [
    "## else Bloğu\n",
    "**else** blokları **if** koşulu sağlanmadığı zaman (False) çalışan bloklardır. Kullanımı şu şekildedir;\n",
    "\n",
    "       else:\n",
    "           # else bloğu - Yukarısındaki herhangi bir if bloğu (veya ilerde göreceğimiz elif bloğu) çalışmadığı\n",
    "           # zaman çalışır. \n",
    "           # else bloğu - Girintiyle oluşturulur.\n",
    "               Yapılacak İşlemler\n"
   ]
  },
  {
   "cell_type": "code",
   "execution_count": 8,
   "id": "2afa18b6",
   "metadata": {},
   "outputs": [
    {
     "name": "stdout",
     "output_type": "stream",
     "text": [
      "Yaşınızı girin:15\n",
      "İçeriye giremezsiniz!\n"
     ]
    }
   ],
   "source": [
    "# 18 yaş kontrolü\n",
    "yas = int(input(\"Yaşınızı girin:\"))\n",
    "\n",
    "if(yas < 18):\n",
    "    print(\"İçeriye giremezsiniz!\")\n",
    "\n",
    "else:\n",
    "    print(\"Hoşgeldiniz!\")"
   ]
  },
  {
   "cell_type": "code",
   "execution_count": 9,
   "id": "38e4c924",
   "metadata": {},
   "outputs": [
    {
     "name": "stdout",
     "output_type": "stream",
     "text": [
      "Bir sayı giriniz:12\n",
      "Pozitif sayı.\n"
     ]
    }
   ],
   "source": [
    "# Negatiflik kontrolü\n",
    "\n",
    "sayi = int(input(\"Bir sayı giriniz:\"))\n",
    "\n",
    "if(sayi<0):\n",
    "    print(\"Negatif sayı.\")\n",
    "else:\n",
    "    print(\"Pozitif sayı.\")"
   ]
  },
  {
   "cell_type": "code",
   "execution_count": 10,
   "id": "1519b46d",
   "metadata": {},
   "outputs": [
    {
     "ename": "SyntaxError",
     "evalue": "invalid syntax (1213568223.py, line 3)",
     "output_type": "error",
     "traceback": [
      "\u001b[1;36m  Cell \u001b[1;32mIn[10], line 3\u001b[1;36m\u001b[0m\n\u001b[1;33m    else:\u001b[0m\n\u001b[1;37m    ^\u001b[0m\n\u001b[1;31mSyntaxError\u001b[0m\u001b[1;31m:\u001b[0m invalid syntax\n"
     ]
    }
   ],
   "source": [
    "# else bloğu kendinden önce herhangi bir koşul bloğu yok ise çalışamaz ve Pythonda hataya yol açar.\n",
    "\n",
    "else:\n",
    "    print(\"Merhaba\")\n"
   ]
  }
 ],
 "metadata": {
  "kernelspec": {
   "display_name": "Python 3 (ipykernel)",
   "language": "python",
   "name": "python3"
  },
  "language_info": {
   "codemirror_mode": {
    "name": "ipython",
    "version": 3
   },
   "file_extension": ".py",
   "mimetype": "text/x-python",
   "name": "python",
   "nbconvert_exporter": "python",
   "pygments_lexer": "ipython3",
   "version": "3.10.9"
  }
 },
 "nbformat": 4,
 "nbformat_minor": 5
}
