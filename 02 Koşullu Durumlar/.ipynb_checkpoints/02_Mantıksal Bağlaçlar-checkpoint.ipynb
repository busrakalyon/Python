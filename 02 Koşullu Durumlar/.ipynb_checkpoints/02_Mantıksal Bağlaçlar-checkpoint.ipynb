{
 "cells": [
  {
   "cell_type": "markdown",
   "id": "cf64abf2",
   "metadata": {},
   "source": [
    "# Mantıksal Bağlaçlar"
   ]
  },
  {
   "cell_type": "markdown",
   "id": "8992cc3f",
   "metadata": {},
   "source": [
    "## and Operatörü\n",
    "Bu mantıksal bağlaç, bütün karşılaştırma işlemlerinin sonucunun **True** olmasına bakar. Bağlanan karşılaştırma işlemlerinin hepsinin kendi içinde sonucu **True** ise genel sonuç **True** , diğer durumlarda ise sonuç **False** çıkar."
   ]
  },
  {
   "cell_type": "code",
   "execution_count": 1,
   "id": "917b1433",
   "metadata": {},
   "outputs": [
    {
     "name": "stdout",
     "output_type": "stream",
     "text": [
      "True\n",
      "False\n",
      "False\n"
     ]
    }
   ],
   "source": [
    "print(1 < 2 and \"Murat\" == \"Murat\")\n",
    "print(2 > 3 and \"Murat\" == \"Murat\")\n",
    "print(2 == 2 and 3.14 < 2.54 and \"Elma\" != \"Armut\")"
   ]
  },
  {
   "cell_type": "markdown",
   "id": "6fcb7c69",
   "metadata": {},
   "source": [
    "## or Operatörü\n",
    "Bu mantıksal bağlaç, bütün karşılaştırma işlemlerinin sonuçlarından en az birinin **True** olmasına bakar. Bağlanan karşılaştırma işlemlerinin en az birinin **True** olmasında genel sonuç **True** , diğer durumlarda ise sonuç **False** çıkar. "
   ]
  },
  {
   "cell_type": "code",
   "execution_count": 2,
   "id": "86053273",
   "metadata": {},
   "outputs": [
    {
     "name": "stdout",
     "output_type": "stream",
     "text": [
      "True\n",
      "False\n",
      "True\n"
     ]
    }
   ],
   "source": [
    "print(1 < 2 or \"Murat\" != \"Murat\")\n",
    "print(2 > 3 or \"Murat\" != \"Murat\")\n",
    "print(2 > 3 or \"Murat\" != \"Murat\" or 3.14 < 4.32)"
   ]
  },
  {
   "cell_type": "markdown",
   "id": "27964420",
   "metadata": {},
   "source": [
    "## not Operatörü\n",
    "**not** operatörü aslında bir mantıksal bağlaç değildir. Bu operatör sadece bir mantıksal değeri veya karşılaştırma işlemininin tam tersi sonuca çevirir. Yani, not operatörü **True** olan bir sonucu **False** , **False** olan bir sonucu **True** sonucuna çevirir."
   ]
  },
  {
   "cell_type": "code",
   "execution_count": 3,
   "id": "49aef871",
   "metadata": {},
   "outputs": [
    {
     "name": "stdout",
     "output_type": "stream",
     "text": [
      "False\n",
      "True\n"
     ]
    }
   ],
   "source": [
    "print(not 2 == 2)\n",
    "print(not \"Python\" == \"Php\")"
   ]
  },
  {
   "cell_type": "markdown",
   "id": "f3189264",
   "metadata": {},
   "source": [
    "## Operatörleri Beraber Kullanma"
   ]
  },
  {
   "cell_type": "code",
   "execution_count": 5,
   "id": "7686ee1b",
   "metadata": {},
   "outputs": [
    {
     "name": "stdout",
     "output_type": "stream",
     "text": [
      "True\n",
      "True\n"
     ]
    }
   ],
   "source": [
    "print(not (2.14 > 3.49 or ( 2 != 2 and \"Murat\" == \"Murat\")))\n",
    "print(\"Araba\" < \"Zula\" and ( \"Bebek\" < \"Çoçuk\" or (not 14 )))"
   ]
  }
 ],
 "metadata": {
  "kernelspec": {
   "display_name": "Python 3 (ipykernel)",
   "language": "python",
   "name": "python3"
  },
  "language_info": {
   "codemirror_mode": {
    "name": "ipython",
    "version": 3
   },
   "file_extension": ".py",
   "mimetype": "text/x-python",
   "name": "python",
   "nbconvert_exporter": "python",
   "pygments_lexer": "ipython3",
   "version": "3.10.9"
  }
 },
 "nbformat": 4,
 "nbformat_minor": 5
}
