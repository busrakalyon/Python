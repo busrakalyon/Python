{
 "cells": [
  {
   "cell_type": "code",
   "execution_count": 6,
   "id": "3d7ededb",
   "metadata": {},
   "outputs": [
    {
     "name": "stdout",
     "output_type": "stream",
     "text": [
      "1\n",
      "6\n",
      "28\n",
      "[1, 6, 28]\n",
      "None\n"
     ]
    }
   ],
   "source": [
    "def mukemmel(sayilar):\n",
    "    \n",
    "    liste= []\n",
    "        \n",
    "    for i in sayilar:\n",
    "        k = 1\n",
    "        toplam = 0\n",
    "\n",
    "        \n",
    "        while k <= i/2+1:\n",
    "            if i%k == 0:\n",
    "                toplam +=k\n",
    "               \n",
    "            k += 1\n",
    "        if toplam == i:\n",
    "            print(i)\n",
    "            liste.append(i)\n",
    "         \n",
    "\n",
    "    print(liste)\n",
    "    \n",
    "print(mukemmel(range(100)))"
   ]
  },
  {
   "cell_type": "code",
   "execution_count": null,
   "id": "cdde2c59",
   "metadata": {},
   "outputs": [],
   "source": []
  }
 ],
 "metadata": {
  "kernelspec": {
   "display_name": "Python 3 (ipykernel)",
   "language": "python",
   "name": "python3"
  },
  "language_info": {
   "codemirror_mode": {
    "name": "ipython",
    "version": 3
   },
   "file_extension": ".py",
   "mimetype": "text/x-python",
   "name": "python",
   "nbconvert_exporter": "python",
   "pygments_lexer": "ipython3",
   "version": "3.10.9"
  }
 },
 "nbformat": 4,
 "nbformat_minor": 5
}
