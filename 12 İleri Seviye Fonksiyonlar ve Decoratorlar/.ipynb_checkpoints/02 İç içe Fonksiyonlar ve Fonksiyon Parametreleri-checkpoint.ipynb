{
 "cells": [
  {
   "cell_type": "markdown",
   "id": "5d2748db",
   "metadata": {},
   "source": [
    "# İç içe Fonksiyonlar ve Fonksiyon Parametreleri\n",
    "\n",
    "### *args "
   ]
  },
  {
   "cell_type": "code",
   "execution_count": 1,
   "id": "9269b026",
   "metadata": {},
   "outputs": [],
   "source": [
    "def fonksiyon(*args): # İstediğimiz sayıda argüman gönderebiliyoruz.\n",
    "    print(args)\n",
    "    for i in args:\n",
    "        print(i)"
   ]
  },
  {
   "cell_type": "code",
   "execution_count": 2,
   "id": "f20bc0d9",
   "metadata": {},
   "outputs": [
    {
     "name": "stdout",
     "output_type": "stream",
     "text": [
      "(1, 2, 3)\n",
      "1\n",
      "2\n",
      "3\n"
     ]
    }
   ],
   "source": [
    "fonksiyon(1,2,3)"
   ]
  },
  {
   "cell_type": "code",
   "execution_count": 3,
   "id": "5fca106c",
   "metadata": {},
   "outputs": [],
   "source": [
    "def fonksiyon(isim,*args): \n",
    "    print(\"İsim:\",isim)\n",
    "    for i in args:\n",
    "        print(i)"
   ]
  },
  {
   "cell_type": "markdown",
   "id": "838e4956",
   "metadata": {},
   "source": [
    "### **kwargs"
   ]
  },
  {
   "cell_type": "code",
   "execution_count": 4,
   "id": "0fd8d9de",
   "metadata": {},
   "outputs": [],
   "source": [
    "def fonksiyon(**kwargs):\n",
    "    print(kwargs)"
   ]
  },
  {
   "cell_type": "code",
   "execution_count": 5,
   "id": "e356f105",
   "metadata": {},
   "outputs": [
    {
     "name": "stdout",
     "output_type": "stream",
     "text": [
      "{'isim': 'Murat', 'soyisim': 'Coşkun', 'numara': 12345}\n"
     ]
    }
   ],
   "source": [
    "fonksiyon(isim = \"Murat\", soyisim = \"Coşkun\", numara = 12345)"
   ]
  },
  {
   "cell_type": "markdown",
   "id": "d5c6d488",
   "metadata": {},
   "source": [
    "2 yıldız koyarak **keyword argümanlar** ile (anahtar kelimeli argümanlar) fonksiyonumuzu tanımladık ve argümanlara isim vererek fonksiyonumuzu çağırdığımızda isimleri anahtar kelime , argüman değerlerini değer olarak alarak fonksiyonumuz **sözlük** oluşturdu."
   ]
  },
  {
   "cell_type": "code",
   "execution_count": 6,
   "id": "8eca8a89",
   "metadata": {},
   "outputs": [],
   "source": [
    "def fonksiyon(**kwargs):\n",
    "    for i,j in kwargs.items():\n",
    "        print(\"Argüman İsmi:\",i,\"Argüman Değeri:\",j)"
   ]
  },
  {
   "cell_type": "code",
   "execution_count": 7,
   "id": "e5ff32ea",
   "metadata": {},
   "outputs": [
    {
     "name": "stdout",
     "output_type": "stream",
     "text": [
      "Argüman İsmi: isim Argüman Değeri: Murat\n",
      "Argüman İsmi: soyisim Argüman Değeri: Coşkun\n",
      "Argüman İsmi: numara Argüman Değeri: 12345\n"
     ]
    }
   ],
   "source": [
    "fonksiyon(isim = \"Murat\", soyisim = \"Coşkun\", numara = 12345)"
   ]
  },
  {
   "cell_type": "code",
   "execution_count": 8,
   "id": "8e34d181",
   "metadata": {},
   "outputs": [],
   "source": [
    "def fonksiyon(*args,**kwargs):\n",
    "    for i in args:\n",
    "        print(\"Argümanlar:\",i)\n",
    "    print(\"------------------------------\")\n",
    "    for i ,j in kwargs.items():\n",
    "        print(\"Argüman İsmi:\",i,\"Argüman Değeri:\",j)"
   ]
  },
  {
   "cell_type": "code",
   "execution_count": 9,
   "id": "67e98b3e",
   "metadata": {},
   "outputs": [
    {
     "name": "stdout",
     "output_type": "stream",
     "text": [
      "Argümanlar: 1\n",
      "Argümanlar: 2\n",
      "Argümanlar: 3\n",
      "Argümanlar: 4\n",
      "Argümanlar: 5\n",
      "Argümanlar: 6\n",
      "Argümanlar: 7\n",
      "------------------------------\n",
      "Argüman İsmi: isim Argüman Değeri: Murat\n",
      "Argüman İsmi: soyisim Argüman Değeri: Coşkun\n",
      "Argüman İsmi: numara Argüman Değeri: 12345\n"
     ]
    }
   ],
   "source": [
    "fonksiyon(1,2,3,4,5,6,7,isim = \"Murat\",soyisim = \"Coşkun\", numara = 12345)"
   ]
  },
  {
   "cell_type": "markdown",
   "id": "40348c16",
   "metadata": {},
   "source": [
    "### İç içe fonksiyonlar\n",
    "Pythonda fonksiyonlar da birer obje oldukları için hem bir tane değişkene atanabilirler, hem de başka bir fonksiyonun içinde tanımlanabilirler. "
   ]
  },
  {
   "cell_type": "code",
   "execution_count": 10,
   "id": "d2cd0ebb",
   "metadata": {},
   "outputs": [],
   "source": [
    "def selamla(isim):\n",
    "    print(\"Selam\",isim)"
   ]
  },
  {
   "cell_type": "code",
   "execution_count": 11,
   "id": "16121c27",
   "metadata": {},
   "outputs": [
    {
     "name": "stdout",
     "output_type": "stream",
     "text": [
      "Selam Ayşe\n"
     ]
    }
   ],
   "source": [
    "selamla(\"Ayşe\")"
   ]
  },
  {
   "cell_type": "code",
   "execution_count": 12,
   "id": "c11e33fb",
   "metadata": {},
   "outputs": [],
   "source": [
    "# Bir tane değişkene atıyoruz.\n",
    "merhaba = selamla # Obje tipi fonksiyon oldu."
   ]
  },
  {
   "cell_type": "code",
   "execution_count": 13,
   "id": "b82064ab",
   "metadata": {},
   "outputs": [
    {
     "name": "stdout",
     "output_type": "stream",
     "text": [
      "Selam Ayşe\n"
     ]
    }
   ],
   "source": [
    "merhaba(\"Ayşe\")"
   ]
  },
  {
   "cell_type": "code",
   "execution_count": 14,
   "id": "a15071e7",
   "metadata": {},
   "outputs": [],
   "source": [
    "del selamla # Selamla fonksiyonunu siliyorum."
   ]
  },
  {
   "cell_type": "code",
   "execution_count": 15,
   "id": "4753eeee",
   "metadata": {},
   "outputs": [
    {
     "name": "stdout",
     "output_type": "stream",
     "text": [
      "Selam Kemal\n"
     ]
    }
   ],
   "source": [
    "merhaba(\"Kemal\") # selamla objesi silinmesine rağmen merhaba objesi silinmedi."
   ]
  },
  {
   "cell_type": "code",
   "execution_count": 17,
   "id": "fd538a9a",
   "metadata": {},
   "outputs": [],
   "source": [
    "def fonksiyon(): #iç içe fonksiyonlar\n",
    "    def fonksiyon2():\n",
    "        print(\"Küçük fonksiyondan Merhaba\")\n",
    "    print(\"Büyük fonksiyondan Merhaba\")\n",
    "    fonksiyon2() # Tanımladığım fonksiyonu kullanabilirim."
   ]
  },
  {
   "cell_type": "code",
   "execution_count": 18,
   "id": "c16c0dd8",
   "metadata": {},
   "outputs": [
    {
     "name": "stdout",
     "output_type": "stream",
     "text": [
      "Büyük fonksiyondan Merhaba\n",
      "Küçük fonksiyondan Merhaba\n"
     ]
    }
   ],
   "source": [
    "fonksiyon()"
   ]
  },
  {
   "cell_type": "code",
   "execution_count": 19,
   "id": "8b79141d",
   "metadata": {},
   "outputs": [
    {
     "ename": "NameError",
     "evalue": "name 'fonksiyon2' is not defined",
     "output_type": "error",
     "traceback": [
      "\u001b[1;31m---------------------------------------------------------------------------\u001b[0m",
      "\u001b[1;31mNameError\u001b[0m                                 Traceback (most recent call last)",
      "Cell \u001b[1;32mIn[19], line 1\u001b[0m\n\u001b[1;32m----> 1\u001b[0m \u001b[43mfonksiyon2\u001b[49m()\n",
      "\u001b[1;31mNameError\u001b[0m: name 'fonksiyon2' is not defined"
     ]
    }
   ],
   "source": [
    "fonksiyon2()  # Lokal bir değişken olduğu için fonksiyon() çağrısından sonra yok oldu."
   ]
  },
  {
   "cell_type": "code",
   "execution_count": 20,
   "id": "f3163a39",
   "metadata": {},
   "outputs": [
    {
     "name": "stdout",
     "output_type": "stream",
     "text": [
      "21\n"
     ]
    }
   ],
   "source": [
    "def fonksiyon(*args): # args : (1,2,3,4,5,6)\n",
    "    \n",
    "    def topla(args): # (1,2,3,4,5,6)\n",
    "        toplam = 0\n",
    "        for i in args:\n",
    "            toplam += i\n",
    "        return toplam\n",
    "    \n",
    "    print(topla(args))\n",
    "    \n",
    "    \n",
    "fonksiyon(1,2,3,4,5,6)"
   ]
  }
 ],
 "metadata": {
  "kernelspec": {
   "display_name": "Python 3 (ipykernel)",
   "language": "python",
   "name": "python3"
  },
  "language_info": {
   "codemirror_mode": {
    "name": "ipython",
    "version": 3
   },
   "file_extension": ".py",
   "mimetype": "text/x-python",
   "name": "python",
   "nbconvert_exporter": "python",
   "pygments_lexer": "ipython3",
   "version": "3.10.9"
  }
 },
 "nbformat": 4,
 "nbformat_minor": 5
}
